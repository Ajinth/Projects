{
 "cells": [
  {
   "cell_type": "code",
   "execution_count": 1,
   "metadata": {
    "collapsed": true
   },
   "outputs": [],
   "source": [
    "import pandas as pd\n",
    "import numpy as np\n",
    "import matplotlib.pyplot as plt\n",
    "import seaborn as sns\n",
    "import os\n",
    "%matplotlib inline"
   ]
  },
  {
   "cell_type": "markdown",
   "metadata": {},
   "source": [
    "### Original SBA data, with Yelp and Google reviews, and Lat-Long  \n",
    "\n",
    "Google reviews and goecoordinates came from Noah's dataset on Carto. I pulled in Yelp review data myself (includes average rating, number of review, and Yelp url). Yelp data obtained through Yelp Fusion API using addess and business name search and retrieving the top result."
   ]
  },
  {
   "cell_type": "code",
   "execution_count": 199,
   "metadata": {
    "collapsed": true
   },
   "outputs": [],
   "source": [
    "clean = pd.read_csv(os.path.join('Data', 'Clean_Yelp.csv'))"
   ]
  },
  {
   "cell_type": "markdown",
   "metadata": {},
   "source": [
    "Get total number of SBA loans: aggregate, 540, and 7a.  \n",
    "_Note_: we will not be using Yelp data for the aggregate analysis of 'overserved' and 'underserved.'"
   ]
  },
  {
   "cell_type": "code",
   "execution_count": 22,
   "metadata": {
    "collapsed": false
   },
   "outputs": [],
   "source": [
    "clean_tots = clean.groupby('borrzip').size()"
   ]
  },
  {
   "cell_type": "code",
   "execution_count": 33,
   "metadata": {
    "collapsed": false
   },
   "outputs": [],
   "source": [
    "clean_tots_540 = clean[clean['program'] == '504'].groupby('borrzip').size()"
   ]
  },
  {
   "cell_type": "code",
   "execution_count": 75,
   "metadata": {
    "collapsed": true
   },
   "outputs": [],
   "source": [
    "clean_tots_7a = clean[clean['program'] == '7(a)'].groupby('borrzip').size()"
   ]
  },
  {
   "cell_type": "markdown",
   "metadata": {},
   "source": [
    "### 2015 Zip Data for number of businesses by employee size and NAICS code  \n",
    "\n",
    "Obtained from here: https://factfinder.census.gov/faces/tableservices/jsf/pages/productview.xhtml?src=bkmk  \n",
    "Survey methodology: https://www.census.gov/programs-surveys/cbp/technical-documentation/methodology.html  \n",
    "Downloaded file from my dropbox: https://www.dropbox.com/s/27xjbyp4bcp51pl/CB1500CZ21.dat?dl=0"
   ]
  },
  {
   "cell_type": "markdown",
   "metadata": {},
   "source": [
    "Load the enormous file:"
   ]
  },
  {
   "cell_type": "code",
   "execution_count": 189,
   "metadata": {
    "collapsed": false
   },
   "outputs": [
    {
     "name": "stderr",
     "output_type": "stream",
     "text": [
      "C:\\Users\\User\\Anaconda2\\lib\\site-packages\\IPython\\core\\interactiveshell.py:2717: DtypeWarning: Columns (5) have mixed types. Specify dtype option on import or set low_memory=False.\n",
      "  interactivity=interactivity, compiler=compiler, result=result)\n"
     ]
    }
   ],
   "source": [
    "zip_buss = pd.read_table(os.path.join('~\\\\Dropbox\\\\Documents\\\\Misc', 'CB1500CZ21.dat'), sep=\"|\")"
   ]
  },
  {
   "cell_type": "markdown",
   "metadata": {},
   "source": [
    "Keep only ZIP codes that are in the SBA data."
   ]
  },
  {
   "cell_type": "code",
   "execution_count": 200,
   "metadata": {
    "collapsed": false
   },
   "outputs": [],
   "source": [
    "zip_clean = zip_buss[zip_buss['ZIPCODE'].isin(clean['borrzip'].unique())]"
   ]
  },
  {
   "cell_type": "code",
   "execution_count": 201,
   "metadata": {
    "collapsed": false
   },
   "outputs": [
    {
     "data": {
      "text/plain": [
       "2827380"
      ]
     },
     "execution_count": 201,
     "metadata": {},
     "output_type": "execute_result"
    }
   ],
   "source": [
    "len(zip_clean)"
   ]
  },
  {
   "cell_type": "markdown",
   "metadata": {},
   "source": [
    "The definition of 'small business' is '500 or fewer employees.' Let's filter our data accordingly.  Note that this file still has all the NAICS code breakdowns, which I keep because it might be useful for a future analysis."
   ]
  },
  {
   "cell_type": "code",
   "execution_count": null,
   "metadata": {
    "collapsed": true
   },
   "outputs": [],
   "source": [
    "emp_sizes = ['Establishments with 1 to 4 employees',\n",
    "             'Establishments with 5 to 9 employees',\n",
    "             'Establishments with 10 to 19 employees',\n",
    "             'Establishments with 20 to 49 employees',\n",
    "             'Establishments with 50 to 99 employees',\n",
    "             'Establishments with 100 to 249 employees',\n",
    "             'Establishments with 250 to 499 employees']"
   ]
  },
  {
   "cell_type": "markdown",
   "metadata": {},
   "source": [
    "These are the columns we care about:"
   ]
  },
  {
   "cell_type": "code",
   "execution_count": null,
   "metadata": {
    "collapsed": true
   },
   "outputs": [],
   "source": [
    "cols = ['ZIPCODE',\n",
    "        'GEO_ID',\n",
    "        'NAICS2012',\n",
    "        'NAICS2012_TTL',\n",
    "        'ESTAB']"
   ]
  },
  {
   "cell_type": "markdown",
   "metadata": {},
   "source": [
    "Create the filtered file."
   ]
  },
  {
   "cell_type": "code",
   "execution_count": 202,
   "metadata": {
    "collapsed": true
   },
   "outputs": [],
   "source": [
    "zip_size = pd.DataFrame(zip_clean[zip_clean['EMPSZES_TTL'].isin(emp_sizes)][cols].groupby(['ZIPCODE',\n",
    "                                                                                          'GEO_ID',\n",
    "                                                                                          'NAICS2012',\n",
    "                                                                                          'NAICS2012_TTL']).ESTAB.sum())"
   ]
  },
  {
   "cell_type": "markdown",
   "metadata": {},
   "source": [
    "Send filtered file to CSV."
   ]
  },
  {
   "cell_type": "code",
   "execution_count": 203,
   "metadata": {
    "collapsed": false
   },
   "outputs": [],
   "source": [
    "zip_size.to_csv(os.path.join('Data', 'zip_by_naics.csv'))"
   ]
  },
  {
   "cell_type": "markdown",
   "metadata": {},
   "source": [
    "Load file from CSV."
   ]
  },
  {
   "cell_type": "code",
   "execution_count": 204,
   "metadata": {
    "collapsed": true
   },
   "outputs": [],
   "source": [
    "zip_by_naics = pd.read_csv(os.path.join('Data', 'zip_by_naics.csv'))"
   ]
  },
  {
   "cell_type": "markdown",
   "metadata": {},
   "source": [
    "### IRS tax return by ZIP code data from 2014  \n",
    "\n",
    "Income and tax data obtained from: https://www.irs.gov/uac/soi-tax-stats-individual-income-tax-statistics-2014-zip-code-data-soi  \n",
    "Data dictionary is there too, but here is the downlooad link: https://www.irs.gov/pub/irs-soi/14zpdoc.doc"
   ]
  },
  {
   "cell_type": "code",
   "execution_count": 11,
   "metadata": {
    "collapsed": true
   },
   "outputs": [],
   "source": [
    "zip_irs = pd.read_csv(os.path.join('Data', '14_irs_zip.csv'))"
   ]
  },
  {
   "cell_type": "markdown",
   "metadata": {},
   "source": [
    "There is A LOT of data, but for now, we'll only look at the mean adjusted grosss income by ZIP code."
   ]
  },
  {
   "cell_type": "code",
   "execution_count": 15,
   "metadata": {
    "collapsed": false
   },
   "outputs": [],
   "source": [
    "zip_irs['mean_agi'] = zip_irs['A00100']/zip_irs['N1']*1000"
   ]
  },
  {
   "cell_type": "code",
   "execution_count": 137,
   "metadata": {
    "collapsed": true
   },
   "outputs": [],
   "source": [
    "zip_agi = zip_irs[['mean_agi', 'ZIPCODE']]"
   ]
  },
  {
   "cell_type": "markdown",
   "metadata": {},
   "source": [
    "### Combine SBA, total businesses, and IRS data into aggregated file"
   ]
  },
  {
   "cell_type": "markdown",
   "metadata": {},
   "source": [
    "Merge SBA data for total SBA loans, 540 loans, and 7a loans."
   ]
  },
  {
   "cell_type": "code",
   "execution_count": 105,
   "metadata": {
    "collapsed": false
   },
   "outputs": [],
   "source": [
    "agg = pd.concat([clean_tots, clean_tots_540, clean_tots_7a], axis = 1)\n",
    "agg.rename(columns={0:'total_SBA', 1:'540', 2:'7a'},inplace=True)"
   ]
  },
  {
   "cell_type": "markdown",
   "metadata": {},
   "source": [
    "Merge SBA data with NAICS data. We do a left join to keep all SBA data, and we only take the aggregated NAICS data."
   ]
  },
  {
   "cell_type": "code",
   "execution_count": 156,
   "metadata": {
    "collapsed": false
   },
   "outputs": [],
   "source": [
    "agg2 = pd.merge(agg, zip_by_naics[zip_by_naics['NAICS2012']=='0'][['ESTAB', 'GEO_ID', 'ZIPCODE']], \n",
    "         left_index=True, right_on='ZIPCODE', how='left')"
   ]
  },
  {
   "cell_type": "code",
   "execution_count": 157,
   "metadata": {
    "collapsed": false
   },
   "outputs": [],
   "source": [
    "agg2 = agg2.set_index('ZIPCODE')"
   ]
  },
  {
   "cell_type": "markdown",
   "metadata": {},
   "source": [
    "Merge data with IRS data. We again do a left join to keep all SBA data."
   ]
  },
  {
   "cell_type": "code",
   "execution_count": 158,
   "metadata": {
    "collapsed": false
   },
   "outputs": [],
   "source": [
    "agg3 = pd.merge(agg2, zip_agi, left_index=True, right_on='ZIPCODE', how='left')"
   ]
  },
  {
   "cell_type": "markdown",
   "metadata": {},
   "source": [
    "Zip IRS data has 51 records for zip code 0 and 99999, and plus these are useless zip codes, so we remove them."
   ]
  },
  {
   "cell_type": "code",
   "execution_count": 175,
   "metadata": {
    "collapsed": false
   },
   "outputs": [],
   "source": [
    "agg3 = agg3[(agg3['ZIPCODE'] <> 99999) & (agg3['ZIPCODE'] <> 0)]"
   ]
  },
  {
   "cell_type": "markdown",
   "metadata": {},
   "source": [
    "Get preliminary metrics, which are the ratios of # of SBA loans (total, 540, and 7a) to total number of businesses."
   ]
  },
  {
   "cell_type": "code",
   "execution_count": 177,
   "metadata": {
    "collapsed": true
   },
   "outputs": [],
   "source": [
    "agg3['SBA_per_Small'] = agg3['total_SBA']/agg3['ESTAB']"
   ]
  },
  {
   "cell_type": "code",
   "execution_count": 178,
   "metadata": {
    "collapsed": true
   },
   "outputs": [],
   "source": [
    "agg3['540_per_Small'] = agg3['540']/agg3['ESTAB']"
   ]
  },
  {
   "cell_type": "code",
   "execution_count": 179,
   "metadata": {
    "collapsed": true
   },
   "outputs": [],
   "source": [
    "agg3['7a_per_Small'] = agg3['7a']/agg3['ESTAB']"
   ]
  },
  {
   "cell_type": "markdown",
   "metadata": {},
   "source": [
    "Send combined file to CSV."
   ]
  },
  {
   "cell_type": "code",
   "execution_count": 214,
   "metadata": {
    "collapsed": false
   },
   "outputs": [],
   "source": [
    "agg3.to_csv(os.path.join('Data', 'combined.csv'), index=False)"
   ]
  }
 ],
 "metadata": {
  "kernelspec": {
   "display_name": "Python [conda root]",
   "language": "python",
   "name": "conda-root-py"
  },
  "language_info": {
   "codemirror_mode": {
    "name": "ipython",
    "version": 2
   },
   "file_extension": ".py",
   "mimetype": "text/x-python",
   "name": "python",
   "nbconvert_exporter": "python",
   "pygments_lexer": "ipython2",
   "version": "2.7.12"
  }
 },
 "nbformat": 4,
 "nbformat_minor": 2
}
