{
 "cells": [
  {
   "cell_type": "code",
<<<<<<< HEAD
   "execution_count": 2,
=======
   "execution_count": 1,
>>>>>>> ab57f61065210aedf89215f4d0381c395ed890b1
   "metadata": {
    "collapsed": true
   },
   "outputs": [],
   "source": [
    "import pandas as pd\n",
    "import numpy as np\n",
    "import matplotlib.pyplot as plt\n",
    "import os\n",
    "%matplotlib inline"
   ]
  },
  {
   "cell_type": "code",
   "execution_count": 2,
   "metadata": {
    "collapsed": false
   },
   "outputs": [],
   "source": [
    "d_504 = pd.read_excel(os.path.join('Data', 'FOIA - 504 (FY1991-Present).xlsx'))"
   ]
  },
  {
   "cell_type": "markdown",
   "metadata": {},
   "source": [
    "Concatenate all the 7a files (the column names all match up)"
   ]
  },
  {
   "cell_type": "code",
   "execution_count": 3,
   "metadata": {
    "collapsed": false
   },
   "outputs": [],
   "source": [
    "d_7a_91_99 = pd.read_excel(os.path.join('Data', 'FOIA - 7(a) (FY1991-FY1999).xlsx'), skiprows=1) # 1st row has garbage"
   ]
  },
  {
   "cell_type": "code",
   "execution_count": 4,
   "metadata": {
    "collapsed": true
   },
   "outputs": [],
   "source": [
    "d_7a_00_09 = pd.read_excel(os.path.join('Data', 'FOIA - 7(a) (FY2000-FY2009).xlsx'), skiprows=1) # 1st row has garbage"
   ]
  },
  {
   "cell_type": "code",
   "execution_count": 5,
   "metadata": {
    "collapsed": true
   },
   "outputs": [],
   "source": [
    "d_7a_10_present = pd.read_excel(os.path.join('Data', 'FOIA - 7(a) (FY2010-Present).xlsx'))"
   ]
  },
  {
   "cell_type": "code",
   "execution_count": 6,
   "metadata": {
    "collapsed": false
   },
   "outputs": [],
   "source": [
    "d_7a = pd.concat((d_7a_91_99, d_7a_00_09, d_7a_10_present), axis = 0)"
   ]
  },
  {
   "cell_type": "markdown",
   "metadata": {},
   "source": [
    "Pull in 7a columns from the data dictionary:"
   ]
  },
  {
   "cell_type": "code",
   "execution_count": 7,
   "metadata": {
    "collapsed": false
   },
   "outputs": [],
   "source": [
    "cols_7a = list(pd.read_excel(os.path.join('Data', '7a_504_FOIA Data Dictionary.xlsx'), sheetname='7(a) Data Dictionary').iloc[:, 0])"
   ]
  },
  {
   "cell_type": "markdown",
   "metadata": {},
   "source": [
    "We have two additional columns in the data file which are not present in the data dictionary:"
   ]
  },
  {
   "cell_type": "code",
   "execution_count": 8,
   "metadata": {
    "collapsed": false
   },
   "outputs": [
    {
     "name": "stdout",
     "output_type": "stream",
     "text": [
      "32\n",
      "34\n"
     ]
    }
   ],
   "source": [
    "print len(cols_7a)\n",
    "print len(d_7a_10_present.columns)"
   ]
  },
  {
   "cell_type": "code",
   "execution_count": 9,
   "metadata": {
    "collapsed": false
   },
   "outputs": [
    {
     "name": "stdout",
     "output_type": "stream",
     "text": [
      "SBADistrictOffice\n",
      "CongressionalDistrict\n"
     ]
    }
   ],
   "source": [
    "for i in d_7a_10_present.columns:\n",
    "    if i not in cols_7a:\n",
    "        print i"
   ]
  },
  {
   "cell_type": "markdown",
   "metadata": {},
   "source": [
    "Pull in 504 columns from the data dictionary:"
   ]
  },
  {
   "cell_type": "code",
   "execution_count": 10,
   "metadata": {
    "collapsed": true
   },
   "outputs": [],
   "source": [
    "cols_504 = list(pd.read_excel(os.path.join('Data', '7a_504_FOIA Data Dictionary.xlsx'), sheetname='504 Data Dictionary').iloc[:, 0])"
   ]
  },
  {
   "cell_type": "markdown",
   "metadata": {},
   "source": [
    "We have two additional columns in the data file which are not present in the data dictionary (JobsSupported is just written differently):"
   ]
  },
  {
   "cell_type": "code",
   "execution_count": 11,
   "metadata": {
    "collapsed": false,
    "scrolled": false
   },
   "outputs": [
    {
     "name": "stdout",
     "output_type": "stream",
     "text": [
      "34\n",
      "36\n"
     ]
    }
   ],
   "source": [
    "print len(cols_504)\n",
    "print len(d_504.columns)"
   ]
  },
  {
   "cell_type": "code",
   "execution_count": 12,
   "metadata": {
    "collapsed": false,
    "scrolled": true
   },
   "outputs": [
    {
     "name": "stdout",
     "output_type": "stream",
     "text": [
      "SBADistrictOffice\n",
      "CongressionalDistrict\n",
      "JobsSupported\n"
     ]
    }
   ],
   "source": [
    "for i in d_504.columns:\n",
    "    if i not in cols_504:\n",
    "        print i"
   ]
  },
  {
   "cell_type": "code",
   "execution_count": 13,
   "metadata": {
    "collapsed": false
   },
   "outputs": [
    {
     "name": "stdout",
     "output_type": "stream",
     "text": [
      "CDC_Name\n",
      "CDC_Street\n",
      "CDC_City\n",
      "CDC_State\n",
      "CDC_Zip\n",
      "ThirdPartyLender_Name\n",
      "ThirdPartyLender_City\n",
      "ThirdPartyLender_State\n",
      "ThirdPartyDollars\n"
     ]
    }
   ],
   "source": [
    "for i in d_504.columns: \n",
    "    if i not in d_7a_10_present.columns:\n",
    "        print i"
   ]
  },
  {
   "cell_type": "code",
   "execution_count": 14,
   "metadata": {
    "collapsed": false
   },
   "outputs": [
    {
     "name": "stdout",
     "output_type": "stream",
     "text": [
      "BankName\n",
      "BankStreet\n",
      "BankCity\n",
      "BankState\n",
      "BankZip\n",
      "SBAGuaranteedApproval\n",
      "RevolverStatus\n"
     ]
    }
   ],
   "source": [
    "for i in d_7a_10_present.columns:\n",
    "    if i not in d_504.columns:\n",
    "        print i"
   ]
  },
  {
   "cell_type": "markdown",
   "metadata": {},
   "source": [
    "Combine the 504 and 7a data sets."
   ]
  },
  {
   "cell_type": "code",
   "execution_count": 17,
   "metadata": {
    "collapsed": false
   },
   "outputs": [],
   "source": [
    "combined = pd.concat((d_504, d_7a))"
   ]
  },
  {
   "cell_type": "markdown",
   "metadata": {},
   "source": [
    "Limit dataset to California only."
   ]
  },
  {
   "cell_type": "code",
   "execution_count": 24,
   "metadata": {
    "collapsed": false,
    "scrolled": true
   },
   "outputs": [],
   "source": [
    "combinedca = combined[combined['BorrState'] == 'CA']"
   ]
  },
  {
   "cell_type": "code",
   "execution_count": 70,
   "metadata": {
    "collapsed": false
   },
   "outputs": [],
   "source": [
    "combinedca = combinedca[combinedca['ProjectCounty'].isin(['SANTA CRUZ', 'SANTA CLARA', 'SAN MATEO', 'ALAMEDA', 'CONTRA COSTA', 'MARIN',\n",
    "                                           'SAN FRANCISCO', 'SOLANO', 'NAPA', 'SONOMA', 'LAKE', 'MENDOCINO', 'HUMBOLDT',\n",
    "                                           'DEL NORTE'])]"
   ]
  },
  {
   "cell_type": "code",
   "execution_count": 47,
   "metadata": {
    "collapsed": false
   },
   "outputs": [
    {
     "name": "stderr",
     "output_type": "stream",
     "text": [
      "C:\\Users\\User\\Anaconda2\\lib\\site-packages\\ipykernel\\__main__.py:1: SettingWithCopyWarning: \n",
      "A value is trying to be set on a copy of a slice from a DataFrame.\n",
      "Try using .loc[row_indexer,col_indexer] = value instead\n",
      "\n",
      "See the caveats in the documentation: http://pandas.pydata.org/pandas-docs/stable/indexing.html#indexing-view-versus-copy\n",
      "  if __name__ == '__main__':\n"
     ]
    }
   ],
   "source": [
    "combinedca['LoanYear'] = combinedca['ApprovalDate'].apply(lambda x: x.year)"
   ]
  },
  {
   "cell_type": "markdown",
   "metadata": {},
   "source": [
    "Write the clean, relevant data set to CSV."
   ]
  },
  {
   "cell_type": "code",
   "execution_count": 80,
   "metadata": {
    "collapsed": false
   },
   "outputs": [],
   "source": [
    "combinedca.to_csv(os.path.join('Data', 'Clean.csv'), encoding='utf-8', index = False)"
   ]
  },
  {
   "cell_type": "code",
   "execution_count": 72,
   "metadata": {
    "collapsed": false
   },
   "outputs": [
    {
     "data": {
      "text/plain": [
       "[<matplotlib.lines.Line2D at 0x1bf1a630>]"
      ]
     },
     "execution_count": 72,
     "metadata": {},
     "output_type": "execute_result"
    },
    {
     "data": {
      "image/png": "iVBORw0KGgoAAAANSUhEUgAAAY0AAAD8CAYAAACLrvgBAAAABHNCSVQICAgIfAhkiAAAAAlwSFlz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\nrkJggg==\n",
      "text/plain": [
       "<matplotlib.figure.Figure at 0x1585b438>"
      ]
     },
     "metadata": {},
     "output_type": "display_data"
    }
   ],
   "source": [
    "plt.plot(combinedca.groupby('LoanYear')['GrossApproval'].mean())"
   ]
  },
  {
   "cell_type": "code",
   "execution_count": 73,
   "metadata": {
    "collapsed": false,
    "scrolled": true
   },
   "outputs": [
    {
     "data": {
      "text/plain": [
       "[<matplotlib.lines.Line2D at 0x32a0ae80>]"
      ]
     },
     "execution_count": 73,
     "metadata": {},
     "output_type": "execute_result"
    },
    {
     "data": {
      "image/png": "iVBORw0KGgoAAAANSUhEUgAAAX4AAAD8CAYAAABw1c+bAAAABHNCSVQICAgIfAhkiAAAAAlwSFlz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\n",
      "text/plain": [
       "<matplotlib.figure.Figure at 0x1bf49358>"
      ]
     },
     "metadata": {},
     "output_type": "display_data"
    }
   ],
   "source": [
    "plt.plot(combinedca.groupby('LoanYear')['InitialInterestRate'].mean())"
   ]
<<<<<<< HEAD
=======
  },
  {
   "cell_type": "code",
   "execution_count": 4,
   "metadata": {
    "collapsed": false
   },
   "outputs": [],
   "source": [
    "data = pd.read_csv(os.path.join('Data', 'Clean.csv'), \n",
    "                   dtype={'CDC_Street': str, 'CDC_City': str, 'CDC_Name': str,\n",
    "                          'CDC_State': str, 'ThirdPartyLender_State': str,\n",
    "                          'ThirdPartyLender_City': str, 'ThirdPartyLender_Name': str})"
   ]
>>>>>>> ab57f61065210aedf89215f4d0381c395ed890b1
  }
 ],
 "metadata": {
  "kernelspec": {
   "display_name": "Python [conda root]",
   "language": "python",
   "name": "conda-root-py"
  },
  "language_info": {
   "codemirror_mode": {
    "name": "ipython",
    "version": 2
   },
   "file_extension": ".py",
   "mimetype": "text/x-python",
   "name": "python",
   "nbconvert_exporter": "python",
   "pygments_lexer": "ipython2",
   "version": "2.7.12"
  }
 },
 "nbformat": 4,
 "nbformat_minor": 2
}
