{
 "cells": [
  {
   "cell_type": "markdown",
   "metadata": {},
   "source": [
    "# Geocoding Loan Dataset"
   ]
  },
  {
   "cell_type": "markdown",
   "metadata": {},
   "source": [
    "We'll be using this: https://github.com/slimkrazy/python-google-places#python-google-places to geocode addresses in our loan data set."
   ]
  },
  {
   "cell_type": "markdown",
   "metadata": {},
   "source": [
    "First thing will be to successully geocode one address"
   ]
  },
  {
   "cell_type": "code",
   "execution_count": 3,
   "metadata": {
    "collapsed": true
   },
   "outputs": [],
   "source": [
    "import os\n",
    "\n",
    "from googleplaces import GooglePlaces, types, lang"
   ]
  },
  {
   "cell_type": "code",
   "execution_count": 8,
   "metadata": {
    "collapsed": false
   },
   "outputs": [],
   "source": [
    "YOUR_API_KEY = os.environ['GOOGLE_PLACES_API']"
   ]
  },
  {
   "cell_type": "code",
   "execution_count": 9,
   "metadata": {
    "collapsed": false
   },
   "outputs": [],
   "source": [
    "google_places = GooglePlaces(YOUR_API_KEY)\n",
    "\n",
    "# You may prefer to use the text_search API, instead.\n",
    "# query_result = google_places.nearby_search(\n",
    "#         location='San Francisco, California', keyword='Starbucks',\n",
    "#         radius=20000, types=[types.TYPE_FOOD])\n",
    "\n",
    "query_result = google_places.nearby_search(\n",
    "        location='6600 Young St, Yountville, CA, 94599',\n",
    "        radius=100)\n",
    "# If types param contains only 1 item the request to Google Places API\n",
    "# will be send as type param to fullfil:\n",
    "# http://googlegeodevelopers.blogspot.com.au/2016/02/changes-and-quality-improvements-in_16.html"
   ]
  },
  {
   "cell_type": "code",
   "execution_count": 16,
   "metadata": {
    "collapsed": false
   },
   "outputs": [
    {
     "data": {
      "text/plain": [
       "{u'html_attributions': [],\n",
       " u'results': [{u'geometry': {u'location': {u'lat': Decimal('38.40157809999999'),\n",
       "     u'lng': Decimal('-122.3608105')},\n",
       "    u'viewport': {u'northeast': {u'lat': Decimal('38.4139371'),\n",
       "      u'lng': Decimal('-122.349661')},\n",
       "     u'southwest': {u'lat': Decimal('38.37688989999999'),\n",
       "      u'lng': Decimal('-122.3856')}}},\n",
       "   u'icon': u'https://maps.gstatic.com/mapfiles/place_api/icons/geocode-71.png',\n",
       "   u'id': u'd05c585cd289e67e44b669f0178125262ea869bb',\n",
       "   u'name': u'Yountville',\n",
       "   u'photos': [{u'height': 2358,\n",
       "     u'html_attributions': [u'<a href=\"https://maps.google.com/maps/contrib/115056314407607409139/photos\">Derek Nelson</a>'],\n",
       "     u'photo_reference': u'CmRaAAAAVhMtRmMCHa8FiKv04Y3RLXMO5aJal6ixFHL1O0_aLxbghlTxkObnrcKkUypGzB1RskUuQrwUmHvfxBDppCRJH12kHsfWK4JKkDjaVFqdWts44JcTgzpZ57_C6clHlDveEhDhVqM-BjyH2XgUPoAImtvMGhRhdSvwjeMRRK6XLK6TBRefwxki5Q',\n",
       "     u'width': 4191}],\n",
       "   u'place_id': u'ChIJfRoJQE1VhIARTB6YA4IIzN0',\n",
       "   u'reference': u'CmRbAAAAAsu0QWXS0WEL0Q-yjqqXjBtOq8OYl4hJUl4mTsUS6n05r4qvoadeJbtkFq56OhT6E5C2ugAAkinID9c2ImgofjEYMH0hqKJF_QjanJXgE1UGIeUe5UfvaFHZRiXHbLX0EhB7JV4CeVkYxxagGeuiA96HGhRK8yck_39eED4AQfR6hIT5Iw0aaA',\n",
       "   u'scope': u'GOOGLE',\n",
       "   u'types': [u'locality', u'political'],\n",
       "   u'vicinity': u'Yountville'},\n",
       "  {u'geometry': {u'location': {u'lat': Decimal('38.404419'),\n",
       "     u'lng': Decimal('-122.363455')},\n",
       "    u'viewport': {u'northeast': {u'lat': Decimal('38.4056596302915'),\n",
       "      u'lng': Decimal('-122.3620281197085')},\n",
       "     u'southwest': {u'lat': Decimal('38.4029616697085'),\n",
       "      u'lng': Decimal('-122.3647260802915')}}},\n",
       "   u'icon': u'https://maps.gstatic.com/mapfiles/place_api/icons/lodging-71.png',\n",
       "   u'id': u'a6317818c46d0bdbcdcc09822d268913ea0d996b',\n",
       "   u'name': u'Lavender, A Four Sisters Inn',\n",
       "   u'opening_hours': {u'open_now': True, u'weekday_text': []},\n",
       "   u'photos': [{u'height': 2048,\n",
       "     u'html_attributions': [u'<a href=\"https://maps.google.com/maps/contrib/108977506523625575197/photos\">Lavender, A Four Sisters Inn</a>'],\n",
       "     u'photo_reference': u'CmRaAAAAfX81peyejNDnTFTkF2hs3cyzsPr7LyLKGJy1Dhs--PtWw-CkoW5Gc_8jplqP_TUc5XDJQBn--EqL8giPi-YoT0D1Wcj3aPQ2OE2424YyDA0czpsEyW5rh-6DjzJMo19pEhAb2pquS6ezUkES38Rt7YANGhRjPBg5_CWthjtqOcz_GnMf746pRg',\n",
       "     u'width': 3072}],\n",
       "   u'place_id': u'ChIJJ8Ge51BVhIAR62k9yHh_82w',\n",
       "   u'rating': Decimal('4.4'),\n",
       "   u'reference': u'CmRRAAAAlBP9sTU9_tEdsCeBMn1l6n-it5WHujJlEMeZtLuLqhwyNnpt6UQ8iBumuts4VMTv7VWV9ekRO4fVlDibFwKwE5Rl2EXlRbFfxGFrhb7YWApMNSOZR_LWlDxmEccGcWElEhC2VRnDxATSiRv4G4LKOevPGhT2WprHHqeT2h8dqTD3WQvEoOsEjw',\n",
       "   u'scope': u'GOOGLE',\n",
       "   u'types': [u'lodging', u'point_of_interest', u'establishment'],\n",
       "   u'vicinity': u'2020 Webber Avenue, Yountville'},\n",
       "  {u'geometry': {u'location': {u'lat': Decimal('38.4047808'),\n",
       "     u'lng': Decimal('-122.3628015')},\n",
       "    u'viewport': {u'northeast': {u'lat': Decimal('38.4061214302915'),\n",
       "      u'lng': Decimal('-122.3614710197085')},\n",
       "     u'southwest': {u'lat': Decimal('38.4034234697085'),\n",
       "      u'lng': Decimal('-122.3641689802915')}}},\n",
       "   u'icon': u'https://maps.gstatic.com/mapfiles/place_api/icons/generic_business-71.png',\n",
       "   u'id': u'b0be3ee9f1c053c5ed587262363e586ffc3548a8',\n",
       "   u'name': u'Yountville Community Church',\n",
       "   u'place_id': u'ChIJ0VgYwVBVhIARGBjpk3R_2lE',\n",
       "   u'reference': u'CmRRAAAAzmUscJYQCSd2AzRy1wghKzp4Y9LQ-4Tpg9B_ryCZqFXs7-cIU9iFS44AcAMGAjOiRxQjajdkwt8uWy05MQ3HWSo3ILts1ObojkgmSk0BAh4KSxyNVGVcDXiWu8eMqFpLEhDwZkwBGWaelH7EcE60ELt0GhSxF7QulK1JXbhqDL5y1XtCnXE8Vg',\n",
       "   u'scope': u'GOOGLE',\n",
       "   u'types': [u'church',\n",
       "    u'place_of_worship',\n",
       "    u'health',\n",
       "    u'point_of_interest',\n",
       "    u'establishment'],\n",
       "   u'vicinity': u'6621 Yount Street, Yountville'},\n",
       "  {u'geometry': {u'location': {u'lat': Decimal('38.4051069'),\n",
       "     u'lng': Decimal('-122.363289')},\n",
       "    u'viewport': {u'northeast': {u'lat': Decimal('38.4064558802915'),\n",
       "      u'lng': Decimal('-122.3619400197085')},\n",
       "     u'southwest': {u'lat': Decimal('38.4037579197085'),\n",
       "      u'lng': Decimal('-122.3646379802915')}}},\n",
       "   u'icon': u'https://maps.gstatic.com/mapfiles/place_api/icons/generic_business-71.png',\n",
       "   u'id': u'364139216fec2facb3c796c921df628c9b5a24b3',\n",
       "   u'name': u'Passport Advisory Inc',\n",
       "   u'place_id': u'ChIJ52KTEFRVhIAR1Guxl7DTIdA',\n",
       "   u'reference': u'CmRSAAAArT-m4R5t5M0fImEqErmOpcdfvYxQE-l-Lsl2IqUQ_sq6HcZPoSN5d7KUXw-vUMeSo2KkK03ho1h9P7I4iVw4bK24wYXy9dy6xUI25zP0Ehp5SAuUFlGMeDe3SNr3V9znEhAAigjXqxMtOpP5R6lMvXL5GhT7F03pYUbVCMs0DpEazVoiW4Bytw',\n",
       "   u'scope': u'GOOGLE',\n",
       "   u'types': [u'real_estate_agency', u'point_of_interest', u'establishment'],\n",
       "   u'vicinity': u'6633 Yount St, Yountville'},\n",
       "  {u'geometry': {u'location': {u'lat': Decimal('38.4042505'),\n",
       "     u'lng': Decimal('-122.3618476')},\n",
       "    u'viewport': {u'northeast': {u'lat': Decimal('38.40550613029149'),\n",
       "      u'lng': Decimal('-122.3607146197085')},\n",
       "     u'southwest': {u'lat': Decimal('38.40280816970849'),\n",
       "      u'lng': Decimal('-122.3634125802915')}}},\n",
       "   u'icon': u'https://maps.gstatic.com/mapfiles/place_api/icons/school-71.png',\n",
       "   u'id': u'8b9c6fbbb71fd76fc7bdbfd46a85fcc80d40e42d',\n",
       "   u'name': u'Yountville Elementary School',\n",
       "   u'place_id': u'ChIJ2z9Y1FZVhIARLXOQrba0760',\n",
       "   u'rating': 3,\n",
       "   u'reference': u'CmRSAAAAmKcVg1roXDwHJnuDerMzJiXImdfYs6o5oaAsroMmKRHEzXhdsMN2AQW6jHuUGHvw8Vlw_MFlCyfPY7VlpQxNX2SZB4bfa4i5mQ30jjqILYky8e0ej0O6bAcDqOQNYjmAEhDTYIdDY-oYw59Ft0W9QyAnGhQGaET4bH4Iv3AQaMLb4PItokpgbQ',\n",
       "   u'scope': u'GOOGLE',\n",
       "   u'types': [u'school', u'point_of_interest', u'establishment'],\n",
       "   u'vicinity': u'6554 Yount Street, Yountville'},\n",
       "  {u'geometry': {u'location': {u'lat': Decimal('38.4042505'),\n",
       "     u'lng': Decimal('-122.3618476')},\n",
       "    u'viewport': {u'northeast': {u'lat': Decimal('38.40550613029149'),\n",
       "      u'lng': Decimal('-122.3607146197085')},\n",
       "     u'southwest': {u'lat': Decimal('38.40280816970849'),\n",
       "      u'lng': Decimal('-122.3634125802915')}}},\n",
       "   u'icon': u'https://maps.gstatic.com/mapfiles/place_api/icons/school-71.png',\n",
       "   u'id': u'3144808f0680ab1551e81ad9366a1fb9bdebd13a',\n",
       "   u'name': u'Wine Country Day Preschool',\n",
       "   u'place_id': u'ChIJ2z9Y1FZVhIARUPtFQNVmUVU',\n",
       "   u'reference': u'CmRRAAAA30eJiM2ZOqSOOk6JqNtkxE91wgyHlj0T_1gvaMxhKPyhd2fgrK0QHToQK8bSqjAhEe1J1pL9HZM4vo4a1xPX6nBXLT_hiKTaw9DBMADnZIodG-4oCoJA-nMbksbF1oyjEhDkrLc_08AZ5_7qwD8AtszOGhT_KlUBsn0CxaMOHdfscNXD9CKTqQ',\n",
       "   u'scope': u'GOOGLE',\n",
       "   u'types': [u'school', u'point_of_interest', u'establishment'],\n",
       "   u'vicinity': u'6554 Yount Street, Yountville'}],\n",
       " u'status': u'OK'}"
      ]
     },
     "execution_count": 16,
     "metadata": {},
     "output_type": "execute_result"
    }
   ],
   "source": [
    "query_result.raw_response"
   ]
  },
  {
   "cell_type": "markdown",
   "metadata": {},
   "source": [
    "### Another approach (by Z)"
   ]
  },
  {
   "cell_type": "code",
   "execution_count": 1,
   "metadata": {
    "collapsed": true
   },
   "outputs": [],
   "source": [
    "def get_city_name(search_term):\n",
    "    \"\"\"\n",
    "    - this function will use requests and BeautifulSoup to query google maps API and return a more complete address,\n",
    "    geocoding, and google places information (if relevant)\n",
    "    - search term is a string, like \"2734 Mission street 94110\"\n",
    "    \"\"\"\n",
    "    YOUR_API_KEY = os.environ['GOOGLE_PLACES_API']\n",
    "    import requests\n",
    "    from bs4 import BeautifulSoup\n",
    "    import re\n",
    "    import timeit\n",
    "    start = timeit.default_timer()\n",
    "    page = requests.get('https://maps.googleapis.com/maps/api/place/textsearch/json?query='+search_term.replace(' ', '+')+'&key='+YOUR_API_KEY)\n",
    "    print timeit.default_timer() - start\n",
    "    return str(BeautifulSoup(page.content, 'html.parser'))"
   ]
  },
  {
   "cell_type": "code",
   "execution_count": 4,
   "metadata": {
    "collapsed": false
   },
   "outputs": [
    {
     "name": "stdout",
     "output_type": "stream",
     "text": [
      "0.569124312085\n"
     ]
    },
    {
     "data": {
      "text/plain": [
       "'{\\n   \"html_attributions\" : [],\\n   \"results\" : [\\n      {\\n         \"formatted_address\" : \"2734 Mission St, San Francisco, CA 94110, USA\",\\n         \"geometry\" : {\\n            \"location\" : {\\n               \"lat\" : 37.7532417,\\n               \"lng\" : -122.4186496\\n            },\\n            \"viewport\" : {\\n               \"northeast\" : {\\n                  \"lat\" : 37.7545933302915,\\n                  \"lng\" : -122.4172569697085\\n               },\\n               \"southwest\" : {\\n                  \"lat\" : 37.7518953697085,\\n                  \"lng\" : -122.4199549302915\\n               }\\n            }\\n         },\\n         \"icon\" : \"https://maps.gstatic.com/mapfiles/place_api/icons/geocode-71.png\",\\n         \"id\" : \"bb34968514a86a3ebf385e57d9512beef8242b02\",\\n         \"name\" : \"2734 Mission St\",\\n         \"place_id\" : \"ChIJ3etxqkB-j4ARwYM6W6AkK18\",\\n         \"reference\" : \"CmRbAAAAS0F0itNe7dj88P2M3s6uukG2bF9ko6g49lvBQTO1dnMyo2GjJvp-6nQvhwbl2eY1a796aekEPevwWX9G4mXyWs9y2cDebngJO-v6ZOa2VUNSNqWvop-GpjvZoT95xexeEhCfbu_XQve2TKYpEz3FO6ZjGhSmzf_JoSE7uhq5kOEM8BDoJM8FKw\",\\n         \"types\" : [ \"street_address\" ]\\n      }\\n   ],\\n   \"status\" : \"OK\"\\n}\\n'"
      ]
     },
     "execution_count": 4,
     "metadata": {},
     "output_type": "execute_result"
    }
   ],
   "source": [
    "get_city_name(\"2734 Mission Street 94110\")"
   ]
  }
 ],
 "metadata": {
  "kernelspec": {
   "display_name": "Python [conda root]",
   "language": "python",
   "name": "conda-root-py"
  },
  "language_info": {
   "codemirror_mode": {
    "name": "ipython",
    "version": 2
   },
   "file_extension": ".py",
   "mimetype": "text/x-python",
   "name": "python",
   "nbconvert_exporter": "python",
   "pygments_lexer": "ipython2",
   "version": "2.7.12"
  }
 },
 "nbformat": 4,
 "nbformat_minor": 2
}
