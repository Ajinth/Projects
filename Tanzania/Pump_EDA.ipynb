{
 "cells": [
  {
   "cell_type": "markdown",
   "metadata": {},
   "source": [
    "Download the training and testing datasets to our local directory."
   ]
  },
  {
   "cell_type": "code",
   "execution_count": 9,
   "metadata": {
    "collapsed": false
   },
   "outputs": [],
   "source": [
    "import requests\n",
    "from contextlib import closing\n",
    "import csv\n",
    "\n",
    "urls = {\n",
    "        'X_train' : \"https://s3.amazonaws.com/drivendata/data/7/public/4910797b-ee55-40a7-8668-10efd5c1b960.csv\",\n",
    "        'y_train' : \"https://s3.amazonaws.com/drivendata/data/7/public/0bf8bc6e-30d0-4c50-956a-603fc693d966.csv\",\n",
    "        'X_test' : \"https://s3.amazonaws.com/drivendata/data/7/public/702ddfc5-68cd-4d1d-a0de-f5f566f76d91.csv\"\n",
    "        }\n",
    "\n",
    "for i in urls:\n",
    "    r = requests.get(urls[i])\n",
    "\n",
    "    text = r.iter_lines()\n",
    "\n",
    "    reader = csv.reader(text, delimiter=',')\n",
    "\n",
    "    mylist = list(reader)\n",
    "\n",
    "    with open(str(i)+'.csv', 'wb') as fp:\n",
    "        a = csv.writer(fp, delimiter=',')\n",
    "        data = mylist\n",
    "        a.writerows(data)"
   ]
  },
  {
   "cell_type": "markdown",
   "metadata": {},
   "source": [
    "Load our train and test datasets into pandas."
   ]
  },
  {
   "cell_type": "code",
   "execution_count": 319,
   "metadata": {
    "collapsed": false
   },
   "outputs": [],
   "source": [
    "import pandas as pd\n",
    "import numpy as np\n",
    "\n",
    "X_train = pd.read_csv('X_train.csv')\n",
    "y_train = pd.read_csv('y_train.csv')\n",
    "X_test = pd.read_csv('X_test.csv')"
   ]
  },
  {
   "cell_type": "markdown",
   "metadata": {},
   "source": [
    "Let's inspect our target variable:"
   ]
  },
  {
   "cell_type": "code",
   "execution_count": 68,
   "metadata": {
    "collapsed": false
   },
   "outputs": [
    {
     "data": {
      "text/plain": [
       "functional                 0.543081\n",
       "non functional             0.384242\n",
       "functional needs repair    0.072677\n",
       "Name: status_group, dtype: float64"
      ]
     },
     "execution_count": 68,
     "metadata": {},
     "output_type": "execute_result"
    }
   ],
   "source": [
    "y_train['status_group'].value_counts(normalize = True)"
   ]
  },
  {
   "cell_type": "code",
   "execution_count": 51,
   "metadata": {
    "collapsed": false,
    "scrolled": true
   },
   "outputs": [
    {
     "name": "stdout",
     "output_type": "stream",
     "text": [
      "id , 0.0% nulls , <type 'numpy.int64'> 59400\n",
      "amount_tsh , 0.0% nulls , <type 'numpy.float64'> 98\n",
      "date_recorded , 0.0% nulls , <type 'str'> 356\n",
      "funder , 6.1% nulls , <type 'str'> 1897\n",
      "gps_height , 0.0% nulls , <type 'numpy.int64'> 2428\n",
      "installer , 6.2% nulls , <type 'str'> 2145\n",
      "longitude , 0.0% nulls , <type 'numpy.float64'> 57516\n",
      "latitude , 0.0% nulls , <type 'numpy.float64'> 57517\n",
      "wpt_name , 0.0% nulls , <type 'str'> 37400\n",
      "num_private , 0.0% nulls , <type 'numpy.int64'> 65\n",
      "basin , 0.0% nulls , <type 'str'> 9\n",
      "subvillage , 0.6% nulls , <type 'str'> 19287\n",
      "region , 0.0% nulls , <type 'str'> 21\n",
      "region_code , 0.0% nulls , <type 'numpy.int64'> 27\n",
      "district_code , 0.0% nulls , <type 'numpy.int64'> 20\n",
      "lga , 0.0% nulls , <type 'str'> 125\n",
      "ward , 0.0% nulls , <type 'str'> 2092\n",
      "population , 0.0% nulls , <type 'numpy.int64'> 1049\n",
      "public_meeting , 5.6% nulls , <type 'bool'> 2\n",
      "recorded_by , 0.0% nulls , <type 'str'> 1\n",
      "scheme_management , 6.5% nulls , <type 'str'> 12\n",
      "scheme_name , 47.4% nulls , <type 'str'> 2696\n",
      "permit , 5.1% nulls , <type 'bool'> 2\n",
      "construction_year , 0.0% nulls , <type 'numpy.int64'> 55\n",
      "extraction_type , 0.0% nulls , <type 'str'> 18\n",
      "extraction_type_group , 0.0% nulls , <type 'str'> 13\n",
      "extraction_type_class , 0.0% nulls , <type 'str'> 7\n",
      "management , 0.0% nulls , <type 'str'> 12\n",
      "management_group , 0.0% nulls , <type 'str'> 5\n",
      "payment , 0.0% nulls , <type 'str'> 7\n",
      "payment_type , 0.0% nulls , <type 'str'> 7\n",
      "water_quality , 0.0% nulls , <type 'str'> 8\n",
      "quality_group , 0.0% nulls , <type 'str'> 6\n",
      "quantity , 0.0% nulls , <type 'str'> 5\n",
      "quantity_group , 0.0% nulls , <type 'str'> 5\n",
      "source , 0.0% nulls , <type 'str'> 10\n",
      "source_type , 0.0% nulls , <type 'str'> 7\n",
      "source_class , 0.0% nulls , <type 'str'> 3\n",
      "waterpoint_type , 0.0% nulls , <type 'str'> 7\n",
      "waterpoint_type_group , 0.0% nulls , <type 'str'> 6\n"
     ]
    }
   ],
   "source": [
    "for i in X_train.columns:\n",
    "    print i,',' ,'{:.1%}'.format(np.mean(X_train[i].isnull())),'nulls',',',type(X_train[i][0]), X_train[i].nunique()"
   ]
  },
  {
   "cell_type": "code",
   "execution_count": 15,
   "metadata": {
    "collapsed": false,
    "scrolled": false
   },
   "outputs": [
    {
     "data": {
      "text/html": [
       "<div>\n",
       "<table border=\"1\" class=\"dataframe\">\n",
       "  <thead>\n",
       "    <tr style=\"text-align: right;\">\n",
       "      <th></th>\n",
       "      <th>id</th>\n",
       "      <th>amount_tsh</th>\n",
       "      <th>gps_height</th>\n",
       "      <th>longitude</th>\n",
       "      <th>latitude</th>\n",
       "      <th>num_private</th>\n",
       "      <th>region_code</th>\n",
       "      <th>district_code</th>\n",
       "      <th>population</th>\n",
       "      <th>construction_year</th>\n",
       "    </tr>\n",
       "  </thead>\n",
       "  <tbody>\n",
       "    <tr>\n",
       "      <th>count</th>\n",
       "      <td>59400.000000</td>\n",
       "      <td>59400.000000</td>\n",
       "      <td>59400.000000</td>\n",
       "      <td>59400.000000</td>\n",
       "      <td>5.940000e+04</td>\n",
       "      <td>59400.000000</td>\n",
       "      <td>59400.000000</td>\n",
       "      <td>59400.000000</td>\n",
       "      <td>59400.000000</td>\n",
       "      <td>59400.000000</td>\n",
       "    </tr>\n",
       "    <tr>\n",
       "      <th>mean</th>\n",
       "      <td>37115.131768</td>\n",
       "      <td>317.650385</td>\n",
       "      <td>668.297239</td>\n",
       "      <td>34.077427</td>\n",
       "      <td>-5.706033e+00</td>\n",
       "      <td>0.474141</td>\n",
       "      <td>15.297003</td>\n",
       "      <td>5.629747</td>\n",
       "      <td>179.909983</td>\n",
       "      <td>1300.652475</td>\n",
       "    </tr>\n",
       "    <tr>\n",
       "      <th>std</th>\n",
       "      <td>21453.128371</td>\n",
       "      <td>2997.574558</td>\n",
       "      <td>693.116350</td>\n",
       "      <td>6.567432</td>\n",
       "      <td>2.946019e+00</td>\n",
       "      <td>12.236230</td>\n",
       "      <td>17.587406</td>\n",
       "      <td>9.633649</td>\n",
       "      <td>471.482176</td>\n",
       "      <td>951.620547</td>\n",
       "    </tr>\n",
       "    <tr>\n",
       "      <th>min</th>\n",
       "      <td>0.000000</td>\n",
       "      <td>0.000000</td>\n",
       "      <td>-90.000000</td>\n",
       "      <td>0.000000</td>\n",
       "      <td>-1.164944e+01</td>\n",
       "      <td>0.000000</td>\n",
       "      <td>1.000000</td>\n",
       "      <td>0.000000</td>\n",
       "      <td>0.000000</td>\n",
       "      <td>0.000000</td>\n",
       "    </tr>\n",
       "    <tr>\n",
       "      <th>25%</th>\n",
       "      <td>18519.750000</td>\n",
       "      <td>0.000000</td>\n",
       "      <td>0.000000</td>\n",
       "      <td>33.090347</td>\n",
       "      <td>-8.540621e+00</td>\n",
       "      <td>0.000000</td>\n",
       "      <td>5.000000</td>\n",
       "      <td>2.000000</td>\n",
       "      <td>0.000000</td>\n",
       "      <td>0.000000</td>\n",
       "    </tr>\n",
       "    <tr>\n",
       "      <th>50%</th>\n",
       "      <td>37061.500000</td>\n",
       "      <td>0.000000</td>\n",
       "      <td>369.000000</td>\n",
       "      <td>34.908743</td>\n",
       "      <td>-5.021597e+00</td>\n",
       "      <td>0.000000</td>\n",
       "      <td>12.000000</td>\n",
       "      <td>3.000000</td>\n",
       "      <td>25.000000</td>\n",
       "      <td>1986.000000</td>\n",
       "    </tr>\n",
       "    <tr>\n",
       "      <th>75%</th>\n",
       "      <td>55656.500000</td>\n",
       "      <td>20.000000</td>\n",
       "      <td>1319.250000</td>\n",
       "      <td>37.178387</td>\n",
       "      <td>-3.326156e+00</td>\n",
       "      <td>0.000000</td>\n",
       "      <td>17.000000</td>\n",
       "      <td>5.000000</td>\n",
       "      <td>215.000000</td>\n",
       "      <td>2004.000000</td>\n",
       "    </tr>\n",
       "    <tr>\n",
       "      <th>max</th>\n",
       "      <td>74247.000000</td>\n",
       "      <td>350000.000000</td>\n",
       "      <td>2770.000000</td>\n",
       "      <td>40.345193</td>\n",
       "      <td>-2.000000e-08</td>\n",
       "      <td>1776.000000</td>\n",
       "      <td>99.000000</td>\n",
       "      <td>80.000000</td>\n",
       "      <td>30500.000000</td>\n",
       "      <td>2013.000000</td>\n",
       "    </tr>\n",
       "  </tbody>\n",
       "</table>\n",
       "</div>"
      ],
      "text/plain": [
       "                 id     amount_tsh    gps_height     longitude      latitude  \\\n",
       "count  59400.000000   59400.000000  59400.000000  59400.000000  5.940000e+04   \n",
       "mean   37115.131768     317.650385    668.297239     34.077427 -5.706033e+00   \n",
       "std    21453.128371    2997.574558    693.116350      6.567432  2.946019e+00   \n",
       "min        0.000000       0.000000    -90.000000      0.000000 -1.164944e+01   \n",
       "25%    18519.750000       0.000000      0.000000     33.090347 -8.540621e+00   \n",
       "50%    37061.500000       0.000000    369.000000     34.908743 -5.021597e+00   \n",
       "75%    55656.500000      20.000000   1319.250000     37.178387 -3.326156e+00   \n",
       "max    74247.000000  350000.000000   2770.000000     40.345193 -2.000000e-08   \n",
       "\n",
       "        num_private   region_code  district_code    population  \\\n",
       "count  59400.000000  59400.000000   59400.000000  59400.000000   \n",
       "mean       0.474141     15.297003       5.629747    179.909983   \n",
       "std       12.236230     17.587406       9.633649    471.482176   \n",
       "min        0.000000      1.000000       0.000000      0.000000   \n",
       "25%        0.000000      5.000000       2.000000      0.000000   \n",
       "50%        0.000000     12.000000       3.000000     25.000000   \n",
       "75%        0.000000     17.000000       5.000000    215.000000   \n",
       "max     1776.000000     99.000000      80.000000  30500.000000   \n",
       "\n",
       "       construction_year  \n",
       "count       59400.000000  \n",
       "mean         1300.652475  \n",
       "std           951.620547  \n",
       "min             0.000000  \n",
       "25%             0.000000  \n",
       "50%          1986.000000  \n",
       "75%          2004.000000  \n",
       "max          2013.000000  "
      ]
     },
     "execution_count": 15,
     "metadata": {},
     "output_type": "execute_result"
    }
   ],
   "source": [
    "X_train.describe()"
   ]
  },
  {
   "cell_type": "code",
   "execution_count": 320,
   "metadata": {
    "collapsed": true
   },
   "outputs": [],
   "source": [
    "import seaborn as sns\n",
    "import matplotlib.pyplot as plt\n",
    "%matplotlib inline"
   ]
  },
  {
   "cell_type": "markdown",
   "metadata": {},
   "source": [
    "## Variable Clean-up"
   ]
  },
  {
   "cell_type": "code",
   "execution_count": 14,
   "metadata": {
    "collapsed": false
   },
   "outputs": [],
   "source": [
    "vars = dict.fromkeys(X_train.columns)"
   ]
  },
  {
   "cell_type": "markdown",
   "metadata": {},
   "source": [
    "id: we drop the id column because it is not a useful predictor."
   ]
  },
  {
   "cell_type": "code",
   "execution_count": 19,
   "metadata": {
    "collapsed": false
   },
   "outputs": [],
   "source": [
    "def col_id(data):\n",
    "    del data['id']\n",
    "    return"
   ]
  },
  {
   "cell_type": "markdown",
   "metadata": {},
   "source": [
    "amount_tsh: the amount of water available seems like it could be a useful predictor, but since 70% of values have zero, this data is most likely wrong. We shall delete this column."
   ]
  },
  {
   "cell_type": "code",
   "execution_count": 27,
   "metadata": {
    "collapsed": false
   },
   "outputs": [],
   "source": [
    "# 'amount_tsh' is mostly blank - delete\n",
    "# X_train['amount_tsh'].value_counts(normalize=True)\n",
    "def col_amount_tsh(data):\n",
    "    del data['amount_tsh']\n",
    "    return"
   ]
  },
  {
   "cell_type": "markdown",
   "metadata": {},
   "source": [
    "date_recorded: this might be a useful variable for this analysis, although the year itself would be useless in a practical scenario moving into the future. We will convert this column into a datetime, and we will also create 'year_recorded' and 'month_recorded' columns just in case those levels prove to be useful. A visual inspection of both casts significant doubt on that possibility, but we'll proceed for now. "
   ]
  },
  {
   "cell_type": "code",
   "execution_count": 49,
   "metadata": {
    "collapsed": false
   },
   "outputs": [
    {
     "data": {
      "text/plain": [
       "2011    28674\n",
       "2013    24271\n",
       "2012     6424\n",
       "2004       30\n",
       "2002        1\n",
       "Name: date_recorded, dtype: int64"
      ]
     },
     "execution_count": 49,
     "metadata": {},
     "output_type": "execute_result"
    }
   ],
   "source": [
    "X_train['date_recorded'] = pd.to_datetime(X_train['date_recorded'])\n",
    "X_train['date_recorded'].apply(lambda x: x.year).value_counts()"
   ]
  },
  {
   "cell_type": "code",
   "execution_count": 56,
   "metadata": {
    "collapsed": false,
    "scrolled": true
   },
   "outputs": [
    {
     "data": {
      "text/plain": [
       "<matplotlib.axes._subplots.AxesSubplot at 0x11fb8860>"
      ]
     },
     "execution_count": 56,
     "metadata": {},
     "output_type": "execute_result"
    },
    {
     "data": {
      "image/png": "[encoded data removed]",
      "text/plain": [
       "<matplotlib.figure.Figure at 0xf01e7f0>"
      ]
     },
     "metadata": {},
     "output_type": "display_data"
    }
   ],
   "source": [
    "sns.countplot(X_train['date_recorded'].apply(lambda x: x.month), hue = y_train['status_group'])"
   ]
  },
  {
   "cell_type": "code",
   "execution_count": 58,
   "metadata": {
    "collapsed": true
   },
   "outputs": [],
   "source": [
    "def col_date_recorded(data):\n",
    "    data['date_recorded'] = pd.to_datetime(data['date_recorded'])\n",
    "    data['year_recorded'] = data['date_recorded'].apply(lambda x: x.year).value_counts()\n",
    "    data['month_recorded'] = data['date_recorded'].apply(lambda x: x.month).value_counts()\n",
    "    return"
   ]
  },
  {
   "cell_type": "markdown",
   "metadata": {},
   "source": [
    "funder"
   ]
  },
  {
   "cell_type": "code",
   "execution_count": 108,
   "metadata": {
    "collapsed": false,
    "scrolled": true
   },
   "outputs": [],
   "source": [
    "def dummies(data, column):\n",
    "    global X_train, X_test\n",
    "    good_cols = []\n",
    "    data[column].fillna('NULL', inplace = True)\n",
    "    dumms = pd.get_dummies(data[column])\n",
    "    for i in dumms.columns:\n",
    "        if chi2_contingency(pd.crosstab(dumms[i], y_train['status_group']))[1] < .001:\n",
    "            good_cols.append(i)\n",
    "    X_train = pd.concat((X_train, pd.get_dummies(data[column])[good_cols]), axis = 1)\n",
    "    print good_cols\n",
    "    return"
   ]
  },
  {
   "cell_type": "markdown",
   "metadata": {},
   "source": [
    "`gps_height`, `latitude`, `longitude`"
   ]
  },
  {
   "cell_type": "code",
   "execution_count": 323,
   "metadata": {
    "collapsed": false
   },
   "outputs": [],
   "source": [
    "X_train['longitude'] = X_train['longitude'].replace(0., np.NaN)\n",
    "X_train['latitude'].replace(0., np.NaN, inplace = True)\n",
    "X_train['gps_height'].replace(0., np.NaN, inplace = True)"
   ]
  },
  {
   "cell_type": "code",
   "execution_count": 325,
   "metadata": {
    "collapsed": false
   },
   "outputs": [],
   "source": [
    "data = X_train.groupby(['district_code']).longitude\n",
    "X_train['longitude'] = data.transform(lambda x: x.fillna(x.mean()))\n",
    "\n",
    "data = X_train.groupby(['district_code']).latitude\n",
    "X_train['latitude'] = data.transform(lambda x: x.fillna(x.mean()))"
   ]
  },
  {
   "cell_type": "code",
   "execution_count": 324,
   "metadata": {
    "collapsed": false
   },
   "outputs": [
    {
     "data": {
      "text/plain": [
       "id                                          6091\n",
       "amount_tsh                                     0\n",
       "date_recorded                         2013-02-10\n",
       "funder                                      Dwsp\n",
       "gps_height                                   NaN\n",
       "installer                                    DWE\n",
       "longitude                                    NaN\n",
       "latitude                                  -2e-08\n",
       "wpt_name                                Muungano\n",
       "num_private                                    0\n",
       "basin                              Lake Victoria\n",
       "subvillage                            Ibabachegu\n",
       "region                                 Shinyanga\n",
       "region_code                                   17\n",
       "district_code                                  1\n",
       "lga                                      Bariadi\n",
       "ward                           Ikungulyabashashi\n",
       "population                                     0\n",
       "public_meeting                               NaN\n",
       "recorded_by              GeoData Consultants Ltd\n",
       "scheme_management                            WUG\n",
       "scheme_name                                  NaN\n",
       "permit                                     False\n",
       "construction_year                              0\n",
       "extraction_type                           swn 80\n",
       "extraction_type_group                     swn 80\n",
       "extraction_type_class                   handpump\n",
       "management                                   wug\n",
       "management_group                      user-group\n",
       "payment                                  unknown\n",
       "payment_type                             unknown\n",
       "water_quality                            unknown\n",
       "quality_group                            unknown\n",
       "quantity                                 unknown\n",
       "quantity_group                           unknown\n",
       "source                              shallow well\n",
       "source_type                         shallow well\n",
       "source_class                         groundwater\n",
       "waterpoint_type                        hand pump\n",
       "waterpoint_type_group                  hand pump\n",
       "Name: 21, dtype: object"
      ]
     },
     "execution_count": 324,
     "metadata": {},
     "output_type": "execute_result"
    }
   ],
   "source": [
    "X_train.iloc[21]"
   ]
  },
  {
   "cell_type": "code",
   "execution_count": 265,
   "metadata": {
    "collapsed": false
   },
   "outputs": [
    {
     "data": {
      "text/plain": [
       "0        34.938093\n",
       "1        34.698766\n",
       "2        37.460664\n",
       "3        38.486161\n",
       "4        31.130847\n",
       "5        39.172796\n",
       "6        33.362410\n",
       "7        32.620617\n",
       "8        32.711100\n",
       "9        30.626991\n",
       "10       39.209518\n",
       "11       35.770258\n",
       "12       33.798106\n",
       "13       37.092574\n",
       "14       34.364073\n",
       "15       31.444121\n",
       "16       34.642439\n",
       "17       34.569266\n",
       "18       32.920154\n",
       "19       34.508967\n",
       "20       34.473430\n",
       "21             NaN\n",
       "22       34.586901\n",
       "23       37.940029\n",
       "24       29.747066\n",
       "25       37.422751\n",
       "26       39.370777\n",
       "27       31.104257\n",
       "28       37.611126\n",
       "29       37.061688\n",
       "           ...    \n",
       "59370    30.058731\n",
       "59371    33.586406\n",
       "59372    32.058548\n",
       "59373    32.125024\n",
       "59374          NaN\n",
       "59375    39.046942\n",
       "59376    34.821039\n",
       "59377    33.437012\n",
       "59378    34.620387\n",
       "59379    31.613284\n",
       "59380    34.942101\n",
       "59381    38.835001\n",
       "59382    37.454759\n",
       "59383    39.626009\n",
       "59384    30.667805\n",
       "59385    33.951681\n",
       "59386    31.738789\n",
       "59387    39.176480\n",
       "59388    30.692400\n",
       "59389    30.646486\n",
       "59390    31.370848\n",
       "59391    38.044070\n",
       "59392    33.009440\n",
       "59393    33.866852\n",
       "59394    37.634053\n",
       "59395    37.169807\n",
       "59396    35.249991\n",
       "59397    34.017087\n",
       "59398    35.861315\n",
       "59399    38.104048\n",
       "Name: longitude, dtype: float64"
      ]
     },
     "execution_count": 265,
     "metadata": {},
     "output_type": "execute_result"
    }
   ],
   "source": [
    "from numpy import nan\n",
    "\n",
    "med = X_train.groupby('district_code')['longitude'].transform('mean')\n",
    "X_train['longitude'].fillna(med)"
   ]
  },
  {
   "cell_type": "code",
   "execution_count": 267,
   "metadata": {
    "collapsed": false
   },
   "outputs": [],
   "source": [
    "fill_values = dict(X_train['longitude'].groupby(X_train['district_code']).mean())\n",
    "\n",
    "fill_func = lambda g: g.fillna(fill_values[g.name])\n",
    "X_train['longitude'] = X_train['longitude'].groupby(X_train['district_code']).apply(fill_func)"
   ]
  },
  {
   "cell_type": "code",
   "execution_count": 326,
   "metadata": {
    "collapsed": false
   },
   "outputs": [
    {
     "data": {
      "text/plain": [
       "0"
      ]
     },
     "execution_count": 326,
     "metadata": {},
     "output_type": "execute_result"
    }
   ],
   "source": [
    "sum(pd.isnull(X_train['longitude']))"
   ]
  },
  {
   "cell_type": "code",
   "execution_count": 279,
   "metadata": {
    "collapsed": false
   },
   "outputs": [
    {
     "data": {
      "text/html": [
       "<div>\n",
       "<table border=\"1\" class=\"dataframe\">\n",
       "  <thead>\n",
       "    <tr style=\"text-align: right;\">\n",
       "      <th></th>\n",
       "      <th>id</th>\n",
       "      <th>amount_tsh</th>\n",
       "      <th>date_recorded</th>\n",
       "      <th>funder</th>\n",
       "      <th>gps_height</th>\n",
       "      <th>installer</th>\n",
       "      <th>longitude</th>\n",
       "      <th>latitude</th>\n",
       "      <th>wpt_name</th>\n",
       "      <th>num_private</th>\n",
       "      <th>...</th>\n",
       "      <th>payment_type</th>\n",
       "      <th>water_quality</th>\n",
       "      <th>quality_group</th>\n",
       "      <th>quantity</th>\n",
       "      <th>quantity_group</th>\n",
       "      <th>source</th>\n",
       "      <th>source_type</th>\n",
       "      <th>source_class</th>\n",
       "      <th>waterpoint_type</th>\n",
       "      <th>waterpoint_type_group</th>\n",
       "    </tr>\n",
       "  </thead>\n",
       "  <tbody>\n",
       "    <tr>\n",
       "      <th>0</th>\n",
       "      <td>69572.0</td>\n",
       "      <td>6000.0</td>\n",
       "      <td>2011-03-14</td>\n",
       "      <td>Roman</td>\n",
       "      <td>1390.0</td>\n",
       "      <td>Roman</td>\n",
       "      <td>34.938093</td>\n",
       "      <td>-9.856322</td>\n",
       "      <td>none</td>\n",
       "      <td>0.0</td>\n",
       "      <td>...</td>\n",
       "      <td>annually</td>\n",
       "      <td>soft</td>\n",
       "      <td>good</td>\n",
       "      <td>enough</td>\n",
       "      <td>enough</td>\n",
       "      <td>spring</td>\n",
       "      <td>spring</td>\n",
       "      <td>groundwater</td>\n",
       "      <td>communal standpipe</td>\n",
       "      <td>communal standpipe</td>\n",
       "    </tr>\n",
       "    <tr>\n",
       "      <th>1</th>\n",
       "      <td>8776.0</td>\n",
       "      <td>0.0</td>\n",
       "      <td>2013-03-06</td>\n",
       "      <td>Grumeti</td>\n",
       "      <td>1399.0</td>\n",
       "      <td>GRUMETI</td>\n",
       "      <td>34.698766</td>\n",
       "      <td>-2.147466</td>\n",
       "      <td>Zahanati</td>\n",
       "      <td>0.0</td>\n",
       "      <td>...</td>\n",
       "      <td>never pay</td>\n",
       "      <td>soft</td>\n",
       "      <td>good</td>\n",
       "      <td>insufficient</td>\n",
       "      <td>insufficient</td>\n",
       "      <td>rainwater harvesting</td>\n",
       "      <td>rainwater harvesting</td>\n",
       "      <td>surface</td>\n",
       "      <td>communal standpipe</td>\n",
       "      <td>communal standpipe</td>\n",
       "    </tr>\n",
       "    <tr>\n",
       "      <th>2</th>\n",
       "      <td>34310.0</td>\n",
       "      <td>25.0</td>\n",
       "      <td>2013-02-25</td>\n",
       "      <td>Lottery Club</td>\n",
       "      <td>686.0</td>\n",
       "      <td>World vision</td>\n",
       "      <td>37.460664</td>\n",
       "      <td>-3.821329</td>\n",
       "      <td>Kwa Mahundi</td>\n",
       "      <td>0.0</td>\n",
       "      <td>...</td>\n",
       "      <td>per bucket</td>\n",
       "      <td>soft</td>\n",
       "      <td>good</td>\n",
       "      <td>enough</td>\n",
       "      <td>enough</td>\n",
       "      <td>dam</td>\n",
       "      <td>dam</td>\n",
       "      <td>surface</td>\n",
       "      <td>communal standpipe multiple</td>\n",
       "      <td>communal standpipe</td>\n",
       "    </tr>\n",
       "    <tr>\n",
       "      <th>3</th>\n",
       "      <td>67743.0</td>\n",
       "      <td>0.0</td>\n",
       "      <td>2013-01-28</td>\n",
       "      <td>Unicef</td>\n",
       "      <td>263.0</td>\n",
       "      <td>UNICEF</td>\n",
       "      <td>38.486161</td>\n",
       "      <td>-11.155298</td>\n",
       "      <td>Zahanati Ya Nanyumbu</td>\n",
       "      <td>0.0</td>\n",
       "      <td>...</td>\n",
       "      <td>never pay</td>\n",
       "      <td>soft</td>\n",
       "      <td>good</td>\n",
       "      <td>dry</td>\n",
       "      <td>dry</td>\n",
       "      <td>machine dbh</td>\n",
       "      <td>borehole</td>\n",
       "      <td>groundwater</td>\n",
       "      <td>communal standpipe multiple</td>\n",
       "      <td>communal standpipe</td>\n",
       "    </tr>\n",
       "    <tr>\n",
       "      <th>4</th>\n",
       "      <td>19728.0</td>\n",
       "      <td>0.0</td>\n",
       "      <td>2011-07-13</td>\n",
       "      <td>Action In A</td>\n",
       "      <td>NaN</td>\n",
       "      <td>Artisan</td>\n",
       "      <td>31.130847</td>\n",
       "      <td>-1.825359</td>\n",
       "      <td>Shuleni</td>\n",
       "      <td>0.0</td>\n",
       "      <td>...</td>\n",
       "      <td>never pay</td>\n",
       "      <td>soft</td>\n",
       "      <td>good</td>\n",
       "      <td>seasonal</td>\n",
       "      <td>seasonal</td>\n",
       "      <td>rainwater harvesting</td>\n",
       "      <td>rainwater harvesting</td>\n",
       "      <td>surface</td>\n",
       "      <td>communal standpipe</td>\n",
       "      <td>communal standpipe</td>\n",
       "    </tr>\n",
       "  </tbody>\n",
       "</table>\n",
       "<p>5 rows × 40 columns</p>\n",
       "</div>"
      ],
      "text/plain": [
       "        id  amount_tsh date_recorded        funder  gps_height     installer  \\\n",
       "0  69572.0      6000.0    2011-03-14         Roman      1390.0         Roman   \n",
       "1   8776.0         0.0    2013-03-06       Grumeti      1399.0       GRUMETI   \n",
       "2  34310.0        25.0    2013-02-25  Lottery Club       686.0  World vision   \n",
       "3  67743.0         0.0    2013-01-28        Unicef       263.0        UNICEF   \n",
       "4  19728.0         0.0    2011-07-13   Action In A         NaN       Artisan   \n",
       "\n",
       "   longitude   latitude              wpt_name  num_private  \\\n",
       "0  34.938093  -9.856322                  none          0.0   \n",
       "1  34.698766  -2.147466              Zahanati          0.0   \n",
       "2  37.460664  -3.821329           Kwa Mahundi          0.0   \n",
       "3  38.486161 -11.155298  Zahanati Ya Nanyumbu          0.0   \n",
       "4  31.130847  -1.825359               Shuleni          0.0   \n",
       "\n",
       "           ...          payment_type water_quality quality_group  \\\n",
       "0          ...              annually          soft          good   \n",
       "1          ...             never pay          soft          good   \n",
       "2          ...            per bucket          soft          good   \n",
       "3          ...             never pay          soft          good   \n",
       "4          ...             never pay          soft          good   \n",
       "\n",
       "       quantity  quantity_group                source           source_type  \\\n",
       "0        enough          enough                spring                spring   \n",
       "1  insufficient    insufficient  rainwater harvesting  rainwater harvesting   \n",
       "2        enough          enough                   dam                   dam   \n",
       "3           dry             dry           machine dbh              borehole   \n",
       "4      seasonal        seasonal  rainwater harvesting  rainwater harvesting   \n",
       "\n",
       "   source_class              waterpoint_type waterpoint_type_group  \n",
       "0   groundwater           communal standpipe    communal standpipe  \n",
       "1       surface           communal standpipe    communal standpipe  \n",
       "2       surface  communal standpipe multiple    communal standpipe  \n",
       "3   groundwater  communal standpipe multiple    communal standpipe  \n",
       "4       surface           communal standpipe    communal standpipe  \n",
       "\n",
       "[5 rows x 40 columns]"
      ]
     },
     "execution_count": 279,
     "metadata": {},
     "output_type": "execute_result"
    }
   ],
   "source": [
    "X_train.head()"
   ]
  },
  {
   "cell_type": "code",
   "execution_count": 327,
   "metadata": {
    "collapsed": false
   },
   "outputs": [
    {
     "data": {
      "text/plain": [
       "<matplotlib.collections.PathCollection at 0x549c6400>"
      ]
     },
     "execution_count": 327,
     "metadata": {},
     "output_type": "execute_result"
    },
    {
     "data": {
      "image/png": "[encoded data removed]",
      "text/plain": [
       "<matplotlib.figure.Figure at 0x5d61ec50>"
      ]
     },
     "metadata": {},
     "output_type": "display_data"
    }
   ],
   "source": [
    "plt.scatter(X_train['longitude'], X_train['latitude'])"
   ]
  }
 ],
 "metadata": {
  "anaconda-cloud": {},
  "kernelspec": {
   "display_name": "Python [default]",
   "language": "python",
   "name": "python2"
  },
  "language_info": {
   "codemirror_mode": {
    "name": "ipython",
    "version": 2
   },
   "file_extension": ".py",
   "mimetype": "text/x-python",
   "name": "python",
   "nbconvert_exporter": "python",
   "pygments_lexer": "ipython2",
   "version": "2.7.12"
  }
 },
 "nbformat": 4,
 "nbformat_minor": 1
}
