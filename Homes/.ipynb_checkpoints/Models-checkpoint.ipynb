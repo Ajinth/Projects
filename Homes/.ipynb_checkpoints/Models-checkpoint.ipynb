{
 "cells": [
  {
   "cell_type": "code",
   "execution_count": 1,
   "metadata": {
    "collapsed": false
   },
   "outputs": [],
   "source": [
    "import os\n",
    "import pandas as pd\n",
    "import numpy as np\n",
    "from scipy.stats import skew\n",
    "import feature_process_helper as fp\n",
    "from sklearn.model_selection import GridSearchCV\n",
    "from sklearn.linear_model import Lasso\n",
    "from sklearn.feature_selection import SelectKBest\n",
    "from sklearn.ensemble import RandomForestRegressor\n",
    "from sklearn.metrics import mean_squared_error\n",
    "from sklearn import linear_model\n",
    "from sklearn.pipeline import Pipeline\n",
    "import matplotlib.pyplot as plt\n",
    "%matplotlib inline"
   ]
  },
  {
   "cell_type": "markdown",
   "metadata": {},
   "source": [
    "## Lasso 1"
   ]
  },
  {
   "cell_type": "markdown",
   "metadata": {},
   "source": [
    "### load data"
   ]
  },
  {
   "cell_type": "code",
   "execution_count": 91,
   "metadata": {
    "collapsed": false
   },
   "outputs": [],
   "source": [
    "train = pd.read_csv(os.path.join('data', 'train.csv'))\n",
    "test = pd.read_csv(os.path.join('data', 'test.csv'))\n",
    "y = train.iloc[:, -1]\n",
    "train = train.iloc[:, 1:-1]\n",
    "test = test.iloc[:, 1:]\n",
    "submission = test.iloc[:, 0]"
   ]
  },
  {
   "cell_type": "markdown",
   "metadata": {},
   "source": [
    "### transform data"
   ]
  },
  {
   "cell_type": "code",
   "execution_count": 92,
   "metadata": {
    "collapsed": false
   },
   "outputs": [
    {
     "name": "stdout",
     "output_type": "stream",
     "text": [
      "0.775806224312 seconds\n"
     ]
    }
   ],
   "source": [
    "train, test = fp.mssubclass(train, test)\n",
    "train, test = fp.lotfrontage(train, test)\n",
    "train, test = fp.garageyrblt(train, test)\n",
    "train, test = fp.impute(train, test)\n",
    "train, test = fp.scale(train, test)\n",
    "train, test = fp.dummies(train, test)"
   ]
  },
  {
   "cell_type": "markdown",
   "metadata": {},
   "source": [
    "### find optimal value of the Lasso alpha parameter"
   ]
  },
  {
   "cell_type": "code",
   "execution_count": 93,
   "metadata": {
    "collapsed": false
   },
   "outputs": [
    {
     "name": "stdout",
     "output_type": "stream",
     "text": [
      "Lasso(alpha=40, copy_X=True, fit_intercept=True, max_iter=1000,\n",
      "   normalize=True, positive=False, precompute=False, random_state=None,\n",
      "   selection='cyclic', tol=0.0001, warm_start=False)\n",
      "0.884810357837\n"
     ]
    }
   ],
   "source": [
    "from sklearn.grid_search import GridSearchCV\n",
    "from sklearn.linear_model import Lasso\n",
    "\n",
    "alpha_ridge = [10, 20, 30, 40, 50]\n",
    "\n",
    "coeffs = {}\n",
    "z = 1.01\n",
    "for alpha in alpha_ridge:\n",
    "    r = Lasso(alpha=alpha, normalize=True, max_iter=1e5)\n",
    "    r = r.fit(train, y)\n",
    "    coeffs[str(z)+':'+str(alpha)] = np.append(r.score(train, y), np.append(r.intercept_, r.coef_))\n",
    "    z += .01\n",
    "    \n",
    "grid_search = GridSearchCV(Lasso(alpha=alpha, normalize=True), param_grid={'alpha': alpha_ridge}, cv=10, n_jobs=-1)\n",
    "grid_search.fit(train, y)\n",
    "\n",
    "print grid_search.best_estimator_\n",
    "print grid_search.score(train, y)"
   ]
  },
  {
   "cell_type": "markdown",
   "metadata": {},
   "source": [
    "### inspect results"
   ]
  },
  {
   "cell_type": "code",
   "execution_count": 94,
   "metadata": {
    "collapsed": false
   },
   "outputs": [
    {
     "data": {
      "text/html": [
       "<div>\n",
       "<table border=\"1\" class=\"dataframe\">\n",
       "  <thead>\n",
       "    <tr style=\"text-align: right;\">\n",
       "      <th></th>\n",
       "      <th>SCORE</th>\n",
       "      <th>INTERCEPT</th>\n",
       "      <th>LotFrontage</th>\n",
       "      <th>LotArea</th>\n",
       "      <th>OverallQual</th>\n",
       "      <th>OverallCond</th>\n",
       "      <th>YearBuilt</th>\n",
       "      <th>YearRemodAdd</th>\n",
       "      <th>MasVnrArea</th>\n",
       "      <th>BsmtFinSF1</th>\n",
       "      <th>...</th>\n",
       "      <th>SaleType_ConLI</th>\n",
       "      <th>SaleType_CWD</th>\n",
       "      <th>SaleType_ConLw</th>\n",
       "      <th>SaleType_Con</th>\n",
       "      <th>SaleType_Oth</th>\n",
       "      <th>SaleCondition_Abnorml</th>\n",
       "      <th>SaleCondition_Partial</th>\n",
       "      <th>SaleCondition_AdjLand</th>\n",
       "      <th>SaleCondition_Alloca</th>\n",
       "      <th>SaleCondition_Family</th>\n",
       "    </tr>\n",
       "  </thead>\n",
       "  <tbody>\n",
       "    <tr>\n",
       "      <th>1.01:10</th>\n",
       "      <td>0.906304</td>\n",
       "      <td>-359993.222673</td>\n",
       "      <td>-1122.756308</td>\n",
       "      <td>3654.279782</td>\n",
       "      <td>8470.834862</td>\n",
       "      <td>4629.287437</td>\n",
       "      <td>169.625163</td>\n",
       "      <td>53.201734</td>\n",
       "      <td>3273.654289</td>\n",
       "      <td>1926.747567</td>\n",
       "      <td>...</td>\n",
       "      <td>0.0</td>\n",
       "      <td>7957.921244</td>\n",
       "      <td>0.0</td>\n",
       "      <td>26102.174410</td>\n",
       "      <td>4985.049002</td>\n",
       "      <td>-6359.145133</td>\n",
       "      <td>0.0</td>\n",
       "      <td>0.0</td>\n",
       "      <td>7476.195193</td>\n",
       "      <td>-3038.878548</td>\n",
       "    </tr>\n",
       "    <tr>\n",
       "      <th>1.02:20</th>\n",
       "      <td>0.898402</td>\n",
       "      <td>-506952.906273</td>\n",
       "      <td>-0.000000</td>\n",
       "      <td>3000.613166</td>\n",
       "      <td>9254.420112</td>\n",
       "      <td>4285.713011</td>\n",
       "      <td>194.874230</td>\n",
       "      <td>70.794516</td>\n",
       "      <td>2615.415683</td>\n",
       "      <td>2296.354317</td>\n",
       "      <td>...</td>\n",
       "      <td>0.0</td>\n",
       "      <td>0.000000</td>\n",
       "      <td>0.0</td>\n",
       "      <td>20777.545869</td>\n",
       "      <td>0.000000</td>\n",
       "      <td>-5294.360250</td>\n",
       "      <td>0.0</td>\n",
       "      <td>-0.0</td>\n",
       "      <td>2153.758763</td>\n",
       "      <td>-1443.378045</td>\n",
       "    </tr>\n",
       "    <tr>\n",
       "      <th>1.03:30</th>\n",
       "      <td>0.891721</td>\n",
       "      <td>-521054.936396</td>\n",
       "      <td>-0.000000</td>\n",
       "      <td>2848.362989</td>\n",
       "      <td>10239.964851</td>\n",
       "      <td>3863.648048</td>\n",
       "      <td>197.905237</td>\n",
       "      <td>83.006815</td>\n",
       "      <td>2202.593985</td>\n",
       "      <td>2451.743806</td>\n",
       "      <td>...</td>\n",
       "      <td>0.0</td>\n",
       "      <td>0.000000</td>\n",
       "      <td>0.0</td>\n",
       "      <td>12578.858589</td>\n",
       "      <td>0.000000</td>\n",
       "      <td>-4493.565826</td>\n",
       "      <td>0.0</td>\n",
       "      <td>-0.0</td>\n",
       "      <td>0.000000</td>\n",
       "      <td>-0.000000</td>\n",
       "    </tr>\n",
       "    <tr>\n",
       "      <th>1.04:40</th>\n",
       "      <td>0.884810</td>\n",
       "      <td>-521680.564655</td>\n",
       "      <td>-0.000000</td>\n",
       "      <td>2744.919852</td>\n",
       "      <td>11119.319966</td>\n",
       "      <td>3363.147814</td>\n",
       "      <td>198.331603</td>\n",
       "      <td>99.756336</td>\n",
       "      <td>1902.662206</td>\n",
       "      <td>2645.859346</td>\n",
       "      <td>...</td>\n",
       "      <td>0.0</td>\n",
       "      <td>0.000000</td>\n",
       "      <td>0.0</td>\n",
       "      <td>3219.990762</td>\n",
       "      <td>0.000000</td>\n",
       "      <td>-3659.204473</td>\n",
       "      <td>0.0</td>\n",
       "      <td>-0.0</td>\n",
       "      <td>0.000000</td>\n",
       "      <td>-0.000000</td>\n",
       "    </tr>\n",
       "    <tr>\n",
       "      <th>1.05:50</th>\n",
       "      <td>0.878126</td>\n",
       "      <td>-524298.146483</td>\n",
       "      <td>0.000000</td>\n",
       "      <td>2678.808468</td>\n",
       "      <td>11885.404231</td>\n",
       "      <td>2917.920732</td>\n",
       "      <td>189.388979</td>\n",
       "      <td>109.267016</td>\n",
       "      <td>1723.804829</td>\n",
       "      <td>2788.017583</td>\n",
       "      <td>...</td>\n",
       "      <td>0.0</td>\n",
       "      <td>0.000000</td>\n",
       "      <td>-0.0</td>\n",
       "      <td>0.000000</td>\n",
       "      <td>0.000000</td>\n",
       "      <td>-2706.007992</td>\n",
       "      <td>0.0</td>\n",
       "      <td>-0.0</td>\n",
       "      <td>0.000000</td>\n",
       "      <td>-0.000000</td>\n",
       "    </tr>\n",
       "  </tbody>\n",
       "</table>\n",
       "<p>5 rows × 247 columns</p>\n",
       "</div>"
      ],
      "text/plain": [
       "            SCORE      INTERCEPT  LotFrontage      LotArea   OverallQual  \\\n",
       "1.01:10  0.906304 -359993.222673 -1122.756308  3654.279782   8470.834862   \n",
       "1.02:20  0.898402 -506952.906273    -0.000000  3000.613166   9254.420112   \n",
       "1.03:30  0.891721 -521054.936396    -0.000000  2848.362989  10239.964851   \n",
       "1.04:40  0.884810 -521680.564655    -0.000000  2744.919852  11119.319966   \n",
       "1.05:50  0.878126 -524298.146483     0.000000  2678.808468  11885.404231   \n",
       "\n",
       "         OverallCond   YearBuilt  YearRemodAdd   MasVnrArea   BsmtFinSF1  \\\n",
       "1.01:10  4629.287437  169.625163     53.201734  3273.654289  1926.747567   \n",
       "1.02:20  4285.713011  194.874230     70.794516  2615.415683  2296.354317   \n",
       "1.03:30  3863.648048  197.905237     83.006815  2202.593985  2451.743806   \n",
       "1.04:40  3363.147814  198.331603     99.756336  1902.662206  2645.859346   \n",
       "1.05:50  2917.920732  189.388979    109.267016  1723.804829  2788.017583   \n",
       "\n",
       "                 ...           SaleType_ConLI  SaleType_CWD  SaleType_ConLw  \\\n",
       "1.01:10          ...                      0.0   7957.921244             0.0   \n",
       "1.02:20          ...                      0.0      0.000000             0.0   \n",
       "1.03:30          ...                      0.0      0.000000             0.0   \n",
       "1.04:40          ...                      0.0      0.000000             0.0   \n",
       "1.05:50          ...                      0.0      0.000000            -0.0   \n",
       "\n",
       "         SaleType_Con  SaleType_Oth  SaleCondition_Abnorml  \\\n",
       "1.01:10  26102.174410   4985.049002           -6359.145133   \n",
       "1.02:20  20777.545869      0.000000           -5294.360250   \n",
       "1.03:30  12578.858589      0.000000           -4493.565826   \n",
       "1.04:40   3219.990762      0.000000           -3659.204473   \n",
       "1.05:50      0.000000      0.000000           -2706.007992   \n",
       "\n",
       "         SaleCondition_Partial  SaleCondition_AdjLand  SaleCondition_Alloca  \\\n",
       "1.01:10                    0.0                    0.0           7476.195193   \n",
       "1.02:20                    0.0                   -0.0           2153.758763   \n",
       "1.03:30                    0.0                   -0.0              0.000000   \n",
       "1.04:40                    0.0                   -0.0              0.000000   \n",
       "1.05:50                    0.0                   -0.0              0.000000   \n",
       "\n",
       "         SaleCondition_Family  \n",
       "1.01:10          -3038.878548  \n",
       "1.02:20          -1443.378045  \n",
       "1.03:30             -0.000000  \n",
       "1.04:40             -0.000000  \n",
       "1.05:50             -0.000000  \n",
       "\n",
       "[5 rows x 247 columns]"
      ]
     },
     "execution_count": 94,
     "metadata": {},
     "output_type": "execute_result"
    }
   ],
   "source": [
    "a = pd.DataFrame(coeffs).transpose()\n",
    "columns = ['SCORE', 'INTERCEPT']+list(train.columns)\n",
    "dict = {}\n",
    "i = 0 \n",
    "for c in columns:\n",
    "    dict[i] = c\n",
    "    i += 1\n",
    "a.rename(columns = dict, inplace=True)\n",
    "a"
   ]
  },
  {
   "cell_type": "markdown",
   "metadata": {},
   "source": [
    "### fit lasso model with optimal alpha"
   ]
  },
  {
   "cell_type": "code",
   "execution_count": null,
   "metadata": {
    "collapsed": true
   },
   "outputs": [],
   "source": [
    "lasso = Lasso(alpha=40, normalize=True, max_iter=1e5)\n",
    "lasso = lasso.fit(train, y)"
   ]
  },
  {
   "cell_type": "markdown",
   "metadata": {},
   "source": [
    "### last-second check that our test dataset doesn't contain empty columns"
   ]
  },
  {
   "cell_type": "code",
   "execution_count": null,
   "metadata": {
    "collapsed": true
   },
   "outputs": [],
   "source": [
    "for i in test.columns:\n",
    "    if sum(pd.isnull(test[i])) > 0:\n",
    "        print i, sum(pd.isnull(test[i]))"
   ]
  },
  {
   "cell_type": "markdown",
   "metadata": {},
   "source": [
    "### predict test data and create submission file"
   ]
  },
  {
   "cell_type": "code",
   "execution_count": null,
   "metadata": {
    "collapsed": true
   },
   "outputs": [],
   "source": [
    "lasso.predict(test)"
   ]
  },
  {
   "cell_type": "code",
   "execution_count": null,
   "metadata": {
    "collapsed": true
   },
   "outputs": [],
   "source": [
    "predictions = lasso.predict(test)\n",
    "test = pd.read_csv(os.path.join('data', 'test.csv'))\n",
    "predictions = pd.DataFrame(predictions, columns=['SalePrice'])\n",
    "predictions = pd.concat((test.iloc[:, 0], predictions), axis = 1)\n",
    "predictions.to_csv(os.path.join('submission_files', 'lasso1.csv'), sep=\",\", index = False)"
   ]
  },
  {
   "cell_type": "markdown",
   "metadata": {},
   "source": [
    "score: .013624"
   ]
  },
  {
   "cell_type": "markdown",
   "metadata": {},
   "source": [
    "## Linear Regression 1"
   ]
  },
  {
   "cell_type": "markdown",
   "metadata": {},
   "source": [
    "### load data"
   ]
  },
  {
   "cell_type": "code",
   "execution_count": 153,
   "metadata": {
    "collapsed": false
   },
   "outputs": [],
   "source": [
    "train = pd.read_csv(os.path.join('data', 'train.csv'))\n",
    "test = pd.read_csv(os.path.join('data', 'test.csv'))\n",
    "y = train.iloc[:, -1]\n",
    "train = train.iloc[:, 1:-1]\n",
    "test = test.iloc[:, 1:]\n",
    "submission = test.iloc[:, 0]"
   ]
  },
  {
   "cell_type": "markdown",
   "metadata": {},
   "source": [
    "### transform data"
   ]
  },
  {
   "cell_type": "code",
   "execution_count": 154,
   "metadata": {
    "collapsed": false
   },
   "outputs": [],
   "source": [
    "train, test = fp.mssubclass(train, test)"
   ]
  },
  {
   "cell_type": "code",
   "execution_count": 155,
   "metadata": {
    "collapsed": false
   },
   "outputs": [],
   "source": [
    "def log(train, test, y):\n",
    "    numeric_feats = train.dtypes[train.dtypes != \"object\"].index\n",
    "    skewed_feats = train[numeric_feats].apply(lambda x: skew(x.dropna())) #compute skewness\n",
    "    skewed_feats = skewed_feats[skewed_feats > 0.75]\n",
    "    skewed_feats = skewed_feats.index\n",
    "        \n",
    "    for i in (train, test):\n",
    "        #log transform skewed numeric features:\n",
    "        i[skewed_feats] = np.log1p(i[skewed_feats])\n",
    "\n",
    "    y = np.log1p(y)\n",
    "    return train, test, y"
   ]
  },
  {
   "cell_type": "code",
   "execution_count": 156,
   "metadata": {
    "collapsed": false
   },
   "outputs": [],
   "source": [
    "train, test, y = log(train, test, y)"
   ]
  },
  {
   "cell_type": "code",
   "execution_count": 157,
   "metadata": {
    "collapsed": false,
    "scrolled": true
   },
   "outputs": [
    {
     "name": "stdout",
     "output_type": "stream",
     "text": [
      "0.87125754531 seconds\n"
     ]
    }
   ],
   "source": [
    "train, test = fp.lotfrontage(train, test)\n",
    "train, test = fp.garageyrblt(train, test)\n",
    "train, test = fp.impute(train, test)\n",
    "train, test = fp.dummies(train, test)"
   ]
  },
  {
   "cell_type": "markdown",
   "metadata": {},
   "source": [
    "### use select K best to further narrow down number or columns"
   ]
  },
  {
   "cell_type": "code",
   "execution_count": 132,
   "metadata": {
    "collapsed": false
   },
   "outputs": [],
   "source": [
    "# Create SelectKBest() Object\n",
    "kbest = SelectKBest()\n",
    "lm = linear_model.LinearRegression()\n",
    "\n",
    "# Create the Pipeline() obejct, and then fit it against the data set. \n",
    "pipeline = Pipeline([('kbest', kbest),\n",
    "                     ('lm', lm)])"
   ]
  },
  {
   "cell_type": "code",
   "execution_count": 133,
   "metadata": {
    "collapsed": false
   },
   "outputs": [
    {
     "data": {
      "text/plain": [
       "GridSearchCV(cv=3, error_score='raise',\n",
       "       estimator=Pipeline(steps=[('kbest', SelectKBest(k=10, score_func=<function f_classif at 0x000000000A085E48>)), ('lm', LinearRegression(copy_X=True, fit_intercept=True, n_jobs=1, normalize=False))]),\n",
       "       fit_params={}, iid=True, n_jobs=-1,\n",
       "       param_grid={'kbest__k': [1, 2, 3, 4, 5, 6, 7, 8, 9, 10, 11, 12, 13, 14, 15, 16, 17, 18, 19, 20, 21, 22, 23, 24, 25, 26, 27, 28, 29, 30, 31, 32, 33, 34, 35, 36, 37, 38, 39, 40, 41, 42, 43, 44, 45, 46, 47, 48, 49, 50, 51, 52, 53, 54, 55, 56, 57, 58, 59, 60, 61, 62, 63, 64, 65, 66, 67, 68, 69, 70, 71, ...226, 227, 228, 229, 230, 231, 232, 233, 234, 235, 236, 237, 238, 239, 240, 241, 242, 243, 244, 245]},\n",
       "       pre_dispatch='2*n_jobs', refit=True, return_train_score=True,\n",
       "       scoring=None, verbose=0)"
      ]
     },
     "execution_count": 133,
     "metadata": {},
     "output_type": "execute_result"
    }
   ],
   "source": [
    "# Create a grid_search_dict. Using these with a pipeline can be a little tricky - note that\n",
    "#    you have to specify which pipeline component you want to grid search by using the alias\n",
    "#    you provided when you created the Pipeline object + '__' + [argument name]. \n",
    "grid_search_dict = {'kbest__k': range(1, len(train.columns)+1)}     \n",
    "\n",
    "grid_search = GridSearchCV(pipeline, param_grid=grid_search_dict, cv=3, n_jobs=-1)\n",
    "grid_search.fit(train, y)\n",
    "\n",
    "# Let's see how our SelectKBest/GridSearch classifier performed\n",
    "#print 'SelectKBest/GridSearch - Accuracy: ', grid_search.score(y, grid_search.predict(train))"
   ]
  },
  {
   "cell_type": "code",
   "execution_count": 134,
   "metadata": {
    "collapsed": false
   },
   "outputs": [
    {
     "name": "stdout",
     "output_type": "stream",
     "text": [
      "{'kbest__k': 138}\n",
      "0.882718827784\n"
     ]
    }
   ],
   "source": [
    "print grid_search.best_params_\n",
    "print grid_search.best_score_"
   ]
  },
  {
   "cell_type": "code",
   "execution_count": 135,
   "metadata": {
    "collapsed": false
   },
   "outputs": [
    {
     "data": {
      "text/plain": [
       "Pipeline(steps=[('kbest', SelectKBest(k=138, score_func=<function f_classif at 0x000000000A085E48>)), ('lm', LinearRegression(copy_X=True, fit_intercept=True, n_jobs=1, normalize=False))])"
      ]
     },
     "execution_count": 135,
     "metadata": {},
     "output_type": "execute_result"
    }
   ],
   "source": [
    "grid_search.best_estimator_"
   ]
  },
  {
   "cell_type": "markdown",
   "metadata": {},
   "source": [
    "### inspect results"
   ]
  },
  {
   "cell_type": "code",
   "execution_count": 136,
   "metadata": {
    "collapsed": false
   },
   "outputs": [
    {
     "name": "stdout",
     "output_type": "stream",
     "text": [
      "SelectKBest/GridSearch - Accuracy:  0.923857679057\n"
     ]
    }
   ],
   "source": [
    "grid_search = grid_search.best_estimator_\n",
    "grid_search.fit(train, y)\n",
    "\n",
    "# Let's see how our SelectKBest/GridSearch classifier performed\n",
    "print 'SelectKBest/GridSearch - Accuracy: ', grid_search.score(train, y)"
   ]
  },
  {
   "cell_type": "markdown",
   "metadata": {},
   "source": [
    "### predict test data and create submission file"
   ]
  },
  {
   "cell_type": "code",
   "execution_count": 143,
   "metadata": {
    "collapsed": true
   },
   "outputs": [],
   "source": [
    "predictions = grid_search.predict(test)\n",
    "predictions = np.expm1(predictions)\n",
    "test = pd.read_csv(os.path.join('data', 'test.csv'))\n",
    "predictions = pd.DataFrame(predictions, columns=['SalePrice'])\n",
    "predictions = pd.concat((test.iloc[:, 0], predictions), axis = 1)\n",
    "predictions.to_csv(os.path.join('submission_files', 'lm1.csv'), sep=\",\", index = False)"
   ]
  },
  {
   "cell_type": "markdown",
   "metadata": {},
   "source": [
    "score: 0.13215"
   ]
  },
  {
   "cell_type": "markdown",
   "metadata": {},
   "source": [
    "## Linear Regression 2"
   ]
  },
  {
   "cell_type": "markdown",
   "metadata": {},
   "source": [
    "### load data"
   ]
  },
  {
   "cell_type": "code",
   "execution_count": 80,
   "metadata": {
    "collapsed": false
   },
   "outputs": [],
   "source": [
    "train = pd.read_csv(os.path.join('data', 'train.csv'))\n",
    "test = pd.read_csv(os.path.join('data', 'test.csv'))\n",
    "y = train.iloc[:, -1]\n",
    "train = train.iloc[:, 1:-1]\n",
    "test = test.iloc[:, 1:]\n",
    "submission = test.iloc[:, 0]"
   ]
  },
  {
   "cell_type": "markdown",
   "metadata": {},
   "source": [
    "### transform data"
   ]
  },
  {
   "cell_type": "code",
   "execution_count": 81,
   "metadata": {
    "collapsed": false
   },
   "outputs": [
    {
     "name": "stdout",
     "output_type": "stream",
     "text": [
      "0.712638614368 seconds\n"
     ]
    }
   ],
   "source": [
    "train, test = fp.mssubclass(train, test)\n",
    "train, test = fp.lotfrontage(train, test)\n",
    "train, test = fp.garageyrblt(train, test)\n",
    "train, test = fp.impute(train, test)\n",
    "train, test = fp.dummies(train, test)"
   ]
  },
  {
   "cell_type": "markdown",
   "metadata": {},
   "source": [
    "### use select K best to further narrow down number or columns"
   ]
  },
  {
   "cell_type": "code",
   "execution_count": 82,
   "metadata": {
    "collapsed": false
   },
   "outputs": [],
   "source": [
    "# Create SelectKBest() Object\n",
    "kbest = SelectKBest()\n",
    "lm = linear_model.LinearRegression()\n",
    "\n",
    "# Create the Pipeline() obejct, and then fit it against the data set. \n",
    "pipeline = Pipeline([('kbest', kbest),\n",
    "                     ('lm', lm)])"
   ]
  },
  {
   "cell_type": "code",
   "execution_count": 83,
   "metadata": {
    "collapsed": false
   },
   "outputs": [
    {
     "data": {
      "text/plain": [
       "GridSearchCV(cv=3, error_score='raise',\n",
       "       estimator=Pipeline(steps=[('kbest', SelectKBest(k=10, score_func=<function f_classif at 0x000000000AA61588>)), ('lm', LinearRegression(copy_X=True, fit_intercept=True, n_jobs=1, normalize=False))]),\n",
       "       fit_params={}, iid=True, n_jobs=-1,\n",
       "       param_grid={'kbest__k': [1, 2, 3, 4, 5, 6, 7, 8, 9, 10, 11, 12, 13, 14, 15, 16, 17, 18, 19, 20, 21, 22, 23, 24, 25, 26, 27, 28, 29, 30, 31, 32, 33, 34, 35, 36, 37, 38, 39, 40, 41, 42, 43, 44, 45, 46, 47, 48, 49, 50, 51, 52, 53, 54, 55, 56, 57, 58, 59, 60, 61, 62, 63, 64, 65, 66, 67, 68, 69, 70, 71, ...226, 227, 228, 229, 230, 231, 232, 233, 234, 235, 236, 237, 238, 239, 240, 241, 242, 243, 244, 245]},\n",
       "       pre_dispatch='2*n_jobs', refit=True, return_train_score=True,\n",
       "       scoring=None, verbose=0)"
      ]
     },
     "execution_count": 83,
     "metadata": {},
     "output_type": "execute_result"
    }
   ],
   "source": [
    "# Create a grid_search_dict. Using these with a pipeline can be a little tricky - note that\n",
    "#    you have to specify which pipeline component you want to grid search by using the alias\n",
    "#    you provided when you created the Pipeline object + '__' + [argument name]. \n",
    "grid_search_dict = {'kbest__k': range(1, len(train.columns)+1)}     \n",
    "\n",
    "grid_search = GridSearchCV(pipeline, param_grid=grid_search_dict, cv=3, n_jobs=-1)\n",
    "grid_search.fit(train, y)\n",
    "\n",
    "# Let's see how our SelectKBest/GridSearch classifier performed\n",
    "#print 'SelectKBest/GridSearch - Accuracy: ', grid_search.score(y, grid_search.predict(train))"
   ]
  },
  {
   "cell_type": "code",
   "execution_count": 84,
   "metadata": {
    "collapsed": false
   },
   "outputs": [
    {
     "name": "stdout",
     "output_type": "stream",
     "text": [
      "{'kbest__k': 198}\n",
      "0.819652594611\n"
     ]
    }
   ],
   "source": [
    "print grid_search.best_params_\n",
    "print grid_search.best_score_"
   ]
  },
  {
   "cell_type": "code",
   "execution_count": 85,
   "metadata": {
    "collapsed": false
   },
   "outputs": [
    {
     "data": {
      "text/plain": [
       "Pipeline(steps=[('kbest', SelectKBest(k=198, score_func=<function f_classif at 0x000000000AA61588>)), ('lm', LinearRegression(copy_X=True, fit_intercept=True, n_jobs=1, normalize=False))])"
      ]
     },
     "execution_count": 85,
     "metadata": {},
     "output_type": "execute_result"
    }
   ],
   "source": [
    "grid_search.best_estimator_"
   ]
  },
  {
   "cell_type": "markdown",
   "metadata": {},
   "source": [
    "### inspect results"
   ]
  },
  {
   "cell_type": "code",
   "execution_count": 86,
   "metadata": {
    "collapsed": false
   },
   "outputs": [
    {
     "name": "stdout",
     "output_type": "stream",
     "text": [
      "SelectKBest/GridSearch - Accuracy:  0.909055724318\n"
     ]
    }
   ],
   "source": [
    "grid_search = grid_search.best_estimator_\n",
    "grid_search.fit(train, y)\n",
    "\n",
    "# Let's see how our SelectKBest/GridSearch classifier performed\n",
    "print 'SelectKBest/GridSearch - Accuracy: ', grid_search.score(train, y)"
   ]
  },
  {
   "cell_type": "markdown",
   "metadata": {},
   "source": [
    "### predict test data and create submission file"
   ]
  },
  {
   "cell_type": "code",
   "execution_count": 87,
   "metadata": {
    "collapsed": true
   },
   "outputs": [],
   "source": [
    "predictions = grid_search.predict(test)\n",
    "test = pd.read_csv(os.path.join('data', 'test.csv'))\n",
    "predictions = pd.DataFrame(predictions, columns=['SalePrice'])\n",
    "predictions = pd.concat((test.iloc[:, 0], predictions), axis = 1)\n",
    "predictions.to_csv(os.path.join('submission_files', 'lm2.csv'), sep=\",\", index = False)"
   ]
  },
  {
   "cell_type": "markdown",
   "metadata": {},
   "source": [
    "score: ERROR - one of the predictions was negative"
   ]
  },
  {
   "cell_type": "markdown",
   "metadata": {},
   "source": [
    "## Lasso 2\n",
    "\n",
    "Taking the log of the skewed numeric values"
   ]
  },
  {
   "cell_type": "markdown",
   "metadata": {},
   "source": [
    "### load data"
   ]
  },
  {
   "cell_type": "code",
   "execution_count": 87,
   "metadata": {
    "collapsed": false
   },
   "outputs": [],
   "source": [
    "train = pd.read_csv(os.path.join('data', 'train.csv'))\n",
    "test = pd.read_csv(os.path.join('data', 'test.csv'))\n",
    "y = train.iloc[:, -1]\n",
    "train = train.iloc[:, 1:-1]\n",
    "test = test.iloc[:, 1:]\n",
    "submission = test.iloc[:, 0]"
   ]
  },
  {
   "cell_type": "markdown",
   "metadata": {},
   "source": [
    "### transform data"
   ]
  },
  {
   "cell_type": "code",
   "execution_count": 88,
   "metadata": {
    "collapsed": false
   },
   "outputs": [],
   "source": [
    "train, test = fp.mssubclass(train, test)"
   ]
  },
  {
   "cell_type": "code",
   "execution_count": 89,
   "metadata": {
    "collapsed": false
   },
   "outputs": [],
   "source": [
    "def log(train, test, y):\n",
    "    numeric_feats = train.dtypes[train.dtypes != \"object\"].index\n",
    "    skewed_feats = train[numeric_feats].apply(lambda x: skew(x.dropna())) #compute skewness\n",
    "    skewed_feats = skewed_feats[skewed_feats > 0.75]\n",
    "    skewed_feats = skewed_feats.index\n",
    "        \n",
    "    for i in (train, test):\n",
    "        #log transform skewed numeric features:\n",
    "        i[skewed_feats] = np.log1p(i[skewed_feats])\n",
    "\n",
    "    y = np.log1p(y)\n",
    "    return train, test, y"
   ]
  },
  {
   "cell_type": "code",
   "execution_count": 90,
   "metadata": {
    "collapsed": false
   },
   "outputs": [],
   "source": [
    "train, test, y = log(train, test, y)"
   ]
  },
  {
   "cell_type": "code",
   "execution_count": 91,
   "metadata": {
    "collapsed": false,
    "scrolled": true
   },
   "outputs": [
    {
     "name": "stdout",
     "output_type": "stream",
     "text": [
      "0.749755348676 seconds\n"
     ]
    }
   ],
   "source": [
    "train, test = fp.lotfrontage(train, test)\n",
    "train, test = fp.garageyrblt(train, test)\n",
    "train, test = fp.impute(train, test)\n",
    "train, test = fp.dummies(train, test)"
   ]
  },
  {
   "cell_type": "markdown",
   "metadata": {},
   "source": [
    "### find optimal value of the Lasso alpha parameter"
   ]
  },
  {
   "cell_type": "code",
   "execution_count": 69,
   "metadata": {
    "collapsed": true
   },
   "outputs": [],
   "source": [
    "from sklearn.linear_model import Ridge, RidgeCV, ElasticNet, LassoCV, LassoLarsCV\n",
    "from sklearn.model_selection import cross_val_score\n",
    "\n",
    "def rmse_cv(model):\n",
    "    rmse= np.sqrt(-cross_val_score(model, train, y, scoring=\"neg_mean_squared_error\", cv = 5))\n",
    "    return(rmse)"
   ]
  },
  {
   "cell_type": "code",
   "execution_count": 71,
   "metadata": {
    "collapsed": false
   },
   "outputs": [],
   "source": [
    "alphas = [1e-15, 1e-10, 1e-8, 1e-4, 1e-3,1e-2, 1, 5, 10, 20]\n",
    "cv_lasso = [rmse_cv(Lasso(alpha = alpha)).mean() \n",
    "            for alpha in alphas]"
   ]
  },
  {
   "cell_type": "code",
   "execution_count": 73,
   "metadata": {
    "collapsed": false
   },
   "outputs": [
    {
     "data": {
      "text/plain": [
       "<matplotlib.text.Text at 0xbd0bcc0>"
      ]
     },
     "execution_count": 73,
     "metadata": {},
     "output_type": "execute_result"
    },
    {
     "data": {
      "image/png": "[encoded data removed]",
      "text/plain": [
       "<matplotlib.figure.Figure at 0xa691358>"
      ]
     },
     "metadata": {},
     "output_type": "display_data"
    }
   ],
   "source": [
    "cv_lasso = pd.Series(cv_lasso, index = alphas)\n",
    "cv_lasso.plot(title = \"Validation - Just Do It\", logx=True)\n",
    "plt.xlabel(\"alpha\")\n",
    "plt.ylabel(\"rmse\")"
   ]
  },
  {
   "cell_type": "code",
   "execution_count": 102,
   "metadata": {
    "collapsed": false
   },
   "outputs": [
    {
     "name": "stdout",
     "output_type": "stream",
     "text": [
      "Lasso(alpha=0.0001, copy_X=True, fit_intercept=True, max_iter=1000,\n",
      "   normalize=True, positive=False, precompute=False, random_state=None,\n",
      "   selection='cyclic', tol=0.0001, warm_start=False)\n",
      "-0.0115547775381\n"
     ]
    }
   ],
   "source": [
    "from sklearn.grid_search import GridSearchCV\n",
    "from sklearn.linear_model import Lasso\n",
    "\n",
    "alpha_ridge = [1e-15, 1e-10, 1e-8, 1e-4, 1e-3,1e-2, 1, 5, 10, 20]\n",
    "\n",
    "coeffs = {}\n",
    "for alpha in alpha_ridge:\n",
    "    r = Lasso(alpha=alpha, normalize=True, max_iter=1000000)\n",
    "    r = r.fit(train, y)\n",
    "    \n",
    "grid_search = GridSearchCV(Lasso(alpha=alpha, normalize=True), scoring='neg_mean_squared_error',\n",
    "                           param_grid={'alpha': alpha_ridge}, cv=10, n_jobs=-1)\n",
    "grid_search.fit(train, y)\n",
    "\n",
    "print grid_search.best_estimator_\n",
    "print grid_search.score(train, y)"
   ]
  },
  {
   "cell_type": "markdown",
   "metadata": {},
   "source": [
    "### inspect results"
   ]
  },
  {
   "cell_type": "markdown",
   "metadata": {},
   "source": [
    "#### how do different values of alpha compare to the rmse?"
   ]
  },
  {
   "cell_type": "code",
   "execution_count": 107,
   "metadata": {
    "collapsed": false
   },
   "outputs": [],
   "source": [
    "alpha = []\n",
    "rmse = []\n",
    "for i in range(0, len(grid_search.grid_scores_)):\n",
    "    alpha.append(grid_search.grid_scores_[i][0]['alpha'])\n",
    "    rmse.append(np.sqrt(-grid_search.grid_scores_[i][1]))"
   ]
  },
  {
   "cell_type": "code",
   "execution_count": 112,
   "metadata": {
    "collapsed": false
   },
   "outputs": [
    {
     "data": {
      "text/plain": [
       "<matplotlib.text.Text at 0xd8a5160>"
      ]
     },
     "execution_count": 112,
     "metadata": {},
     "output_type": "execute_result"
    },
    {
     "data": {
      "image/png": "[encoded data removed]",
      "text/plain": [
       "<matplotlib.figure.Figure at 0xbe982e8>"
      ]
     },
     "metadata": {},
     "output_type": "display_data"
    }
   ],
   "source": [
    "lasso_cv = pd.Series(rmse, index = alpha)\n",
    "lasso_cv.plot(title = \"Validation - LASSO\", logx=True)\n",
    "plt.xlabel(\"alpha\")\n",
    "plt.ylabel(\"rmse\")"
   ]
  },
  {
   "cell_type": "markdown",
   "metadata": {},
   "source": [
    "### fit lasso model with optimal alpha"
   ]
  },
  {
   "cell_type": "code",
   "execution_count": 57,
   "metadata": {
    "collapsed": true
   },
   "outputs": [],
   "source": [
    "lasso = Lasso(alpha=.0001, normalize=True, max_iter=1e6)\n",
    "lasso = lasso.fit(train, y)"
   ]
  },
  {
   "cell_type": "markdown",
   "metadata": {},
   "source": [
    "### inspect variable importance"
   ]
  },
  {
   "cell_type": "code",
   "execution_count": 58,
   "metadata": {
    "collapsed": true
   },
   "outputs": [],
   "source": [
    "coef = pd.Series(lasso.coef_, index = train.columns)"
   ]
  },
  {
   "cell_type": "code",
   "execution_count": 59,
   "metadata": {
    "collapsed": false
   },
   "outputs": [
    {
     "name": "stdout",
     "output_type": "stream",
     "text": [
      "Lasso picked 106 variables and eliminated the other 139 variables\n"
     ]
    }
   ],
   "source": [
    "print(\"Lasso picked \" + str(sum(coef != 0)) + \" variables and eliminated the other \" +  str(sum(coef == 0)) + \" variables\")"
   ]
  },
  {
   "cell_type": "code",
   "execution_count": 60,
   "metadata": {
    "collapsed": true
   },
   "outputs": [],
   "source": [
    "imp_coef = pd.concat([coef.sort_values().head(10),\n",
    "                     coef.sort_values().tail(10)])"
   ]
  },
  {
   "cell_type": "code",
   "execution_count": 61,
   "metadata": {
    "collapsed": false
   },
   "outputs": [
    {
     "data": {
      "text/plain": [
       "<matplotlib.text.Text at 0xde0c208>"
      ]
     },
     "execution_count": 61,
     "metadata": {},
     "output_type": "execute_result"
    },
    {
     "data": {
      "image/png": "[encoded data removed]",
      "text/plain": [
       "<matplotlib.figure.Figure at 0xc03def0>"
      ]
     },
     "metadata": {},
     "output_type": "display_data"
    }
   ],
   "source": [
    "plt.rcParams['figure.figsize'] = (8.0, 10.0)\n",
    "imp_coef.plot(kind = \"barh\")\n",
    "plt.title(\"Coefficients in the Lasso Model\")"
   ]
  },
  {
   "cell_type": "markdown",
   "metadata": {},
   "source": [
    "### predict test data and create submission file"
   ]
  },
  {
   "cell_type": "code",
   "execution_count": 62,
   "metadata": {
    "collapsed": false
   },
   "outputs": [
    {
     "data": {
      "text/plain": [
       "array([ 11.70187494,  11.94682302,  12.10463334, ...,  12.0055574 ,\n",
       "        11.70064338,  12.31396738])"
      ]
     },
     "execution_count": 62,
     "metadata": {},
     "output_type": "execute_result"
    }
   ],
   "source": [
    "lasso.predict(test)"
   ]
  },
  {
   "cell_type": "code",
   "execution_count": 63,
   "metadata": {
    "collapsed": false
   },
   "outputs": [],
   "source": [
    "predictions = lasso.predict(test)\n",
    "predictions = np.expm1(predictions)\n",
    "test = pd.read_csv(os.path.join('data', 'test.csv'))\n",
    "predictions = pd.DataFrame(predictions, columns=['SalePrice'])\n",
    "predictions = pd.concat((test.iloc[:, 0], predictions), axis = 1)\n",
    "predictions.to_csv(os.path.join('submission_files', 'lasso2.csv'), sep=\",\", index = False)"
   ]
  },
  {
   "cell_type": "markdown",
   "metadata": {},
   "source": [
    "score: .12328"
   ]
  },
  {
   "cell_type": "markdown",
   "metadata": {},
   "source": [
    "## Lasso 3\n",
    "\n",
    "Taking the log of ALL numeric values"
   ]
  },
  {
   "cell_type": "markdown",
   "metadata": {},
   "source": [
    "### load data"
   ]
  },
  {
   "cell_type": "code",
   "execution_count": 118,
   "metadata": {
    "collapsed": false
   },
   "outputs": [],
   "source": [
    "train = pd.read_csv(os.path.join('data', 'train.csv'))\n",
    "test = pd.read_csv(os.path.join('data', 'test.csv'))\n",
    "y = train.iloc[:, -1]\n",
    "train = train.iloc[:, 1:-1]\n",
    "test = test.iloc[:, 1:]\n",
    "submission = test.iloc[:, 0]"
   ]
  },
  {
   "cell_type": "markdown",
   "metadata": {},
   "source": [
    "### transform data"
   ]
  },
  {
   "cell_type": "code",
   "execution_count": 119,
   "metadata": {
    "collapsed": false
   },
   "outputs": [],
   "source": [
    "train, test = fp.mssubclass(train, test)"
   ]
  },
  {
   "cell_type": "code",
   "execution_count": 120,
   "metadata": {
    "collapsed": false
   },
   "outputs": [],
   "source": [
    "def log(train, test, y):\n",
    "    numeric_feats = train.dtypes[train.dtypes != \"object\"].index\n",
    "        \n",
    "    for i in (train, test):\n",
    "        #log transform skewed numeric features:\n",
    "        i[numeric_feats] = np.log1p(i[numeric_feats])\n",
    "\n",
    "    y = np.log1p(y)\n",
    "    return train, test, y"
   ]
  },
  {
   "cell_type": "code",
   "execution_count": 121,
   "metadata": {
    "collapsed": false
   },
   "outputs": [],
   "source": [
    "train, test, y = log(train, test, y)"
   ]
  },
  {
   "cell_type": "code",
   "execution_count": 122,
   "metadata": {
    "collapsed": false
   },
   "outputs": [
    {
     "name": "stdout",
     "output_type": "stream",
     "text": [
      "0.8571121788 seconds\n"
     ]
    }
   ],
   "source": [
    "train, test = fp.lotfrontage(train, test)\n",
    "train, test = fp.garageyrblt(train, test)\n",
    "train, test = fp.impute(train, test)\n",
    "#train, test = fp.scale(train, test)\n",
    "train, test = fp.dummies(train, test)"
   ]
  },
  {
   "cell_type": "markdown",
   "metadata": {},
   "source": [
    "### find optimal value of the Lasso alpha parameter"
   ]
  },
  {
   "cell_type": "code",
   "execution_count": 123,
   "metadata": {
    "collapsed": false
   },
   "outputs": [
    {
     "name": "stdout",
     "output_type": "stream",
     "text": [
      "Lasso(alpha=0.0001, copy_X=True, fit_intercept=True, max_iter=1000,\n",
      "   normalize=True, positive=False, precompute=False, random_state=None,\n",
      "   selection='cyclic', tol=0.0001, warm_start=False)\n",
      "-0.0117627033334\n"
     ]
    }
   ],
   "source": [
    "from sklearn.model_selection import GridSearchCV\n",
    "from sklearn.linear_model import Lasso\n",
    "\n",
    "alpha_ridge = [1e-15, 1e-10, 1e-8, 1e-4, 1e-3,1e-2, 1, 5, 10, 20]\n",
    "\n",
    "coeffs = {}\n",
    "for alpha in alpha_ridge:\n",
    "    r = Lasso(alpha=alpha, normalize=True, max_iter=1000000)\n",
    "    r = r.fit(train, y)\n",
    "    \n",
    "grid_search = GridSearchCV(Lasso(alpha=alpha, normalize=True), scoring='neg_mean_squared_error',\n",
    "                           param_grid={'alpha': alpha_ridge}, cv=10, n_jobs=-1)\n",
    "grid_search.fit(train, y)\n",
    "\n",
    "print grid_search.best_estimator_\n",
    "print grid_search.score(train, y)"
   ]
  },
  {
   "cell_type": "markdown",
   "metadata": {},
   "source": [
    "### inspect results"
   ]
  },
  {
   "cell_type": "markdown",
   "metadata": {},
   "source": [
    "#### how do different values of alpha compare to the rmse?"
   ]
  },
  {
   "cell_type": "code",
   "execution_count": 129,
   "metadata": {
    "collapsed": false
   },
   "outputs": [],
   "source": [
    "alpha = alpha_ridge\n",
    "rmse = list(np.sqrt(-grid_search.cv_results_['mean_test_score']))"
   ]
  },
  {
   "cell_type": "code",
   "execution_count": 130,
   "metadata": {
    "collapsed": false
   },
   "outputs": [
    {
     "data": {
      "text/plain": [
       "<matplotlib.text.Text at 0x11de52b0>"
      ]
     },
     "execution_count": 130,
     "metadata": {},
     "output_type": "execute_result"
    },
    {
     "data": {
      "image/png": "[encoded data removed]",
      "text/plain": [
       "<matplotlib.figure.Figure at 0x11ddc0b8>"
      ]
     },
     "metadata": {},
     "output_type": "display_data"
    }
   ],
   "source": [
    "plt.figure(figsize=(6,5))\n",
    "lasso_cv = pd.Series(rmse, index = alpha)\n",
    "lasso_cv.plot(title = \"Validation - LASSO\", logx=True)\n",
    "plt.xlabel(\"alpha\")\n",
    "plt.ylabel(\"rmse\")"
   ]
  },
  {
   "cell_type": "markdown",
   "metadata": {},
   "source": [
    "### fit lasso model with optimal alpha"
   ]
  },
  {
   "cell_type": "code",
   "execution_count": 131,
   "metadata": {
    "collapsed": true
   },
   "outputs": [],
   "source": [
    "lasso = Lasso(alpha=.0001, normalize=True, max_iter=1e6)\n",
    "lasso = lasso.fit(train, y)"
   ]
  },
  {
   "cell_type": "markdown",
   "metadata": {},
   "source": [
    "### inspect variable importance"
   ]
  },
  {
   "cell_type": "code",
   "execution_count": 132,
   "metadata": {
    "collapsed": true
   },
   "outputs": [],
   "source": [
    "coef = pd.Series(lasso.coef_, index = train.columns)"
   ]
  },
  {
   "cell_type": "code",
   "execution_count": 133,
   "metadata": {
    "collapsed": false
   },
   "outputs": [
    {
     "name": "stdout",
     "output_type": "stream",
     "text": [
      "Lasso picked 103 variables and eliminated the other 142 variables\n"
     ]
    }
   ],
   "source": [
    "print(\"Lasso picked \" + str(sum(coef != 0)) + \" variables and eliminated the other \" +  str(sum(coef == 0)) + \" variables\")"
   ]
  },
  {
   "cell_type": "code",
   "execution_count": 134,
   "metadata": {
    "collapsed": true
   },
   "outputs": [],
   "source": [
    "imp_coef = pd.concat([coef.sort_values().head(10),\n",
    "                     coef.sort_values().tail(10)])"
   ]
  },
  {
   "cell_type": "code",
   "execution_count": 138,
   "metadata": {
    "collapsed": false
   },
   "outputs": [
    {
     "data": {
      "text/plain": [
       "<matplotlib.text.Text at 0x12c14c50>"
      ]
     },
     "execution_count": 138,
     "metadata": {},
     "output_type": "execute_result"
    },
    {
     "data": {
      "image/png": "[encoded data removed]",
      "text/plain": [
       "<matplotlib.figure.Figure at 0x11e73240>"
      ]
     },
     "metadata": {},
     "output_type": "display_data"
    }
   ],
   "source": [
    "plt.rcParams['figure.figsize'] = (5.0, 5.0)\n",
    "imp_coef.plot(kind = \"barh\")\n",
    "plt.title(\"Coefficients in the Lasso Model\")"
   ]
  },
  {
   "cell_type": "markdown",
   "metadata": {},
   "source": [
    "### predict test data and create submission file"
   ]
  },
  {
   "cell_type": "code",
   "execution_count": 136,
   "metadata": {
    "collapsed": false
   },
   "outputs": [
    {
     "data": {
      "text/plain": [
       "array([ 11.6892799 ,  11.95112217,  12.11326047, ...,  12.01074657,\n",
       "        11.68627529,  12.29008701])"
      ]
     },
     "execution_count": 136,
     "metadata": {},
     "output_type": "execute_result"
    }
   ],
   "source": [
    "lasso.predict(test)"
   ]
  },
  {
   "cell_type": "code",
   "execution_count": 137,
   "metadata": {
    "collapsed": false
   },
   "outputs": [],
   "source": [
    "predictions = lasso.predict(test)\n",
    "predictions = np.expm1(predictions)\n",
    "test = pd.read_csv(os.path.join('data', 'test.csv'))\n",
    "predictions = pd.DataFrame(predictions, columns=['SalePrice'])\n",
    "predictions = pd.concat((test.iloc[:, 0], predictions), axis = 1)\n",
    "predictions.to_csv(os.path.join('submission_files', 'lasso3.csv'), sep=\",\", index = False)"
   ]
  },
  {
   "cell_type": "markdown",
   "metadata": {},
   "source": [
    "score: .12093"
   ]
  },
  {
   "cell_type": "markdown",
   "metadata": {},
   "source": [
    "## Lasso 4\n",
    "\n",
    "Taking the log of ALL numeric values and scaling the features (and turning Normalize=False)\n",
    "...turns out this is not as good as doing Normalize=True"
   ]
  },
  {
   "cell_type": "markdown",
   "metadata": {},
   "source": [
    "### load data"
   ]
  },
  {
   "cell_type": "code",
   "execution_count": 157,
   "metadata": {
    "collapsed": false
   },
   "outputs": [],
   "source": [
    "train = pd.read_csv(os.path.join('data', 'train.csv'))\n",
    "test = pd.read_csv(os.path.join('data', 'test.csv'))\n",
    "y = train.iloc[:, -1]\n",
    "train = train.iloc[:, 1:-1]\n",
    "test = test.iloc[:, 1:]\n",
    "submission = test.iloc[:, 0]"
   ]
  },
  {
   "cell_type": "markdown",
   "metadata": {},
   "source": [
    "### transform data"
   ]
  },
  {
   "cell_type": "code",
   "execution_count": 158,
   "metadata": {
    "collapsed": false
   },
   "outputs": [],
   "source": [
    "train, test = fp.mssubclass(train, test)"
   ]
  },
  {
   "cell_type": "code",
   "execution_count": 159,
   "metadata": {
    "collapsed": false
   },
   "outputs": [],
   "source": [
    "def log(train, test, y):\n",
    "    numeric_feats = train.dtypes[train.dtypes != \"object\"].index\n",
    "        \n",
    "    for i in (train, test):\n",
    "        #log transform skewed numeric features:\n",
    "        i[numeric_feats] = np.log1p(i[numeric_feats])\n",
    "\n",
    "    y = np.log1p(y)\n",
    "    return train, test, y"
   ]
  },
  {
   "cell_type": "code",
   "execution_count": 160,
   "metadata": {
    "collapsed": false
   },
   "outputs": [],
   "source": [
    "train, test, y = log(train, test, y)"
   ]
  },
  {
   "cell_type": "code",
   "execution_count": 161,
   "metadata": {
    "collapsed": false
   },
   "outputs": [
    {
     "name": "stdout",
     "output_type": "stream",
     "text": [
      "0.712770068811 seconds\n"
     ]
    }
   ],
   "source": [
    "train, test = fp.lotfrontage(train, test)\n",
    "train, test = fp.garageyrblt(train, test)\n",
    "train, test = fp.impute(train, test)\n",
    "train, test = fp.scale(train, test, cols=train.dtypes[train.dtypes != \"object\"].index)\n",
    "train, test = fp.dummies(train, test)"
   ]
  },
  {
   "cell_type": "markdown",
   "metadata": {},
   "source": [
    "### find optimal value of the Lasso alpha parameter"
   ]
  },
  {
   "cell_type": "code",
   "execution_count": 162,
   "metadata": {
    "collapsed": false
   },
   "outputs": [
    {
     "name": "stdout",
     "output_type": "stream",
     "text": [
      "Lasso(alpha=0.0001, copy_X=True, fit_intercept=True, max_iter=1000,\n",
      "   normalize=True, positive=False, precompute=False, random_state=None,\n",
      "   selection='cyclic', tol=0.0001, warm_start=False)\n",
      "-0.0117627033334\n"
     ]
    }
   ],
   "source": [
    "from sklearn.model_selection import GridSearchCV\n",
    "from sklearn.linear_model import Lasso\n",
    "\n",
    "alpha_ridge = [1e-15, 1e-10, 1e-8, 1e-4, 1e-3,1e-2, 1, 5, 10, 20]\n",
    "\n",
    "coeffs = {}\n",
    "for alpha in alpha_ridge:\n",
    "    r = Lasso(alpha=alpha, max_iter=1000000)\n",
    "    r = r.fit(train, y)\n",
    "    \n",
    "grid_search = GridSearchCV(Lasso(alpha=alpha, normalize=True), scoring='neg_mean_squared_error',\n",
    "                           param_grid={'alpha': alpha_ridge}, cv=10, n_jobs=-1)\n",
    "grid_search.fit(train, y)\n",
    "\n",
    "print grid_search.best_estimator_\n",
    "print grid_search.score(train, y)"
   ]
  },
  {
   "cell_type": "markdown",
   "metadata": {},
   "source": [
    "### inspect results"
   ]
  },
  {
   "cell_type": "markdown",
   "metadata": {},
   "source": [
    "#### how do different values of alpha compare to the rmse?"
   ]
  },
  {
   "cell_type": "code",
   "execution_count": 163,
   "metadata": {
    "collapsed": false
   },
   "outputs": [],
   "source": [
    "alpha = alpha_ridge\n",
    "rmse = list(np.sqrt(-grid_search.cv_results_['mean_test_score']))"
   ]
  },
  {
   "cell_type": "code",
   "execution_count": 164,
   "metadata": {
    "collapsed": false
   },
   "outputs": [
    {
     "data": {
      "text/plain": [
       "<matplotlib.text.Text at 0x13edc898>"
      ]
     },
     "execution_count": 164,
     "metadata": {},
     "output_type": "execute_result"
    },
    {
     "data": {
      "image/png": "[encoded data removed]",
      "text/plain": [
       "<matplotlib.figure.Figure at 0x13104860>"
      ]
     },
     "metadata": {},
     "output_type": "display_data"
    }
   ],
   "source": [
    "plt.figure(figsize=(6,5))\n",
    "lasso_cv = pd.Series(rmse, index = alpha)\n",
    "lasso_cv.plot(title = \"Validation - LASSO\", logx=True)\n",
    "plt.xlabel(\"alpha\")\n",
    "plt.ylabel(\"rmse\")"
   ]
  },
  {
   "cell_type": "markdown",
   "metadata": {},
   "source": [
    "### fit lasso model with optimal alpha"
   ]
  },
  {
   "cell_type": "code",
   "execution_count": 165,
   "metadata": {
    "collapsed": true
   },
   "outputs": [],
   "source": [
    "lasso = Lasso(alpha=.0001, max_iter=1e6)\n",
    "lasso = lasso.fit(train, y)"
   ]
  },
  {
   "cell_type": "markdown",
   "metadata": {},
   "source": [
    "### inspect variable importance"
   ]
  },
  {
   "cell_type": "code",
   "execution_count": 166,
   "metadata": {
    "collapsed": true
   },
   "outputs": [],
   "source": [
    "coef = pd.Series(lasso.coef_, index = train.columns)"
   ]
  },
  {
   "cell_type": "code",
   "execution_count": 167,
   "metadata": {
    "collapsed": false
   },
   "outputs": [
    {
     "name": "stdout",
     "output_type": "stream",
     "text": [
      "Lasso picked 195 variables and eliminated the other 50 variables\n"
     ]
    }
   ],
   "source": [
    "print(\"Lasso picked \" + str(sum(coef != 0)) + \" variables and eliminated the other \" +  str(sum(coef == 0)) + \" variables\")"
   ]
  },
  {
   "cell_type": "code",
   "execution_count": 168,
   "metadata": {
    "collapsed": true
   },
   "outputs": [],
   "source": [
    "imp_coef = pd.concat([coef.sort_values().head(10),\n",
    "                     coef.sort_values().tail(10)])"
   ]
  },
  {
   "cell_type": "code",
   "execution_count": 169,
   "metadata": {
    "collapsed": false
   },
   "outputs": [
    {
     "data": {
      "text/plain": [
       "<matplotlib.text.Text at 0x140750b8>"
      ]
     },
     "execution_count": 169,
     "metadata": {},
     "output_type": "execute_result"
    },
    {
     "data": {
      "image/png": "[encoded data removed]",
      "text/plain": [
       "<matplotlib.figure.Figure at 0x13bc02e8>"
      ]
     },
     "metadata": {},
     "output_type": "display_data"
    }
   ],
   "source": [
    "plt.rcParams['figure.figsize'] = (5.0, 5.0)\n",
    "imp_coef.plot(kind = \"barh\")\n",
    "plt.title(\"Coefficients in the Lasso Model\")"
   ]
  },
  {
   "cell_type": "markdown",
   "metadata": {},
   "source": [
    "### predict test data and create submission file"
   ]
  },
  {
   "cell_type": "code",
   "execution_count": 170,
   "metadata": {
    "collapsed": false
   },
   "outputs": [
    {
     "data": {
      "text/plain": [
       "array([ 11.66292319,  11.9331901 ,  12.11437636, ...,  12.06081414,\n",
       "        11.66438849,  12.27706938])"
      ]
     },
     "execution_count": 170,
     "metadata": {},
     "output_type": "execute_result"
    }
   ],
   "source": [
    "lasso.predict(test)"
   ]
  },
  {
   "cell_type": "code",
   "execution_count": 171,
   "metadata": {
    "collapsed": false
   },
   "outputs": [],
   "source": [
    "predictions = lasso.predict(test)\n",
    "predictions = np.expm1(predictions)\n",
    "test = pd.read_csv(os.path.join('data', 'test.csv'))\n",
    "predictions = pd.DataFrame(predictions, columns=['SalePrice'])\n",
    "predictions = pd.concat((test.iloc[:, 0], predictions), axis = 1)\n",
    "predictions.to_csv(os.path.join('submission_files', 'lasso4.csv'), sep=\",\", index = False)"
   ]
  },
  {
   "cell_type": "markdown",
   "metadata": {},
   "source": [
    "score: .12260"
   ]
  },
  {
   "cell_type": "markdown",
   "metadata": {},
   "source": [
    "## Lasso 5\n",
    "\n",
    "Taking the log of ALL numeric values and converting ordinal categorical vars to numeric"
   ]
  },
  {
   "cell_type": "markdown",
   "metadata": {},
   "source": [
    "### load data"
   ]
  },
  {
   "cell_type": "code",
   "execution_count": 2,
   "metadata": {
    "collapsed": false
   },
   "outputs": [],
   "source": [
    "train = pd.read_csv(os.path.join('data', 'train.csv'))\n",
    "test = pd.read_csv(os.path.join('data', 'test.csv'))\n",
    "y = train.iloc[:, -1]\n",
    "train = train.iloc[:, 1:-1]\n",
    "test = test.iloc[:, 1:]\n",
    "submission = test.iloc[:, 0]"
   ]
  },
  {
   "cell_type": "markdown",
   "metadata": {},
   "source": [
    "### transform data"
   ]
  },
  {
   "cell_type": "code",
   "execution_count": 3,
   "metadata": {
    "collapsed": false
   },
   "outputs": [],
   "source": [
    "train, test = fp.mssubclass(train, test)"
   ]
  },
  {
   "cell_type": "code",
   "execution_count": 4,
   "metadata": {
    "collapsed": true
   },
   "outputs": [],
   "source": [
    "train, test = fp.ordinal(train, test)"
   ]
  },
  {
   "cell_type": "code",
   "execution_count": 5,
   "metadata": {
    "collapsed": false
   },
   "outputs": [],
   "source": [
    "def log(train, test, y):\n",
    "    numeric_feats = train.dtypes[train.dtypes != \"object\"].index\n",
    "        \n",
    "    for i in (train, test):\n",
    "        #log transform skewed numeric features:\n",
    "        i[numeric_feats] = np.log1p(i[numeric_feats])\n",
    "\n",
    "    y = np.log1p(y)\n",
    "    return train, test, y"
   ]
  },
  {
   "cell_type": "code",
   "execution_count": 6,
   "metadata": {
    "collapsed": false
   },
   "outputs": [],
   "source": [
    "train, test, y = log(train, test, y)"
   ]
  },
  {
   "cell_type": "code",
   "execution_count": 7,
   "metadata": {
    "collapsed": false
   },
   "outputs": [
    {
     "name": "stdout",
     "output_type": "stream",
     "text": [
      "0.468862863804 seconds\n"
     ]
    }
   ],
   "source": [
    "train, test = fp.lotfrontage(train, test)\n",
    "train, test = fp.garageyrblt(train, test)\n",
    "train, test = fp.impute(train, test)\n",
    "train, test = fp.dummies(train, test)"
   ]
  },
  {
   "cell_type": "markdown",
   "metadata": {},
   "source": [
    "### find optimal value of the Lasso alpha parameter"
   ]
  },
  {
   "cell_type": "code",
   "execution_count": 9,
   "metadata": {
    "collapsed": false
   },
   "outputs": [
    {
     "name": "stderr",
     "output_type": "stream",
     "text": [
      "C:\\Users\\User\\Anaconda2\\lib\\site-packages\\sklearn\\linear_model\\coordinate_descent.py:484: ConvergenceWarning: Objective did not converge. You might want to increase the number of iterations. Fitting data with very small alpha may cause precision problems.\n",
      "  ConvergenceWarning)\n"
     ]
    },
    {
     "name": "stdout",
     "output_type": "stream",
     "text": [
      "Lasso(alpha=0.0001, copy_X=True, fit_intercept=True, max_iter=1000,\n",
      "   normalize=True, positive=False, precompute=False, random_state=None,\n",
      "   selection='cyclic', tol=0.0001, warm_start=False)\n",
      "-0.0124766457865\n"
     ]
    }
   ],
   "source": [
    "from sklearn.model_selection import GridSearchCV\n",
    "from sklearn.linear_model import Lasso\n",
    "\n",
    "alpha_ridge = [1e-15, 1e-10, 1e-8, 1e-4, 1e-3,1e-2, 1, 5, 10, 20]\n",
    "\n",
    "coeffs = {}\n",
    "for alpha in alpha_ridge:\n",
    "    r = Lasso(alpha=alpha, normalize=True, max_iter=1000000)\n",
    "    r = r.fit(train, y)\n",
    "    \n",
    "grid_search = GridSearchCV(Lasso(alpha=alpha, normalize=True), scoring='neg_mean_squared_error',\n",
    "                           param_grid={'alpha': alpha_ridge}, cv=10, n_jobs=-1)\n",
    "grid_search.fit(train, y)\n",
    "\n",
    "print grid_search.best_estimator_\n",
    "print grid_search.score(train, y)"
   ]
  },
  {
   "cell_type": "markdown",
   "metadata": {},
   "source": [
    "### inspect results"
   ]
  },
  {
   "cell_type": "markdown",
   "metadata": {},
   "source": [
    "#### how do different values of alpha compare to the rmse?"
   ]
  },
  {
   "cell_type": "code",
   "execution_count": 10,
   "metadata": {
    "collapsed": false
   },
   "outputs": [],
   "source": [
    "alpha = alpha_ridge\n",
    "rmse = list(np.sqrt(-grid_search.cv_results_['mean_test_score']))"
   ]
  },
  {
   "cell_type": "code",
   "execution_count": 11,
   "metadata": {
    "collapsed": false
   },
   "outputs": [
    {
     "data": {
      "text/plain": [
       "<matplotlib.text.Text at 0xb436518>"
      ]
     },
     "execution_count": 11,
     "metadata": {},
     "output_type": "execute_result"
    },
    {
     "data": {
      "image/png": "[encoded data removed]",
      "text/plain": [
       "<matplotlib.figure.Figure at 0xb25ee80>"
      ]
     },
     "metadata": {},
     "output_type": "display_data"
    }
   ],
   "source": [
    "plt.figure(figsize=(6,5))\n",
    "lasso_cv = pd.Series(rmse, index = alpha)\n",
    "lasso_cv.plot(title = \"Validation - LASSO\", logx=True)\n",
    "plt.xlabel(\"alpha\")\n",
    "plt.ylabel(\"rmse\")"
   ]
  },
  {
   "cell_type": "markdown",
   "metadata": {},
   "source": [
    "### fit lasso model with optimal alpha"
   ]
  },
  {
   "cell_type": "code",
   "execution_count": 12,
   "metadata": {
    "collapsed": true
   },
   "outputs": [],
   "source": [
    "lasso = Lasso(alpha=.0001, normalize=True, max_iter=1e6)\n",
    "lasso = lasso.fit(train, y)"
   ]
  },
  {
   "cell_type": "markdown",
   "metadata": {},
   "source": [
    "### inspect variable importance"
   ]
  },
  {
   "cell_type": "code",
   "execution_count": 13,
   "metadata": {
    "collapsed": true
   },
   "outputs": [],
   "source": [
    "coef = pd.Series(lasso.coef_, index = train.columns)"
   ]
  },
  {
   "cell_type": "code",
   "execution_count": 14,
   "metadata": {
    "collapsed": false
   },
   "outputs": [
    {
     "name": "stdout",
     "output_type": "stream",
     "text": [
      "Lasso picked 87 variables and eliminated the other 125 variables\n"
     ]
    }
   ],
   "source": [
    "print(\"Lasso picked \" + str(sum(coef != 0)) + \" variables and eliminated the other \" +  str(sum(coef == 0)) + \" variables\")"
   ]
  },
  {
   "cell_type": "code",
   "execution_count": 15,
   "metadata": {
    "collapsed": true
   },
   "outputs": [],
   "source": [
    "imp_coef = pd.concat([coef.sort_values().head(10),\n",
    "                     coef.sort_values().tail(10)])"
   ]
  },
  {
   "cell_type": "code",
   "execution_count": 16,
   "metadata": {
    "collapsed": false
   },
   "outputs": [
    {
     "data": {
      "text/plain": [
       "<matplotlib.text.Text at 0xbb99908>"
      ]
     },
     "execution_count": 16,
     "metadata": {},
     "output_type": "execute_result"
    },
    {
     "data": {
      "image/png": "[encoded data removed]",
      "text/plain": [
       "<matplotlib.figure.Figure at 0x60916a0>"
      ]
     },
     "metadata": {},
     "output_type": "display_data"
    }
   ],
   "source": [
    "plt.rcParams['figure.figsize'] = (5.0, 5.0)\n",
    "imp_coef.plot(kind = \"barh\")\n",
    "plt.title(\"Coefficients in the Lasso Model\")"
   ]
  },
  {
   "cell_type": "markdown",
   "metadata": {},
   "source": [
    "### predict test data and create submission file"
   ]
  },
  {
   "cell_type": "code",
   "execution_count": 18,
   "metadata": {
    "collapsed": true
   },
   "outputs": [],
   "source": [
    "def impute(train, test):\n",
    "    for i in (train, test):\n",
    "        for s in [k for k in i.dtypes[i.dtypes != \"object\"].index if sum(pd.isnull(i[k])>0)]:\n",
    "            i[s] = i[s].fillna(0)\n",
    "    return train, test"
   ]
  },
  {
   "cell_type": "code",
   "execution_count": 19,
   "metadata": {
    "collapsed": true
   },
   "outputs": [],
   "source": [
    "train, test = impute(train, test)"
   ]
  },
  {
   "cell_type": "code",
   "execution_count": 20,
   "metadata": {
    "collapsed": false
   },
   "outputs": [
    {
     "data": {
      "text/plain": [
       "array([ 11.67345253,  11.97199209,  12.10655513, ...,  12.00143713,\n",
       "        11.69654833,  12.3242625 ])"
      ]
     },
     "execution_count": 20,
     "metadata": {},
     "output_type": "execute_result"
    }
   ],
   "source": [
    "lasso.predict(test)"
   ]
  },
  {
   "cell_type": "code",
   "execution_count": 21,
   "metadata": {
    "collapsed": false
   },
   "outputs": [],
   "source": [
    "predictions = lasso.predict(test)\n",
    "predictions = np.expm1(predictions)\n",
    "test = pd.read_csv(os.path.join('data', 'test.csv'))\n",
    "predictions = pd.DataFrame(predictions, columns=['SalePrice'])\n",
    "predictions = pd.concat((test.iloc[:, 0], predictions), axis = 1)\n",
    "predictions.to_csv(os.path.join('submission_files', 'lasso5.csv'), sep=\",\", index = False)"
   ]
  },
  {
   "cell_type": "markdown",
   "metadata": {},
   "source": [
    "score: .12532"
   ]
  },
  {
   "cell_type": "markdown",
   "metadata": {},
   "source": [
    "## Lasso 6\n",
    "\n",
    "Taking the log of ALL numeric values impute w/ mean"
   ]
  },
  {
   "cell_type": "markdown",
   "metadata": {},
   "source": [
    "### load data"
   ]
  },
  {
   "cell_type": "code",
   "execution_count": 164,
   "metadata": {
    "collapsed": false
   },
   "outputs": [],
   "source": [
    "train = pd.read_csv(os.path.join('data', 'train.csv'))\n",
    "test = pd.read_csv(os.path.join('data', 'test.csv'))\n",
    "y = train.iloc[:, -1]\n",
    "train = train.iloc[:, 1:-1]\n",
    "test = test.iloc[:, 1:]\n",
    "submission = test.iloc[:, 0]"
   ]
  },
  {
   "cell_type": "markdown",
   "metadata": {},
   "source": [
    "### transform data"
   ]
  },
  {
   "cell_type": "code",
   "execution_count": 165,
   "metadata": {
    "collapsed": false
   },
   "outputs": [],
   "source": [
    "train, test = fp.mssubclass(train, test)"
   ]
  },
  {
   "cell_type": "code",
   "execution_count": 166,
   "metadata": {
    "collapsed": false
   },
   "outputs": [],
   "source": [
    "def log(train, test, y):\n",
    "    numeric_feats = train.dtypes[train.dtypes != \"object\"].index\n",
    "        \n",
    "    for i in (train, test):\n",
    "        #log transform skewed numeric features:\n",
    "        i[numeric_feats] = np.log1p(i[numeric_feats])\n",
    "\n",
    "    y = np.log1p(y)\n",
    "    return train, test, y"
   ]
  },
  {
   "cell_type": "code",
   "execution_count": 167,
   "metadata": {
    "collapsed": false
   },
   "outputs": [],
   "source": [
    "train, test, y = log(train, test, y)"
   ]
  },
  {
   "cell_type": "code",
   "execution_count": 168,
   "metadata": {
    "collapsed": false
   },
   "outputs": [
    {
     "name": "stdout",
     "output_type": "stream",
     "text": [
      "0.789759343621 seconds\n"
     ]
    }
   ],
   "source": [
    "train, test = fp.lotfrontage(train, test)\n",
    "train, test = fp.garageyrblt(train, test)\n",
    "train, test = fp.impute_mean(train, test)\n",
    "train, test = fp.dummies(train, test)"
   ]
  },
  {
   "cell_type": "markdown",
   "metadata": {},
   "source": [
    "### find optimal value of the Lasso alpha parameter"
   ]
  },
  {
   "cell_type": "code",
   "execution_count": 7,
   "metadata": {
    "collapsed": false
   },
   "outputs": [
    {
     "name": "stderr",
     "output_type": "stream",
     "text": [
      "C:\\Users\\User\\Anaconda2\\lib\\site-packages\\sklearn\\linear_model\\coordinate_descent.py:484: ConvergenceWarning: Objective did not converge. You might want to increase the number of iterations. Fitting data with very small alpha may cause precision problems.\n",
      "  ConvergenceWarning)\n"
     ]
    },
    {
     "name": "stdout",
     "output_type": "stream",
     "text": [
      "Lasso(alpha=0.0001, copy_X=True, fit_intercept=True, max_iter=1000,\n",
      "   normalize=True, positive=False, precompute=False, random_state=None,\n",
      "   selection='cyclic', tol=0.0001, warm_start=False)\n",
      "-0.01176265768\n"
     ]
    }
   ],
   "source": [
    "from sklearn.model_selection import GridSearchCV\n",
    "from sklearn.linear_model import Lasso\n",
    "\n",
    "alpha_ridge = [1e-15, 1e-10, 1e-8, 1e-4, 1e-3,1e-2, 1, 5, 10, 20]\n",
    "\n",
    "coeffs = {}\n",
    "for alpha in alpha_ridge:\n",
    "    r = Lasso(alpha=alpha, normalize=True, max_iter=1000000)\n",
    "    r = r.fit(train, y)\n",
    "    \n",
    "grid_search = GridSearchCV(Lasso(alpha=alpha, normalize=True), scoring='neg_mean_squared_error',\n",
    "                           param_grid={'alpha': alpha_ridge}, cv=10, n_jobs=-1)\n",
    "grid_search.fit(train, y)\n",
    "\n",
    "print grid_search.best_estimator_\n",
    "print grid_search.score(train, y)"
   ]
  },
  {
   "cell_type": "markdown",
   "metadata": {},
   "source": [
    "### inspect results"
   ]
  },
  {
   "cell_type": "markdown",
   "metadata": {},
   "source": [
    "#### how do different values of alpha compare to the rmse?"
   ]
  },
  {
   "cell_type": "code",
   "execution_count": 8,
   "metadata": {
    "collapsed": false
   },
   "outputs": [],
   "source": [
    "alpha = alpha_ridge\n",
    "rmse = list(np.sqrt(-grid_search.cv_results_['mean_test_score']))"
   ]
  },
  {
   "cell_type": "code",
   "execution_count": 9,
   "metadata": {
    "collapsed": false
   },
   "outputs": [
    {
     "data": {
      "text/plain": [
       "<matplotlib.text.Text at 0xb2b09b0>"
      ]
     },
     "execution_count": 9,
     "metadata": {},
     "output_type": "execute_result"
    },
    {
     "data": {
      "image/png": "[encoded data removed]",
      "text/plain": [
       "<matplotlib.figure.Figure at 0xbdacf60>"
      ]
     },
     "metadata": {},
     "output_type": "display_data"
    }
   ],
   "source": [
    "plt.figure(figsize=(6,5))\n",
    "lasso_cv = pd.Series(rmse, index = alpha)\n",
    "lasso_cv.plot(title = \"Validation - LASSO\", logx=True)\n",
    "plt.xlabel(\"alpha\")\n",
    "plt.ylabel(\"rmse\")"
   ]
  },
  {
   "cell_type": "markdown",
   "metadata": {},
   "source": [
    "### fit lasso model with optimal alpha"
   ]
  },
  {
   "cell_type": "code",
   "execution_count": 169,
   "metadata": {
    "collapsed": true
   },
   "outputs": [],
   "source": [
    "lasso = Lasso(alpha=.0001, normalize=True, max_iter=1e6)\n",
    "lasso = lasso.fit(train, y)"
   ]
  },
  {
   "cell_type": "markdown",
   "metadata": {},
   "source": [
    "### inspect variable importance"
   ]
  },
  {
   "cell_type": "code",
   "execution_count": 170,
   "metadata": {
    "collapsed": true
   },
   "outputs": [],
   "source": [
    "coef = pd.Series(lasso.coef_, index = train.columns)"
   ]
  },
  {
   "cell_type": "code",
   "execution_count": 67,
   "metadata": {
    "collapsed": false
   },
   "outputs": [
    {
     "data": {
      "text/plain": [
       "Index([u'LotArea', u'OverallQual', u'OverallCond', u'YearBuilt',\n",
       "       u'YearRemodAdd', u'BsmtFinSF1', u'TotalBsmtSF', u'1stFlrSF',\n",
       "       u'GrLivArea', u'BsmtFullBath',\n",
       "       ...\n",
       "       u'GarageCond_Fa', u'PoolQC_Ex', u'PoolQC_Gd', u'Fence_GdWo',\n",
       "       u'MiscFeature_Othr', u'SaleType_New', u'SaleType_ConLD',\n",
       "       u'SaleType_Con', u'SaleCondition_Abnorml', u'SaleCondition_Family'],\n",
       "      dtype='object', length=103)"
      ]
     },
     "execution_count": 67,
     "metadata": {},
     "output_type": "execute_result"
    }
   ],
   "source": [
    "coef[coef != 0].index"
   ]
  },
  {
   "cell_type": "code",
   "execution_count": 68,
   "metadata": {
    "collapsed": false,
    "scrolled": true
   },
   "outputs": [
    {
     "name": "stdout",
     "output_type": "stream",
     "text": [
      "Lasso picked 103 variables and eliminated the other 142 variables\n"
     ]
    }
   ],
   "source": [
    "print(\"Lasso picked \" + str(sum(coef != 0)) + \" variables and eliminated the other \" +  str(sum(coef == 0)) + \" variables\")"
   ]
  },
  {
   "cell_type": "code",
   "execution_count": 69,
   "metadata": {
    "collapsed": true
   },
   "outputs": [],
   "source": [
    "imp_coef = pd.concat([coef.sort_values().head(10),\n",
    "                     coef.sort_values().tail(10)])"
   ]
  },
  {
   "cell_type": "code",
   "execution_count": 14,
   "metadata": {
    "collapsed": false
   },
   "outputs": [
    {
     "data": {
      "text/plain": [
       "<matplotlib.text.Text at 0xd5c3908>"
      ]
     },
     "execution_count": 14,
     "metadata": {},
     "output_type": "execute_result"
    },
    {
     "data": {
      "image/png": "[encoded data removed]",
      "text/plain": [
       "<matplotlib.figure.Figure at 0xbdac7b8>"
      ]
     },
     "metadata": {},
     "output_type": "display_data"
    }
   ],
   "source": [
    "plt.rcParams['figure.figsize'] = (5.0, 5.0)\n",
    "imp_coef.plot(kind = \"barh\")\n",
    "plt.title(\"Coefficients in the Lasso Model\")"
   ]
  },
  {
   "cell_type": "markdown",
   "metadata": {},
   "source": [
    "### predict test data and create submission file"
   ]
  },
  {
   "cell_type": "code",
   "execution_count": 70,
   "metadata": {
    "collapsed": false
   },
   "outputs": [
    {
     "data": {
      "text/plain": [
       "array([ 11.68927581,  11.95111481,  12.11327219, ...,  12.01075463,\n",
       "        11.68626894,  12.29008417])"
      ]
     },
     "execution_count": 70,
     "metadata": {},
     "output_type": "execute_result"
    }
   ],
   "source": [
    "lasso.predict(test)"
   ]
  },
  {
   "cell_type": "code",
   "execution_count": 17,
   "metadata": {
    "collapsed": false
   },
   "outputs": [],
   "source": [
    "predictions = lasso.predict(test)\n",
    "predictions = np.expm1(predictions)\n",
    "test = pd.read_csv(os.path.join('data', 'test.csv'))\n",
    "predictions = pd.DataFrame(predictions, columns=['SalePrice'])\n",
    "predictions = pd.concat((test.iloc[:, 0], predictions), axis = 1)\n",
    "predictions.to_csv(os.path.join('submission_files', 'lasso6.csv'), sep=\",\", index = False)"
   ]
  },
  {
   "cell_type": "markdown",
   "metadata": {},
   "source": [
    "score: .12090"
   ]
  },
  {
   "cell_type": "markdown",
   "metadata": {},
   "source": [
    "## Lasso 7\n",
    "\n",
    "Taking the log of ALL numeric values impute w/ mean"
   ]
  },
  {
   "cell_type": "markdown",
   "metadata": {},
   "source": [
    "### load data"
   ]
  },
  {
   "cell_type": "code",
   "execution_count": 120,
   "metadata": {
    "collapsed": false
   },
   "outputs": [],
   "source": [
    "train = pd.read_csv(os.path.join('data', 'train.csv'))\n",
    "test = pd.read_csv(os.path.join('data', 'test.csv'))\n",
    "y = train.iloc[:, -1]\n",
    "train = train.iloc[:, 1:-1]\n",
    "test = test.iloc[:, 1:]\n",
    "submission = test.iloc[:, 0]"
   ]
  },
  {
   "cell_type": "markdown",
   "metadata": {},
   "source": [
    "### transform data"
   ]
  },
  {
   "cell_type": "code",
   "execution_count": 121,
   "metadata": {
    "collapsed": false
   },
   "outputs": [],
   "source": [
    "train, test = fp.mssubclass(train, test, cols=['MSSubClass', 'MoSold', 'YrSold'])"
   ]
  },
  {
   "cell_type": "code",
   "execution_count": 122,
   "metadata": {
    "collapsed": false
   },
   "outputs": [],
   "source": [
    "def log(train, test, y):\n",
    "    numeric_feats = train.dtypes[train.dtypes != \"object\"].index\n",
    "        \n",
    "    for i in (train, test):\n",
    "        #log transform skewed numeric features:\n",
    "        i[numeric_feats] = np.log1p(i[numeric_feats])\n",
    "\n",
    "    y = np.log1p(y)\n",
    "    return train, test, y"
   ]
  },
  {
   "cell_type": "code",
   "execution_count": 123,
   "metadata": {
    "collapsed": false
   },
   "outputs": [],
   "source": [
    "train, test, y = log(train, test, y)"
   ]
  },
  {
   "cell_type": "code",
   "execution_count": 124,
   "metadata": {
    "collapsed": false
   },
   "outputs": [
    {
     "name": "stdout",
     "output_type": "stream",
     "text": [
      "0.779527214036 seconds\n"
     ]
    }
   ],
   "source": [
    "train, test = fp.lotfrontage(train, test)\n",
    "train, test = fp.garageyrblt(train, test)\n",
    "train, test = fp.impute_mean(train, test)\n",
    "train, test = fp.dummies(train, test)"
   ]
  },
  {
   "cell_type": "markdown",
   "metadata": {},
   "source": [
    "### find optimal value of the Lasso alpha parameter"
   ]
  },
  {
   "cell_type": "code",
   "execution_count": 7,
   "metadata": {
    "collapsed": false
   },
   "outputs": [
    {
     "name": "stdout",
     "output_type": "stream",
     "text": [
      "Lasso(alpha=0.0001, copy_X=True, fit_intercept=True, max_iter=1000,\n",
      "   normalize=True, positive=False, precompute=False, random_state=None,\n",
      "   selection='cyclic', tol=0.0001, warm_start=False)\n",
      "-0.0117281074993\n"
     ]
    }
   ],
   "source": [
    "from sklearn.model_selection import GridSearchCV\n",
    "from sklearn.linear_model import Lasso\n",
    "\n",
    "alpha_ridge = [1e-8, 1e-5, 1e-4, 1e-3, 1e-2, 1, 5, 10, 20]\n",
    "\n",
    "coeffs = {}\n",
    "for alpha in alpha_ridge:\n",
    "    r = Lasso(alpha=alpha, normalize=True, max_iter=1000000)\n",
    "    r = r.fit(train, y)\n",
    "    \n",
    "grid_search = GridSearchCV(Lasso(alpha=alpha, normalize=True), scoring='neg_mean_squared_error',\n",
    "                           param_grid={'alpha': alpha_ridge}, cv=10, n_jobs=-1)\n",
    "grid_search.fit(train, y)\n",
    "\n",
    "print grid_search.best_estimator_\n",
    "print grid_search.score(train, y)"
   ]
  },
  {
   "cell_type": "markdown",
   "metadata": {},
   "source": [
    "### inspect results"
   ]
  },
  {
   "cell_type": "markdown",
   "metadata": {},
   "source": [
    "#### how do different values of alpha compare to the rmse?"
   ]
  },
  {
   "cell_type": "code",
   "execution_count": 13,
   "metadata": {
    "collapsed": false
   },
   "outputs": [],
   "source": [
    "alpha = alpha_ridge\n",
    "rmse = list(np.sqrt(-grid_search.cv_results_['mean_test_score']))"
   ]
  },
  {
   "cell_type": "code",
   "execution_count": 14,
   "metadata": {
    "collapsed": false
   },
   "outputs": [
    {
     "data": {
      "text/plain": [
       "<matplotlib.text.Text at 0xc17c3c8>"
      ]
     },
     "execution_count": 14,
     "metadata": {},
     "output_type": "execute_result"
    },
    {
     "data": {
      "image/png": "[encoded data removed]",
      "text/plain": [
       "<matplotlib.figure.Figure at 0xc191e80>"
      ]
     },
     "metadata": {},
     "output_type": "display_data"
    }
   ],
   "source": [
    "plt.figure(figsize=(6,5))\n",
    "lasso_cv = pd.Series(rmse, index = alpha)\n",
    "lasso_cv.plot(title = \"Validation - LASSO\", logx=True)\n",
    "plt.xlabel(\"alpha\")\n",
    "plt.ylabel(\"rmse\")"
   ]
  },
  {
   "cell_type": "markdown",
   "metadata": {},
   "source": [
    "### fit lasso model with optimal alpha"
   ]
  },
  {
   "cell_type": "code",
   "execution_count": 125,
   "metadata": {
    "collapsed": true
   },
   "outputs": [],
   "source": [
    "lasso = Lasso(alpha=.0001, normalize=True, max_iter=1e6)\n",
    "lasso = lasso.fit(train, y)"
   ]
  },
  {
   "cell_type": "markdown",
   "metadata": {},
   "source": [
    "### inspect variable importance"
   ]
  },
  {
   "cell_type": "code",
   "execution_count": 9,
   "metadata": {
    "collapsed": true
   },
   "outputs": [],
   "source": [
    "coef = pd.Series(lasso.coef_, index = train.columns)"
   ]
  },
  {
   "cell_type": "code",
   "execution_count": 10,
   "metadata": {
    "collapsed": false
   },
   "outputs": [
    {
     "name": "stdout",
     "output_type": "stream",
     "text": [
      "Lasso picked 108 variables and eliminated the other 150 variables\n"
     ]
    }
   ],
   "source": [
    "print(\"Lasso picked \" + str(sum(coef != 0)) + \" variables and eliminated the other \" +  str(sum(coef == 0)) + \" variables\")"
   ]
  },
  {
   "cell_type": "code",
   "execution_count": 11,
   "metadata": {
    "collapsed": true
   },
   "outputs": [],
   "source": [
    "imp_coef = pd.concat([coef.sort_values().head(10),\n",
    "                     coef.sort_values().tail(10)])"
   ]
  },
  {
   "cell_type": "code",
   "execution_count": 12,
   "metadata": {
    "collapsed": false
   },
   "outputs": [
    {
     "data": {
      "text/plain": [
       "<matplotlib.text.Text at 0xb755cc0>"
      ]
     },
     "execution_count": 12,
     "metadata": {},
     "output_type": "execute_result"
    },
    {
     "data": {
      "image/png": "[encoded data removed]",
      "text/plain": [
       "<matplotlib.figure.Figure at 0x40e5470>"
      ]
     },
     "metadata": {},
     "output_type": "display_data"
    }
   ],
   "source": [
    "plt.rcParams['figure.figsize'] = (5.0, 5.0)\n",
    "imp_coef.plot(kind = \"barh\")\n",
    "plt.title(\"Coefficients in the Lasso Model\")"
   ]
  },
  {
   "cell_type": "markdown",
   "metadata": {},
   "source": [
    "### predict test data and create submission file"
   ]
  },
  {
   "cell_type": "code",
   "execution_count": 13,
   "metadata": {
    "collapsed": false
   },
   "outputs": [
    {
     "data": {
      "text/plain": [
       "array([ 11.68968517,  11.95174103,  12.11310008, ...,  12.01131245,\n",
       "        11.68757895,  12.29017436])"
      ]
     },
     "execution_count": 13,
     "metadata": {},
     "output_type": "execute_result"
    }
   ],
   "source": [
    "lasso.predict(test)"
   ]
  },
  {
   "cell_type": "code",
   "execution_count": 14,
   "metadata": {
    "collapsed": false
   },
   "outputs": [],
   "source": [
    "predictions = lasso.predict(test)\n",
    "predictions = np.expm1(predictions)\n",
    "test = pd.read_csv(os.path.join('data', 'test.csv'))\n",
    "predictions = pd.DataFrame(predictions, columns=['SalePrice'])\n",
    "predictions = pd.concat((test.iloc[:, 0], predictions), axis = 1)\n",
    "predictions.to_csv(os.path.join('submission_files', 'lasso7.csv'), sep=\",\", index = False)"
   ]
  },
  {
   "cell_type": "markdown",
   "metadata": {},
   "source": [
    "score: .12087"
   ]
  },
  {
   "cell_type": "markdown",
   "metadata": {},
   "source": [
    "## Lasso 8\n",
    "\n",
    "Taking the log of ALL numeric values impute w/ mean"
   ]
  },
  {
   "cell_type": "markdown",
   "metadata": {},
   "source": [
    "### load data"
   ]
  },
  {
   "cell_type": "code",
   "execution_count": 35,
   "metadata": {
    "collapsed": false
   },
   "outputs": [],
   "source": [
    "train = pd.read_csv(os.path.join('data', 'train.csv'))\n",
    "test = pd.read_csv(os.path.join('data', 'test.csv'))\n",
    "y = train.iloc[:, -1]\n",
    "train = train.iloc[:, 1:-1]\n",
    "test = test.iloc[:, 1:]\n",
    "submission = test.iloc[:, 0]"
   ]
  },
  {
   "cell_type": "markdown",
   "metadata": {},
   "source": [
    "### transform data"
   ]
  },
  {
   "cell_type": "code",
   "execution_count": 36,
   "metadata": {
    "collapsed": false
   },
   "outputs": [],
   "source": [
    "train, test = fp.mssubclass(train, test, cols=['MSSubClass', 'MoSold', 'YrSold'])"
   ]
  },
  {
   "cell_type": "code",
   "execution_count": 37,
   "metadata": {
    "collapsed": true
   },
   "outputs": [],
   "source": [
    "for i in [train, test]:\n",
    "    for z in ['YearBuilt', 'YearRemodAdd']:\n",
    "        i[z] = i[z] + np.square(i[z]) + (i[z])**3"
   ]
  },
  {
   "cell_type": "code",
   "execution_count": 38,
   "metadata": {
    "collapsed": true
   },
   "outputs": [],
   "source": [
    "for i in [test, train]:\n",
    "    i['Age'] = i[['YearBuilt', 'YearRemodAdd']].max(axis=1) - train['YearBuilt'].min()\n",
    "    del i['YearBuilt']\n",
    "    del i['YearRemodAdd']"
   ]
  },
  {
   "cell_type": "code",
   "execution_count": 39,
   "metadata": {
    "collapsed": false
   },
   "outputs": [],
   "source": [
    "def log(train, test, y):\n",
    "    numeric_feats = train.dtypes[train.dtypes != \"object\"].index\n",
    "        \n",
    "    for i in (train, test):\n",
    "        #log transform skewed numeric features:\n",
    "        i[numeric_feats] = np.log1p(i[numeric_feats])\n",
    "\n",
    "    y = np.log1p(y)\n",
    "    return train, test, y"
   ]
  },
  {
   "cell_type": "code",
   "execution_count": 40,
   "metadata": {
    "collapsed": false
   },
   "outputs": [],
   "source": [
    "train, test, y = log(train, test, y)"
   ]
  },
  {
   "cell_type": "code",
   "execution_count": 41,
   "metadata": {
    "collapsed": false
   },
   "outputs": [
    {
     "name": "stdout",
     "output_type": "stream",
     "text": [
      "0.913091243989 seconds\n"
     ]
    }
   ],
   "source": [
    "train, test = fp.lotfrontage(train, test)\n",
    "train, test = fp.garageyrblt(train, test)\n",
    "train, test = fp.impute_mean(train, test)\n",
    "train, test = fp.dummies(train, test)"
   ]
  },
  {
   "cell_type": "markdown",
   "metadata": {},
   "source": [
    "### find optimal value of the Lasso alpha parameter"
   ]
  },
  {
   "cell_type": "code",
   "execution_count": 43,
   "metadata": {
    "collapsed": false
   },
   "outputs": [
    {
     "name": "stdout",
     "output_type": "stream",
     "text": [
      "Lasso(alpha=0.0001, copy_X=True, fit_intercept=True, max_iter=1000,\n",
      "   normalize=True, positive=False, precompute=False, random_state=None,\n",
      "   selection='cyclic', tol=0.0001, warm_start=False)\n",
      "-0.0118186669933\n"
     ]
    }
   ],
   "source": [
    "from sklearn.model_selection import GridSearchCV\n",
    "from sklearn.linear_model import Lasso\n",
    "\n",
    "alpha_ridge = [1e-8, 1e-5, 1e-4, 1e-3, 1e-2, 1, 5, 10, 20]\n",
    "\n",
    "coeffs = {}\n",
    "for alpha in alpha_ridge:\n",
    "    r = Lasso(alpha=alpha, normalize=True, max_iter=1000000)\n",
    "    r = r.fit(train, y)\n",
    "    \n",
    "grid_search = GridSearchCV(Lasso(alpha=alpha, normalize=True), scoring='neg_mean_squared_error',\n",
    "                           param_grid={'alpha': alpha_ridge}, cv=10, n_jobs=-1)\n",
    "grid_search.fit(train, y)\n",
    "\n",
    "print grid_search.best_estimator_\n",
    "print grid_search.score(train, y)"
   ]
  },
  {
   "cell_type": "markdown",
   "metadata": {},
   "source": [
    "### inspect results"
   ]
  },
  {
   "cell_type": "markdown",
   "metadata": {},
   "source": [
    "#### how do different values of alpha compare to the rmse?"
   ]
  },
  {
   "cell_type": "code",
   "execution_count": 44,
   "metadata": {
    "collapsed": false
   },
   "outputs": [],
   "source": [
    "alpha = alpha_ridge\n",
    "rmse = list(np.sqrt(-grid_search.cv_results_['mean_test_score']))"
   ]
  },
  {
   "cell_type": "code",
   "execution_count": 45,
   "metadata": {
    "collapsed": false
   },
   "outputs": [
    {
     "data": {
      "text/plain": [
       "<matplotlib.text.Text at 0xe4495f8>"
      ]
     },
     "execution_count": 45,
     "metadata": {},
     "output_type": "execute_result"
    },
    {
     "data": {
      "image/png": "[encoded data removed]",
      "text/plain": [
       "<matplotlib.figure.Figure at 0xe9ffe48>"
      ]
     },
     "metadata": {},
     "output_type": "display_data"
    }
   ],
   "source": [
    "plt.figure(figsize=(6,5))\n",
    "lasso_cv = pd.Series(rmse, index = alpha)\n",
    "lasso_cv.plot(title = \"Validation - LASSO\", logx=True)\n",
    "plt.xlabel(\"alpha\")\n",
    "plt.ylabel(\"rmse\")"
   ]
  },
  {
   "cell_type": "markdown",
   "metadata": {},
   "source": [
    "### fit lasso model with optimal alpha"
   ]
  },
  {
   "cell_type": "code",
   "execution_count": 46,
   "metadata": {
    "collapsed": true
   },
   "outputs": [],
   "source": [
    "lasso = Lasso(alpha=.0001, normalize=True, max_iter=1e6)\n",
    "lasso = lasso.fit(train, y)"
   ]
  },
  {
   "cell_type": "markdown",
   "metadata": {},
   "source": [
    "### inspect variable importance"
   ]
  },
  {
   "cell_type": "code",
   "execution_count": 47,
   "metadata": {
    "collapsed": true
   },
   "outputs": [],
   "source": [
    "coef = pd.Series(lasso.coef_, index = train.columns)"
   ]
  },
  {
   "cell_type": "code",
   "execution_count": 48,
   "metadata": {
    "collapsed": false
   },
   "outputs": [
    {
     "name": "stdout",
     "output_type": "stream",
     "text": [
      "Lasso picked 120 variables and eliminated the other 137 variables\n"
     ]
    }
   ],
   "source": [
    "print(\"Lasso picked \" + str(sum(coef != 0)) + \" variables and eliminated the other \" +  str(sum(coef == 0)) + \" variables\")"
   ]
  },
  {
   "cell_type": "code",
   "execution_count": 49,
   "metadata": {
    "collapsed": true
   },
   "outputs": [],
   "source": [
    "imp_coef = pd.concat([coef.sort_values().head(10),\n",
    "                     coef.sort_values().tail(10)])"
   ]
  },
  {
   "cell_type": "code",
   "execution_count": 50,
   "metadata": {
    "collapsed": false
   },
   "outputs": [
    {
     "data": {
      "text/plain": [
       "<matplotlib.text.Text at 0xe6be1d0>"
      ]
     },
     "execution_count": 50,
     "metadata": {},
     "output_type": "execute_result"
    },
    {
     "data": {
      "image/png": "[encoded data removed]",
      "text/plain": [
       "<matplotlib.figure.Figure at 0xde41b38>"
      ]
     },
     "metadata": {},
     "output_type": "display_data"
    }
   ],
   "source": [
    "plt.rcParams['figure.figsize'] = (5.0, 5.0)\n",
    "imp_coef.plot(kind = \"barh\")\n",
    "plt.title(\"Coefficients in the Lasso Model\")"
   ]
  },
  {
   "cell_type": "markdown",
   "metadata": {},
   "source": [
    "### predict test data and create submission file"
   ]
  },
  {
   "cell_type": "code",
   "execution_count": 51,
   "metadata": {
    "collapsed": false
   },
   "outputs": [
    {
     "data": {
      "text/plain": [
       "array([ 11.68068019,  11.9494957 ,  12.09992908, ...,  12.01647258,\n",
       "        11.66691825,  12.29404611])"
      ]
     },
     "execution_count": 51,
     "metadata": {},
     "output_type": "execute_result"
    }
   ],
   "source": [
    "lasso.predict(test)"
   ]
  },
  {
   "cell_type": "code",
   "execution_count": 52,
   "metadata": {
    "collapsed": false
   },
   "outputs": [],
   "source": [
    "predictions = lasso.predict(test)\n",
    "predictions = np.expm1(predictions)\n",
    "test = pd.read_csv(os.path.join('data', 'test.csv'))\n",
    "predictions = pd.DataFrame(predictions, columns=['SalePrice'])\n",
    "predictions = pd.concat((test.iloc[:, 0], predictions), axis = 1)\n",
    "predictions.to_csv(os.path.join('submission_files', 'lasso8.csv'), sep=\",\", index = False)"
   ]
  },
  {
   "cell_type": "markdown",
   "metadata": {},
   "source": [
    "score: 0.12272"
   ]
  },
  {
   "cell_type": "markdown",
   "metadata": {},
   "source": [
    "## XGBoost 1"
   ]
  },
  {
   "cell_type": "code",
   "execution_count": 33,
   "metadata": {
    "collapsed": true
   },
   "outputs": [],
   "source": [
    "from xgboost.sklearn import XGBClassifier\n",
    "import xgboost as xgb\n",
    "from sklearn.metrics import mean_squared_error"
   ]
  },
  {
   "cell_type": "markdown",
   "metadata": {},
   "source": [
    "### load data"
   ]
  },
  {
   "cell_type": "code",
   "execution_count": 105,
   "metadata": {
    "collapsed": false
   },
   "outputs": [],
   "source": [
    "train = pd.read_csv(os.path.join('data', 'train.csv'))\n",
    "test = pd.read_csv(os.path.join('data', 'test.csv'))\n",
    "y = train.iloc[:, -1]\n",
    "train = train.iloc[:, 1:-1]\n",
    "test = test.iloc[:, 1:]\n",
    "submission = test.iloc[:, 0]"
   ]
  },
  {
   "cell_type": "markdown",
   "metadata": {},
   "source": [
    "### transform data"
   ]
  },
  {
   "cell_type": "code",
   "execution_count": 106,
   "metadata": {
    "collapsed": false
   },
   "outputs": [],
   "source": [
    "train, test = fp.mssubclass(train, test)"
   ]
  },
  {
   "cell_type": "code",
   "execution_count": 107,
   "metadata": {
    "collapsed": false
   },
   "outputs": [],
   "source": [
    "def log(train, test, y):\n",
    "    numeric_feats = train.dtypes[train.dtypes != \"object\"].index\n",
    "        \n",
    "    for i in (train, test):\n",
    "        #log transform skewed numeric features:\n",
    "        i[numeric_feats] = np.log1p(i[numeric_feats])\n",
    "\n",
    "    y = np.log1p(y)\n",
    "    return train, test, y"
   ]
  },
  {
   "cell_type": "code",
   "execution_count": 108,
   "metadata": {
    "collapsed": false
   },
   "outputs": [],
   "source": [
    "train, test, y = log(train, test, y)"
   ]
  },
  {
   "cell_type": "code",
   "execution_count": 109,
   "metadata": {
    "collapsed": false
   },
   "outputs": [
    {
     "name": "stdout",
     "output_type": "stream",
     "text": [
      "0.720260998249 seconds\n"
     ]
    }
   ],
   "source": [
    "train, test = fp.lotfrontage(train, test)\n",
    "train, test = fp.garageyrblt(train, test)\n",
    "train, test = fp.impute_mean(train, test)\n",
    "train, test = fp.dummies(train, test)"
   ]
  },
  {
   "cell_type": "code",
   "execution_count": 110,
   "metadata": {
    "collapsed": false
   },
   "outputs": [
    {
     "name": "stdout",
     "output_type": "stream",
     "text": [
      "('XGBoost score on training set: ', 0.0058807337725166504)\n"
     ]
    }
   ],
   "source": [
    "regr = xgb.XGBRegressor(\n",
    "                 colsample_bytree=0.2,\n",
    "                 gamma=0.0,\n",
    "                 learning_rate=0.01,\n",
    "                 max_depth=4,\n",
    "                 min_child_weight=1.5,\n",
    "                 n_estimators=7200,                                                                  \n",
    "                 reg_alpha=0.9,\n",
    "                 reg_lambda=0.6,\n",
    "                 subsample=0.2,\n",
    "                 seed=42,\n",
    "                 silent=1)\n",
    "\n",
    "regr.fit(train, y)\n",
    "\n",
    "# Run prediction on training set to get a rough idea of how well it does.\n",
    "y_pred = regr.predict(train)\n",
    "y_test = y\n",
    "print(\"XGBoost score on training set: \", mean_squared_error(y_test, y_pred))\n",
    "\n",
    "# Run prediction on the Kaggle test set.\n",
    "y_pred_xgb = regr.predict(test)"
   ]
  },
  {
   "cell_type": "markdown",
   "metadata": {},
   "source": [
    "### predict test data and create submission file"
   ]
  },
  {
   "cell_type": "code",
   "execution_count": 84,
   "metadata": {
    "collapsed": false
   },
   "outputs": [
    {
     "data": {
      "text/plain": [
       "array([ 11.75356579,  11.97429276,  12.10027695, ...,  12.04427624,\n",
       "        11.69212246,  12.2768383 ], dtype=float32)"
      ]
     },
     "execution_count": 84,
     "metadata": {},
     "output_type": "execute_result"
    }
   ],
   "source": [
    "y_pred_xgb"
   ]
  },
  {
   "cell_type": "code",
   "execution_count": 85,
   "metadata": {
    "collapsed": false
   },
   "outputs": [],
   "source": [
    "predictions = np.expm1(y_pred_xgb)\n",
    "test = pd.read_csv(os.path.join('data', 'test.csv'))\n",
    "predictions = pd.DataFrame(predictions, columns=['SalePrice'])\n",
    "predictions = pd.concat((test.iloc[:, 0], predictions), axis = 1)\n",
    "predictions.to_csv(os.path.join('submission_files', 'xgb1.csv'), sep=\",\", index = False)"
   ]
  },
  {
   "cell_type": "markdown",
   "metadata": {},
   "source": [
    "score 0.12278"
   ]
  },
  {
   "cell_type": "markdown",
   "metadata": {},
   "source": [
    "## XGBoost 2"
   ]
  },
  {
   "cell_type": "code",
   "execution_count": 77,
   "metadata": {
    "collapsed": true
   },
   "outputs": [],
   "source": [
    "from xgboost.sklearn import XGBClassifier\n",
    "import xgboost as xgb\n",
    "from sklearn.metrics import mean_squared_error"
   ]
  },
  {
   "cell_type": "markdown",
   "metadata": {},
   "source": [
    "### load data"
   ]
  },
  {
   "cell_type": "code",
   "execution_count": 91,
   "metadata": {
    "collapsed": false
   },
   "outputs": [],
   "source": [
    "train = pd.read_csv(os.path.join('data', 'train.csv'))\n",
    "test = pd.read_csv(os.path.join('data', 'test.csv'))\n",
    "y = train.iloc[:, -1]\n",
    "train = train.iloc[:, 1:-1]\n",
    "test = test.iloc[:, 1:]\n",
    "submission = test.iloc[:, 0]"
   ]
  },
  {
   "cell_type": "markdown",
   "metadata": {},
   "source": [
    "### transform data"
   ]
  },
  {
   "cell_type": "code",
   "execution_count": 92,
   "metadata": {
    "collapsed": false
   },
   "outputs": [],
   "source": [
    "train, test = fp.mssubclass(train, test)"
   ]
  },
  {
   "cell_type": "code",
   "execution_count": 93,
   "metadata": {
    "collapsed": false
   },
   "outputs": [],
   "source": [
    "def log(train, test, y):\n",
    "    numeric_feats = train.dtypes[train.dtypes != \"object\"].index\n",
    "        \n",
    "    for i in (train, test):\n",
    "        #log transform skewed numeric features:\n",
    "        i[numeric_feats] = np.log1p(i[numeric_feats])\n",
    "\n",
    "    y = np.log1p(y)\n",
    "    return train, test, y"
   ]
  },
  {
   "cell_type": "code",
   "execution_count": 94,
   "metadata": {
    "collapsed": false
   },
   "outputs": [],
   "source": [
    "train, test, y = log(train, test, y)"
   ]
  },
  {
   "cell_type": "code",
   "execution_count": 95,
   "metadata": {
    "collapsed": false
   },
   "outputs": [
    {
     "name": "stdout",
     "output_type": "stream",
     "text": [
      "0.691060347853 seconds\n"
     ]
    }
   ],
   "source": [
    "train, test = fp.lotfrontage(train, test)\n",
    "train, test = fp.garageyrblt(train, test)\n",
    "train, test = fp.impute_mean(train, test)\n",
    "train, test = fp.dummies(train, test)"
   ]
  },
  {
   "cell_type": "code",
   "execution_count": 28,
   "metadata": {
    "collapsed": false
   },
   "outputs": [
    {
     "name": "stdout",
     "output_type": "stream",
     "text": [
      "('XGBoost score on training set: ', 0.0058807337725166504)\n"
     ]
    }
   ],
   "source": [
    "regr = xgb.XGBRegressor(\n",
    "                 colsample_bytree=0.2,\n",
    "                 gamma=0.0,\n",
    "                 learning_rate=0.01,\n",
    "                 max_depth=4,\n",
    "                 min_child_weight=1.5,\n",
    "                 n_estimators=7200,                                                                  \n",
    "                 reg_alpha=0.9,\n",
    "                 reg_lambda=0.6,\n",
    "                 subsample=0.2,\n",
    "                 seed=42,\n",
    "                 silent=1)\n",
    "\n",
    "regr.fit(train, y)\n",
    "\n",
    "# Run prediction on training set to get a rough idea of how well it does.\n",
    "y_pred = regr.predict(train)\n",
    "y_test = y\n",
    "print(\"XGBoost score on training set: \", mean_squared_error(y_test, y_pred))\n",
    "\n",
    "# Run prediction on the Kaggle test set.\n",
    "y_pred_xgb = regr.predict(test)"
   ]
  },
  {
   "cell_type": "code",
   "execution_count": 83,
   "metadata": {
    "collapsed": false,
    "scrolled": true
   },
   "outputs": [
    {
     "data": {
      "text/html": [
       "<div>\n",
       "<table border=\"1\" class=\"dataframe\">\n",
       "  <thead>\n",
       "    <tr style=\"text-align: right;\">\n",
       "      <th></th>\n",
       "      <th>test-rmse-mean</th>\n",
       "      <th>test-rmse-std</th>\n",
       "      <th>train-rmse-mean</th>\n",
       "      <th>train-rmse-std</th>\n",
       "    </tr>\n",
       "  </thead>\n",
       "  <tbody>\n",
       "    <tr>\n",
       "      <th>0</th>\n",
       "      <td>11.415955</td>\n",
       "      <td>0.007503</td>\n",
       "      <td>11.415957</td>\n",
       "      <td>0.003646</td>\n",
       "    </tr>\n",
       "    <tr>\n",
       "      <th>1</th>\n",
       "      <td>11.302685</td>\n",
       "      <td>0.007582</td>\n",
       "      <td>11.302688</td>\n",
       "      <td>0.003573</td>\n",
       "    </tr>\n",
       "    <tr>\n",
       "      <th>2</th>\n",
       "      <td>11.190407</td>\n",
       "      <td>0.007671</td>\n",
       "      <td>11.190409</td>\n",
       "      <td>0.003495</td>\n",
       "    </tr>\n",
       "    <tr>\n",
       "      <th>3</th>\n",
       "      <td>11.079280</td>\n",
       "      <td>0.007816</td>\n",
       "      <td>11.079282</td>\n",
       "      <td>0.003360</td>\n",
       "    </tr>\n",
       "    <tr>\n",
       "      <th>4</th>\n",
       "      <td>10.969424</td>\n",
       "      <td>0.007829</td>\n",
       "      <td>10.969426</td>\n",
       "      <td>0.003357</td>\n",
       "    </tr>\n",
       "    <tr>\n",
       "      <th>5</th>\n",
       "      <td>10.860324</td>\n",
       "      <td>0.008057</td>\n",
       "      <td>10.860326</td>\n",
       "      <td>0.003140</td>\n",
       "    </tr>\n",
       "    <tr>\n",
       "      <th>6</th>\n",
       "      <td>10.752078</td>\n",
       "      <td>0.008051</td>\n",
       "      <td>10.752079</td>\n",
       "      <td>0.003157</td>\n",
       "    </tr>\n",
       "    <tr>\n",
       "      <th>7</th>\n",
       "      <td>10.645191</td>\n",
       "      <td>0.008100</td>\n",
       "      <td>10.645192</td>\n",
       "      <td>0.003131</td>\n",
       "    </tr>\n",
       "    <tr>\n",
       "      <th>8</th>\n",
       "      <td>10.539581</td>\n",
       "      <td>0.007943</td>\n",
       "      <td>10.539584</td>\n",
       "      <td>0.003326</td>\n",
       "    </tr>\n",
       "    <tr>\n",
       "      <th>9</th>\n",
       "      <td>10.435270</td>\n",
       "      <td>0.007587</td>\n",
       "      <td>10.435272</td>\n",
       "      <td>0.003670</td>\n",
       "    </tr>\n",
       "    <tr>\n",
       "      <th>10</th>\n",
       "      <td>10.331338</td>\n",
       "      <td>0.007713</td>\n",
       "      <td>10.331340</td>\n",
       "      <td>0.003548</td>\n",
       "    </tr>\n",
       "    <tr>\n",
       "      <th>11</th>\n",
       "      <td>10.228689</td>\n",
       "      <td>0.007786</td>\n",
       "      <td>10.228691</td>\n",
       "      <td>0.003487</td>\n",
       "    </tr>\n",
       "    <tr>\n",
       "      <th>12</th>\n",
       "      <td>10.127134</td>\n",
       "      <td>0.008076</td>\n",
       "      <td>10.127136</td>\n",
       "      <td>0.003226</td>\n",
       "    </tr>\n",
       "    <tr>\n",
       "      <th>13</th>\n",
       "      <td>10.026507</td>\n",
       "      <td>0.008505</td>\n",
       "      <td>10.026510</td>\n",
       "      <td>0.002832</td>\n",
       "    </tr>\n",
       "    <tr>\n",
       "      <th>14</th>\n",
       "      <td>9.927036</td>\n",
       "      <td>0.008523</td>\n",
       "      <td>9.927038</td>\n",
       "      <td>0.002877</td>\n",
       "    </tr>\n",
       "    <tr>\n",
       "      <th>15</th>\n",
       "      <td>9.828513</td>\n",
       "      <td>0.008420</td>\n",
       "      <td>9.828515</td>\n",
       "      <td>0.002975</td>\n",
       "    </tr>\n",
       "    <tr>\n",
       "      <th>16</th>\n",
       "      <td>9.730904</td>\n",
       "      <td>0.008668</td>\n",
       "      <td>9.730906</td>\n",
       "      <td>0.002795</td>\n",
       "    </tr>\n",
       "    <tr>\n",
       "      <th>17</th>\n",
       "      <td>9.634361</td>\n",
       "      <td>0.008510</td>\n",
       "      <td>9.634364</td>\n",
       "      <td>0.002886</td>\n",
       "    </tr>\n",
       "    <tr>\n",
       "      <th>18</th>\n",
       "      <td>9.538686</td>\n",
       "      <td>0.008562</td>\n",
       "      <td>9.538688</td>\n",
       "      <td>0.002961</td>\n",
       "    </tr>\n",
       "    <tr>\n",
       "      <th>19</th>\n",
       "      <td>9.443771</td>\n",
       "      <td>0.008506</td>\n",
       "      <td>9.443774</td>\n",
       "      <td>0.003020</td>\n",
       "    </tr>\n",
       "    <tr>\n",
       "      <th>20</th>\n",
       "      <td>9.350320</td>\n",
       "      <td>0.008615</td>\n",
       "      <td>9.350322</td>\n",
       "      <td>0.003189</td>\n",
       "    </tr>\n",
       "    <tr>\n",
       "      <th>21</th>\n",
       "      <td>9.257337</td>\n",
       "      <td>0.008423</td>\n",
       "      <td>9.257339</td>\n",
       "      <td>0.003368</td>\n",
       "    </tr>\n",
       "    <tr>\n",
       "      <th>22</th>\n",
       "      <td>9.165307</td>\n",
       "      <td>0.008413</td>\n",
       "      <td>9.165310</td>\n",
       "      <td>0.003382</td>\n",
       "    </tr>\n",
       "    <tr>\n",
       "      <th>23</th>\n",
       "      <td>9.074402</td>\n",
       "      <td>0.008509</td>\n",
       "      <td>9.074404</td>\n",
       "      <td>0.003269</td>\n",
       "    </tr>\n",
       "    <tr>\n",
       "      <th>24</th>\n",
       "      <td>8.984365</td>\n",
       "      <td>0.008756</td>\n",
       "      <td>8.984368</td>\n",
       "      <td>0.002995</td>\n",
       "    </tr>\n",
       "    <tr>\n",
       "      <th>25</th>\n",
       "      <td>8.895207</td>\n",
       "      <td>0.008941</td>\n",
       "      <td>8.895210</td>\n",
       "      <td>0.002895</td>\n",
       "    </tr>\n",
       "    <tr>\n",
       "      <th>26</th>\n",
       "      <td>8.806984</td>\n",
       "      <td>0.008910</td>\n",
       "      <td>8.806988</td>\n",
       "      <td>0.002904</td>\n",
       "    </tr>\n",
       "    <tr>\n",
       "      <th>27</th>\n",
       "      <td>8.719372</td>\n",
       "      <td>0.008943</td>\n",
       "      <td>8.719375</td>\n",
       "      <td>0.003000</td>\n",
       "    </tr>\n",
       "    <tr>\n",
       "      <th>28</th>\n",
       "      <td>8.632890</td>\n",
       "      <td>0.008880</td>\n",
       "      <td>8.632892</td>\n",
       "      <td>0.003115</td>\n",
       "    </tr>\n",
       "    <tr>\n",
       "      <th>29</th>\n",
       "      <td>8.547418</td>\n",
       "      <td>0.008874</td>\n",
       "      <td>8.547420</td>\n",
       "      <td>0.003072</td>\n",
       "    </tr>\n",
       "    <tr>\n",
       "      <th>...</th>\n",
       "      <td>...</td>\n",
       "      <td>...</td>\n",
       "      <td>...</td>\n",
       "      <td>...</td>\n",
       "    </tr>\n",
       "    <tr>\n",
       "      <th>1915</th>\n",
       "      <td>0.122686</td>\n",
       "      <td>0.014578</td>\n",
       "      <td>0.070714</td>\n",
       "      <td>0.003972</td>\n",
       "    </tr>\n",
       "    <tr>\n",
       "      <th>1916</th>\n",
       "      <td>0.122685</td>\n",
       "      <td>0.014581</td>\n",
       "      <td>0.070686</td>\n",
       "      <td>0.003966</td>\n",
       "    </tr>\n",
       "    <tr>\n",
       "      <th>1917</th>\n",
       "      <td>0.122678</td>\n",
       "      <td>0.014578</td>\n",
       "      <td>0.070670</td>\n",
       "      <td>0.003974</td>\n",
       "    </tr>\n",
       "    <tr>\n",
       "      <th>1918</th>\n",
       "      <td>0.122677</td>\n",
       "      <td>0.014571</td>\n",
       "      <td>0.070647</td>\n",
       "      <td>0.003969</td>\n",
       "    </tr>\n",
       "    <tr>\n",
       "      <th>1919</th>\n",
       "      <td>0.122684</td>\n",
       "      <td>0.014568</td>\n",
       "      <td>0.070626</td>\n",
       "      <td>0.003959</td>\n",
       "    </tr>\n",
       "    <tr>\n",
       "      <th>1920</th>\n",
       "      <td>0.122668</td>\n",
       "      <td>0.014575</td>\n",
       "      <td>0.070613</td>\n",
       "      <td>0.003949</td>\n",
       "    </tr>\n",
       "    <tr>\n",
       "      <th>1921</th>\n",
       "      <td>0.122659</td>\n",
       "      <td>0.014568</td>\n",
       "      <td>0.070597</td>\n",
       "      <td>0.003949</td>\n",
       "    </tr>\n",
       "    <tr>\n",
       "      <th>1922</th>\n",
       "      <td>0.122666</td>\n",
       "      <td>0.014583</td>\n",
       "      <td>0.070585</td>\n",
       "      <td>0.003948</td>\n",
       "    </tr>\n",
       "    <tr>\n",
       "      <th>1923</th>\n",
       "      <td>0.122664</td>\n",
       "      <td>0.014581</td>\n",
       "      <td>0.070569</td>\n",
       "      <td>0.003940</td>\n",
       "    </tr>\n",
       "    <tr>\n",
       "      <th>1924</th>\n",
       "      <td>0.122651</td>\n",
       "      <td>0.014580</td>\n",
       "      <td>0.070550</td>\n",
       "      <td>0.003935</td>\n",
       "    </tr>\n",
       "    <tr>\n",
       "      <th>1925</th>\n",
       "      <td>0.122647</td>\n",
       "      <td>0.014589</td>\n",
       "      <td>0.070529</td>\n",
       "      <td>0.003944</td>\n",
       "    </tr>\n",
       "    <tr>\n",
       "      <th>1926</th>\n",
       "      <td>0.122648</td>\n",
       "      <td>0.014592</td>\n",
       "      <td>0.070509</td>\n",
       "      <td>0.003963</td>\n",
       "    </tr>\n",
       "    <tr>\n",
       "      <th>1927</th>\n",
       "      <td>0.122657</td>\n",
       "      <td>0.014590</td>\n",
       "      <td>0.070493</td>\n",
       "      <td>0.003970</td>\n",
       "    </tr>\n",
       "    <tr>\n",
       "      <th>1928</th>\n",
       "      <td>0.122654</td>\n",
       "      <td>0.014593</td>\n",
       "      <td>0.070475</td>\n",
       "      <td>0.003966</td>\n",
       "    </tr>\n",
       "    <tr>\n",
       "      <th>1929</th>\n",
       "      <td>0.122649</td>\n",
       "      <td>0.014576</td>\n",
       "      <td>0.070453</td>\n",
       "      <td>0.003964</td>\n",
       "    </tr>\n",
       "    <tr>\n",
       "      <th>1930</th>\n",
       "      <td>0.122637</td>\n",
       "      <td>0.014565</td>\n",
       "      <td>0.070427</td>\n",
       "      <td>0.003964</td>\n",
       "    </tr>\n",
       "    <tr>\n",
       "      <th>1931</th>\n",
       "      <td>0.122639</td>\n",
       "      <td>0.014559</td>\n",
       "      <td>0.070403</td>\n",
       "      <td>0.003968</td>\n",
       "    </tr>\n",
       "    <tr>\n",
       "      <th>1932</th>\n",
       "      <td>0.122641</td>\n",
       "      <td>0.014548</td>\n",
       "      <td>0.070384</td>\n",
       "      <td>0.003971</td>\n",
       "    </tr>\n",
       "    <tr>\n",
       "      <th>1933</th>\n",
       "      <td>0.122652</td>\n",
       "      <td>0.014547</td>\n",
       "      <td>0.070364</td>\n",
       "      <td>0.003964</td>\n",
       "    </tr>\n",
       "    <tr>\n",
       "      <th>1934</th>\n",
       "      <td>0.122661</td>\n",
       "      <td>0.014553</td>\n",
       "      <td>0.070351</td>\n",
       "      <td>0.003967</td>\n",
       "    </tr>\n",
       "    <tr>\n",
       "      <th>1935</th>\n",
       "      <td>0.122657</td>\n",
       "      <td>0.014541</td>\n",
       "      <td>0.070337</td>\n",
       "      <td>0.003976</td>\n",
       "    </tr>\n",
       "    <tr>\n",
       "      <th>1936</th>\n",
       "      <td>0.122650</td>\n",
       "      <td>0.014547</td>\n",
       "      <td>0.070318</td>\n",
       "      <td>0.003990</td>\n",
       "    </tr>\n",
       "    <tr>\n",
       "      <th>1937</th>\n",
       "      <td>0.122636</td>\n",
       "      <td>0.014566</td>\n",
       "      <td>0.070292</td>\n",
       "      <td>0.004005</td>\n",
       "    </tr>\n",
       "    <tr>\n",
       "      <th>1938</th>\n",
       "      <td>0.122637</td>\n",
       "      <td>0.014571</td>\n",
       "      <td>0.070280</td>\n",
       "      <td>0.004008</td>\n",
       "    </tr>\n",
       "    <tr>\n",
       "      <th>1939</th>\n",
       "      <td>0.122649</td>\n",
       "      <td>0.014576</td>\n",
       "      <td>0.070260</td>\n",
       "      <td>0.004004</td>\n",
       "    </tr>\n",
       "    <tr>\n",
       "      <th>1940</th>\n",
       "      <td>0.122650</td>\n",
       "      <td>0.014575</td>\n",
       "      <td>0.070242</td>\n",
       "      <td>0.004008</td>\n",
       "    </tr>\n",
       "    <tr>\n",
       "      <th>1941</th>\n",
       "      <td>0.122636</td>\n",
       "      <td>0.014581</td>\n",
       "      <td>0.070227</td>\n",
       "      <td>0.004002</td>\n",
       "    </tr>\n",
       "    <tr>\n",
       "      <th>1942</th>\n",
       "      <td>0.122624</td>\n",
       "      <td>0.014587</td>\n",
       "      <td>0.070207</td>\n",
       "      <td>0.004001</td>\n",
       "    </tr>\n",
       "    <tr>\n",
       "      <th>1943</th>\n",
       "      <td>0.122623</td>\n",
       "      <td>0.014588</td>\n",
       "      <td>0.070191</td>\n",
       "      <td>0.003986</td>\n",
       "    </tr>\n",
       "    <tr>\n",
       "      <th>1944</th>\n",
       "      <td>0.122609</td>\n",
       "      <td>0.014592</td>\n",
       "      <td>0.070177</td>\n",
       "      <td>0.003987</td>\n",
       "    </tr>\n",
       "  </tbody>\n",
       "</table>\n",
       "<p>1945 rows × 4 columns</p>\n",
       "</div>"
      ],
      "text/plain": [
       "      test-rmse-mean  test-rmse-std  train-rmse-mean  train-rmse-std\n",
       "0          11.415955       0.007503        11.415957        0.003646\n",
       "1          11.302685       0.007582        11.302688        0.003573\n",
       "2          11.190407       0.007671        11.190409        0.003495\n",
       "3          11.079280       0.007816        11.079282        0.003360\n",
       "4          10.969424       0.007829        10.969426        0.003357\n",
       "5          10.860324       0.008057        10.860326        0.003140\n",
       "6          10.752078       0.008051        10.752079        0.003157\n",
       "7          10.645191       0.008100        10.645192        0.003131\n",
       "8          10.539581       0.007943        10.539584        0.003326\n",
       "9          10.435270       0.007587        10.435272        0.003670\n",
       "10         10.331338       0.007713        10.331340        0.003548\n",
       "11         10.228689       0.007786        10.228691        0.003487\n",
       "12         10.127134       0.008076        10.127136        0.003226\n",
       "13         10.026507       0.008505        10.026510        0.002832\n",
       "14          9.927036       0.008523         9.927038        0.002877\n",
       "15          9.828513       0.008420         9.828515        0.002975\n",
       "16          9.730904       0.008668         9.730906        0.002795\n",
       "17          9.634361       0.008510         9.634364        0.002886\n",
       "18          9.538686       0.008562         9.538688        0.002961\n",
       "19          9.443771       0.008506         9.443774        0.003020\n",
       "20          9.350320       0.008615         9.350322        0.003189\n",
       "21          9.257337       0.008423         9.257339        0.003368\n",
       "22          9.165307       0.008413         9.165310        0.003382\n",
       "23          9.074402       0.008509         9.074404        0.003269\n",
       "24          8.984365       0.008756         8.984368        0.002995\n",
       "25          8.895207       0.008941         8.895210        0.002895\n",
       "26          8.806984       0.008910         8.806988        0.002904\n",
       "27          8.719372       0.008943         8.719375        0.003000\n",
       "28          8.632890       0.008880         8.632892        0.003115\n",
       "29          8.547418       0.008874         8.547420        0.003072\n",
       "...              ...            ...              ...             ...\n",
       "1915        0.122686       0.014578         0.070714        0.003972\n",
       "1916        0.122685       0.014581         0.070686        0.003966\n",
       "1917        0.122678       0.014578         0.070670        0.003974\n",
       "1918        0.122677       0.014571         0.070647        0.003969\n",
       "1919        0.122684       0.014568         0.070626        0.003959\n",
       "1920        0.122668       0.014575         0.070613        0.003949\n",
       "1921        0.122659       0.014568         0.070597        0.003949\n",
       "1922        0.122666       0.014583         0.070585        0.003948\n",
       "1923        0.122664       0.014581         0.070569        0.003940\n",
       "1924        0.122651       0.014580         0.070550        0.003935\n",
       "1925        0.122647       0.014589         0.070529        0.003944\n",
       "1926        0.122648       0.014592         0.070509        0.003963\n",
       "1927        0.122657       0.014590         0.070493        0.003970\n",
       "1928        0.122654       0.014593         0.070475        0.003966\n",
       "1929        0.122649       0.014576         0.070453        0.003964\n",
       "1930        0.122637       0.014565         0.070427        0.003964\n",
       "1931        0.122639       0.014559         0.070403        0.003968\n",
       "1932        0.122641       0.014548         0.070384        0.003971\n",
       "1933        0.122652       0.014547         0.070364        0.003964\n",
       "1934        0.122661       0.014553         0.070351        0.003967\n",
       "1935        0.122657       0.014541         0.070337        0.003976\n",
       "1936        0.122650       0.014547         0.070318        0.003990\n",
       "1937        0.122636       0.014566         0.070292        0.004005\n",
       "1938        0.122637       0.014571         0.070280        0.004008\n",
       "1939        0.122649       0.014576         0.070260        0.004004\n",
       "1940        0.122650       0.014575         0.070242        0.004008\n",
       "1941        0.122636       0.014581         0.070227        0.004002\n",
       "1942        0.122624       0.014587         0.070207        0.004001\n",
       "1943        0.122623       0.014588         0.070191        0.003986\n",
       "1944        0.122609       0.014592         0.070177        0.003987\n",
       "\n",
       "[1945 rows x 4 columns]"
      ]
     },
     "execution_count": 83,
     "metadata": {},
     "output_type": "execute_result"
    }
   ],
   "source": [
    "xgdmat = xgb.DMatrix(train.values, y)\n",
    "\n",
    "#modelfit(regr, train,y.values.ravel())\n",
    "\n",
    "our_params = {'eta': 0.01, 'seed':0, 'subsample': 0.2, 'colsample_bytree': 0.2, 'min_child_weight':1.5, 'max_depth':4\n",
    "             } \n",
    "\n",
    "cv_xgb = xgb.cv(params = our_params, dtrain = xgdmat, num_boost_round = 8000, nfold = 3,\n",
    "                early_stopping_rounds = 50) # Look for early stopping that minimizes error\n",
    "\n",
    "cv_xgb"
   ]
  },
  {
   "cell_type": "code",
   "execution_count": 89,
   "metadata": {
    "collapsed": false
   },
   "outputs": [
    {
     "name": "stderr",
     "output_type": "stream",
     "text": [
      "C:\\Users\\User\\Anaconda2\\lib\\site-packages\\sklearn\\model_selection\\_search.py:667: DeprecationWarning: The grid_scores_ attribute was deprecated in version 0.18 in favor of the more elaborate cv_results_ attribute. The grid_scores_ attribute will not be available from 0.20\n",
      "  DeprecationWarning)\n"
     ]
    },
    {
     "data": {
      "text/plain": [
       "([mean: -0.01512, std: 0.00259, params: {'max_depth': 3, 'min_child_weight': 1.0},\n",
       "  mean: -0.01534, std: 0.00255, params: {'max_depth': 3, 'min_child_weight': 1.5},\n",
       "  mean: -0.01534, std: 0.00255, params: {'max_depth': 3, 'min_child_weight': 2.0},\n",
       "  mean: -0.01564, std: 0.00273, params: {'max_depth': 3, 'min_child_weight': 2.5},\n",
       "  mean: -0.01564, std: 0.00273, params: {'max_depth': 3, 'min_child_weight': 3.0},\n",
       "  mean: -0.01580, std: 0.00259, params: {'max_depth': 3, 'min_child_weight': 3.5},\n",
       "  mean: -0.01483, std: 0.00259, params: {'max_depth': 4, 'min_child_weight': 1.0},\n",
       "  mean: -0.01525, std: 0.00249, params: {'max_depth': 4, 'min_child_weight': 1.5},\n",
       "  mean: -0.01525, std: 0.00249, params: {'max_depth': 4, 'min_child_weight': 2.0},\n",
       "  mean: -0.01550, std: 0.00267, params: {'max_depth': 4, 'min_child_weight': 2.5},\n",
       "  mean: -0.01550, std: 0.00267, params: {'max_depth': 4, 'min_child_weight': 3.0},\n",
       "  mean: -0.01582, std: 0.00262, params: {'max_depth': 4, 'min_child_weight': 3.5},\n",
       "  mean: -0.01488, std: 0.00249, params: {'max_depth': 5, 'min_child_weight': 1.0},\n",
       "  mean: -0.01533, std: 0.00239, params: {'max_depth': 5, 'min_child_weight': 1.5},\n",
       "  mean: -0.01533, std: 0.00239, params: {'max_depth': 5, 'min_child_weight': 2.0},\n",
       "  mean: -0.01561, std: 0.00260, params: {'max_depth': 5, 'min_child_weight': 2.5},\n",
       "  mean: -0.01561, std: 0.00260, params: {'max_depth': 5, 'min_child_weight': 3.0},\n",
       "  mean: -0.01592, std: 0.00257, params: {'max_depth': 5, 'min_child_weight': 3.5},\n",
       "  mean: -0.01495, std: 0.00258, params: {'max_depth': 6, 'min_child_weight': 1.0},\n",
       "  mean: -0.01533, std: 0.00244, params: {'max_depth': 6, 'min_child_weight': 1.5},\n",
       "  mean: -0.01533, std: 0.00244, params: {'max_depth': 6, 'min_child_weight': 2.0},\n",
       "  mean: -0.01564, std: 0.00252, params: {'max_depth': 6, 'min_child_weight': 2.5},\n",
       "  mean: -0.01564, std: 0.00252, params: {'max_depth': 6, 'min_child_weight': 3.0},\n",
       "  mean: -0.01584, std: 0.00254, params: {'max_depth': 6, 'min_child_weight': 3.5}],\n",
       " {'max_depth': 4, 'min_child_weight': 1.0},\n",
       " -0.014833541063736707)"
      ]
     },
     "execution_count": 89,
     "metadata": {},
     "output_type": "execute_result"
    }
   ],
   "source": [
    "# STEP 2: Tune max_depth and min_child_weight\n",
    "\n",
    "param_test1 = cv_params = {'max_depth': [3, 4, 5, 6], 'min_child_weight': np.arange(1, 4, .5)}\n",
    "\n",
    "gsearch1 = GridSearchCV(estimator = xgb.XGBRegressor( learning_rate =0.01, n_estimators=1945,\n",
    "                                                  gamma=0, subsample=0.2, colsample_bytree=0.2,\n",
    "                                                  nthread=4, scale_pos_weight=1, seed=27),\n",
    "                                                  param_grid = param_test1, scoring='neg_mean_squared_error', iid=False, cv=3)\n",
    "\n",
    "gsearch1.fit(train,y.values.ravel())\n",
    "\n",
    "gsearch1.grid_scores_, gsearch1.best_params_, gsearch1.best_score_\n"
   ]
  },
  {
   "cell_type": "code",
   "execution_count": 91,
   "metadata": {
    "collapsed": false,
    "scrolled": true
   },
   "outputs": [
    {
     "name": "stderr",
     "output_type": "stream",
     "text": [
      "C:\\Users\\User\\Anaconda2\\lib\\site-packages\\sklearn\\model_selection\\_search.py:667: DeprecationWarning: The grid_scores_ attribute was deprecated in version 0.18 in favor of the more elaborate cv_results_ attribute. The grid_scores_ attribute will not be available from 0.20\n",
      "  DeprecationWarning)\n"
     ]
    },
    {
     "data": {
      "text/plain": [
       "([mean: -0.01483, std: 0.00259, params: {'gamma': 0.0},\n",
       "  mean: -0.01615, std: 0.00284, params: {'gamma': 0.1},\n",
       "  mean: -0.01786, std: 0.00298, params: {'gamma': 0.2},\n",
       "  mean: -0.01952, std: 0.00313, params: {'gamma': 0.3},\n",
       "  mean: -0.02117, std: 0.00321, params: {'gamma': 0.4}],\n",
       " {'gamma': 0.0},\n",
       " -0.014833541063736707)"
      ]
     },
     "execution_count": 91,
     "metadata": {},
     "output_type": "execute_result"
    }
   ],
   "source": [
    "# STEP 3: Tune gamma\n",
    "\n",
    "## apparently, we want to tune the n_estimators after each hyperparameter tuning round...\n",
    "\n",
    "param_test2 = {'gamma':[i/10.0 for i in range(0,5)]}\n",
    "\n",
    "gsearch2 = GridSearchCV(estimator = xgb.XGBRegressor( learning_rate =0.01, n_estimators=1945, max_depth=4, min_child_weight=1,\n",
    "                                                  gamma=0, subsample=0.2, colsample_bytree=0.2,\n",
    "                                                  nthread=4, scale_pos_weight=1, seed=27),\n",
    "                                                  param_grid = param_test2, scoring='neg_mean_squared_error', iid=False, cv=3)\n",
    "\n",
    "gsearch2.fit(train,y.values.ravel())\n",
    "\n",
    "gsearch2.grid_scores_, gsearch2.best_params_, gsearch2.best_score_"
   ]
  },
  {
   "cell_type": "code",
   "execution_count": 92,
   "metadata": {
    "collapsed": false
   },
   "outputs": [
    {
     "data": {
      "text/plain": [
       "[0.6, 0.7, 0.8, 0.9]"
      ]
     },
     "execution_count": 92,
     "metadata": {},
     "output_type": "execute_result"
    }
   ],
   "source": [
    "[i/10.0 for i in range(6,10)]"
   ]
  },
  {
   "cell_type": "code",
   "execution_count": 93,
   "metadata": {
    "collapsed": true
   },
   "outputs": [
    {
     "name": "stderr",
     "output_type": "stream",
     "text": [
      "C:\\Users\\User\\Anaconda2\\lib\\site-packages\\sklearn\\model_selection\\_search.py:667: DeprecationWarning: The grid_scores_ attribute was deprecated in version 0.18 in favor of the more elaborate cv_results_ attribute. The grid_scores_ attribute will not be available from 0.20\n",
      "  DeprecationWarning)\n"
     ]
    },
    {
     "data": {
      "text/plain": [
       "([mean: -0.01626, std: 0.00284, params: {'subsample': 0.1, 'colsample_bytree': 0.1},\n",
       "  mean: -0.01565, std: 0.00291, params: {'subsample': 0.2, 'colsample_bytree': 0.1},\n",
       "  mean: -0.01505, std: 0.00307, params: {'subsample': 0.3, 'colsample_bytree': 0.1},\n",
       "  mean: -0.01498, std: 0.00298, params: {'subsample': 0.4, 'colsample_bytree': 0.1},\n",
       "  mean: -0.01490, std: 0.00287, params: {'subsample': 0.5, 'colsample_bytree': 0.1},\n",
       "  mean: -0.01477, std: 0.00304, params: {'subsample': 0.6, 'colsample_bytree': 0.1},\n",
       "  mean: -0.01466, std: 0.00296, params: {'subsample': 0.7, 'colsample_bytree': 0.1},\n",
       "  mean: -0.01477, std: 0.00294, params: {'subsample': 0.8, 'colsample_bytree': 0.1},\n",
       "  mean: -0.01495, std: 0.00302, params: {'subsample': 0.9, 'colsample_bytree': 0.1},\n",
       "  mean: -0.01563, std: 0.00243, params: {'subsample': 0.1, 'colsample_bytree': 0.2},\n",
       "  mean: -0.01483, std: 0.00259, params: {'subsample': 0.2, 'colsample_bytree': 0.2},\n",
       "  mean: -0.01471, std: 0.00290, params: {'subsample': 0.3, 'colsample_bytree': 0.2},\n",
       "  mean: -0.01474, std: 0.00315, params: {'subsample': 0.4, 'colsample_bytree': 0.2},\n",
       "  mean: -0.01470, std: 0.00291, params: {'subsample': 0.5, 'colsample_bytree': 0.2},\n",
       "  mean: -0.01473, std: 0.00311, params: {'subsample': 0.6, 'colsample_bytree': 0.2},\n",
       "  mean: -0.01467, std: 0.00311, params: {'subsample': 0.7, 'colsample_bytree': 0.2},\n",
       "  mean: -0.01470, std: 0.00321, params: {'subsample': 0.8, 'colsample_bytree': 0.2},\n",
       "  mean: -0.01472, std: 0.00309, params: {'subsample': 0.9, 'colsample_bytree': 0.2},\n",
       "  mean: -0.01570, std: 0.00241, params: {'subsample': 0.1, 'colsample_bytree': 0.3},\n",
       "  mean: -0.01527, std: 0.00261, params: {'subsample': 0.2, 'colsample_bytree': 0.3},\n",
       "  mean: -0.01484, std: 0.00281, params: {'subsample': 0.3, 'colsample_bytree': 0.3},\n",
       "  mean: -0.01463, std: 0.00301, params: {'subsample': 0.4, 'colsample_bytree': 0.3},\n",
       "  mean: -0.01469, std: 0.00286, params: {'subsample': 0.5, 'colsample_bytree': 0.3},\n",
       "  mean: -0.01488, std: 0.00297, params: {'subsample': 0.6, 'colsample_bytree': 0.3},\n",
       "  mean: -0.01477, std: 0.00300, params: {'subsample': 0.7, 'colsample_bytree': 0.3},\n",
       "  mean: -0.01476, std: 0.00316, params: {'subsample': 0.8, 'colsample_bytree': 0.3},\n",
       "  mean: -0.01518, std: 0.00326, params: {'subsample': 0.9, 'colsample_bytree': 0.3},\n",
       "  mean: -0.01580, std: 0.00230, params: {'subsample': 0.1, 'colsample_bytree': 0.4},\n",
       "  mean: -0.01555, std: 0.00271, params: {'subsample': 0.2, 'colsample_bytree': 0.4},\n",
       "  mean: -0.01505, std: 0.00282, params: {'subsample': 0.3, 'colsample_bytree': 0.4},\n",
       "  mean: -0.01465, std: 0.00303, params: {'subsample': 0.4, 'colsample_bytree': 0.4},\n",
       "  mean: -0.01482, std: 0.00324, params: {'subsample': 0.5, 'colsample_bytree': 0.4},\n",
       "  mean: -0.01493, std: 0.00312, params: {'subsample': 0.6, 'colsample_bytree': 0.4},\n",
       "  mean: -0.01492, std: 0.00321, params: {'subsample': 0.7, 'colsample_bytree': 0.4},\n",
       "  mean: -0.01515, std: 0.00328, params: {'subsample': 0.8, 'colsample_bytree': 0.4},\n",
       "  mean: -0.01516, std: 0.00327, params: {'subsample': 0.9, 'colsample_bytree': 0.4},\n",
       "  mean: -0.01582, std: 0.00261, params: {'subsample': 0.1, 'colsample_bytree': 0.5},\n",
       "  mean: -0.01572, std: 0.00255, params: {'subsample': 0.2, 'colsample_bytree': 0.5},\n",
       "  mean: -0.01515, std: 0.00281, params: {'subsample': 0.3, 'colsample_bytree': 0.5},\n",
       "  mean: -0.01484, std: 0.00303, params: {'subsample': 0.4, 'colsample_bytree': 0.5},\n",
       "  mean: -0.01500, std: 0.00313, params: {'subsample': 0.5, 'colsample_bytree': 0.5},\n",
       "  mean: -0.01497, std: 0.00295, params: {'subsample': 0.6, 'colsample_bytree': 0.5},\n",
       "  mean: -0.01498, std: 0.00328, params: {'subsample': 0.7, 'colsample_bytree': 0.5},\n",
       "  mean: -0.01513, std: 0.00320, params: {'subsample': 0.8, 'colsample_bytree': 0.5},\n",
       "  mean: -0.01535, std: 0.00328, params: {'subsample': 0.9, 'colsample_bytree': 0.5},\n",
       "  mean: -0.01614, std: 0.00224, params: {'subsample': 0.1, 'colsample_bytree': 0.6},\n",
       "  mean: -0.01599, std: 0.00260, params: {'subsample': 0.2, 'colsample_bytree': 0.6},\n",
       "  mean: -0.01537, std: 0.00285, params: {'subsample': 0.3, 'colsample_bytree': 0.6},\n",
       "  mean: -0.01497, std: 0.00296, params: {'subsample': 0.4, 'colsample_bytree': 0.6},\n",
       "  mean: -0.01491, std: 0.00304, params: {'subsample': 0.5, 'colsample_bytree': 0.6},\n",
       "  mean: -0.01501, std: 0.00313, params: {'subsample': 0.6, 'colsample_bytree': 0.6},\n",
       "  mean: -0.01515, std: 0.00318, params: {'subsample': 0.7, 'colsample_bytree': 0.6},\n",
       "  mean: -0.01535, std: 0.00332, params: {'subsample': 0.8, 'colsample_bytree': 0.6},\n",
       "  mean: -0.01546, std: 0.00341, params: {'subsample': 0.9, 'colsample_bytree': 0.6},\n",
       "  mean: -0.01638, std: 0.00217, params: {'subsample': 0.1, 'colsample_bytree': 0.7},\n",
       "  mean: -0.01597, std: 0.00285, params: {'subsample': 0.2, 'colsample_bytree': 0.7},\n",
       "  mean: -0.01565, std: 0.00301, params: {'subsample': 0.3, 'colsample_bytree': 0.7},\n",
       "  mean: -0.01508, std: 0.00297, params: {'subsample': 0.4, 'colsample_bytree': 0.7},\n",
       "  mean: -0.01504, std: 0.00306, params: {'subsample': 0.5, 'colsample_bytree': 0.7},\n",
       "  mean: -0.01513, std: 0.00321, params: {'subsample': 0.6, 'colsample_bytree': 0.7},\n",
       "  mean: -0.01508, std: 0.00316, params: {'subsample': 0.7, 'colsample_bytree': 0.7},\n",
       "  mean: -0.01541, std: 0.00327, params: {'subsample': 0.8, 'colsample_bytree': 0.7},\n",
       "  mean: -0.01564, std: 0.00321, params: {'subsample': 0.9, 'colsample_bytree': 0.7},\n",
       "  mean: -0.01649, std: 0.00242, params: {'subsample': 0.1, 'colsample_bytree': 0.8},\n",
       "  mean: -0.01599, std: 0.00263, params: {'subsample': 0.2, 'colsample_bytree': 0.8},\n",
       "  mean: -0.01564, std: 0.00282, params: {'subsample': 0.3, 'colsample_bytree': 0.8},\n",
       "  mean: -0.01516, std: 0.00295, params: {'subsample': 0.4, 'colsample_bytree': 0.8},\n",
       "  mean: -0.01506, std: 0.00308, params: {'subsample': 0.5, 'colsample_bytree': 0.8},\n",
       "  mean: -0.01511, std: 0.00314, params: {'subsample': 0.6, 'colsample_bytree': 0.8},\n",
       "  mean: -0.01524, std: 0.00332, params: {'subsample': 0.7, 'colsample_bytree': 0.8},\n",
       "  mean: -0.01550, std: 0.00335, params: {'subsample': 0.8, 'colsample_bytree': 0.8},\n",
       "  mean: -0.01573, std: 0.00330, params: {'subsample': 0.9, 'colsample_bytree': 0.8},\n",
       "  mean: -0.01657, std: 0.00243, params: {'subsample': 0.1, 'colsample_bytree': 0.9},\n",
       "  mean: -0.01608, std: 0.00282, params: {'subsample': 0.2, 'colsample_bytree': 0.9},\n",
       "  mean: -0.01534, std: 0.00283, params: {'subsample': 0.3, 'colsample_bytree': 0.9},\n",
       "  mean: -0.01521, std: 0.00312, params: {'subsample': 0.4, 'colsample_bytree': 0.9},\n",
       "  mean: -0.01519, std: 0.00298, params: {'subsample': 0.5, 'colsample_bytree': 0.9},\n",
       "  mean: -0.01539, std: 0.00334, params: {'subsample': 0.6, 'colsample_bytree': 0.9},\n",
       "  mean: -0.01539, std: 0.00313, params: {'subsample': 0.7, 'colsample_bytree': 0.9},\n",
       "  mean: -0.01564, std: 0.00326, params: {'subsample': 0.8, 'colsample_bytree': 0.9},\n",
       "  mean: -0.01585, std: 0.00328, params: {'subsample': 0.9, 'colsample_bytree': 0.9}],\n",
       " {'colsample_bytree': 0.3, 'subsample': 0.4},\n",
       " -0.014633166300204553)"
      ]
     },
     "execution_count": 93,
     "metadata": {},
     "output_type": "execute_result"
    }
   ],
   "source": [
    "# STEP 4: Tune subsample and colsample_bytree\n",
    "\n",
    "param_test3 = cv_params = {'subsample':[i/10.0 for i in range(1,10)],\n",
    "                                        'colsample_bytree':[i/10.0 for i in range(1,10)]}\n",
    "\n",
    "gsearch3 = GridSearchCV(estimator = xgb.XGBRegressor(learning_rate =0.01, n_estimators=1945, max_depth=4, min_child_weight=1,\n",
    "                                                  gamma=0,\n",
    "                                                  nthread=4, scale_pos_weight=1, seed=27),\n",
    "                                                  param_grid = param_test3, scoring='neg_mean_squared_error', iid=False, cv=3)\n",
    "\n",
    "gsearch3.fit(train,y.values.ravel())\n",
    "\n",
    "gsearch3.grid_scores_, gsearch3.best_params_, gsearch3.best_score_"
   ]
  },
  {
   "cell_type": "code",
   "execution_count": 94,
   "metadata": {
    "collapsed": false
   },
   "outputs": [
    {
     "name": "stderr",
     "output_type": "stream",
     "text": [
      "C:\\Users\\User\\Anaconda2\\lib\\site-packages\\sklearn\\model_selection\\_search.py:667: DeprecationWarning: The grid_scores_ attribute was deprecated in version 0.18 in favor of the more elaborate cv_results_ attribute. The grid_scores_ attribute will not be available from 0.20\n",
      "  DeprecationWarning)\n"
     ]
    },
    {
     "data": {
      "text/plain": [
       "([mean: -0.01463, std: 0.00300, params: {'reg_alpha': 1e-05},\n",
       "  mean: -0.01466, std: 0.00299, params: {'reg_alpha': 0.0001},\n",
       "  mean: -0.01466, std: 0.00298, params: {'reg_alpha': 0.001},\n",
       "  mean: -0.01463, std: 0.00291, params: {'reg_alpha': 0.01},\n",
       "  mean: -0.01477, std: 0.00266, params: {'reg_alpha': 0.1},\n",
       "  mean: -0.01572, std: 0.00235, params: {'reg_alpha': 1}],\n",
       " {'reg_alpha': 1e-05},\n",
       " -0.014628132787006941)"
      ]
     },
     "execution_count": 94,
     "metadata": {},
     "output_type": "execute_result"
    }
   ],
   "source": [
    "# STEP 5: Tuning Regularization Parameters\n",
    "\n",
    "param_test4 = cv_params = {'reg_alpha':[1e-5, 1e-4, 1e-3, 1e-2, 0.1, 1]}\n",
    "\n",
    "gsearch4 = GridSearchCV(estimator = xgb.XGBRegressor(learning_rate =0.01, n_estimators=1945, max_depth=4, min_child_weight=1,\n",
    "                                                  gamma=0, subsample=0.4, colsample_bytree=0.3,\n",
    "                                                  nthread=4, scale_pos_weight=1, seed=27),\n",
    "                                                  param_grid = param_test4, scoring='neg_mean_squared_error', iid=False, cv=3)\n",
    "\n",
    "gsearch4.fit(train,y.values.ravel())\n",
    "\n",
    "gsearch4.grid_scores_, gsearch4.best_params_, gsearch4.best_score_\n"
   ]
  },
  {
   "cell_type": "code",
   "execution_count": 94,
   "metadata": {
    "collapsed": false
   },
   "outputs": [
    {
     "name": "stderr",
     "output_type": "stream",
     "text": [
      "C:\\Users\\User\\Anaconda2\\lib\\site-packages\\sklearn\\model_selection\\_search.py:667: DeprecationWarning: The grid_scores_ attribute was deprecated in version 0.18 in favor of the more elaborate cv_results_ attribute. The grid_scores_ attribute will not be available from 0.20\n",
      "  DeprecationWarning)\n"
     ]
    },
    {
     "data": {
      "text/plain": [
       "([mean: -0.01463, std: 0.00300, params: {'reg_alpha': 1e-05},\n",
       "  mean: -0.01466, std: 0.00299, params: {'reg_alpha': 0.0001},\n",
       "  mean: -0.01466, std: 0.00298, params: {'reg_alpha': 0.001},\n",
       "  mean: -0.01463, std: 0.00291, params: {'reg_alpha': 0.01},\n",
       "  mean: -0.01477, std: 0.00266, params: {'reg_alpha': 0.1},\n",
       "  mean: -0.01572, std: 0.00235, params: {'reg_alpha': 1}],\n",
       " {'reg_alpha': 1e-05},\n",
       " -0.014628132787006941)"
      ]
     },
     "execution_count": 94,
     "metadata": {},
     "output_type": "execute_result"
    }
   ],
   "source": [
    "# STEP 5: Tuning Regularization Parameters\n",
    "\n",
    "param_test4 = cv_params = {'reg_alpha':[1e-5, 1e-4, 1e-3, 1e-2, 0.1, 1]}\n",
    "\n",
    "gsearch4 = GridSearchCV(estimator = xgb.XGBRegressor(learning_rate =0.01, n_estimators=1945, max_depth=4, min_child_weight=1,\n",
    "                                                  gamma=0, subsample=0.4, colsample_bytree=0.3, reg_alpha=1e-5, \n",
    "                                                  nthread=4, scale_pos_weight=1, seed=27),\n",
    "                                                  param_grid = param_test4, scoring='neg_mean_squared_error', iid=False, cv=3)\n",
    "\n",
    "gsearch4.fit(train,y.values.ravel())\n",
    "\n",
    "gsearch4.grid_scores_, gsearch4.best_params_, gsearch4.best_score_\n"
   ]
  },
  {
   "cell_type": "code",
   "execution_count": 95,
   "metadata": {
    "collapsed": true
   },
   "outputs": [
    {
     "data": {
      "text/html": [
       "<div>\n",
       "<table border=\"1\" class=\"dataframe\">\n",
       "  <thead>\n",
       "    <tr style=\"text-align: right;\">\n",
       "      <th></th>\n",
       "      <th>test-rmse-mean</th>\n",
       "      <th>test-rmse-std</th>\n",
       "      <th>train-rmse-mean</th>\n",
       "      <th>train-rmse-std</th>\n",
       "    </tr>\n",
       "  </thead>\n",
       "  <tbody>\n",
       "    <tr>\n",
       "      <th>0</th>\n",
       "      <td>11.415664</td>\n",
       "      <td>0.007413</td>\n",
       "      <td>11.415666</td>\n",
       "      <td>0.003735</td>\n",
       "    </tr>\n",
       "    <tr>\n",
       "      <th>1</th>\n",
       "      <td>11.301905</td>\n",
       "      <td>0.007558</td>\n",
       "      <td>11.301907</td>\n",
       "      <td>0.003611</td>\n",
       "    </tr>\n",
       "    <tr>\n",
       "      <th>2</th>\n",
       "      <td>11.189232</td>\n",
       "      <td>0.007615</td>\n",
       "      <td>11.189234</td>\n",
       "      <td>0.003558</td>\n",
       "    </tr>\n",
       "    <tr>\n",
       "      <th>3</th>\n",
       "      <td>11.077864</td>\n",
       "      <td>0.007741</td>\n",
       "      <td>11.077865</td>\n",
       "      <td>0.003444</td>\n",
       "    </tr>\n",
       "    <tr>\n",
       "      <th>4</th>\n",
       "      <td>10.967658</td>\n",
       "      <td>0.007892</td>\n",
       "      <td>10.967660</td>\n",
       "      <td>0.003302</td>\n",
       "    </tr>\n",
       "    <tr>\n",
       "      <th>5</th>\n",
       "      <td>10.858365</td>\n",
       "      <td>0.007964</td>\n",
       "      <td>10.858367</td>\n",
       "      <td>0.003245</td>\n",
       "    </tr>\n",
       "    <tr>\n",
       "      <th>6</th>\n",
       "      <td>10.750138</td>\n",
       "      <td>0.008100</td>\n",
       "      <td>10.750140</td>\n",
       "      <td>0.003125</td>\n",
       "    </tr>\n",
       "    <tr>\n",
       "      <th>7</th>\n",
       "      <td>10.643031</td>\n",
       "      <td>0.008216</td>\n",
       "      <td>10.643033</td>\n",
       "      <td>0.003021</td>\n",
       "    </tr>\n",
       "    <tr>\n",
       "      <th>8</th>\n",
       "      <td>10.537177</td>\n",
       "      <td>0.008037</td>\n",
       "      <td>10.537180</td>\n",
       "      <td>0.003215</td>\n",
       "    </tr>\n",
       "    <tr>\n",
       "      <th>9</th>\n",
       "      <td>10.432454</td>\n",
       "      <td>0.007894</td>\n",
       "      <td>10.432455</td>\n",
       "      <td>0.003374</td>\n",
       "    </tr>\n",
       "    <tr>\n",
       "      <th>10</th>\n",
       "      <td>10.328361</td>\n",
       "      <td>0.008019</td>\n",
       "      <td>10.328364</td>\n",
       "      <td>0.003258</td>\n",
       "    </tr>\n",
       "    <tr>\n",
       "      <th>11</th>\n",
       "      <td>10.225556</td>\n",
       "      <td>0.008039</td>\n",
       "      <td>10.225559</td>\n",
       "      <td>0.003252</td>\n",
       "    </tr>\n",
       "    <tr>\n",
       "      <th>12</th>\n",
       "      <td>10.123695</td>\n",
       "      <td>0.008196</td>\n",
       "      <td>10.123697</td>\n",
       "      <td>0.003123</td>\n",
       "    </tr>\n",
       "    <tr>\n",
       "      <th>13</th>\n",
       "      <td>10.022843</td>\n",
       "      <td>0.008409</td>\n",
       "      <td>10.022846</td>\n",
       "      <td>0.002936</td>\n",
       "    </tr>\n",
       "    <tr>\n",
       "      <th>14</th>\n",
       "      <td>9.923134</td>\n",
       "      <td>0.008417</td>\n",
       "      <td>9.923136</td>\n",
       "      <td>0.002930</td>\n",
       "    </tr>\n",
       "    <tr>\n",
       "      <th>15</th>\n",
       "      <td>9.824330</td>\n",
       "      <td>0.008465</td>\n",
       "      <td>9.824333</td>\n",
       "      <td>0.002897</td>\n",
       "    </tr>\n",
       "    <tr>\n",
       "      <th>16</th>\n",
       "      <td>9.726507</td>\n",
       "      <td>0.008543</td>\n",
       "      <td>9.726509</td>\n",
       "      <td>0.002838</td>\n",
       "    </tr>\n",
       "    <tr>\n",
       "      <th>17</th>\n",
       "      <td>9.629677</td>\n",
       "      <td>0.008489</td>\n",
       "      <td>9.629679</td>\n",
       "      <td>0.002877</td>\n",
       "    </tr>\n",
       "    <tr>\n",
       "      <th>18</th>\n",
       "      <td>9.533780</td>\n",
       "      <td>0.008638</td>\n",
       "      <td>9.533783</td>\n",
       "      <td>0.002778</td>\n",
       "    </tr>\n",
       "    <tr>\n",
       "      <th>19</th>\n",
       "      <td>9.438789</td>\n",
       "      <td>0.008511</td>\n",
       "      <td>9.438792</td>\n",
       "      <td>0.002895</td>\n",
       "    </tr>\n",
       "    <tr>\n",
       "      <th>20</th>\n",
       "      <td>9.344883</td>\n",
       "      <td>0.008751</td>\n",
       "      <td>9.344885</td>\n",
       "      <td>0.002745</td>\n",
       "    </tr>\n",
       "    <tr>\n",
       "      <th>21</th>\n",
       "      <td>9.251801</td>\n",
       "      <td>0.008614</td>\n",
       "      <td>9.251804</td>\n",
       "      <td>0.002857</td>\n",
       "    </tr>\n",
       "    <tr>\n",
       "      <th>22</th>\n",
       "      <td>9.159826</td>\n",
       "      <td>0.008600</td>\n",
       "      <td>9.159829</td>\n",
       "      <td>0.002876</td>\n",
       "    </tr>\n",
       "    <tr>\n",
       "      <th>23</th>\n",
       "      <td>9.068633</td>\n",
       "      <td>0.008781</td>\n",
       "      <td>9.068635</td>\n",
       "      <td>0.002662</td>\n",
       "    </tr>\n",
       "    <tr>\n",
       "      <th>24</th>\n",
       "      <td>8.978405</td>\n",
       "      <td>0.008847</td>\n",
       "      <td>8.978408</td>\n",
       "      <td>0.002608</td>\n",
       "    </tr>\n",
       "    <tr>\n",
       "      <th>25</th>\n",
       "      <td>8.889102</td>\n",
       "      <td>0.008844</td>\n",
       "      <td>8.889105</td>\n",
       "      <td>0.002613</td>\n",
       "    </tr>\n",
       "    <tr>\n",
       "      <th>26</th>\n",
       "      <td>8.800670</td>\n",
       "      <td>0.008742</td>\n",
       "      <td>8.800673</td>\n",
       "      <td>0.002721</td>\n",
       "    </tr>\n",
       "    <tr>\n",
       "      <th>27</th>\n",
       "      <td>8.713015</td>\n",
       "      <td>0.008755</td>\n",
       "      <td>8.713019</td>\n",
       "      <td>0.002726</td>\n",
       "    </tr>\n",
       "    <tr>\n",
       "      <th>28</th>\n",
       "      <td>8.626367</td>\n",
       "      <td>0.008733</td>\n",
       "      <td>8.626369</td>\n",
       "      <td>0.002766</td>\n",
       "    </tr>\n",
       "    <tr>\n",
       "      <th>29</th>\n",
       "      <td>8.540720</td>\n",
       "      <td>0.008822</td>\n",
       "      <td>8.540723</td>\n",
       "      <td>0.002676</td>\n",
       "    </tr>\n",
       "    <tr>\n",
       "      <th>...</th>\n",
       "      <td>...</td>\n",
       "      <td>...</td>\n",
       "      <td>...</td>\n",
       "      <td>...</td>\n",
       "    </tr>\n",
       "    <tr>\n",
       "      <th>1638</th>\n",
       "      <td>0.121512</td>\n",
       "      <td>0.015871</td>\n",
       "      <td>0.058123</td>\n",
       "      <td>0.002817</td>\n",
       "    </tr>\n",
       "    <tr>\n",
       "      <th>1639</th>\n",
       "      <td>0.121507</td>\n",
       "      <td>0.015878</td>\n",
       "      <td>0.058103</td>\n",
       "      <td>0.002815</td>\n",
       "    </tr>\n",
       "    <tr>\n",
       "      <th>1640</th>\n",
       "      <td>0.121510</td>\n",
       "      <td>0.015876</td>\n",
       "      <td>0.058080</td>\n",
       "      <td>0.002815</td>\n",
       "    </tr>\n",
       "    <tr>\n",
       "      <th>1641</th>\n",
       "      <td>0.121511</td>\n",
       "      <td>0.015870</td>\n",
       "      <td>0.058056</td>\n",
       "      <td>0.002809</td>\n",
       "    </tr>\n",
       "    <tr>\n",
       "      <th>1642</th>\n",
       "      <td>0.121505</td>\n",
       "      <td>0.015878</td>\n",
       "      <td>0.058034</td>\n",
       "      <td>0.002806</td>\n",
       "    </tr>\n",
       "    <tr>\n",
       "      <th>1643</th>\n",
       "      <td>0.121504</td>\n",
       "      <td>0.015873</td>\n",
       "      <td>0.058015</td>\n",
       "      <td>0.002799</td>\n",
       "    </tr>\n",
       "    <tr>\n",
       "      <th>1644</th>\n",
       "      <td>0.121507</td>\n",
       "      <td>0.015867</td>\n",
       "      <td>0.057991</td>\n",
       "      <td>0.002797</td>\n",
       "    </tr>\n",
       "    <tr>\n",
       "      <th>1645</th>\n",
       "      <td>0.121502</td>\n",
       "      <td>0.015876</td>\n",
       "      <td>0.057968</td>\n",
       "      <td>0.002793</td>\n",
       "    </tr>\n",
       "    <tr>\n",
       "      <th>1646</th>\n",
       "      <td>0.121497</td>\n",
       "      <td>0.015882</td>\n",
       "      <td>0.057943</td>\n",
       "      <td>0.002789</td>\n",
       "    </tr>\n",
       "    <tr>\n",
       "      <th>1647</th>\n",
       "      <td>0.121496</td>\n",
       "      <td>0.015877</td>\n",
       "      <td>0.057923</td>\n",
       "      <td>0.002788</td>\n",
       "    </tr>\n",
       "    <tr>\n",
       "      <th>1648</th>\n",
       "      <td>0.121491</td>\n",
       "      <td>0.015877</td>\n",
       "      <td>0.057890</td>\n",
       "      <td>0.002801</td>\n",
       "    </tr>\n",
       "    <tr>\n",
       "      <th>1649</th>\n",
       "      <td>0.121486</td>\n",
       "      <td>0.015877</td>\n",
       "      <td>0.057862</td>\n",
       "      <td>0.002801</td>\n",
       "    </tr>\n",
       "    <tr>\n",
       "      <th>1650</th>\n",
       "      <td>0.121486</td>\n",
       "      <td>0.015870</td>\n",
       "      <td>0.057842</td>\n",
       "      <td>0.002792</td>\n",
       "    </tr>\n",
       "    <tr>\n",
       "      <th>1651</th>\n",
       "      <td>0.121497</td>\n",
       "      <td>0.015883</td>\n",
       "      <td>0.057823</td>\n",
       "      <td>0.002794</td>\n",
       "    </tr>\n",
       "    <tr>\n",
       "      <th>1652</th>\n",
       "      <td>0.121498</td>\n",
       "      <td>0.015891</td>\n",
       "      <td>0.057794</td>\n",
       "      <td>0.002792</td>\n",
       "    </tr>\n",
       "    <tr>\n",
       "      <th>1653</th>\n",
       "      <td>0.121506</td>\n",
       "      <td>0.015892</td>\n",
       "      <td>0.057774</td>\n",
       "      <td>0.002789</td>\n",
       "    </tr>\n",
       "    <tr>\n",
       "      <th>1654</th>\n",
       "      <td>0.121501</td>\n",
       "      <td>0.015889</td>\n",
       "      <td>0.057742</td>\n",
       "      <td>0.002783</td>\n",
       "    </tr>\n",
       "    <tr>\n",
       "      <th>1655</th>\n",
       "      <td>0.121499</td>\n",
       "      <td>0.015891</td>\n",
       "      <td>0.057709</td>\n",
       "      <td>0.002768</td>\n",
       "    </tr>\n",
       "    <tr>\n",
       "      <th>1656</th>\n",
       "      <td>0.121495</td>\n",
       "      <td>0.015887</td>\n",
       "      <td>0.057682</td>\n",
       "      <td>0.002763</td>\n",
       "    </tr>\n",
       "    <tr>\n",
       "      <th>1657</th>\n",
       "      <td>0.121500</td>\n",
       "      <td>0.015892</td>\n",
       "      <td>0.057663</td>\n",
       "      <td>0.002770</td>\n",
       "    </tr>\n",
       "    <tr>\n",
       "      <th>1658</th>\n",
       "      <td>0.121502</td>\n",
       "      <td>0.015891</td>\n",
       "      <td>0.057641</td>\n",
       "      <td>0.002772</td>\n",
       "    </tr>\n",
       "    <tr>\n",
       "      <th>1659</th>\n",
       "      <td>0.121504</td>\n",
       "      <td>0.015890</td>\n",
       "      <td>0.057628</td>\n",
       "      <td>0.002774</td>\n",
       "    </tr>\n",
       "    <tr>\n",
       "      <th>1660</th>\n",
       "      <td>0.121501</td>\n",
       "      <td>0.015887</td>\n",
       "      <td>0.057610</td>\n",
       "      <td>0.002777</td>\n",
       "    </tr>\n",
       "    <tr>\n",
       "      <th>1661</th>\n",
       "      <td>0.121501</td>\n",
       "      <td>0.015880</td>\n",
       "      <td>0.057592</td>\n",
       "      <td>0.002775</td>\n",
       "    </tr>\n",
       "    <tr>\n",
       "      <th>1662</th>\n",
       "      <td>0.121507</td>\n",
       "      <td>0.015880</td>\n",
       "      <td>0.057568</td>\n",
       "      <td>0.002772</td>\n",
       "    </tr>\n",
       "    <tr>\n",
       "      <th>1663</th>\n",
       "      <td>0.121501</td>\n",
       "      <td>0.015880</td>\n",
       "      <td>0.057548</td>\n",
       "      <td>0.002775</td>\n",
       "    </tr>\n",
       "    <tr>\n",
       "      <th>1664</th>\n",
       "      <td>0.121495</td>\n",
       "      <td>0.015885</td>\n",
       "      <td>0.057530</td>\n",
       "      <td>0.002771</td>\n",
       "    </tr>\n",
       "    <tr>\n",
       "      <th>1665</th>\n",
       "      <td>0.121496</td>\n",
       "      <td>0.015891</td>\n",
       "      <td>0.057504</td>\n",
       "      <td>0.002772</td>\n",
       "    </tr>\n",
       "    <tr>\n",
       "      <th>1666</th>\n",
       "      <td>0.121486</td>\n",
       "      <td>0.015875</td>\n",
       "      <td>0.057479</td>\n",
       "      <td>0.002768</td>\n",
       "    </tr>\n",
       "    <tr>\n",
       "      <th>1667</th>\n",
       "      <td>0.121483</td>\n",
       "      <td>0.015879</td>\n",
       "      <td>0.057463</td>\n",
       "      <td>0.002773</td>\n",
       "    </tr>\n",
       "  </tbody>\n",
       "</table>\n",
       "<p>1668 rows × 4 columns</p>\n",
       "</div>"
      ],
      "text/plain": [
       "      test-rmse-mean  test-rmse-std  train-rmse-mean  train-rmse-std\n",
       "0          11.415664       0.007413        11.415666        0.003735\n",
       "1          11.301905       0.007558        11.301907        0.003611\n",
       "2          11.189232       0.007615        11.189234        0.003558\n",
       "3          11.077864       0.007741        11.077865        0.003444\n",
       "4          10.967658       0.007892        10.967660        0.003302\n",
       "5          10.858365       0.007964        10.858367        0.003245\n",
       "6          10.750138       0.008100        10.750140        0.003125\n",
       "7          10.643031       0.008216        10.643033        0.003021\n",
       "8          10.537177       0.008037        10.537180        0.003215\n",
       "9          10.432454       0.007894        10.432455        0.003374\n",
       "10         10.328361       0.008019        10.328364        0.003258\n",
       "11         10.225556       0.008039        10.225559        0.003252\n",
       "12         10.123695       0.008196        10.123697        0.003123\n",
       "13         10.022843       0.008409        10.022846        0.002936\n",
       "14          9.923134       0.008417         9.923136        0.002930\n",
       "15          9.824330       0.008465         9.824333        0.002897\n",
       "16          9.726507       0.008543         9.726509        0.002838\n",
       "17          9.629677       0.008489         9.629679        0.002877\n",
       "18          9.533780       0.008638         9.533783        0.002778\n",
       "19          9.438789       0.008511         9.438792        0.002895\n",
       "20          9.344883       0.008751         9.344885        0.002745\n",
       "21          9.251801       0.008614         9.251804        0.002857\n",
       "22          9.159826       0.008600         9.159829        0.002876\n",
       "23          9.068633       0.008781         9.068635        0.002662\n",
       "24          8.978405       0.008847         8.978408        0.002608\n",
       "25          8.889102       0.008844         8.889105        0.002613\n",
       "26          8.800670       0.008742         8.800673        0.002721\n",
       "27          8.713015       0.008755         8.713019        0.002726\n",
       "28          8.626367       0.008733         8.626369        0.002766\n",
       "29          8.540720       0.008822         8.540723        0.002676\n",
       "...              ...            ...              ...             ...\n",
       "1638        0.121512       0.015871         0.058123        0.002817\n",
       "1639        0.121507       0.015878         0.058103        0.002815\n",
       "1640        0.121510       0.015876         0.058080        0.002815\n",
       "1641        0.121511       0.015870         0.058056        0.002809\n",
       "1642        0.121505       0.015878         0.058034        0.002806\n",
       "1643        0.121504       0.015873         0.058015        0.002799\n",
       "1644        0.121507       0.015867         0.057991        0.002797\n",
       "1645        0.121502       0.015876         0.057968        0.002793\n",
       "1646        0.121497       0.015882         0.057943        0.002789\n",
       "1647        0.121496       0.015877         0.057923        0.002788\n",
       "1648        0.121491       0.015877         0.057890        0.002801\n",
       "1649        0.121486       0.015877         0.057862        0.002801\n",
       "1650        0.121486       0.015870         0.057842        0.002792\n",
       "1651        0.121497       0.015883         0.057823        0.002794\n",
       "1652        0.121498       0.015891         0.057794        0.002792\n",
       "1653        0.121506       0.015892         0.057774        0.002789\n",
       "1654        0.121501       0.015889         0.057742        0.002783\n",
       "1655        0.121499       0.015891         0.057709        0.002768\n",
       "1656        0.121495       0.015887         0.057682        0.002763\n",
       "1657        0.121500       0.015892         0.057663        0.002770\n",
       "1658        0.121502       0.015891         0.057641        0.002772\n",
       "1659        0.121504       0.015890         0.057628        0.002774\n",
       "1660        0.121501       0.015887         0.057610        0.002777\n",
       "1661        0.121501       0.015880         0.057592        0.002775\n",
       "1662        0.121507       0.015880         0.057568        0.002772\n",
       "1663        0.121501       0.015880         0.057548        0.002775\n",
       "1664        0.121495       0.015885         0.057530        0.002771\n",
       "1665        0.121496       0.015891         0.057504        0.002772\n",
       "1666        0.121486       0.015875         0.057479        0.002768\n",
       "1667        0.121483       0.015879         0.057463        0.002773\n",
       "\n",
       "[1668 rows x 4 columns]"
      ]
     },
     "execution_count": 95,
     "metadata": {},
     "output_type": "execute_result"
    }
   ],
   "source": [
    "# find final # of rounds\n",
    "\n",
    "xgdmat = xgb.DMatrix(train.values, y)\n",
    "\n",
    "#modelfit(regr, train,y.values.ravel())\n",
    "\n",
    "our_params = {'eta': 0.01, 'seed':0, 'subsample': 0.4, 'colsample_bytree': 0.3, 'gamma': 0,\n",
    "              'reg_alpha': 1e-5, 'max_depth': 4, 'min_child_weight': 1\n",
    "             } \n",
    "\n",
    "cv_xgb = xgb.cv(params = our_params, dtrain = xgdmat, num_boost_round = 8000, nfold = 3,\n",
    "                early_stopping_rounds = 50) # Look for early stopping that minimizes error\n",
    "\n",
    "cv_xgb"
   ]
  },
  {
   "cell_type": "code",
   "execution_count": 96,
   "metadata": {
    "collapsed": false
   },
   "outputs": [
    {
     "name": "stdout",
     "output_type": "stream",
     "text": [
      "('XGBoost score on training set: ', 0.0045278368745048812)\n"
     ]
    }
   ],
   "source": [
    "# final model\n",
    "\n",
    "xgdmat = xgb.DMatrix(train.values, y)\n",
    "\n",
    "regr = xgb.XGBRegressor(\n",
    "                 colsample_bytree=0.3,\n",
    "                 gamma=0.0,\n",
    "                 learning_rate=0.01,\n",
    "                 max_depth=4,\n",
    "                 min_child_weight=1,\n",
    "                 n_estimators=1668,                                                                  \n",
    "                 reg_alpha=1e-5,\n",
    "                 subsample=0.4,\n",
    "                 seed=42,\n",
    "                 silent=1)\n",
    "\n",
    "regr.fit(train, y)\n",
    "\n",
    "# Run prediction on training set to get a rough idea of how well it does.\n",
    "y_pred = regr.predict(train)\n",
    "y_test = y\n",
    "print(\"XGBoost score on training set: \", mean_squared_error(y_test, y_pred))\n",
    "\n",
    "# Run prediction on the Kaggle test set.\n",
    "y_pred_xgb = regr.predict(test)"
   ]
  },
  {
   "cell_type": "markdown",
   "metadata": {},
   "source": [
    "### predict test data and create submission file"
   ]
  },
  {
   "cell_type": "code",
   "execution_count": 97,
   "metadata": {
    "collapsed": false
   },
   "outputs": [
    {
     "data": {
      "text/plain": [
       "array([ 11.76618958,  11.97465134,  12.12652588, ...,  12.03920841,\n",
       "        11.6956768 ,  12.32116222], dtype=float32)"
      ]
     },
     "execution_count": 97,
     "metadata": {},
     "output_type": "execute_result"
    }
   ],
   "source": [
    "y_pred_xgb"
   ]
  },
  {
   "cell_type": "code",
   "execution_count": 98,
   "metadata": {
    "collapsed": false
   },
   "outputs": [],
   "source": [
    "predictions = np.expm1(y_pred_xgb)\n",
    "test = pd.read_csv(os.path.join('data', 'test.csv'))\n",
    "predictions = pd.DataFrame(predictions, columns=['SalePrice'])\n",
    "predictions = pd.concat((test.iloc[:, 0], predictions), axis = 1)\n",
    "predictions.to_csv(os.path.join('submission_files', 'xgb2.csv'), sep=\",\", index = False)"
   ]
  },
  {
   "cell_type": "markdown",
   "metadata": {},
   "source": [
    "score: 0.12558"
   ]
  },
  {
   "cell_type": "markdown",
   "metadata": {},
   "source": [
    "## Blended 1\n",
    "\n",
    "lasso6 and xgb1"
   ]
  },
  {
   "cell_type": "code",
   "execution_count": 86,
   "metadata": {
    "collapsed": false
   },
   "outputs": [
    {
     "data": {
      "text/plain": [
       "array([ 11.75356579,  11.97429276,  12.10027695, ...,  12.04427624,\n",
       "        11.69212246,  12.2768383 ], dtype=float32)"
      ]
     },
     "execution_count": 86,
     "metadata": {},
     "output_type": "execute_result"
    }
   ],
   "source": [
    "y_pred_xgb"
   ]
  },
  {
   "cell_type": "code",
   "execution_count": 104,
   "metadata": {
    "collapsed": false
   },
   "outputs": [],
   "source": [
    "predictions = np.expm1((lasso.predict(test) + y_pred_xgb)/2)"
   ]
  },
  {
   "cell_type": "code",
   "execution_count": 95,
   "metadata": {
    "collapsed": true
   },
   "outputs": [],
   "source": [
    "test = pd.read_csv(os.path.join('data', 'test.csv'))\n",
    "predictions = pd.DataFrame(predictions, columns=['SalePrice'])\n",
    "predictions = pd.concat((test.iloc[:, 0], predictions), axis = 1)\n",
    "predictions.to_csv(os.path.join('submission_files', 'blended2.csv'), sep=\",\", index = False)"
   ]
  },
  {
   "cell_type": "markdown",
   "metadata": {},
   "source": [
    "score: .11768"
   ]
  },
  {
   "cell_type": "markdown",
   "metadata": {},
   "source": [
    "## Blended 2\n",
    "\n",
    "lasso6 and xgb2"
   ]
  },
  {
   "cell_type": "code",
   "execution_count": 86,
   "metadata": {
    "collapsed": false
   },
   "outputs": [
    {
     "data": {
      "text/plain": [
       "array([ 11.75356579,  11.97429276,  12.10027695, ...,  12.04427624,\n",
       "        11.69212246,  12.2768383 ], dtype=float32)"
      ]
     },
     "execution_count": 86,
     "metadata": {},
     "output_type": "execute_result"
    }
   ],
   "source": [
    "y_pred_xgb"
   ]
  },
  {
   "cell_type": "code",
   "execution_count": 105,
   "metadata": {
    "collapsed": false
   },
   "outputs": [],
   "source": [
    "predictions = np.expm1((lasso.predict(test) + y_pred_xgb)/2)"
   ]
  },
  {
   "cell_type": "code",
   "execution_count": 106,
   "metadata": {
    "collapsed": true
   },
   "outputs": [],
   "source": [
    "test = pd.read_csv(os.path.join('data', 'test.csv'))\n",
    "predictions = pd.DataFrame(predictions, columns=['SalePrice'])\n",
    "predictions = pd.concat((test.iloc[:, 0], predictions), axis = 1)\n",
    "predictions.to_csv(os.path.join('submission_files', 'blended2.csv'), sep=\",\", index = False)"
   ]
  },
  {
   "cell_type": "markdown",
   "metadata": {},
   "source": [
    "## Blended 3\n",
    "\n",
    "70% lasso6 and 30% xgb1"
   ]
  },
  {
   "cell_type": "code",
   "execution_count": 116,
   "metadata": {
    "collapsed": false
   },
   "outputs": [
    {
     "data": {
      "text/plain": [
       "array([ 11.75356579,  11.97429276,  12.10027695, ...,  12.04427624,\n",
       "        11.69212246,  12.2768383 ], dtype=float32)"
      ]
     },
     "execution_count": 116,
     "metadata": {},
     "output_type": "execute_result"
    }
   ],
   "source": [
    "y_pred_xgb"
   ]
  },
  {
   "cell_type": "code",
   "execution_count": 123,
   "metadata": {
    "collapsed": false
   },
   "outputs": [
    {
     "data": {
      "text/plain": [
       "array([ 11.68927581,  11.95111481,  12.11327219, ...,  12.01075463,\n",
       "        11.68626894,  12.29008417])"
      ]
     },
     "execution_count": 123,
     "metadata": {},
     "output_type": "execute_result"
    }
   ],
   "source": [
    "lasso.predict(test)"
   ]
  },
  {
   "cell_type": "code",
   "execution_count": 126,
   "metadata": {
    "collapsed": false
   },
   "outputs": [],
   "source": [
    "predictions = np.expm1((.7*lasso.predict(test) + .3*y_pred_xgb))"
   ]
  },
  {
   "cell_type": "code",
   "execution_count": 127,
   "metadata": {
    "collapsed": false
   },
   "outputs": [
    {
     "data": {
      "text/plain": [
       "array([ 121607.5970132 ,  156070.3239044 ,  181564.88273759, ...,\n",
       "        166176.39858767,  119135.48487473,  216664.61664824])"
      ]
     },
     "execution_count": 127,
     "metadata": {},
     "output_type": "execute_result"
    }
   ],
   "source": [
    "predictions"
   ]
  },
  {
   "cell_type": "code",
   "execution_count": 128,
   "metadata": {
    "collapsed": true
   },
   "outputs": [],
   "source": [
    "test = pd.read_csv(os.path.join('data', 'test.csv'))\n",
    "predictions = pd.DataFrame(predictions, columns=['SalePrice'])\n",
    "predictions = pd.concat((test.iloc[:, 0], predictions), axis = 1)\n",
    "predictions.to_csv(os.path.join('submission_files', 'blended3.csv'), sep=\",\", index = False)"
   ]
  },
  {
   "cell_type": "markdown",
   "metadata": {},
   "source": [
    "score: .11796"
   ]
  },
  {
   "cell_type": "markdown",
   "metadata": {},
   "source": [
    "## Blended 5\n",
    "\n",
    "60% lasso6 and 40% xgb1"
   ]
  },
  {
   "cell_type": "markdown",
   "metadata": {},
   "source": [
    "### load data"
   ]
  },
  {
   "cell_type": "code",
   "execution_count": 137,
   "metadata": {
    "collapsed": false
   },
   "outputs": [],
   "source": [
    "train = pd.read_csv(os.path.join('data', 'train.csv'))\n",
    "test = pd.read_csv(os.path.join('data', 'test.csv'))\n",
    "y = train.iloc[:, -1]\n",
    "train = train.iloc[:, 1:-1]\n",
    "test = test.iloc[:, 1:]\n",
    "submission = test.iloc[:, 0]"
   ]
  },
  {
   "cell_type": "markdown",
   "metadata": {},
   "source": [
    "### transform data"
   ]
  },
  {
   "cell_type": "code",
   "execution_count": 139,
   "metadata": {
    "collapsed": false
   },
   "outputs": [],
   "source": [
    "train, test = fp.mssubclass(train, test)"
   ]
  },
  {
   "cell_type": "code",
   "execution_count": 140,
   "metadata": {
    "collapsed": false
   },
   "outputs": [],
   "source": [
    "def log(train, test, y):\n",
    "    numeric_feats = train.dtypes[train.dtypes != \"object\"].index\n",
    "        \n",
    "    for i in (train, test):\n",
    "        #log transform skewed numeric features:\n",
    "        i[numeric_feats] = np.log1p(i[numeric_feats])\n",
    "\n",
    "    y = np.log1p(y)\n",
    "    return train, test, y"
   ]
  },
  {
   "cell_type": "code",
   "execution_count": 141,
   "metadata": {
    "collapsed": false
   },
   "outputs": [],
   "source": [
    "train, test, y = log(train, test, y)"
   ]
  },
  {
   "cell_type": "code",
   "execution_count": 142,
   "metadata": {
    "collapsed": false
   },
   "outputs": [
    {
     "name": "stdout",
     "output_type": "stream",
     "text": [
      "0.688420205772 seconds\n"
     ]
    }
   ],
   "source": [
    "train, test = fp.lotfrontage(train, test)\n",
    "train, test = fp.garageyrblt(train, test)\n",
    "train, test = fp.impute_mean(train, test)\n",
    "train, test = fp.dummies(train, test)"
   ]
  },
  {
   "cell_type": "code",
   "execution_count": 116,
   "metadata": {
    "collapsed": false
   },
   "outputs": [
    {
     "data": {
      "text/plain": [
       "array([ 11.75356579,  11.97429276,  12.10027695, ...,  12.04427624,\n",
       "        11.69212246,  12.2768383 ], dtype=float32)"
      ]
     },
     "execution_count": 116,
     "metadata": {},
     "output_type": "execute_result"
    }
   ],
   "source": [
    "y_pred_xgb"
   ]
  },
  {
   "cell_type": "code",
   "execution_count": 123,
   "metadata": {
    "collapsed": false
   },
   "outputs": [
    {
     "data": {
      "text/plain": [
       "array([ 11.68927581,  11.95111481,  12.11327219, ...,  12.01075463,\n",
       "        11.68626894,  12.29008417])"
      ]
     },
     "execution_count": 123,
     "metadata": {},
     "output_type": "execute_result"
    }
   ],
   "source": [
    "lasso.predict(test)"
   ]
  },
  {
   "cell_type": "code",
   "execution_count": 143,
   "metadata": {
    "collapsed": false
   },
   "outputs": [],
   "source": [
    "predictions = np.expm1((.6*lasso.predict(test) + .4*y_pred_xgb))"
   ]
  },
  {
   "cell_type": "code",
   "execution_count": 144,
   "metadata": {
    "collapsed": false
   },
   "outputs": [
    {
     "data": {
      "text/plain": [
       "array([ 122391.94283811,  156432.46974447,  181329.04343227, ...,\n",
       "        166734.36272817,  119205.22495658,  216377.85545024])"
      ]
     },
     "execution_count": 144,
     "metadata": {},
     "output_type": "execute_result"
    }
   ],
   "source": [
    "predictions"
   ]
  },
  {
   "cell_type": "code",
   "execution_count": 145,
   "metadata": {
    "collapsed": true
   },
   "outputs": [],
   "source": [
    "test = pd.read_csv(os.path.join('data', 'test.csv'))\n",
    "predictions = pd.DataFrame(predictions, columns=['SalePrice'])\n",
    "predictions = pd.concat((test.iloc[:, 0], predictions), axis = 1)\n",
    "predictions.to_csv(os.path.join('submission_files', 'blended5.csv'), sep=\",\", index = False)"
   ]
  },
  {
   "cell_type": "markdown",
   "metadata": {},
   "source": [
    "score: 0.11765"
   ]
  },
  {
   "cell_type": "markdown",
   "metadata": {},
   "source": [
    "## Random Forest Regression 1"
   ]
  },
  {
   "cell_type": "markdown",
   "metadata": {},
   "source": [
    "### load data"
   ]
  },
  {
   "cell_type": "code",
   "execution_count": 25,
   "metadata": {
    "collapsed": false
   },
   "outputs": [],
   "source": [
    "train = pd.read_csv(os.path.join('data', 'train.csv'))\n",
    "test = pd.read_csv(os.path.join('data', 'test.csv'))\n",
    "y = train.iloc[:, -1]\n",
    "train = train.iloc[:, 1:-1]\n",
    "test = test.iloc[:, 1:]\n",
    "submission = test.iloc[:, 0]"
   ]
  },
  {
   "cell_type": "markdown",
   "metadata": {},
   "source": [
    "### transform data"
   ]
  },
  {
   "cell_type": "code",
   "execution_count": 27,
   "metadata": {
    "collapsed": false
   },
   "outputs": [],
   "source": [
    "train, test = fp.mssubclass(train, test)"
   ]
  },
  {
   "cell_type": "code",
   "execution_count": 28,
   "metadata": {
    "collapsed": false
   },
   "outputs": [],
   "source": [
    "def log(train, test, y):\n",
    "    numeric_feats = train.dtypes[train.dtypes != \"object\"].index\n",
    "        \n",
    "    for i in (train, test):\n",
    "        #log transform skewed numeric features:\n",
    "        i[numeric_feats] = np.log1p(i[numeric_feats])\n",
    "\n",
    "    y = np.log1p(y)\n",
    "    return train, test, y"
   ]
  },
  {
   "cell_type": "code",
   "execution_count": 29,
   "metadata": {
    "collapsed": false
   },
   "outputs": [],
   "source": [
    "train, test, y = log(train, test, y)"
   ]
  },
  {
   "cell_type": "code",
   "execution_count": 30,
   "metadata": {
    "collapsed": false
   },
   "outputs": [
    {
     "name": "stdout",
     "output_type": "stream",
     "text": [
      "0.749942464009 seconds\n"
     ]
    }
   ],
   "source": [
    "train, test = fp.lotfrontage(train, test)\n",
    "train, test = fp.garageyrblt(train, test)\n",
    "train, test = fp.impute_mean(train, test)\n",
    "train, test = fp.dummies(train, test)"
   ]
  },
  {
   "cell_type": "code",
   "execution_count": 31,
   "metadata": {
    "collapsed": false
   },
   "outputs": [
    {
     "data": {
      "text/plain": [
       "RandomForestRegressor(bootstrap=True, criterion='mse', max_depth=None,\n",
       "           max_features='auto', max_leaf_nodes=None,\n",
       "           min_impurity_split=1e-07, min_samples_leaf=1,\n",
       "           min_samples_split=2, min_weight_fraction_leaf=0.0,\n",
       "           n_estimators=1000, n_jobs=-1, oob_score=True, random_state=1,\n",
       "           verbose=0, warm_start=False)"
      ]
     },
     "execution_count": 31,
     "metadata": {},
     "output_type": "execute_result"
    }
   ],
   "source": [
    "forest = RandomForestRegressor(n_estimators=1000, \n",
    "                               criterion='mse', \n",
    "                               random_state=1, \n",
    "                               oob_score=True, \n",
    "                               n_jobs=-1)\n",
    "\n",
    "forest.fit(train, y)"
   ]
  },
  {
   "cell_type": "markdown",
   "metadata": {},
   "source": [
    "Looking at the root mean squared error of our training set, we can see that there overfitting is likely happening. "
   ]
  },
  {
   "cell_type": "code",
   "execution_count": 15,
   "metadata": {
    "collapsed": false
   },
   "outputs": [
    {
     "data": {
      "text/plain": [
       "0.051996390866758724"
      ]
     },
     "execution_count": 15,
     "metadata": {},
     "output_type": "execute_result"
    }
   ],
   "source": [
    "y_train_pred = forest.predict(train)\n",
    "np.sqrt(mean_squared_error(y, y_train_pred))"
   ]
  },
  {
   "cell_type": "code",
   "execution_count": 25,
   "metadata": {
    "collapsed": false
   },
   "outputs": [],
   "source": [
    "predictions = forest.predict(test)\n",
    "predictions = np.expm1(predictions)"
   ]
  },
  {
   "cell_type": "code",
   "execution_count": 26,
   "metadata": {
    "collapsed": true
   },
   "outputs": [],
   "source": [
    "test = pd.read_csv(os.path.join('data', 'test.csv'))\n",
    "predictions = pd.DataFrame(predictions, columns=['SalePrice'])\n",
    "predictions = pd.concat((test.iloc[:, 0], predictions), axis = 1)\n",
    "predictions.to_csv(os.path.join('submission_files', 'RFR1.csv'), sep=\",\", index = False)"
   ]
  },
  {
   "cell_type": "markdown",
   "metadata": {},
   "source": [
    "score: 0.14585"
   ]
  },
  {
   "cell_type": "markdown",
   "metadata": {},
   "source": [
    "## Random Forest Regression 2"
   ]
  },
  {
   "cell_type": "markdown",
   "metadata": {},
   "source": [
    "### load data"
   ]
  },
  {
   "cell_type": "code",
   "execution_count": 2,
   "metadata": {
    "collapsed": false
   },
   "outputs": [],
   "source": [
    "train = pd.read_csv(os.path.join('data', 'train.csv'))\n",
    "test = pd.read_csv(os.path.join('data', 'test.csv'))\n",
    "y = train.iloc[:, -1]\n",
    "train = train.iloc[:, 1:-1]\n",
    "test = test.iloc[:, 1:]\n",
    "submission = test.iloc[:, 0]"
   ]
  },
  {
   "cell_type": "markdown",
   "metadata": {},
   "source": [
    "### transform data"
   ]
  },
  {
   "cell_type": "code",
   "execution_count": 3,
   "metadata": {
    "collapsed": false
   },
   "outputs": [],
   "source": [
    "train, test = fp.mssubclass(train, test)"
   ]
  },
  {
   "cell_type": "code",
   "execution_count": 4,
   "metadata": {
    "collapsed": false
   },
   "outputs": [],
   "source": [
    "def log(train, test, y):\n",
    "    numeric_feats = train.dtypes[train.dtypes != \"object\"].index\n",
    "        \n",
    "    for i in (train, test):\n",
    "        #log transform skewed numeric features:\n",
    "        i[numeric_feats] = np.log1p(i[numeric_feats])\n",
    "\n",
    "    y = np.log1p(y)\n",
    "    return train, test, y"
   ]
  },
  {
   "cell_type": "code",
   "execution_count": 5,
   "metadata": {
    "collapsed": false
   },
   "outputs": [],
   "source": [
    "train, test, y = log(train, test, y)"
   ]
  },
  {
   "cell_type": "code",
   "execution_count": 6,
   "metadata": {
    "collapsed": false
   },
   "outputs": [
    {
     "name": "stdout",
     "output_type": "stream",
     "text": [
      "0.675123963908 seconds\n"
     ]
    }
   ],
   "source": [
    "train, test = fp.lotfrontage(train, test)\n",
    "train, test = fp.garageyrblt(train, test)\n",
    "train, test = fp.impute_mean(train, test)\n",
    "train, test = fp.dummies(train, test)"
   ]
  },
  {
   "cell_type": "code",
   "execution_count": 7,
   "metadata": {
    "collapsed": false
   },
   "outputs": [],
   "source": [
    "forest = RandomForestRegressor(max_features='auto', \n",
    "                               criterion='mse',\n",
    "                               oob_score=True,\n",
    "                               random_state=1,\n",
    "                               n_jobs=-1)\n",
    "\n",
    "param_grid = {\"min_samples_leaf\" : [1,5,10],\n",
    "              \"min_samples_split\" : [2, 4, 10, 12, 16],\n",
    "              \"n_estimators\": [50, 100, 400, 700, 1000]}\n",
    "\n",
    "gs = GridSearchCV(estimator=forest,\n",
    "                  param_grid=param_grid,\n",
    "                  scoring='neg_mean_squared_error',\n",
    "                  cv=3,\n",
    "                  n_jobs=-1)\n",
    "\n",
    "gs = gs.fit(train, y)"
   ]
  },
  {
   "cell_type": "code",
   "execution_count": 8,
   "metadata": {
    "collapsed": false
   },
   "outputs": [
    {
     "data": {
      "text/plain": [
       "{'min_samples_leaf': 1, 'min_samples_split': 2, 'n_estimators': 1000}"
      ]
     },
     "execution_count": 8,
     "metadata": {},
     "output_type": "execute_result"
    }
   ],
   "source": [
    "gs.best_params_"
   ]
  },
  {
   "cell_type": "code",
   "execution_count": 10,
   "metadata": {
    "collapsed": false
   },
   "outputs": [
    {
     "data": {
      "text/plain": [
       "RandomForestRegressor(bootstrap=True, criterion='mse', max_depth=None,\n",
       "           max_features='auto', max_leaf_nodes=None,\n",
       "           min_impurity_split=1e-07, min_samples_leaf=1,\n",
       "           min_samples_split=2, min_weight_fraction_leaf=0.0,\n",
       "           n_estimators=1000, n_jobs=-1, oob_score=True, random_state=1,\n",
       "           verbose=0, warm_start=False)"
      ]
     },
     "execution_count": 10,
     "metadata": {},
     "output_type": "execute_result"
    }
   ],
   "source": [
    "gs = gs.best_estimator_\n",
    "gs.fit(train, y)"
   ]
  },
  {
   "cell_type": "markdown",
   "metadata": {},
   "source": [
    "Looking at the root mean squared error of our training set, we can see that there overfitting is likely happening. "
   ]
  },
  {
   "cell_type": "code",
   "execution_count": 11,
   "metadata": {
    "collapsed": false
   },
   "outputs": [
    {
     "data": {
      "text/plain": [
       "0.051996390866758724"
      ]
     },
     "execution_count": 11,
     "metadata": {},
     "output_type": "execute_result"
    }
   ],
   "source": [
    "y_train_pred = gs.predict(train)\n",
    "np.sqrt(mean_squared_error(y, y_train_pred))"
   ]
  },
  {
   "cell_type": "code",
   "execution_count": 15,
   "metadata": {
    "collapsed": false
   },
   "outputs": [],
   "source": [
    "predictions = gs.predict(test)\n",
    "predictions = np.expm1(predictions)"
   ]
  },
  {
   "cell_type": "code",
   "execution_count": 17,
   "metadata": {
    "collapsed": true
   },
   "outputs": [],
   "source": [
    "test = pd.read_csv(os.path.join('data', 'test.csv'))\n",
    "predictions = pd.DataFrame(predictions, columns=['SalePrice'])\n",
    "predictions = pd.concat((test.iloc[:, 0], predictions), axis = 1)\n",
    "predictions.to_csv(os.path.join('submission_files', 'RFR2.csv'), sep=\",\", index = False)"
   ]
  },
  {
   "cell_type": "markdown",
   "metadata": {},
   "source": [
    "score: 0.14585"
   ]
  },
  {
   "cell_type": "markdown",
   "metadata": {},
   "source": [
    "## Blended 6\n",
    "\n",
    "35% lasso6, 35% xgb1, 30% RFR1"
   ]
  },
  {
   "cell_type": "markdown",
   "metadata": {},
   "source": [
    "### load data"
   ]
  },
  {
   "cell_type": "code",
   "execution_count": 137,
   "metadata": {
    "collapsed": false
   },
   "outputs": [],
   "source": [
    "train = pd.read_csv(os.path.join('data', 'train.csv'))\n",
    "test = pd.read_csv(os.path.join('data', 'test.csv'))\n",
    "y = train.iloc[:, -1]\n",
    "train = train.iloc[:, 1:-1]\n",
    "test = test.iloc[:, 1:]\n",
    "submission = test.iloc[:, 0]"
   ]
  },
  {
   "cell_type": "markdown",
   "metadata": {},
   "source": [
    "### transform data"
   ]
  },
  {
   "cell_type": "code",
   "execution_count": 139,
   "metadata": {
    "collapsed": false
   },
   "outputs": [],
   "source": [
    "train, test = fp.mssubclass(train, test)"
   ]
  },
  {
   "cell_type": "code",
   "execution_count": 140,
   "metadata": {
    "collapsed": false
   },
   "outputs": [],
   "source": [
    "def log(train, test, y):\n",
    "    numeric_feats = train.dtypes[train.dtypes != \"object\"].index\n",
    "        \n",
    "    for i in (train, test):\n",
    "        #log transform skewed numeric features:\n",
    "        i[numeric_feats] = np.log1p(i[numeric_feats])\n",
    "\n",
    "    y = np.log1p(y)\n",
    "    return train, test, y"
   ]
  },
  {
   "cell_type": "code",
   "execution_count": 141,
   "metadata": {
    "collapsed": false
   },
   "outputs": [],
   "source": [
    "train, test, y = log(train, test, y)"
   ]
  },
  {
   "cell_type": "code",
   "execution_count": 142,
   "metadata": {
    "collapsed": false
   },
   "outputs": [
    {
     "name": "stdout",
     "output_type": "stream",
     "text": [
      "0.688420205772 seconds\n"
     ]
    }
   ],
   "source": [
    "train, test = fp.lotfrontage(train, test)\n",
    "train, test = fp.garageyrblt(train, test)\n",
    "train, test = fp.impute_mean(train, test)\n",
    "train, test = fp.dummies(train, test)"
   ]
  },
  {
   "cell_type": "code",
   "execution_count": 116,
   "metadata": {
    "collapsed": false
   },
   "outputs": [
    {
     "data": {
      "text/plain": [
       "array([ 11.75356579,  11.97429276,  12.10027695, ...,  12.04427624,\n",
       "        11.69212246,  12.2768383 ], dtype=float32)"
      ]
     },
     "execution_count": 116,
     "metadata": {},
     "output_type": "execute_result"
    }
   ],
   "source": [
    "y_pred_xgb"
   ]
  },
  {
   "cell_type": "code",
   "execution_count": 123,
   "metadata": {
    "collapsed": false
   },
   "outputs": [
    {
     "data": {
      "text/plain": [
       "array([ 11.68927581,  11.95111481,  12.11327219, ...,  12.01075463,\n",
       "        11.68626894,  12.29008417])"
      ]
     },
     "execution_count": 123,
     "metadata": {},
     "output_type": "execute_result"
    }
   ],
   "source": [
    "lasso.predict(test)"
   ]
  },
  {
   "cell_type": "code",
   "execution_count": 32,
   "metadata": {
    "collapsed": false
   },
   "outputs": [
    {
     "data": {
      "text/plain": [
       "array([ 11.74652018,  11.9438039 ,  12.09228283, ...,  11.95268019,\n",
       "        11.64404965,  12.35090707])"
      ]
     },
     "execution_count": 32,
     "metadata": {},
     "output_type": "execute_result"
    }
   ],
   "source": [
    "forest.predict(test)"
   ]
  },
  {
   "cell_type": "code",
   "execution_count": 40,
   "metadata": {
    "collapsed": false
   },
   "outputs": [],
   "source": [
    "predictions = np.expm1((.35*lasso.predict(test) + .35*y_pred_xgb + .3*forest.predict(test)))"
   ]
  },
  {
   "cell_type": "code",
   "execution_count": 41,
   "metadata": {
    "collapsed": false
   },
   "outputs": [
    {
     "data": {
      "text/plain": [
       "array([ 124112.36477332,  155908.9262622 ,  180307.95021694, ...,\n",
       "        163580.1897437 ,  117670.45523225,  220508.20077477])"
      ]
     },
     "execution_count": 41,
     "metadata": {},
     "output_type": "execute_result"
    }
   ],
   "source": [
    "predictions"
   ]
  },
  {
   "cell_type": "code",
   "execution_count": 42,
   "metadata": {
    "collapsed": true
   },
   "outputs": [],
   "source": [
    "test = pd.read_csv(os.path.join('data', 'test.csv'))\n",
    "predictions = pd.DataFrame(predictions, columns=['SalePrice'])\n",
    "predictions = pd.concat((test.iloc[:, 0], predictions), axis = 1)\n",
    "predictions.to_csv(os.path.join('submission_files', 'blended6.csv'), sep=\",\", index = False)"
   ]
  },
  {
   "cell_type": "markdown",
   "metadata": {},
   "source": [
    "score: 0.12188"
   ]
  },
  {
   "cell_type": "markdown",
   "metadata": {},
   "source": [
    "## Random Forest Regression 3"
   ]
  },
  {
   "cell_type": "markdown",
   "metadata": {},
   "source": [
    "### load data"
   ]
  },
  {
   "cell_type": "code",
   "execution_count": 159,
   "metadata": {
    "collapsed": false
   },
   "outputs": [],
   "source": [
    "train = pd.read_csv(os.path.join('data', 'train.csv'))\n",
    "test = pd.read_csv(os.path.join('data', 'test.csv'))\n",
    "y = train.iloc[:, -1]\n",
    "train = train.iloc[:, 1:-1]\n",
    "test = test.iloc[:, 1:]\n",
    "submission = test.iloc[:, 0]"
   ]
  },
  {
   "cell_type": "markdown",
   "metadata": {},
   "source": [
    "### transform data"
   ]
  },
  {
   "cell_type": "code",
   "execution_count": 160,
   "metadata": {
    "collapsed": false
   },
   "outputs": [],
   "source": [
    "train, test = fp.mssubclass(train, test)"
   ]
  },
  {
   "cell_type": "code",
   "execution_count": 161,
   "metadata": {
    "collapsed": false
   },
   "outputs": [],
   "source": [
    "def log(train, test, y):\n",
    "    numeric_feats = train.dtypes[train.dtypes != \"object\"].index\n",
    "        \n",
    "    for i in (train, test):\n",
    "        #log transform skewed numeric features:\n",
    "        i[numeric_feats] = np.log1p(i[numeric_feats])\n",
    "\n",
    "    y = np.log1p(y)\n",
    "    return train, test, y"
   ]
  },
  {
   "cell_type": "code",
   "execution_count": 162,
   "metadata": {
    "collapsed": false
   },
   "outputs": [],
   "source": [
    "train, test, y = log(train, test, y)"
   ]
  },
  {
   "cell_type": "code",
   "execution_count": 163,
   "metadata": {
    "collapsed": false
   },
   "outputs": [
    {
     "name": "stdout",
     "output_type": "stream",
     "text": [
      "0.74316328339 seconds\n"
     ]
    }
   ],
   "source": [
    "train, test = fp.lotfrontage(train, test)\n",
    "train, test = fp.garageyrblt(train, test)\n",
    "train, test = fp.impute_mean(train, test)\n",
    "train, test = fp.dummies(train, test)"
   ]
  },
  {
   "cell_type": "markdown",
   "metadata": {},
   "source": [
    "Reduce dataset to only the columns chosen by Lasso 6 model:"
   ]
  },
  {
   "cell_type": "code",
   "execution_count": 171,
   "metadata": {
    "collapsed": false
   },
   "outputs": [],
   "source": [
    "train = train[coef[coef != 0].index]\n",
    "test = test[coef[coef != 0].index]"
   ]
  },
  {
   "cell_type": "code",
   "execution_count": 172,
   "metadata": {
    "collapsed": false
   },
   "outputs": [
    {
     "data": {
      "text/plain": [
       "RandomForestRegressor(bootstrap=True, criterion='mse', max_depth=None,\n",
       "           max_features='auto', max_leaf_nodes=None,\n",
       "           min_impurity_split=1e-07, min_samples_leaf=1,\n",
       "           min_samples_split=2, min_weight_fraction_leaf=0.0,\n",
       "           n_estimators=1000, n_jobs=-1, oob_score=True, random_state=1,\n",
       "           verbose=0, warm_start=False)"
      ]
     },
     "execution_count": 172,
     "metadata": {},
     "output_type": "execute_result"
    }
   ],
   "source": [
    "forest = RandomForestRegressor(n_estimators=1000, \n",
    "                               criterion='mse', \n",
    "                               random_state=1, \n",
    "                               oob_score=True, \n",
    "                               n_jobs=-1)\n",
    "\n",
    "forest.fit(train, y)"
   ]
  },
  {
   "cell_type": "markdown",
   "metadata": {},
   "source": [
    "Looking at the root mean squared error of our training set, we can see that there overfitting is likely happening. "
   ]
  },
  {
   "cell_type": "code",
   "execution_count": 173,
   "metadata": {
    "collapsed": false
   },
   "outputs": [
    {
     "data": {
      "text/plain": [
       "0.050960094809895252"
      ]
     },
     "execution_count": 173,
     "metadata": {},
     "output_type": "execute_result"
    }
   ],
   "source": [
    "y_train_pred = forest.predict(train)\n",
    "np.sqrt(mean_squared_error(y, y_train_pred))"
   ]
  },
  {
   "cell_type": "code",
   "execution_count": 56,
   "metadata": {
    "collapsed": false
   },
   "outputs": [],
   "source": [
    "predictions = forest.predict(test)\n",
    "predictions = np.expm1(predictions)"
   ]
  },
  {
   "cell_type": "code",
   "execution_count": 58,
   "metadata": {
    "collapsed": true
   },
   "outputs": [],
   "source": [
    "test = pd.read_csv(os.path.join('data', 'test.csv'))\n",
    "predictions = pd.DataFrame(predictions, columns=['SalePrice'])\n",
    "predictions = pd.concat((test.iloc[:, 0], predictions), axis = 1)\n",
    "predictions.to_csv(os.path.join('submission_files', 'RFR3.csv'), sep=\",\", index = False)"
   ]
  },
  {
   "cell_type": "markdown",
   "metadata": {},
   "source": [
    "score: 0.14377"
   ]
  },
  {
   "cell_type": "markdown",
   "metadata": {},
   "source": [
    "## XGBoost 3"
   ]
  },
  {
   "cell_type": "code",
   "execution_count": 71,
   "metadata": {
    "collapsed": true
   },
   "outputs": [],
   "source": [
    "from xgboost.sklearn import XGBClassifier\n",
    "import xgboost as xgb\n",
    "from sklearn.metrics import mean_squared_error"
   ]
  },
  {
   "cell_type": "markdown",
   "metadata": {},
   "source": [
    "### load data"
   ]
  },
  {
   "cell_type": "code",
   "execution_count": 72,
   "metadata": {
    "collapsed": false
   },
   "outputs": [],
   "source": [
    "train = pd.read_csv(os.path.join('data', 'train.csv'))\n",
    "test = pd.read_csv(os.path.join('data', 'test.csv'))\n",
    "y = train.iloc[:, -1]\n",
    "train = train.iloc[:, 1:-1]\n",
    "test = test.iloc[:, 1:]\n",
    "submission = test.iloc[:, 0]"
   ]
  },
  {
   "cell_type": "markdown",
   "metadata": {},
   "source": [
    "### transform data"
   ]
  },
  {
   "cell_type": "code",
   "execution_count": 73,
   "metadata": {
    "collapsed": false
   },
   "outputs": [],
   "source": [
    "train, test = fp.mssubclass(train, test)"
   ]
  },
  {
   "cell_type": "code",
   "execution_count": 74,
   "metadata": {
    "collapsed": false
   },
   "outputs": [],
   "source": [
    "def log(train, test, y):\n",
    "    numeric_feats = train.dtypes[train.dtypes != \"object\"].index\n",
    "        \n",
    "    for i in (train, test):\n",
    "        #log transform skewed numeric features:\n",
    "        i[numeric_feats] = np.log1p(i[numeric_feats])\n",
    "\n",
    "    y = np.log1p(y)\n",
    "    return train, test, y"
   ]
  },
  {
   "cell_type": "code",
   "execution_count": 75,
   "metadata": {
    "collapsed": false
   },
   "outputs": [],
   "source": [
    "train, test, y = log(train, test, y)"
   ]
  },
  {
   "cell_type": "code",
   "execution_count": 76,
   "metadata": {
    "collapsed": false
   },
   "outputs": [
    {
     "name": "stdout",
     "output_type": "stream",
     "text": [
      "0.707154240274 seconds\n"
     ]
    }
   ],
   "source": [
    "train, test = fp.lotfrontage(train, test)\n",
    "train, test = fp.garageyrblt(train, test)\n",
    "train, test = fp.impute_mean(train, test)\n",
    "train, test = fp.dummies(train, test)"
   ]
  },
  {
   "cell_type": "code",
   "execution_count": 77,
   "metadata": {
    "collapsed": false
   },
   "outputs": [],
   "source": [
    "train = train[coef[coef != 0].index]\n",
    "test = test[coef[coef != 0].index]"
   ]
  },
  {
   "cell_type": "code",
   "execution_count": 78,
   "metadata": {
    "collapsed": false
   },
   "outputs": [
    {
     "name": "stdout",
     "output_type": "stream",
     "text": [
      "('XGBoost score on training set: ', 0.0070046947957565402)\n"
     ]
    }
   ],
   "source": [
    "regr = xgb.XGBRegressor(\n",
    "                 colsample_bytree=0.2,\n",
    "                 gamma=0.0,\n",
    "                 learning_rate=0.01,\n",
    "                 max_depth=4,\n",
    "                 min_child_weight=1.5,\n",
    "                 n_estimators=7200,                                                                  \n",
    "                 reg_alpha=0.9,\n",
    "                 reg_lambda=0.6,\n",
    "                 subsample=0.2,\n",
    "                 seed=42,\n",
    "                 silent=1)\n",
    "\n",
    "regr.fit(train, y)\n",
    "\n",
    "# Run prediction on training set to get a rough idea of how well it does.\n",
    "y_pred = regr.predict(train)\n",
    "y_test = y\n",
    "print(\"XGBoost score on training set: \", mean_squared_error(y_test, y_pred))\n",
    "\n",
    "# Run prediction on the Kaggle test set.\n",
    "y_pred_xgb = regr.predict(test)"
   ]
  },
  {
   "cell_type": "markdown",
   "metadata": {},
   "source": [
    "### predict test data and create submission file"
   ]
  },
  {
   "cell_type": "code",
   "execution_count": 80,
   "metadata": {
    "collapsed": false
   },
   "outputs": [
    {
     "data": {
      "text/plain": [
       "array([ 11.74700928,  11.9533453 ,  12.13376999, ...,  12.05374813,\n",
       "        11.6824398 ,  12.27038574], dtype=float32)"
      ]
     },
     "execution_count": 80,
     "metadata": {},
     "output_type": "execute_result"
    }
   ],
   "source": [
    "y_pred_xgb"
   ]
  },
  {
   "cell_type": "code",
   "execution_count": 68,
   "metadata": {
    "collapsed": false
   },
   "outputs": [],
   "source": [
    "predictions = np.expm1(y_pred_xgb)\n",
    "test = pd.read_csv(os.path.join('data', 'test.csv'))\n",
    "predictions = pd.DataFrame(predictions, columns=['SalePrice'])\n",
    "predictions = pd.concat((test.iloc[:, 0], predictions), axis = 1)\n",
    "predictions.to_csv(os.path.join('submission_files', 'xgb3.csv'), sep=\",\", index = False)"
   ]
  },
  {
   "cell_type": "markdown",
   "metadata": {},
   "source": [
    "score: 0.12273"
   ]
  },
  {
   "cell_type": "markdown",
   "metadata": {},
   "source": [
    "## Blended 7\n",
    "\n",
    "Lasso 6 and XGB 3"
   ]
  },
  {
   "cell_type": "code",
   "execution_count": 88,
   "metadata": {
    "collapsed": false
   },
   "outputs": [],
   "source": [
    "predictions = np.expm1((lasso.predict(test) + y_pred_xgb)/2)"
   ]
  },
  {
   "cell_type": "code",
   "execution_count": 89,
   "metadata": {
    "collapsed": true
   },
   "outputs": [],
   "source": [
    "test = pd.read_csv(os.path.join('data', 'test.csv'))\n",
    "predictions = pd.DataFrame(predictions, columns=['SalePrice'])\n",
    "predictions = pd.concat((test.iloc[:, 0], predictions), axis = 1)\n",
    "predictions.to_csv(os.path.join('submission_files', 'blended7.csv'), sep=\",\", index = False)"
   ]
  },
  {
   "cell_type": "markdown",
   "metadata": {},
   "source": [
    "score: 0.11806"
   ]
  },
  {
   "cell_type": "markdown",
   "metadata": {},
   "source": [
    "## Blended 8\n",
    "\n",
    "Lasso 6 and XGB 2"
   ]
  },
  {
   "cell_type": "code",
   "execution_count": 97,
   "metadata": {
    "collapsed": false
   },
   "outputs": [],
   "source": [
    "predictions = np.expm1((lasso.predict(test) + y_pred_xgb)/2)"
   ]
  },
  {
   "cell_type": "code",
   "execution_count": 98,
   "metadata": {
    "collapsed": true
   },
   "outputs": [],
   "source": [
    "test = pd.read_csv(os.path.join('data', 'test.csv'))\n",
    "predictions = pd.DataFrame(predictions, columns=['SalePrice'])\n",
    "predictions = pd.concat((test.iloc[:, 0], predictions), axis = 1)\n",
    "predictions.to_csv(os.path.join('submission_files', 'blended8.csv'), sep=\",\", index = False)"
   ]
  },
  {
   "cell_type": "markdown",
   "metadata": {},
   "source": [
    "score: 0.11970"
   ]
  },
  {
   "cell_type": "markdown",
   "metadata": {},
   "source": [
    "## Blended 9\n",
    "\n",
    "Lasso 7 and XGB 1"
   ]
  },
  {
   "cell_type": "code",
   "execution_count": 118,
   "metadata": {
    "collapsed": false
   },
   "outputs": [],
   "source": [
    "predictions = np.expm1((lasso.predict(test) + y_pred_xgb)/2)"
   ]
  },
  {
   "cell_type": "code",
   "execution_count": 119,
   "metadata": {
    "collapsed": true
   },
   "outputs": [],
   "source": [
    "test = pd.read_csv(os.path.join('data', 'test.csv'))\n",
    "predictions = pd.DataFrame(predictions, columns=['SalePrice'])\n",
    "predictions = pd.concat((test.iloc[:, 0], predictions), axis = 1)\n",
    "predictions.to_csv(os.path.join('submission_files', 'blended9.csv'), sep=\",\", index = False)"
   ]
  },
  {
   "cell_type": "markdown",
   "metadata": {},
   "source": [
    "score: 0.11768"
   ]
  },
  {
   "cell_type": "markdown",
   "metadata": {},
   "source": [
    "## Blended 10\n",
    "\n",
    "Lasso 7 and XGB 1 and LinearReg"
   ]
  },
  {
   "cell_type": "code",
   "execution_count": 149,
   "metadata": {
    "collapsed": false
   },
   "outputs": [],
   "source": [
    "predictions = np.expm1((lasso_pred + y_pred_xgb + lin_reg)/3)"
   ]
  },
  {
   "cell_type": "code",
   "execution_count": 150,
   "metadata": {
    "collapsed": true
   },
   "outputs": [],
   "source": [
    "test = pd.read_csv(os.path.join('data', 'test.csv'))\n",
    "predictions = pd.DataFrame(predictions, columns=['SalePrice'])\n",
    "predictions = pd.concat((test.iloc[:, 0], predictions), axis = 1)\n",
    "predictions.to_csv(os.path.join('submission_files', 'blended10.csv'), sep=\",\", index = False)"
   ]
  },
  {
   "cell_type": "markdown",
   "metadata": {},
   "source": [
    "score: 0.11998"
   ]
  },
  {
   "cell_type": "markdown",
   "metadata": {},
   "source": [
    "## Blended 11\n",
    "\n",
    "Lasso 7 and XGB 1 and LinearReg"
   ]
  },
  {
   "cell_type": "code",
   "execution_count": 175,
   "metadata": {
    "collapsed": false
   },
   "outputs": [],
   "source": [
    "predictions = np.expm1((lasso_pred + y_pred_xgb + lin_reg + for_reg)/4)"
   ]
  },
  {
   "cell_type": "code",
   "execution_count": 176,
   "metadata": {
    "collapsed": true
   },
   "outputs": [],
   "source": [
    "test = pd.read_csv(os.path.join('data', 'test.csv'))\n",
    "predictions = pd.DataFrame(predictions, columns=['SalePrice'])\n",
    "predictions = pd.concat((test.iloc[:, 0], predictions), axis = 1)\n",
    "predictions.to_csv(os.path.join('submission_files', 'blended11.csv'), sep=\",\", index = False)"
   ]
  },
  {
   "cell_type": "markdown",
   "metadata": {},
   "source": [
    "score: 0.11768"
   ]
  }
 ],
 "metadata": {
  "anaconda-cloud": {},
  "kernelspec": {
   "display_name": "Python [default]",
   "language": "python",
   "name": "python2"
  },
  "language_info": {
   "codemirror_mode": {
    "name": "ipython",
    "version": 2
   },
   "file_extension": ".py",
   "mimetype": "text/x-python",
   "name": "python",
   "nbconvert_exporter": "python",
   "pygments_lexer": "ipython2",
   "version": "2.7.12"
  }
 },
 "nbformat": 4,
 "nbformat_minor": 1
}
