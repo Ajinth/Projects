{
 "cells": [
  {
   "cell_type": "code",
   "execution_count": 14,
   "metadata": {
    "collapsed": false
   },
   "outputs": [],
   "source": [
    "import os\n",
    "import pandas as pd\n",
    "import numpy as np\n",
    "from scipy.stats import skew\n",
    "import feature_process_helper as fp\n",
    "from sklearn.model_selection import GridSearchCV\n",
    "from sklearn.linear_model import Lasso\n",
    "from sklearn.feature_selection import SelectKBest\n",
    "from sklearn.ensemble import RandomForestRegressor\n",
    "from sklearn.metrics import mean_squared_error\n",
    "from sklearn import linear_model\n",
    "from sklearn.pipeline import Pipeline\n",
    "import matplotlib.pyplot as plt\n",
    "%matplotlib inline"
   ]
  },
  {
   "cell_type": "markdown",
   "metadata": {},
   "source": [
    "## Lasso 1"
   ]
  },
  {
   "cell_type": "markdown",
   "metadata": {},
   "source": [
    "### load data"
   ]
  },
  {
   "cell_type": "code",
   "execution_count": 91,
   "metadata": {
    "collapsed": false
   },
   "outputs": [],
   "source": [
    "train = pd.read_csv(os.path.join('data', 'train.csv'))\n",
    "test = pd.read_csv(os.path.join('data', 'test.csv'))\n",
    "y = train.iloc[:, -1]\n",
    "train = train.iloc[:, 1:-1]\n",
    "test = test.iloc[:, 1:]\n",
    "submission = test.iloc[:, 0]"
   ]
  },
  {
   "cell_type": "markdown",
   "metadata": {},
   "source": [
    "### transform data"
   ]
  },
  {
   "cell_type": "code",
   "execution_count": 92,
   "metadata": {
    "collapsed": false
   },
   "outputs": [
    {
     "name": "stdout",
     "output_type": "stream",
     "text": [
      "0.775806224312 seconds\n"
     ]
    }
   ],
   "source": [
    "train, test = fp.mssubclass(train, test)\n",
    "train, test = fp.lotfrontage(train, test)\n",
    "train, test = fp.garageyrblt(train, test)\n",
    "train, test = fp.impute(train, test)\n",
    "train, test = fp.scale(train, test)\n",
    "train, test = fp.dummies(train, test)"
   ]
  },
  {
   "cell_type": "markdown",
   "metadata": {},
   "source": [
    "### find optimal value of the Lasso alpha parameter"
   ]
  },
  {
   "cell_type": "code",
   "execution_count": 93,
   "metadata": {
    "collapsed": false
   },
   "outputs": [
    {
     "name": "stdout",
     "output_type": "stream",
     "text": [
      "Lasso(alpha=40, copy_X=True, fit_intercept=True, max_iter=1000,\n",
      "   normalize=True, positive=False, precompute=False, random_state=None,\n",
      "   selection='cyclic', tol=0.0001, warm_start=False)\n",
      "0.884810357837\n"
     ]
    }
   ],
   "source": [
    "from sklearn.grid_search import GridSearchCV\n",
    "from sklearn.linear_model import Lasso\n",
    "\n",
    "alpha_ridge = [10, 20, 30, 40, 50]\n",
    "\n",
    "coeffs = {}\n",
    "z = 1.01\n",
    "for alpha in alpha_ridge:\n",
    "    r = Lasso(alpha=alpha, normalize=True, max_iter=1e5)\n",
    "    r = r.fit(train, y)\n",
    "    coeffs[str(z)+':'+str(alpha)] = np.append(r.score(train, y), np.append(r.intercept_, r.coef_))\n",
    "    z += .01\n",
    "    \n",
    "grid_search = GridSearchCV(Lasso(alpha=alpha, normalize=True), param_grid={'alpha': alpha_ridge}, cv=10, n_jobs=-1)\n",
    "grid_search.fit(train, y)\n",
    "\n",
    "print grid_search.best_estimator_\n",
    "print grid_search.score(train, y)"
   ]
  },
  {
   "cell_type": "markdown",
   "metadata": {},
   "source": [
    "### inspect results"
   ]
  },
  {
   "cell_type": "code",
   "execution_count": 94,
   "metadata": {
    "collapsed": false
   },
   "outputs": [
    {
     "data": {
      "text/html": [
       "<div>\n",
       "<table border=\"1\" class=\"dataframe\">\n",
       "  <thead>\n",
       "    <tr style=\"text-align: right;\">\n",
       "      <th></th>\n",
       "      <th>SCORE</th>\n",
       "      <th>INTERCEPT</th>\n",
       "      <th>LotFrontage</th>\n",
       "      <th>LotArea</th>\n",
       "      <th>OverallQual</th>\n",
       "      <th>OverallCond</th>\n",
       "      <th>YearBuilt</th>\n",
       "      <th>YearRemodAdd</th>\n",
       "      <th>MasVnrArea</th>\n",
       "      <th>BsmtFinSF1</th>\n",
       "      <th>...</th>\n",
       "      <th>SaleType_ConLI</th>\n",
       "      <th>SaleType_CWD</th>\n",
       "      <th>SaleType_ConLw</th>\n",
       "      <th>SaleType_Con</th>\n",
       "      <th>SaleType_Oth</th>\n",
       "      <th>SaleCondition_Abnorml</th>\n",
       "      <th>SaleCondition_Partial</th>\n",
       "      <th>SaleCondition_AdjLand</th>\n",
       "      <th>SaleCondition_Alloca</th>\n",
       "      <th>SaleCondition_Family</th>\n",
       "    </tr>\n",
       "  </thead>\n",
       "  <tbody>\n",
       "    <tr>\n",
       "      <th>1.01:10</th>\n",
       "      <td>0.906304</td>\n",
       "      <td>-359993.222673</td>\n",
       "      <td>-1122.756308</td>\n",
       "      <td>3654.279782</td>\n",
       "      <td>8470.834862</td>\n",
       "      <td>4629.287437</td>\n",
       "      <td>169.625163</td>\n",
       "      <td>53.201734</td>\n",
       "      <td>3273.654289</td>\n",
       "      <td>1926.747567</td>\n",
       "      <td>...</td>\n",
       "      <td>0.0</td>\n",
       "      <td>7957.921244</td>\n",
       "      <td>0.0</td>\n",
       "      <td>26102.174410</td>\n",
       "      <td>4985.049002</td>\n",
       "      <td>-6359.145133</td>\n",
       "      <td>0.0</td>\n",
       "      <td>0.0</td>\n",
       "      <td>7476.195193</td>\n",
       "      <td>-3038.878548</td>\n",
       "    </tr>\n",
       "    <tr>\n",
       "      <th>1.02:20</th>\n",
       "      <td>0.898402</td>\n",
       "      <td>-506952.906273</td>\n",
       "      <td>-0.000000</td>\n",
       "      <td>3000.613166</td>\n",
       "      <td>9254.420112</td>\n",
       "      <td>4285.713011</td>\n",
       "      <td>194.874230</td>\n",
       "      <td>70.794516</td>\n",
       "      <td>2615.415683</td>\n",
       "      <td>2296.354317</td>\n",
       "      <td>...</td>\n",
       "      <td>0.0</td>\n",
       "      <td>0.000000</td>\n",
       "      <td>0.0</td>\n",
       "      <td>20777.545869</td>\n",
       "      <td>0.000000</td>\n",
       "      <td>-5294.360250</td>\n",
       "      <td>0.0</td>\n",
       "      <td>-0.0</td>\n",
       "      <td>2153.758763</td>\n",
       "      <td>-1443.378045</td>\n",
       "    </tr>\n",
       "    <tr>\n",
       "      <th>1.03:30</th>\n",
       "      <td>0.891721</td>\n",
       "      <td>-521054.936396</td>\n",
       "      <td>-0.000000</td>\n",
       "      <td>2848.362989</td>\n",
       "      <td>10239.964851</td>\n",
       "      <td>3863.648048</td>\n",
       "      <td>197.905237</td>\n",
       "      <td>83.006815</td>\n",
       "      <td>2202.593985</td>\n",
       "      <td>2451.743806</td>\n",
       "      <td>...</td>\n",
       "      <td>0.0</td>\n",
       "      <td>0.000000</td>\n",
       "      <td>0.0</td>\n",
       "      <td>12578.858589</td>\n",
       "      <td>0.000000</td>\n",
       "      <td>-4493.565826</td>\n",
       "      <td>0.0</td>\n",
       "      <td>-0.0</td>\n",
       "      <td>0.000000</td>\n",
       "      <td>-0.000000</td>\n",
       "    </tr>\n",
       "    <tr>\n",
       "      <th>1.04:40</th>\n",
       "      <td>0.884810</td>\n",
       "      <td>-521680.564655</td>\n",
       "      <td>-0.000000</td>\n",
       "      <td>2744.919852</td>\n",
       "      <td>11119.319966</td>\n",
       "      <td>3363.147814</td>\n",
       "      <td>198.331603</td>\n",
       "      <td>99.756336</td>\n",
       "      <td>1902.662206</td>\n",
       "      <td>2645.859346</td>\n",
       "      <td>...</td>\n",
       "      <td>0.0</td>\n",
       "      <td>0.000000</td>\n",
       "      <td>0.0</td>\n",
       "      <td>3219.990762</td>\n",
       "      <td>0.000000</td>\n",
       "      <td>-3659.204473</td>\n",
       "      <td>0.0</td>\n",
       "      <td>-0.0</td>\n",
       "      <td>0.000000</td>\n",
       "      <td>-0.000000</td>\n",
       "    </tr>\n",
       "    <tr>\n",
       "      <th>1.05:50</th>\n",
       "      <td>0.878126</td>\n",
       "      <td>-524298.146483</td>\n",
       "      <td>0.000000</td>\n",
       "      <td>2678.808468</td>\n",
       "      <td>11885.404231</td>\n",
       "      <td>2917.920732</td>\n",
       "      <td>189.388979</td>\n",
       "      <td>109.267016</td>\n",
       "      <td>1723.804829</td>\n",
       "      <td>2788.017583</td>\n",
       "      <td>...</td>\n",
       "      <td>0.0</td>\n",
       "      <td>0.000000</td>\n",
       "      <td>-0.0</td>\n",
       "      <td>0.000000</td>\n",
       "      <td>0.000000</td>\n",
       "      <td>-2706.007992</td>\n",
       "      <td>0.0</td>\n",
       "      <td>-0.0</td>\n",
       "      <td>0.000000</td>\n",
       "      <td>-0.000000</td>\n",
       "    </tr>\n",
       "  </tbody>\n",
       "</table>\n",
       "<p>5 rows × 247 columns</p>\n",
       "</div>"
      ],
      "text/plain": [
       "            SCORE      INTERCEPT  LotFrontage      LotArea   OverallQual  \\\n",
       "1.01:10  0.906304 -359993.222673 -1122.756308  3654.279782   8470.834862   \n",
       "1.02:20  0.898402 -506952.906273    -0.000000  3000.613166   9254.420112   \n",
       "1.03:30  0.891721 -521054.936396    -0.000000  2848.362989  10239.964851   \n",
       "1.04:40  0.884810 -521680.564655    -0.000000  2744.919852  11119.319966   \n",
       "1.05:50  0.878126 -524298.146483     0.000000  2678.808468  11885.404231   \n",
       "\n",
       "         OverallCond   YearBuilt  YearRemodAdd   MasVnrArea   BsmtFinSF1  \\\n",
       "1.01:10  4629.287437  169.625163     53.201734  3273.654289  1926.747567   \n",
       "1.02:20  4285.713011  194.874230     70.794516  2615.415683  2296.354317   \n",
       "1.03:30  3863.648048  197.905237     83.006815  2202.593985  2451.743806   \n",
       "1.04:40  3363.147814  198.331603     99.756336  1902.662206  2645.859346   \n",
       "1.05:50  2917.920732  189.388979    109.267016  1723.804829  2788.017583   \n",
       "\n",
       "                 ...           SaleType_ConLI  SaleType_CWD  SaleType_ConLw  \\\n",
       "1.01:10          ...                      0.0   7957.921244             0.0   \n",
       "1.02:20          ...                      0.0      0.000000             0.0   \n",
       "1.03:30          ...                      0.0      0.000000             0.0   \n",
       "1.04:40          ...                      0.0      0.000000             0.0   \n",
       "1.05:50          ...                      0.0      0.000000            -0.0   \n",
       "\n",
       "         SaleType_Con  SaleType_Oth  SaleCondition_Abnorml  \\\n",
       "1.01:10  26102.174410   4985.049002           -6359.145133   \n",
       "1.02:20  20777.545869      0.000000           -5294.360250   \n",
       "1.03:30  12578.858589      0.000000           -4493.565826   \n",
       "1.04:40   3219.990762      0.000000           -3659.204473   \n",
       "1.05:50      0.000000      0.000000           -2706.007992   \n",
       "\n",
       "         SaleCondition_Partial  SaleCondition_AdjLand  SaleCondition_Alloca  \\\n",
       "1.01:10                    0.0                    0.0           7476.195193   \n",
       "1.02:20                    0.0                   -0.0           2153.758763   \n",
       "1.03:30                    0.0                   -0.0              0.000000   \n",
       "1.04:40                    0.0                   -0.0              0.000000   \n",
       "1.05:50                    0.0                   -0.0              0.000000   \n",
       "\n",
       "         SaleCondition_Family  \n",
       "1.01:10          -3038.878548  \n",
       "1.02:20          -1443.378045  \n",
       "1.03:30             -0.000000  \n",
       "1.04:40             -0.000000  \n",
       "1.05:50             -0.000000  \n",
       "\n",
       "[5 rows x 247 columns]"
      ]
     },
     "execution_count": 94,
     "metadata": {},
     "output_type": "execute_result"
    }
   ],
   "source": [
    "a = pd.DataFrame(coeffs).transpose()\n",
    "columns = ['SCORE', 'INTERCEPT']+list(train.columns)\n",
    "dict = {}\n",
    "i = 0 \n",
    "for c in columns:\n",
    "    dict[i] = c\n",
    "    i += 1\n",
    "a.rename(columns = dict, inplace=True)\n",
    "a"
   ]
  },
  {
   "cell_type": "markdown",
   "metadata": {},
   "source": [
    "### fit lasso model with optimal alpha"
   ]
  },
  {
   "cell_type": "code",
   "execution_count": null,
   "metadata": {
    "collapsed": true
   },
   "outputs": [],
   "source": [
    "lasso = Lasso(alpha=40, normalize=True, max_iter=1e5)\n",
    "lasso = lasso.fit(train, y)"
   ]
  },
  {
   "cell_type": "markdown",
   "metadata": {},
   "source": [
    "### last-second check that our test dataset doesn't contain empty columns"
   ]
  },
  {
   "cell_type": "code",
   "execution_count": null,
   "metadata": {
    "collapsed": true
   },
   "outputs": [],
   "source": [
    "for i in test.columns:\n",
    "    if sum(pd.isnull(test[i])) > 0:\n",
    "        print i, sum(pd.isnull(test[i]))"
   ]
  },
  {
   "cell_type": "markdown",
   "metadata": {},
   "source": [
    "### predict test data and create submission file"
   ]
  },
  {
   "cell_type": "code",
   "execution_count": null,
   "metadata": {
    "collapsed": true
   },
   "outputs": [],
   "source": [
    "lasso.predict(test)"
   ]
  },
  {
   "cell_type": "code",
   "execution_count": null,
   "metadata": {
    "collapsed": true
   },
   "outputs": [],
   "source": [
    "predictions = lasso.predict(test)\n",
    "test = pd.read_csv(os.path.join('data', 'test.csv'))\n",
    "predictions = pd.DataFrame(predictions, columns=['SalePrice'])\n",
    "predictions = pd.concat((test.iloc[:, 0], predictions), axis = 1)\n",
    "predictions.to_csv(os.path.join('submission_files', 'lasso1.csv'), sep=\",\", index = False)"
   ]
  },
  {
   "cell_type": "markdown",
   "metadata": {},
   "source": [
    "score: .013624"
   ]
  },
  {
   "cell_type": "markdown",
   "metadata": {},
   "source": [
    "## Linear Regression 1"
   ]
  },
  {
   "cell_type": "markdown",
   "metadata": {},
   "source": [
    "### load data"
   ]
  },
  {
   "cell_type": "code",
   "execution_count": 43,
   "metadata": {
    "collapsed": false
   },
   "outputs": [],
   "source": [
    "train = pd.read_csv(os.path.join('data', 'train.csv'))\n",
    "test = pd.read_csv(os.path.join('data', 'test.csv'))\n",
    "y = train.iloc[:, -1]\n",
    "train = train.iloc[:, 1:-1]\n",
    "test = test.iloc[:, 1:]\n",
    "submission = test.iloc[:, 0]"
   ]
  },
  {
   "cell_type": "markdown",
   "metadata": {},
   "source": [
    "### transform data"
   ]
  },
  {
   "cell_type": "code",
   "execution_count": 44,
   "metadata": {
    "collapsed": false
   },
   "outputs": [
    {
     "name": "stdout",
     "output_type": "stream",
     "text": [
      "1.25477410561 seconds\n"
     ]
    }
   ],
   "source": [
    "train, test = fp.mssubclass(train, test)\n",
    "train, test = fp.lotfrontage(train, test)\n",
    "train, test = fp.garageyrblt(train, test)\n",
    "train, test = fp.impute(train, test)\n",
    "train, test = fp.scale(train, test)\n",
    "train, test = fp.dummies(train, test)"
   ]
  },
  {
   "cell_type": "markdown",
   "metadata": {},
   "source": [
    "### find optimal value of the Lasso alpha parameter"
   ]
  },
  {
   "cell_type": "code",
   "execution_count": null,
   "metadata": {
    "collapsed": true
   },
   "outputs": [],
   "source": [
    "from sklearn.grid_search import GridSearchCV\n",
    "from sklearn.linear_model import Lasso\n",
    "\n",
    "alpha_ridge = [10, 20, 30, 40, 50]\n",
    "\n",
    "coeffs = {}\n",
    "z = 1.01\n",
    "for alpha in alpha_ridge:\n",
    "    r = Lasso(alpha=alpha, normalize=True, max_iter=1e5)\n",
    "    r = r.fit(train, y)\n",
    "    coeffs[str(z)+':'+str(alpha)] = np.append(r.score(train, y), np.append(r.intercept_, r.coef_))\n",
    "    z += .01\n",
    "    \n",
    "grid_search = GridSearchCV(Lasso(alpha=alpha, normalize=True), param_grid={'alpha': alpha_ridge}, cv=10, n_jobs=-1)\n",
    "grid_search.fit(train, y)\n",
    "\n",
    "print grid_search.best_estimator_\n",
    "print grid_search.score(train, y)"
   ]
  },
  {
   "cell_type": "code",
   "execution_count": 45,
   "metadata": {
    "collapsed": false
   },
   "outputs": [],
   "source": [
    "coeffs = {}\n",
    "z = 1.01\n",
    "alpha = 40\n",
    "r = Lasso(alpha, normalize=True, max_iter=1e5)\n",
    "r = r.fit(train, y)\n",
    "coeffs[str(z)+':'+str(alpha)] = np.append(r.score(train, y), np.append(r.intercept_, r.coef_))\n",
    "z += .01"
   ]
  },
  {
   "cell_type": "code",
   "execution_count": 46,
   "metadata": {
    "collapsed": false
   },
   "outputs": [],
   "source": [
    "lasso = pd.DataFrame([np.array(train.columns), coeffs['1.01:40'][2:]]).transpose()"
   ]
  },
  {
   "cell_type": "code",
   "execution_count": 47,
   "metadata": {
    "collapsed": false
   },
   "outputs": [],
   "source": [
    "lasso_clean = lasso[lasso[1] != 0][0]"
   ]
  },
  {
   "cell_type": "code",
   "execution_count": 48,
   "metadata": {
    "collapsed": false
   },
   "outputs": [
    {
     "data": {
      "text/plain": [
       "62"
      ]
     },
     "execution_count": 48,
     "metadata": {},
     "output_type": "execute_result"
    }
   ],
   "source": [
    "len(lasso_clean)"
   ]
  },
  {
   "cell_type": "code",
   "execution_count": 49,
   "metadata": {
    "collapsed": false
   },
   "outputs": [],
   "source": [
    "train = train[lasso_clean]\n",
    "test = test[lasso_clean]"
   ]
  },
  {
   "cell_type": "markdown",
   "metadata": {},
   "source": [
    "### use select K best to further narrow down number or columns"
   ]
  },
  {
   "cell_type": "code",
   "execution_count": 64,
   "metadata": {
    "collapsed": false
   },
   "outputs": [],
   "source": [
    "# Create SelectKBest() Object\n",
    "kbest = SelectKBest()\n",
    "lm = linear_model.LinearRegression()\n",
    "\n",
    "# Create the Pipeline() obejct, and then fit it against the data set. \n",
    "pipeline = Pipeline([('kbest', kbest),\n",
    "                     ('lm', lm)])"
   ]
  },
  {
   "cell_type": "code",
   "execution_count": 65,
   "metadata": {
    "collapsed": false
   },
   "outputs": [
    {
     "data": {
      "text/plain": [
       "GridSearchCV(cv=3, error_score='raise',\n",
       "       estimator=Pipeline(steps=[('kbest', SelectKBest(k=10, score_func=<function f_classif at 0x000000000AA61588>)), ('lm', LinearRegression(copy_X=True, fit_intercept=True, n_jobs=1, normalize=False))]),\n",
       "       fit_params={}, iid=True, n_jobs=-1,\n",
       "       param_grid={'kbest__k': [1, 2, 3, 4, 5, 6, 7, 8, 9, 10, 11, 12, 13, 14, 15, 16, 17, 18, 19, 20, 21, 22, 23, 24, 25, 26, 27, 28, 29, 30, 31, 32, 33, 34, 35, 36, 37, 38, 39, 40, 41, 42, 43, 44, 45, 46, 47, 48, 49, 50, 51, 52, 53, 54, 55, 56, 57, 58, 59, 60, 61, 62]},\n",
       "       pre_dispatch='2*n_jobs', refit=True, return_train_score=True,\n",
       "       scoring=None, verbose=0)"
      ]
     },
     "execution_count": 65,
     "metadata": {},
     "output_type": "execute_result"
    }
   ],
   "source": [
    "# Create a grid_search_dict. Using these with a pipeline can be a little tricky - note that\n",
    "#    you have to specify which pipeline component you want to grid search by using the alias\n",
    "#    you provided when you created the Pipeline object + '__' + [argument name]. \n",
    "grid_search_dict = {'kbest__k': range(1, len(train.columns)+1)}     \n",
    "\n",
    "grid_search = GridSearchCV(pipeline, param_grid=grid_search_dict, cv=3, n_jobs=-1)\n",
    "grid_search.fit(train, y)\n",
    "\n",
    "# Let's see how our SelectKBest/GridSearch classifier performed\n",
    "#print 'SelectKBest/GridSearch - Accuracy: ', grid_search.score(y, grid_search.predict(train))"
   ]
  },
  {
   "cell_type": "code",
   "execution_count": 66,
   "metadata": {
    "collapsed": false
   },
   "outputs": [
    {
     "name": "stdout",
     "output_type": "stream",
     "text": [
      "{'kbest__k': 59}\n",
      "0.842104691208\n"
     ]
    }
   ],
   "source": [
    "print grid_search.best_params_\n",
    "print grid_search.best_score_"
   ]
  },
  {
   "cell_type": "code",
   "execution_count": 67,
   "metadata": {
    "collapsed": false
   },
   "outputs": [
    {
     "data": {
      "text/plain": [
       "Pipeline(steps=[('kbest', SelectKBest(k=59, score_func=<function f_classif at 0x000000000AA61588>)), ('lm', LinearRegression(copy_X=True, fit_intercept=True, n_jobs=1, normalize=False))])"
      ]
     },
     "execution_count": 67,
     "metadata": {},
     "output_type": "execute_result"
    }
   ],
   "source": [
    "grid_search.best_estimator_"
   ]
  },
  {
   "cell_type": "markdown",
   "metadata": {},
   "source": [
    "### inspect results"
   ]
  },
  {
   "cell_type": "code",
   "execution_count": 68,
   "metadata": {
    "collapsed": false
   },
   "outputs": [
    {
     "name": "stdout",
     "output_type": "stream",
     "text": [
      "SelectKBest/GridSearch - Accuracy:  0.896459555554\n"
     ]
    }
   ],
   "source": [
    "grid_search = grid_search.best_estimator_\n",
    "grid_search.fit(train, y)\n",
    "\n",
    "# Let's see how our SelectKBest/GridSearch classifier performed\n",
    "print 'SelectKBest/GridSearch - Accuracy: ', grid_search.score(train, y)"
   ]
  },
  {
   "cell_type": "markdown",
   "metadata": {},
   "source": [
    "### predict test data and create submission file"
   ]
  },
  {
   "cell_type": "code",
   "execution_count": 69,
   "metadata": {
    "collapsed": true
   },
   "outputs": [],
   "source": [
    "predictions = grid_search.predict(test)\n",
    "test = pd.read_csv(os.path.join('data', 'test.csv'))\n",
    "predictions = pd.DataFrame(predictions, columns=['SalePrice'])\n",
    "predictions = pd.concat((test.iloc[:, 0], predictions), axis = 1)\n",
    "predictions.to_csv(os.path.join('submission_files', 'lm1.csv'), sep=\",\", index = False)"
   ]
  },
  {
   "cell_type": "markdown",
   "metadata": {},
   "source": [
    "score: 0.15001"
   ]
  },
  {
   "cell_type": "markdown",
   "metadata": {},
   "source": [
    "## Linear Regression 2"
   ]
  },
  {
   "cell_type": "markdown",
   "metadata": {},
   "source": [
    "### load data"
   ]
  },
  {
   "cell_type": "code",
   "execution_count": 80,
   "metadata": {
    "collapsed": false
   },
   "outputs": [],
   "source": [
    "train = pd.read_csv(os.path.join('data', 'train.csv'))\n",
    "test = pd.read_csv(os.path.join('data', 'test.csv'))\n",
    "y = train.iloc[:, -1]\n",
    "train = train.iloc[:, 1:-1]\n",
    "test = test.iloc[:, 1:]\n",
    "submission = test.iloc[:, 0]"
   ]
  },
  {
   "cell_type": "markdown",
   "metadata": {},
   "source": [
    "### transform data"
   ]
  },
  {
   "cell_type": "code",
   "execution_count": 81,
   "metadata": {
    "collapsed": false
   },
   "outputs": [
    {
     "name": "stdout",
     "output_type": "stream",
     "text": [
      "0.712638614368 seconds\n"
     ]
    }
   ],
   "source": [
    "train, test = fp.mssubclass(train, test)\n",
    "train, test = fp.lotfrontage(train, test)\n",
    "train, test = fp.garageyrblt(train, test)\n",
    "train, test = fp.impute(train, test)\n",
    "train, test = fp.dummies(train, test)"
   ]
  },
  {
   "cell_type": "markdown",
   "metadata": {},
   "source": [
    "### use select K best to further narrow down number or columns"
   ]
  },
  {
   "cell_type": "code",
   "execution_count": 82,
   "metadata": {
    "collapsed": false
   },
   "outputs": [],
   "source": [
    "# Create SelectKBest() Object\n",
    "kbest = SelectKBest()\n",
    "lm = linear_model.LinearRegression()\n",
    "\n",
    "# Create the Pipeline() obejct, and then fit it against the data set. \n",
    "pipeline = Pipeline([('kbest', kbest),\n",
    "                     ('lm', lm)])"
   ]
  },
  {
   "cell_type": "code",
   "execution_count": 83,
   "metadata": {
    "collapsed": false
   },
   "outputs": [
    {
     "data": {
      "text/plain": [
       "GridSearchCV(cv=3, error_score='raise',\n",
       "       estimator=Pipeline(steps=[('kbest', SelectKBest(k=10, score_func=<function f_classif at 0x000000000AA61588>)), ('lm', LinearRegression(copy_X=True, fit_intercept=True, n_jobs=1, normalize=False))]),\n",
       "       fit_params={}, iid=True, n_jobs=-1,\n",
       "       param_grid={'kbest__k': [1, 2, 3, 4, 5, 6, 7, 8, 9, 10, 11, 12, 13, 14, 15, 16, 17, 18, 19, 20, 21, 22, 23, 24, 25, 26, 27, 28, 29, 30, 31, 32, 33, 34, 35, 36, 37, 38, 39, 40, 41, 42, 43, 44, 45, 46, 47, 48, 49, 50, 51, 52, 53, 54, 55, 56, 57, 58, 59, 60, 61, 62, 63, 64, 65, 66, 67, 68, 69, 70, 71, ...226, 227, 228, 229, 230, 231, 232, 233, 234, 235, 236, 237, 238, 239, 240, 241, 242, 243, 244, 245]},\n",
       "       pre_dispatch='2*n_jobs', refit=True, return_train_score=True,\n",
       "       scoring=None, verbose=0)"
      ]
     },
     "execution_count": 83,
     "metadata": {},
     "output_type": "execute_result"
    }
   ],
   "source": [
    "# Create a grid_search_dict. Using these with a pipeline can be a little tricky - note that\n",
    "#    you have to specify which pipeline component you want to grid search by using the alias\n",
    "#    you provided when you created the Pipeline object + '__' + [argument name]. \n",
    "grid_search_dict = {'kbest__k': range(1, len(train.columns)+1)}     \n",
    "\n",
    "grid_search = GridSearchCV(pipeline, param_grid=grid_search_dict, cv=3, n_jobs=-1)\n",
    "grid_search.fit(train, y)\n",
    "\n",
    "# Let's see how our SelectKBest/GridSearch classifier performed\n",
    "#print 'SelectKBest/GridSearch - Accuracy: ', grid_search.score(y, grid_search.predict(train))"
   ]
  },
  {
   "cell_type": "code",
   "execution_count": 84,
   "metadata": {
    "collapsed": false
   },
   "outputs": [
    {
     "name": "stdout",
     "output_type": "stream",
     "text": [
      "{'kbest__k': 198}\n",
      "0.819652594611\n"
     ]
    }
   ],
   "source": [
    "print grid_search.best_params_\n",
    "print grid_search.best_score_"
   ]
  },
  {
   "cell_type": "code",
   "execution_count": 85,
   "metadata": {
    "collapsed": false
   },
   "outputs": [
    {
     "data": {
      "text/plain": [
       "Pipeline(steps=[('kbest', SelectKBest(k=198, score_func=<function f_classif at 0x000000000AA61588>)), ('lm', LinearRegression(copy_X=True, fit_intercept=True, n_jobs=1, normalize=False))])"
      ]
     },
     "execution_count": 85,
     "metadata": {},
     "output_type": "execute_result"
    }
   ],
   "source": [
    "grid_search.best_estimator_"
   ]
  },
  {
   "cell_type": "markdown",
   "metadata": {},
   "source": [
    "### inspect results"
   ]
  },
  {
   "cell_type": "code",
   "execution_count": 86,
   "metadata": {
    "collapsed": false
   },
   "outputs": [
    {
     "name": "stdout",
     "output_type": "stream",
     "text": [
      "SelectKBest/GridSearch - Accuracy:  0.909055724318\n"
     ]
    }
   ],
   "source": [
    "grid_search = grid_search.best_estimator_\n",
    "grid_search.fit(train, y)\n",
    "\n",
    "# Let's see how our SelectKBest/GridSearch classifier performed\n",
    "print 'SelectKBest/GridSearch - Accuracy: ', grid_search.score(train, y)"
   ]
  },
  {
   "cell_type": "markdown",
   "metadata": {},
   "source": [
    "### predict test data and create submission file"
   ]
  },
  {
   "cell_type": "code",
   "execution_count": 87,
   "metadata": {
    "collapsed": true
   },
   "outputs": [],
   "source": [
    "predictions = grid_search.predict(test)\n",
    "test = pd.read_csv(os.path.join('data', 'test.csv'))\n",
    "predictions = pd.DataFrame(predictions, columns=['SalePrice'])\n",
    "predictions = pd.concat((test.iloc[:, 0], predictions), axis = 1)\n",
    "predictions.to_csv(os.path.join('submission_files', 'lm2.csv'), sep=\",\", index = False)"
   ]
  },
  {
   "cell_type": "markdown",
   "metadata": {},
   "source": [
    "score: ERROR - one of the predictions was negative"
   ]
  },
  {
   "cell_type": "markdown",
   "metadata": {},
   "source": [
    "## Lasso 2\n",
    "\n",
    "Taking the log of the skewed numeric values"
   ]
  },
  {
   "cell_type": "markdown",
   "metadata": {},
   "source": [
    "### load data"
   ]
  },
  {
   "cell_type": "code",
   "execution_count": 87,
   "metadata": {
    "collapsed": false
   },
   "outputs": [],
   "source": [
    "train = pd.read_csv(os.path.join('data', 'train.csv'))\n",
    "test = pd.read_csv(os.path.join('data', 'test.csv'))\n",
    "y = train.iloc[:, -1]\n",
    "train = train.iloc[:, 1:-1]\n",
    "test = test.iloc[:, 1:]\n",
    "submission = test.iloc[:, 0]"
   ]
  },
  {
   "cell_type": "markdown",
   "metadata": {},
   "source": [
    "### transform data"
   ]
  },
  {
   "cell_type": "code",
   "execution_count": 88,
   "metadata": {
    "collapsed": false
   },
   "outputs": [],
   "source": [
    "train, test = fp.mssubclass(train, test)"
   ]
  },
  {
   "cell_type": "code",
   "execution_count": 89,
   "metadata": {
    "collapsed": false
   },
   "outputs": [],
   "source": [
    "def log(train, test, y):\n",
    "    numeric_feats = train.dtypes[train.dtypes != \"object\"].index\n",
    "    skewed_feats = train[numeric_feats].apply(lambda x: skew(x.dropna())) #compute skewness\n",
    "    skewed_feats = skewed_feats[skewed_feats > 0.75]\n",
    "    skewed_feats = skewed_feats.index\n",
    "        \n",
    "    for i in (train, test):\n",
    "        #log transform skewed numeric features:\n",
    "        i[skewed_feats] = np.log1p(i[skewed_feats])\n",
    "\n",
    "    y = np.log1p(y)\n",
    "    return train, test, y"
   ]
  },
  {
   "cell_type": "code",
   "execution_count": 90,
   "metadata": {
    "collapsed": false
   },
   "outputs": [],
   "source": [
    "train, test, y = log(train, test, y)"
   ]
  },
  {
   "cell_type": "code",
   "execution_count": 91,
   "metadata": {
    "collapsed": false
   },
   "outputs": [
    {
     "name": "stdout",
     "output_type": "stream",
     "text": [
      "0.749755348676 seconds\n"
     ]
    }
   ],
   "source": [
    "train, test = fp.lotfrontage(train, test)\n",
    "train, test = fp.garageyrblt(train, test)\n",
    "train, test = fp.impute(train, test)\n",
    "train, test = fp.dummies(train, test)"
   ]
  },
  {
   "cell_type": "markdown",
   "metadata": {},
   "source": [
    "### find optimal value of the Lasso alpha parameter"
   ]
  },
  {
   "cell_type": "code",
   "execution_count": 69,
   "metadata": {
    "collapsed": true
   },
   "outputs": [],
   "source": [
    "from sklearn.linear_model import Ridge, RidgeCV, ElasticNet, LassoCV, LassoLarsCV\n",
    "from sklearn.model_selection import cross_val_score\n",
    "\n",
    "def rmse_cv(model):\n",
    "    rmse= np.sqrt(-cross_val_score(model, train, y, scoring=\"neg_mean_squared_error\", cv = 5))\n",
    "    return(rmse)"
   ]
  },
  {
   "cell_type": "code",
   "execution_count": 71,
   "metadata": {
    "collapsed": false
   },
   "outputs": [],
   "source": [
    "alphas = [1e-15, 1e-10, 1e-8, 1e-4, 1e-3,1e-2, 1, 5, 10, 20]\n",
    "cv_lasso = [rmse_cv(Lasso(alpha = alpha)).mean() \n",
    "            for alpha in alphas]"
   ]
  },
  {
   "cell_type": "code",
   "execution_count": 73,
   "metadata": {
    "collapsed": false
   },
   "outputs": [
    {
     "data": {
      "text/plain": [
       "<matplotlib.text.Text at 0xbd0bcc0>"
      ]
     },
     "execution_count": 73,
     "metadata": {},
     "output_type": "execute_result"
    },
    {
     "data": {
      "image/png": "[encoded data removed]",
      "text/plain": [
       "<matplotlib.figure.Figure at 0xa691358>"
      ]
     },
     "metadata": {},
     "output_type": "display_data"
    }
   ],
   "source": [
    "cv_lasso = pd.Series(cv_lasso, index = alphas)\n",
    "cv_lasso.plot(title = \"Validation - Just Do It\", logx=True)\n",
    "plt.xlabel(\"alpha\")\n",
    "plt.ylabel(\"rmse\")"
   ]
  },
  {
   "cell_type": "code",
   "execution_count": 102,
   "metadata": {
    "collapsed": false
   },
   "outputs": [
    {
     "name": "stdout",
     "output_type": "stream",
     "text": [
      "Lasso(alpha=0.0001, copy_X=True, fit_intercept=True, max_iter=1000,\n",
      "   normalize=True, positive=False, precompute=False, random_state=None,\n",
      "   selection='cyclic', tol=0.0001, warm_start=False)\n",
      "-0.0115547775381\n"
     ]
    }
   ],
   "source": [
    "from sklearn.grid_search import GridSearchCV\n",
    "from sklearn.linear_model import Lasso\n",
    "\n",
    "alpha_ridge = [1e-15, 1e-10, 1e-8, 1e-4, 1e-3,1e-2, 1, 5, 10, 20]\n",
    "\n",
    "coeffs = {}\n",
    "for alpha in alpha_ridge:\n",
    "    r = Lasso(alpha=alpha, normalize=True, max_iter=1000000)\n",
    "    r = r.fit(train, y)\n",
    "    \n",
    "grid_search = GridSearchCV(Lasso(alpha=alpha, normalize=True), scoring='neg_mean_squared_error',\n",
    "                           param_grid={'alpha': alpha_ridge}, cv=10, n_jobs=-1)\n",
    "grid_search.fit(train, y)\n",
    "\n",
    "print grid_search.best_estimator_\n",
    "print grid_search.score(train, y)"
   ]
  },
  {
   "cell_type": "markdown",
   "metadata": {},
   "source": [
    "### inspect results"
   ]
  },
  {
   "cell_type": "markdown",
   "metadata": {},
   "source": [
    "#### how do different values of alpha compare to the rmse?"
   ]
  },
  {
   "cell_type": "code",
   "execution_count": 107,
   "metadata": {
    "collapsed": false
   },
   "outputs": [],
   "source": [
    "alpha = []\n",
    "rmse = []\n",
    "for i in range(0, len(grid_search.grid_scores_)):\n",
    "    alpha.append(grid_search.grid_scores_[i][0]['alpha'])\n",
    "    rmse.append(np.sqrt(-grid_search.grid_scores_[i][1]))"
   ]
  },
  {
   "cell_type": "code",
   "execution_count": 112,
   "metadata": {
    "collapsed": false
   },
   "outputs": [
    {
     "data": {
      "text/plain": [
       "<matplotlib.text.Text at 0xd8a5160>"
      ]
     },
     "execution_count": 112,
     "metadata": {},
     "output_type": "execute_result"
    },
    {
     "data": {
      "image/png": "[encoded data removed]",
      "text/plain": [
       "<matplotlib.figure.Figure at 0xbe982e8>"
      ]
     },
     "metadata": {},
     "output_type": "display_data"
    }
   ],
   "source": [
    "lasso_cv = pd.Series(rmse, index = alpha)\n",
    "lasso_cv.plot(title = \"Validation - LASSO\", logx=True)\n",
    "plt.xlabel(\"alpha\")\n",
    "plt.ylabel(\"rmse\")"
   ]
  },
  {
   "cell_type": "markdown",
   "metadata": {},
   "source": [
    "### fit lasso model with optimal alpha"
   ]
  },
  {
   "cell_type": "code",
   "execution_count": 57,
   "metadata": {
    "collapsed": true
   },
   "outputs": [],
   "source": [
    "lasso = Lasso(alpha=.0001, normalize=True, max_iter=1e6)\n",
    "lasso = lasso.fit(train, y)"
   ]
  },
  {
   "cell_type": "markdown",
   "metadata": {},
   "source": [
    "### inspect variable importance"
   ]
  },
  {
   "cell_type": "code",
   "execution_count": 58,
   "metadata": {
    "collapsed": true
   },
   "outputs": [],
   "source": [
    "coef = pd.Series(lasso.coef_, index = train.columns)"
   ]
  },
  {
   "cell_type": "code",
   "execution_count": 59,
   "metadata": {
    "collapsed": false
   },
   "outputs": [
    {
     "name": "stdout",
     "output_type": "stream",
     "text": [
      "Lasso picked 106 variables and eliminated the other 139 variables\n"
     ]
    }
   ],
   "source": [
    "print(\"Lasso picked \" + str(sum(coef != 0)) + \" variables and eliminated the other \" +  str(sum(coef == 0)) + \" variables\")"
   ]
  },
  {
   "cell_type": "code",
   "execution_count": 60,
   "metadata": {
    "collapsed": true
   },
   "outputs": [],
   "source": [
    "imp_coef = pd.concat([coef.sort_values().head(10),\n",
    "                     coef.sort_values().tail(10)])"
   ]
  },
  {
   "cell_type": "code",
   "execution_count": 61,
   "metadata": {
    "collapsed": false
   },
   "outputs": [
    {
     "data": {
      "text/plain": [
       "<matplotlib.text.Text at 0xde0c208>"
      ]
     },
     "execution_count": 61,
     "metadata": {},
     "output_type": "execute_result"
    },
    {
     "data": {
      "image/png": "[encoded data removed]",
      "text/plain": [
       "<matplotlib.figure.Figure at 0xc03def0>"
      ]
     },
     "metadata": {},
     "output_type": "display_data"
    }
   ],
   "source": [
    "plt.rcParams['figure.figsize'] = (8.0, 10.0)\n",
    "imp_coef.plot(kind = \"barh\")\n",
    "plt.title(\"Coefficients in the Lasso Model\")"
   ]
  },
  {
   "cell_type": "markdown",
   "metadata": {},
   "source": [
    "### predict test data and create submission file"
   ]
  },
  {
   "cell_type": "code",
   "execution_count": 62,
   "metadata": {
    "collapsed": false
   },
   "outputs": [
    {
     "data": {
      "text/plain": [
       "array([ 11.70187494,  11.94682302,  12.10463334, ...,  12.0055574 ,\n",
       "        11.70064338,  12.31396738])"
      ]
     },
     "execution_count": 62,
     "metadata": {},
     "output_type": "execute_result"
    }
   ],
   "source": [
    "lasso.predict(test)"
   ]
  },
  {
   "cell_type": "code",
   "execution_count": 63,
   "metadata": {
    "collapsed": false
   },
   "outputs": [],
   "source": [
    "predictions = lasso.predict(test)\n",
    "predictions = np.expm1(predictions)\n",
    "test = pd.read_csv(os.path.join('data', 'test.csv'))\n",
    "predictions = pd.DataFrame(predictions, columns=['SalePrice'])\n",
    "predictions = pd.concat((test.iloc[:, 0], predictions), axis = 1)\n",
    "predictions.to_csv(os.path.join('submission_files', 'lasso2.csv'), sep=\",\", index = False)"
   ]
  },
  {
   "cell_type": "markdown",
   "metadata": {},
   "source": [
    "score: .12328"
   ]
  },
  {
   "cell_type": "markdown",
   "metadata": {},
   "source": [
    "## Lasso 3\n",
    "\n",
    "Taking the log of ALL numeric values"
   ]
  },
  {
   "cell_type": "markdown",
   "metadata": {},
   "source": [
    "### load data"
   ]
  },
  {
   "cell_type": "code",
   "execution_count": 118,
   "metadata": {
    "collapsed": false
   },
   "outputs": [],
   "source": [
    "train = pd.read_csv(os.path.join('data', 'train.csv'))\n",
    "test = pd.read_csv(os.path.join('data', 'test.csv'))\n",
    "y = train.iloc[:, -1]\n",
    "train = train.iloc[:, 1:-1]\n",
    "test = test.iloc[:, 1:]\n",
    "submission = test.iloc[:, 0]"
   ]
  },
  {
   "cell_type": "markdown",
   "metadata": {},
   "source": [
    "### transform data"
   ]
  },
  {
   "cell_type": "code",
   "execution_count": 119,
   "metadata": {
    "collapsed": false
   },
   "outputs": [],
   "source": [
    "train, test = fp.mssubclass(train, test)"
   ]
  },
  {
   "cell_type": "code",
   "execution_count": 120,
   "metadata": {
    "collapsed": false
   },
   "outputs": [],
   "source": [
    "def log(train, test, y):\n",
    "    numeric_feats = train.dtypes[train.dtypes != \"object\"].index\n",
    "        \n",
    "    for i in (train, test):\n",
    "        #log transform skewed numeric features:\n",
    "        i[numeric_feats] = np.log1p(i[numeric_feats])\n",
    "\n",
    "    y = np.log1p(y)\n",
    "    return train, test, y"
   ]
  },
  {
   "cell_type": "code",
   "execution_count": 121,
   "metadata": {
    "collapsed": false
   },
   "outputs": [],
   "source": [
    "train, test, y = log(train, test, y)"
   ]
  },
  {
   "cell_type": "code",
   "execution_count": 122,
   "metadata": {
    "collapsed": false
   },
   "outputs": [
    {
     "name": "stdout",
     "output_type": "stream",
     "text": [
      "0.8571121788 seconds\n"
     ]
    }
   ],
   "source": [
    "train, test = fp.lotfrontage(train, test)\n",
    "train, test = fp.garageyrblt(train, test)\n",
    "train, test = fp.impute(train, test)\n",
    "#train, test = fp.scale(train, test)\n",
    "train, test = fp.dummies(train, test)"
   ]
  },
  {
   "cell_type": "markdown",
   "metadata": {},
   "source": [
    "### find optimal value of the Lasso alpha parameter"
   ]
  },
  {
   "cell_type": "code",
   "execution_count": 123,
   "metadata": {
    "collapsed": false
   },
   "outputs": [
    {
     "name": "stdout",
     "output_type": "stream",
     "text": [
      "Lasso(alpha=0.0001, copy_X=True, fit_intercept=True, max_iter=1000,\n",
      "   normalize=True, positive=False, precompute=False, random_state=None,\n",
      "   selection='cyclic', tol=0.0001, warm_start=False)\n",
      "-0.0117627033334\n"
     ]
    }
   ],
   "source": [
    "from sklearn.model_selection import GridSearchCV\n",
    "from sklearn.linear_model import Lasso\n",
    "\n",
    "alpha_ridge = [1e-15, 1e-10, 1e-8, 1e-4, 1e-3,1e-2, 1, 5, 10, 20]\n",
    "\n",
    "coeffs = {}\n",
    "for alpha in alpha_ridge:\n",
    "    r = Lasso(alpha=alpha, normalize=True, max_iter=1000000)\n",
    "    r = r.fit(train, y)\n",
    "    \n",
    "grid_search = GridSearchCV(Lasso(alpha=alpha, normalize=True), scoring='neg_mean_squared_error',\n",
    "                           param_grid={'alpha': alpha_ridge}, cv=10, n_jobs=-1)\n",
    "grid_search.fit(train, y)\n",
    "\n",
    "print grid_search.best_estimator_\n",
    "print grid_search.score(train, y)"
   ]
  },
  {
   "cell_type": "markdown",
   "metadata": {},
   "source": [
    "### inspect results"
   ]
  },
  {
   "cell_type": "markdown",
   "metadata": {},
   "source": [
    "#### how do different values of alpha compare to the rmse?"
   ]
  },
  {
   "cell_type": "code",
   "execution_count": 129,
   "metadata": {
    "collapsed": false
   },
   "outputs": [],
   "source": [
    "alpha = alpha_ridge\n",
    "rmse = list(np.sqrt(-grid_search.cv_results_['mean_test_score']))"
   ]
  },
  {
   "cell_type": "code",
   "execution_count": 130,
   "metadata": {
    "collapsed": false
   },
   "outputs": [
    {
     "data": {
      "text/plain": [
       "<matplotlib.text.Text at 0x11de52b0>"
      ]
     },
     "execution_count": 130,
     "metadata": {},
     "output_type": "execute_result"
    },
    {
     "data": {
      "image/png": "[encoded data removed]",
      "text/plain": [
       "<matplotlib.figure.Figure at 0x11ddc0b8>"
      ]
     },
     "metadata": {},
     "output_type": "display_data"
    }
   ],
   "source": [
    "plt.figure(figsize=(6,5))\n",
    "lasso_cv = pd.Series(rmse, index = alpha)\n",
    "lasso_cv.plot(title = \"Validation - LASSO\", logx=True)\n",
    "plt.xlabel(\"alpha\")\n",
    "plt.ylabel(\"rmse\")"
   ]
  },
  {
   "cell_type": "markdown",
   "metadata": {},
   "source": [
    "### fit lasso model with optimal alpha"
   ]
  },
  {
   "cell_type": "code",
   "execution_count": 131,
   "metadata": {
    "collapsed": true
   },
   "outputs": [],
   "source": [
    "lasso = Lasso(alpha=.0001, normalize=True, max_iter=1e6)\n",
    "lasso = lasso.fit(train, y)"
   ]
  },
  {
   "cell_type": "markdown",
   "metadata": {},
   "source": [
    "### inspect variable importance"
   ]
  },
  {
   "cell_type": "code",
   "execution_count": 132,
   "metadata": {
    "collapsed": true
   },
   "outputs": [],
   "source": [
    "coef = pd.Series(lasso.coef_, index = train.columns)"
   ]
  },
  {
   "cell_type": "code",
   "execution_count": 133,
   "metadata": {
    "collapsed": false
   },
   "outputs": [
    {
     "name": "stdout",
     "output_type": "stream",
     "text": [
      "Lasso picked 103 variables and eliminated the other 142 variables\n"
     ]
    }
   ],
   "source": [
    "print(\"Lasso picked \" + str(sum(coef != 0)) + \" variables and eliminated the other \" +  str(sum(coef == 0)) + \" variables\")"
   ]
  },
  {
   "cell_type": "code",
   "execution_count": 134,
   "metadata": {
    "collapsed": true
   },
   "outputs": [],
   "source": [
    "imp_coef = pd.concat([coef.sort_values().head(10),\n",
    "                     coef.sort_values().tail(10)])"
   ]
  },
  {
   "cell_type": "code",
   "execution_count": 138,
   "metadata": {
    "collapsed": false
   },
   "outputs": [
    {
     "data": {
      "text/plain": [
       "<matplotlib.text.Text at 0x12c14c50>"
      ]
     },
     "execution_count": 138,
     "metadata": {},
     "output_type": "execute_result"
    },
    {
     "data": {
      "image/png": "[encoded data removed]",
      "text/plain": [
       "<matplotlib.figure.Figure at 0x11e73240>"
      ]
     },
     "metadata": {},
     "output_type": "display_data"
    }
   ],
   "source": [
    "plt.rcParams['figure.figsize'] = (5.0, 5.0)\n",
    "imp_coef.plot(kind = \"barh\")\n",
    "plt.title(\"Coefficients in the Lasso Model\")"
   ]
  },
  {
   "cell_type": "markdown",
   "metadata": {},
   "source": [
    "### predict test data and create submission file"
   ]
  },
  {
   "cell_type": "code",
   "execution_count": 136,
   "metadata": {
    "collapsed": false
   },
   "outputs": [
    {
     "data": {
      "text/plain": [
       "array([ 11.6892799 ,  11.95112217,  12.11326047, ...,  12.01074657,\n",
       "        11.68627529,  12.29008701])"
      ]
     },
     "execution_count": 136,
     "metadata": {},
     "output_type": "execute_result"
    }
   ],
   "source": [
    "lasso.predict(test)"
   ]
  },
  {
   "cell_type": "code",
   "execution_count": 137,
   "metadata": {
    "collapsed": false
   },
   "outputs": [],
   "source": [
    "predictions = lasso.predict(test)\n",
    "predictions = np.expm1(predictions)\n",
    "test = pd.read_csv(os.path.join('data', 'test.csv'))\n",
    "predictions = pd.DataFrame(predictions, columns=['SalePrice'])\n",
    "predictions = pd.concat((test.iloc[:, 0], predictions), axis = 1)\n",
    "predictions.to_csv(os.path.join('submission_files', 'lasso3.csv'), sep=\",\", index = False)"
   ]
  },
  {
   "cell_type": "markdown",
   "metadata": {},
   "source": [
    "score: .12093"
   ]
  },
  {
   "cell_type": "markdown",
   "metadata": {},
   "source": [
    "## Lasso 4\n",
    "\n",
    "Taking the log of ALL numeric values and scaling the features (and turning Normalize=False)\n",
    "...turns out this is not as good as doing Normalize=True"
   ]
  },
  {
   "cell_type": "markdown",
   "metadata": {},
   "source": [
    "### load data"
   ]
  },
  {
   "cell_type": "code",
   "execution_count": 157,
   "metadata": {
    "collapsed": false
   },
   "outputs": [],
   "source": [
    "train = pd.read_csv(os.path.join('data', 'train.csv'))\n",
    "test = pd.read_csv(os.path.join('data', 'test.csv'))\n",
    "y = train.iloc[:, -1]\n",
    "train = train.iloc[:, 1:-1]\n",
    "test = test.iloc[:, 1:]\n",
    "submission = test.iloc[:, 0]"
   ]
  },
  {
   "cell_type": "markdown",
   "metadata": {},
   "source": [
    "### transform data"
   ]
  },
  {
   "cell_type": "code",
   "execution_count": 158,
   "metadata": {
    "collapsed": false
   },
   "outputs": [],
   "source": [
    "train, test = fp.mssubclass(train, test)"
   ]
  },
  {
   "cell_type": "code",
   "execution_count": 159,
   "metadata": {
    "collapsed": false
   },
   "outputs": [],
   "source": [
    "def log(train, test, y):\n",
    "    numeric_feats = train.dtypes[train.dtypes != \"object\"].index\n",
    "        \n",
    "    for i in (train, test):\n",
    "        #log transform skewed numeric features:\n",
    "        i[numeric_feats] = np.log1p(i[numeric_feats])\n",
    "\n",
    "    y = np.log1p(y)\n",
    "    return train, test, y"
   ]
  },
  {
   "cell_type": "code",
   "execution_count": 160,
   "metadata": {
    "collapsed": false
   },
   "outputs": [],
   "source": [
    "train, test, y = log(train, test, y)"
   ]
  },
  {
   "cell_type": "code",
   "execution_count": 161,
   "metadata": {
    "collapsed": false
   },
   "outputs": [
    {
     "name": "stdout",
     "output_type": "stream",
     "text": [
      "0.712770068811 seconds\n"
     ]
    }
   ],
   "source": [
    "train, test = fp.lotfrontage(train, test)\n",
    "train, test = fp.garageyrblt(train, test)\n",
    "train, test = fp.impute(train, test)\n",
    "train, test = fp.scale(train, test, cols=train.dtypes[train.dtypes != \"object\"].index)\n",
    "train, test = fp.dummies(train, test)"
   ]
  },
  {
   "cell_type": "markdown",
   "metadata": {},
   "source": [
    "### find optimal value of the Lasso alpha parameter"
   ]
  },
  {
   "cell_type": "code",
   "execution_count": 162,
   "metadata": {
    "collapsed": false
   },
   "outputs": [
    {
     "name": "stdout",
     "output_type": "stream",
     "text": [
      "Lasso(alpha=0.0001, copy_X=True, fit_intercept=True, max_iter=1000,\n",
      "   normalize=True, positive=False, precompute=False, random_state=None,\n",
      "   selection='cyclic', tol=0.0001, warm_start=False)\n",
      "-0.0117627033334\n"
     ]
    }
   ],
   "source": [
    "from sklearn.model_selection import GridSearchCV\n",
    "from sklearn.linear_model import Lasso\n",
    "\n",
    "alpha_ridge = [1e-15, 1e-10, 1e-8, 1e-4, 1e-3,1e-2, 1, 5, 10, 20]\n",
    "\n",
    "coeffs = {}\n",
    "for alpha in alpha_ridge:\n",
    "    r = Lasso(alpha=alpha, max_iter=1000000)\n",
    "    r = r.fit(train, y)\n",
    "    \n",
    "grid_search = GridSearchCV(Lasso(alpha=alpha, normalize=True), scoring='neg_mean_squared_error',\n",
    "                           param_grid={'alpha': alpha_ridge}, cv=10, n_jobs=-1)\n",
    "grid_search.fit(train, y)\n",
    "\n",
    "print grid_search.best_estimator_\n",
    "print grid_search.score(train, y)"
   ]
  },
  {
   "cell_type": "markdown",
   "metadata": {},
   "source": [
    "### inspect results"
   ]
  },
  {
   "cell_type": "markdown",
   "metadata": {},
   "source": [
    "#### how do different values of alpha compare to the rmse?"
   ]
  },
  {
   "cell_type": "code",
   "execution_count": 163,
   "metadata": {
    "collapsed": false
   },
   "outputs": [],
   "source": [
    "alpha = alpha_ridge\n",
    "rmse = list(np.sqrt(-grid_search.cv_results_['mean_test_score']))"
   ]
  },
  {
   "cell_type": "code",
   "execution_count": 164,
   "metadata": {
    "collapsed": false
   },
   "outputs": [
    {
     "data": {
      "text/plain": [
       "<matplotlib.text.Text at 0x13edc898>"
      ]
     },
     "execution_count": 164,
     "metadata": {},
     "output_type": "execute_result"
    },
    {
     "data": {
      "image/png": "[encoded data removed]",
      "text/plain": [
       "<matplotlib.figure.Figure at 0x13104860>"
      ]
     },
     "metadata": {},
     "output_type": "display_data"
    }
   ],
   "source": [
    "plt.figure(figsize=(6,5))\n",
    "lasso_cv = pd.Series(rmse, index = alpha)\n",
    "lasso_cv.plot(title = \"Validation - LASSO\", logx=True)\n",
    "plt.xlabel(\"alpha\")\n",
    "plt.ylabel(\"rmse\")"
   ]
  },
  {
   "cell_type": "markdown",
   "metadata": {},
   "source": [
    "### fit lasso model with optimal alpha"
   ]
  },
  {
   "cell_type": "code",
   "execution_count": 165,
   "metadata": {
    "collapsed": true
   },
   "outputs": [],
   "source": [
    "lasso = Lasso(alpha=.0001, max_iter=1e6)\n",
    "lasso = lasso.fit(train, y)"
   ]
  },
  {
   "cell_type": "markdown",
   "metadata": {},
   "source": [
    "### inspect variable importance"
   ]
  },
  {
   "cell_type": "code",
   "execution_count": 166,
   "metadata": {
    "collapsed": true
   },
   "outputs": [],
   "source": [
    "coef = pd.Series(lasso.coef_, index = train.columns)"
   ]
  },
  {
   "cell_type": "code",
   "execution_count": 167,
   "metadata": {
    "collapsed": false
   },
   "outputs": [
    {
     "name": "stdout",
     "output_type": "stream",
     "text": [
      "Lasso picked 195 variables and eliminated the other 50 variables\n"
     ]
    }
   ],
   "source": [
    "print(\"Lasso picked \" + str(sum(coef != 0)) + \" variables and eliminated the other \" +  str(sum(coef == 0)) + \" variables\")"
   ]
  },
  {
   "cell_type": "code",
   "execution_count": 168,
   "metadata": {
    "collapsed": true
   },
   "outputs": [],
   "source": [
    "imp_coef = pd.concat([coef.sort_values().head(10),\n",
    "                     coef.sort_values().tail(10)])"
   ]
  },
  {
   "cell_type": "code",
   "execution_count": 169,
   "metadata": {
    "collapsed": false
   },
   "outputs": [
    {
     "data": {
      "text/plain": [
       "<matplotlib.text.Text at 0x140750b8>"
      ]
     },
     "execution_count": 169,
     "metadata": {},
     "output_type": "execute_result"
    },
    {
     "data": {
      "image/png": "[encoded data removed]",
      "text/plain": [
       "<matplotlib.figure.Figure at 0x13bc02e8>"
      ]
     },
     "metadata": {},
     "output_type": "display_data"
    }
   ],
   "source": [
    "plt.rcParams['figure.figsize'] = (5.0, 5.0)\n",
    "imp_coef.plot(kind = \"barh\")\n",
    "plt.title(\"Coefficients in the Lasso Model\")"
   ]
  },
  {
   "cell_type": "markdown",
   "metadata": {},
   "source": [
    "### predict test data and create submission file"
   ]
  },
  {
   "cell_type": "code",
   "execution_count": 170,
   "metadata": {
    "collapsed": false
   },
   "outputs": [
    {
     "data": {
      "text/plain": [
       "array([ 11.66292319,  11.9331901 ,  12.11437636, ...,  12.06081414,\n",
       "        11.66438849,  12.27706938])"
      ]
     },
     "execution_count": 170,
     "metadata": {},
     "output_type": "execute_result"
    }
   ],
   "source": [
    "lasso.predict(test)"
   ]
  },
  {
   "cell_type": "code",
   "execution_count": 171,
   "metadata": {
    "collapsed": false
   },
   "outputs": [],
   "source": [
    "predictions = lasso.predict(test)\n",
    "predictions = np.expm1(predictions)\n",
    "test = pd.read_csv(os.path.join('data', 'test.csv'))\n",
    "predictions = pd.DataFrame(predictions, columns=['SalePrice'])\n",
    "predictions = pd.concat((test.iloc[:, 0], predictions), axis = 1)\n",
    "predictions.to_csv(os.path.join('submission_files', 'lasso4.csv'), sep=\",\", index = False)"
   ]
  },
  {
   "cell_type": "markdown",
   "metadata": {},
   "source": [
    "score: .12260"
   ]
  },
  {
   "cell_type": "markdown",
   "metadata": {},
   "source": [
    "## Lasso 5\n",
    "\n",
    "Taking the log of ALL numeric values and converting ordinal categorical vars to numeric"
   ]
  },
  {
   "cell_type": "markdown",
   "metadata": {},
   "source": [
    "### load data"
   ]
  },
  {
   "cell_type": "code",
   "execution_count": 2,
   "metadata": {
    "collapsed": false
   },
   "outputs": [],
   "source": [
    "train = pd.read_csv(os.path.join('data', 'train.csv'))\n",
    "test = pd.read_csv(os.path.join('data', 'test.csv'))\n",
    "y = train.iloc[:, -1]\n",
    "train = train.iloc[:, 1:-1]\n",
    "test = test.iloc[:, 1:]\n",
    "submission = test.iloc[:, 0]"
   ]
  },
  {
   "cell_type": "markdown",
   "metadata": {},
   "source": [
    "### transform data"
   ]
  },
  {
   "cell_type": "code",
   "execution_count": 3,
   "metadata": {
    "collapsed": false
   },
   "outputs": [],
   "source": [
    "train, test = fp.mssubclass(train, test)"
   ]
  },
  {
   "cell_type": "code",
   "execution_count": 4,
   "metadata": {
    "collapsed": true
   },
   "outputs": [],
   "source": [
    "train, test = fp.ordinal(train, test)"
   ]
  },
  {
   "cell_type": "code",
   "execution_count": 5,
   "metadata": {
    "collapsed": false
   },
   "outputs": [],
   "source": [
    "def log(train, test, y):\n",
    "    numeric_feats = train.dtypes[train.dtypes != \"object\"].index\n",
    "        \n",
    "    for i in (train, test):\n",
    "        #log transform skewed numeric features:\n",
    "        i[numeric_feats] = np.log1p(i[numeric_feats])\n",
    "\n",
    "    y = np.log1p(y)\n",
    "    return train, test, y"
   ]
  },
  {
   "cell_type": "code",
   "execution_count": 6,
   "metadata": {
    "collapsed": false
   },
   "outputs": [],
   "source": [
    "train, test, y = log(train, test, y)"
   ]
  },
  {
   "cell_type": "code",
   "execution_count": 7,
   "metadata": {
    "collapsed": false
   },
   "outputs": [
    {
     "name": "stdout",
     "output_type": "stream",
     "text": [
      "0.468862863804 seconds\n"
     ]
    }
   ],
   "source": [
    "train, test = fp.lotfrontage(train, test)\n",
    "train, test = fp.garageyrblt(train, test)\n",
    "train, test = fp.impute(train, test)\n",
    "train, test = fp.dummies(train, test)"
   ]
  },
  {
   "cell_type": "markdown",
   "metadata": {},
   "source": [
    "### find optimal value of the Lasso alpha parameter"
   ]
  },
  {
   "cell_type": "code",
   "execution_count": 9,
   "metadata": {
    "collapsed": false
   },
   "outputs": [
    {
     "name": "stderr",
     "output_type": "stream",
     "text": [
      "C:\\Users\\User\\Anaconda2\\lib\\site-packages\\sklearn\\linear_model\\coordinate_descent.py:484: ConvergenceWarning: Objective did not converge. You might want to increase the number of iterations. Fitting data with very small alpha may cause precision problems.\n",
      "  ConvergenceWarning)\n"
     ]
    },
    {
     "name": "stdout",
     "output_type": "stream",
     "text": [
      "Lasso(alpha=0.0001, copy_X=True, fit_intercept=True, max_iter=1000,\n",
      "   normalize=True, positive=False, precompute=False, random_state=None,\n",
      "   selection='cyclic', tol=0.0001, warm_start=False)\n",
      "-0.0124766457865\n"
     ]
    }
   ],
   "source": [
    "from sklearn.model_selection import GridSearchCV\n",
    "from sklearn.linear_model import Lasso\n",
    "\n",
    "alpha_ridge = [1e-15, 1e-10, 1e-8, 1e-4, 1e-3,1e-2, 1, 5, 10, 20]\n",
    "\n",
    "coeffs = {}\n",
    "for alpha in alpha_ridge:\n",
    "    r = Lasso(alpha=alpha, normalize=True, max_iter=1000000)\n",
    "    r = r.fit(train, y)\n",
    "    \n",
    "grid_search = GridSearchCV(Lasso(alpha=alpha, normalize=True), scoring='neg_mean_squared_error',\n",
    "                           param_grid={'alpha': alpha_ridge}, cv=10, n_jobs=-1)\n",
    "grid_search.fit(train, y)\n",
    "\n",
    "print grid_search.best_estimator_\n",
    "print grid_search.score(train, y)"
   ]
  },
  {
   "cell_type": "markdown",
   "metadata": {},
   "source": [
    "### inspect results"
   ]
  },
  {
   "cell_type": "markdown",
   "metadata": {},
   "source": [
    "#### how do different values of alpha compare to the rmse?"
   ]
  },
  {
   "cell_type": "code",
   "execution_count": 10,
   "metadata": {
    "collapsed": false
   },
   "outputs": [],
   "source": [
    "alpha = alpha_ridge\n",
    "rmse = list(np.sqrt(-grid_search.cv_results_['mean_test_score']))"
   ]
  },
  {
   "cell_type": "code",
   "execution_count": 11,
   "metadata": {
    "collapsed": false
   },
   "outputs": [
    {
     "data": {
      "text/plain": [
       "<matplotlib.text.Text at 0xb436518>"
      ]
     },
     "execution_count": 11,
     "metadata": {},
     "output_type": "execute_result"
    },
    {
     "data": {
      "image/png": "[encoded data removed]",
      "text/plain": [
       "<matplotlib.figure.Figure at 0xb25ee80>"
      ]
     },
     "metadata": {},
     "output_type": "display_data"
    }
   ],
   "source": [
    "plt.figure(figsize=(6,5))\n",
    "lasso_cv = pd.Series(rmse, index = alpha)\n",
    "lasso_cv.plot(title = \"Validation - LASSO\", logx=True)\n",
    "plt.xlabel(\"alpha\")\n",
    "plt.ylabel(\"rmse\")"
   ]
  },
  {
   "cell_type": "markdown",
   "metadata": {},
   "source": [
    "### fit lasso model with optimal alpha"
   ]
  },
  {
   "cell_type": "code",
   "execution_count": 12,
   "metadata": {
    "collapsed": true
   },
   "outputs": [],
   "source": [
    "lasso = Lasso(alpha=.0001, normalize=True, max_iter=1e6)\n",
    "lasso = lasso.fit(train, y)"
   ]
  },
  {
   "cell_type": "markdown",
   "metadata": {},
   "source": [
    "### inspect variable importance"
   ]
  },
  {
   "cell_type": "code",
   "execution_count": 13,
   "metadata": {
    "collapsed": true
   },
   "outputs": [],
   "source": [
    "coef = pd.Series(lasso.coef_, index = train.columns)"
   ]
  },
  {
   "cell_type": "code",
   "execution_count": 14,
   "metadata": {
    "collapsed": false
   },
   "outputs": [
    {
     "name": "stdout",
     "output_type": "stream",
     "text": [
      "Lasso picked 87 variables and eliminated the other 125 variables\n"
     ]
    }
   ],
   "source": [
    "print(\"Lasso picked \" + str(sum(coef != 0)) + \" variables and eliminated the other \" +  str(sum(coef == 0)) + \" variables\")"
   ]
  },
  {
   "cell_type": "code",
   "execution_count": 15,
   "metadata": {
    "collapsed": true
   },
   "outputs": [],
   "source": [
    "imp_coef = pd.concat([coef.sort_values().head(10),\n",
    "                     coef.sort_values().tail(10)])"
   ]
  },
  {
   "cell_type": "code",
   "execution_count": 16,
   "metadata": {
    "collapsed": false
   },
   "outputs": [
    {
     "data": {
      "text/plain": [
       "<matplotlib.text.Text at 0xbb99908>"
      ]
     },
     "execution_count": 16,
     "metadata": {},
     "output_type": "execute_result"
    },
    {
     "data": {
      "image/png": "[encoded data removed]",
      "text/plain": [
       "<matplotlib.figure.Figure at 0x60916a0>"
      ]
     },
     "metadata": {},
     "output_type": "display_data"
    }
   ],
   "source": [
    "plt.rcParams['figure.figsize'] = (5.0, 5.0)\n",
    "imp_coef.plot(kind = \"barh\")\n",
    "plt.title(\"Coefficients in the Lasso Model\")"
   ]
  },
  {
   "cell_type": "markdown",
   "metadata": {},
   "source": [
    "### predict test data and create submission file"
   ]
  },
  {
   "cell_type": "code",
   "execution_count": 18,
   "metadata": {
    "collapsed": true
   },
   "outputs": [],
   "source": [
    "def impute(train, test):\n",
    "    for i in (train, test):\n",
    "        for s in [k for k in i.dtypes[i.dtypes != \"object\"].index if sum(pd.isnull(i[k])>0)]:\n",
    "            i[s] = i[s].fillna(0)\n",
    "    return train, test"
   ]
  },
  {
   "cell_type": "code",
   "execution_count": 19,
   "metadata": {
    "collapsed": true
   },
   "outputs": [],
   "source": [
    "train, test = impute(train, test)"
   ]
  },
  {
   "cell_type": "code",
   "execution_count": 20,
   "metadata": {
    "collapsed": false
   },
   "outputs": [
    {
     "data": {
      "text/plain": [
       "array([ 11.67345253,  11.97199209,  12.10655513, ...,  12.00143713,\n",
       "        11.69654833,  12.3242625 ])"
      ]
     },
     "execution_count": 20,
     "metadata": {},
     "output_type": "execute_result"
    }
   ],
   "source": [
    "lasso.predict(test)"
   ]
  },
  {
   "cell_type": "code",
   "execution_count": 21,
   "metadata": {
    "collapsed": false
   },
   "outputs": [],
   "source": [
    "predictions = lasso.predict(test)\n",
    "predictions = np.expm1(predictions)\n",
    "test = pd.read_csv(os.path.join('data', 'test.csv'))\n",
    "predictions = pd.DataFrame(predictions, columns=['SalePrice'])\n",
    "predictions = pd.concat((test.iloc[:, 0], predictions), axis = 1)\n",
    "predictions.to_csv(os.path.join('submission_files', 'lasso5.csv'), sep=\",\", index = False)"
   ]
  },
  {
   "cell_type": "markdown",
   "metadata": {},
   "source": [
    "score: .12532"
   ]
  },
  {
   "cell_type": "markdown",
   "metadata": {},
   "source": [
    "## Lasso 6\n",
    "\n",
    "Taking the log of ALL numeric values impute w/ mean"
   ]
  },
  {
   "cell_type": "markdown",
   "metadata": {},
   "source": [
    "### load data"
   ]
  },
  {
   "cell_type": "code",
   "execution_count": 2,
   "metadata": {
    "collapsed": false
   },
   "outputs": [],
   "source": [
    "train = pd.read_csv(os.path.join('data', 'train.csv'))\n",
    "test = pd.read_csv(os.path.join('data', 'test.csv'))\n",
    "y = train.iloc[:, -1]\n",
    "train = train.iloc[:, 1:-1]\n",
    "test = test.iloc[:, 1:]\n",
    "submission = test.iloc[:, 0]"
   ]
  },
  {
   "cell_type": "markdown",
   "metadata": {},
   "source": [
    "### transform data"
   ]
  },
  {
   "cell_type": "code",
   "execution_count": 3,
   "metadata": {
    "collapsed": false
   },
   "outputs": [],
   "source": [
    "train, test = fp.mssubclass(train, test)"
   ]
  },
  {
   "cell_type": "code",
   "execution_count": 4,
   "metadata": {
    "collapsed": false
   },
   "outputs": [],
   "source": [
    "def log(train, test, y):\n",
    "    numeric_feats = train.dtypes[train.dtypes != \"object\"].index\n",
    "        \n",
    "    for i in (train, test):\n",
    "        #log transform skewed numeric features:\n",
    "        i[numeric_feats] = np.log1p(i[numeric_feats])\n",
    "\n",
    "    y = np.log1p(y)\n",
    "    return train, test, y"
   ]
  },
  {
   "cell_type": "code",
   "execution_count": 5,
   "metadata": {
    "collapsed": false
   },
   "outputs": [],
   "source": [
    "train, test, y = log(train, test, y)"
   ]
  },
  {
   "cell_type": "code",
   "execution_count": 6,
   "metadata": {
    "collapsed": false
   },
   "outputs": [
    {
     "name": "stdout",
     "output_type": "stream",
     "text": [
      "0.681577863861 seconds\n"
     ]
    }
   ],
   "source": [
    "train, test = fp.lotfrontage(train, test)\n",
    "train, test = fp.garageyrblt(train, test)\n",
    "train, test = fp.impute_mean(train, test)\n",
    "train, test = fp.dummies(train, test)"
   ]
  },
  {
   "cell_type": "markdown",
   "metadata": {},
   "source": [
    "### find optimal value of the Lasso alpha parameter"
   ]
  },
  {
   "cell_type": "code",
   "execution_count": 7,
   "metadata": {
    "collapsed": false
   },
   "outputs": [
    {
     "name": "stderr",
     "output_type": "stream",
     "text": [
      "C:\\Users\\User\\Anaconda2\\lib\\site-packages\\sklearn\\linear_model\\coordinate_descent.py:484: ConvergenceWarning: Objective did not converge. You might want to increase the number of iterations. Fitting data with very small alpha may cause precision problems.\n",
      "  ConvergenceWarning)\n"
     ]
    },
    {
     "name": "stdout",
     "output_type": "stream",
     "text": [
      "Lasso(alpha=0.0001, copy_X=True, fit_intercept=True, max_iter=1000,\n",
      "   normalize=True, positive=False, precompute=False, random_state=None,\n",
      "   selection='cyclic', tol=0.0001, warm_start=False)\n",
      "-0.01176265768\n"
     ]
    }
   ],
   "source": [
    "from sklearn.model_selection import GridSearchCV\n",
    "from sklearn.linear_model import Lasso\n",
    "\n",
    "alpha_ridge = [1e-15, 1e-10, 1e-8, 1e-4, 1e-3,1e-2, 1, 5, 10, 20]\n",
    "\n",
    "coeffs = {}\n",
    "for alpha in alpha_ridge:\n",
    "    r = Lasso(alpha=alpha, normalize=True, max_iter=1000000)\n",
    "    r = r.fit(train, y)\n",
    "    \n",
    "grid_search = GridSearchCV(Lasso(alpha=alpha, normalize=True), scoring='neg_mean_squared_error',\n",
    "                           param_grid={'alpha': alpha_ridge}, cv=10, n_jobs=-1)\n",
    "grid_search.fit(train, y)\n",
    "\n",
    "print grid_search.best_estimator_\n",
    "print grid_search.score(train, y)"
   ]
  },
  {
   "cell_type": "markdown",
   "metadata": {},
   "source": [
    "### inspect results"
   ]
  },
  {
   "cell_type": "markdown",
   "metadata": {},
   "source": [
    "#### how do different values of alpha compare to the rmse?"
   ]
  },
  {
   "cell_type": "code",
   "execution_count": 8,
   "metadata": {
    "collapsed": false
   },
   "outputs": [],
   "source": [
    "alpha = alpha_ridge\n",
    "rmse = list(np.sqrt(-grid_search.cv_results_['mean_test_score']))"
   ]
  },
  {
   "cell_type": "code",
   "execution_count": 9,
   "metadata": {
    "collapsed": false
   },
   "outputs": [
    {
     "data": {
      "text/plain": [
       "<matplotlib.text.Text at 0xb2b09b0>"
      ]
     },
     "execution_count": 9,
     "metadata": {},
     "output_type": "execute_result"
    },
    {
     "data": {
      "image/png": "[encoded data removed]",
      "text/plain": [
       "<matplotlib.figure.Figure at 0xbdacf60>"
      ]
     },
     "metadata": {},
     "output_type": "display_data"
    }
   ],
   "source": [
    "plt.figure(figsize=(6,5))\n",
    "lasso_cv = pd.Series(rmse, index = alpha)\n",
    "lasso_cv.plot(title = \"Validation - LASSO\", logx=True)\n",
    "plt.xlabel(\"alpha\")\n",
    "plt.ylabel(\"rmse\")"
   ]
  },
  {
   "cell_type": "markdown",
   "metadata": {},
   "source": [
    "### fit lasso model with optimal alpha"
   ]
  },
  {
   "cell_type": "code",
   "execution_count": 10,
   "metadata": {
    "collapsed": true
   },
   "outputs": [],
   "source": [
    "lasso = Lasso(alpha=.0001, normalize=True, max_iter=1e6)\n",
    "lasso = lasso.fit(train, y)"
   ]
  },
  {
   "cell_type": "markdown",
   "metadata": {},
   "source": [
    "### inspect variable importance"
   ]
  },
  {
   "cell_type": "code",
   "execution_count": 11,
   "metadata": {
    "collapsed": true
   },
   "outputs": [],
   "source": [
    "coef = pd.Series(lasso.coef_, index = train.columns)"
   ]
  },
  {
   "cell_type": "code",
   "execution_count": 12,
   "metadata": {
    "collapsed": false
   },
   "outputs": [
    {
     "name": "stdout",
     "output_type": "stream",
     "text": [
      "Lasso picked 103 variables and eliminated the other 142 variables\n"
     ]
    }
   ],
   "source": [
    "print(\"Lasso picked \" + str(sum(coef != 0)) + \" variables and eliminated the other \" +  str(sum(coef == 0)) + \" variables\")"
   ]
  },
  {
   "cell_type": "code",
   "execution_count": 13,
   "metadata": {
    "collapsed": true
   },
   "outputs": [],
   "source": [
    "imp_coef = pd.concat([coef.sort_values().head(10),\n",
    "                     coef.sort_values().tail(10)])"
   ]
  },
  {
   "cell_type": "code",
   "execution_count": 14,
   "metadata": {
    "collapsed": false
   },
   "outputs": [
    {
     "data": {
      "text/plain": [
       "<matplotlib.text.Text at 0xd5c3908>"
      ]
     },
     "execution_count": 14,
     "metadata": {},
     "output_type": "execute_result"
    },
    {
     "data": {
      "image/png": "[encoded data removed]",
      "text/plain": [
       "<matplotlib.figure.Figure at 0xbdac7b8>"
      ]
     },
     "metadata": {},
     "output_type": "display_data"
    }
   ],
   "source": [
    "plt.rcParams['figure.figsize'] = (5.0, 5.0)\n",
    "imp_coef.plot(kind = \"barh\")\n",
    "plt.title(\"Coefficients in the Lasso Model\")"
   ]
  },
  {
   "cell_type": "markdown",
   "metadata": {},
   "source": [
    "### predict test data and create submission file"
   ]
  },
  {
   "cell_type": "code",
   "execution_count": 16,
   "metadata": {
    "collapsed": false
   },
   "outputs": [
    {
     "data": {
      "text/plain": [
       "array([ 11.68927581,  11.95111481,  12.11327219, ...,  12.01075463,\n",
       "        11.68626894,  12.29008417])"
      ]
     },
     "execution_count": 16,
     "metadata": {},
     "output_type": "execute_result"
    }
   ],
   "source": [
    "lasso.predict(test)"
   ]
  },
  {
   "cell_type": "code",
   "execution_count": 17,
   "metadata": {
    "collapsed": false
   },
   "outputs": [],
   "source": [
    "predictions = lasso.predict(test)\n",
    "predictions = np.expm1(predictions)\n",
    "test = pd.read_csv(os.path.join('data', 'test.csv'))\n",
    "predictions = pd.DataFrame(predictions, columns=['SalePrice'])\n",
    "predictions = pd.concat((test.iloc[:, 0], predictions), axis = 1)\n",
    "predictions.to_csv(os.path.join('submission_files', 'lasso6.csv'), sep=\",\", index = False)"
   ]
  },
  {
   "cell_type": "markdown",
   "metadata": {},
   "source": [
    "score: .12090"
   ]
  },
  {
   "cell_type": "markdown",
   "metadata": {},
   "source": [
    "## XGBoost 1"
   ]
  },
  {
   "cell_type": "code",
   "execution_count": 77,
   "metadata": {
    "collapsed": true
   },
   "outputs": [],
   "source": [
    "from xgboost.sklearn import XGBClassifier\n",
    "import xgboost as xgb\n",
    "from sklearn.metrics import mean_squared_error"
   ]
  },
  {
   "cell_type": "markdown",
   "metadata": {},
   "source": [
    "### load data"
   ]
  },
  {
   "cell_type": "code",
   "execution_count": 107,
   "metadata": {
    "collapsed": false
   },
   "outputs": [],
   "source": [
    "train = pd.read_csv(os.path.join('data', 'train.csv'))\n",
    "test = pd.read_csv(os.path.join('data', 'test.csv'))\n",
    "y = train.iloc[:, -1]\n",
    "train = train.iloc[:, 1:-1]\n",
    "test = test.iloc[:, 1:]\n",
    "submission = test.iloc[:, 0]"
   ]
  },
  {
   "cell_type": "markdown",
   "metadata": {},
   "source": [
    "### transform data"
   ]
  },
  {
   "cell_type": "code",
   "execution_count": 108,
   "metadata": {
    "collapsed": false
   },
   "outputs": [],
   "source": [
    "train, test = fp.mssubclass(train, test)"
   ]
  },
  {
   "cell_type": "code",
   "execution_count": 109,
   "metadata": {
    "collapsed": false
   },
   "outputs": [],
   "source": [
    "def log(train, test, y):\n",
    "    numeric_feats = train.dtypes[train.dtypes != \"object\"].index\n",
    "        \n",
    "    for i in (train, test):\n",
    "        #log transform skewed numeric features:\n",
    "        i[numeric_feats] = np.log1p(i[numeric_feats])\n",
    "\n",
    "    y = np.log1p(y)\n",
    "    return train, test, y"
   ]
  },
  {
   "cell_type": "code",
   "execution_count": 110,
   "metadata": {
    "collapsed": false
   },
   "outputs": [],
   "source": [
    "train, test, y = log(train, test, y)"
   ]
  },
  {
   "cell_type": "code",
   "execution_count": 111,
   "metadata": {
    "collapsed": false
   },
   "outputs": [
    {
     "name": "stdout",
     "output_type": "stream",
     "text": [
      "0.68664418914 seconds\n"
     ]
    }
   ],
   "source": [
    "train, test = fp.lotfrontage(train, test)\n",
    "train, test = fp.garageyrblt(train, test)\n",
    "train, test = fp.impute_mean(train, test)\n",
    "train, test = fp.dummies(train, test)"
   ]
  },
  {
   "cell_type": "code",
   "execution_count": 112,
   "metadata": {
    "collapsed": false
   },
   "outputs": [
    {
     "name": "stdout",
     "output_type": "stream",
     "text": [
      "('XGBoost score on training set: ', 0.0058807337725166504)\n"
     ]
    }
   ],
   "source": [
    "regr = xgb.XGBRegressor(\n",
    "                 colsample_bytree=0.2,\n",
    "                 gamma=0.0,\n",
    "                 learning_rate=0.01,\n",
    "                 max_depth=4,\n",
    "                 min_child_weight=1.5,\n",
    "                 n_estimators=7200,                                                                  \n",
    "                 reg_alpha=0.9,\n",
    "                 reg_lambda=0.6,\n",
    "                 subsample=0.2,\n",
    "                 seed=42,\n",
    "                 silent=1)\n",
    "\n",
    "regr.fit(train, y)\n",
    "\n",
    "# Run prediction on training set to get a rough idea of how well it does.\n",
    "y_pred = regr.predict(train)\n",
    "y_test = y\n",
    "print(\"XGBoost score on training set: \", mean_squared_error(y_test, y_pred))\n",
    "\n",
    "# Run prediction on the Kaggle test set.\n",
    "y_pred_xgb = regr.predict(test)"
   ]
  },
  {
   "cell_type": "markdown",
   "metadata": {},
   "source": [
    "### predict test data and create submission file"
   ]
  },
  {
   "cell_type": "code",
   "execution_count": 84,
   "metadata": {
    "collapsed": false
   },
   "outputs": [
    {
     "data": {
      "text/plain": [
       "array([ 11.75356579,  11.97429276,  12.10027695, ...,  12.04427624,\n",
       "        11.69212246,  12.2768383 ], dtype=float32)"
      ]
     },
     "execution_count": 84,
     "metadata": {},
     "output_type": "execute_result"
    }
   ],
   "source": [
    "y_pred_xgb"
   ]
  },
  {
   "cell_type": "code",
   "execution_count": 85,
   "metadata": {
    "collapsed": false
   },
   "outputs": [],
   "source": [
    "predictions = np.expm1(y_pred_xgb)\n",
    "test = pd.read_csv(os.path.join('data', 'test.csv'))\n",
    "predictions = pd.DataFrame(predictions, columns=['SalePrice'])\n",
    "predictions = pd.concat((test.iloc[:, 0], predictions), axis = 1)\n",
    "predictions.to_csv(os.path.join('submission_files', 'xgb1.csv'), sep=\",\", index = False)"
   ]
  },
  {
   "cell_type": "markdown",
   "metadata": {},
   "source": [
    "## XGBoost 2"
   ]
  },
  {
   "cell_type": "code",
   "execution_count": 27,
   "metadata": {
    "collapsed": true
   },
   "outputs": [],
   "source": [
    "from xgboost.sklearn import XGBClassifier\n",
    "import xgboost as xgb\n",
    "from sklearn.metrics import mean_squared_error"
   ]
  },
  {
   "cell_type": "markdown",
   "metadata": {},
   "source": [
    "### load data"
   ]
  },
  {
   "cell_type": "code",
   "execution_count": 118,
   "metadata": {
    "collapsed": false
   },
   "outputs": [],
   "source": [
    "train = pd.read_csv(os.path.join('data', 'train.csv'))\n",
    "test = pd.read_csv(os.path.join('data', 'test.csv'))\n",
    "y = train.iloc[:, -1]\n",
    "train = train.iloc[:, 1:-1]\n",
    "test = test.iloc[:, 1:]\n",
    "submission = test.iloc[:, 0]"
   ]
  },
  {
   "cell_type": "markdown",
   "metadata": {},
   "source": [
    "### transform data"
   ]
  },
  {
   "cell_type": "code",
   "execution_count": 119,
   "metadata": {
    "collapsed": false
   },
   "outputs": [],
   "source": [
    "train, test = fp.mssubclass(train, test)"
   ]
  },
  {
   "cell_type": "code",
   "execution_count": 120,
   "metadata": {
    "collapsed": false
   },
   "outputs": [],
   "source": [
    "def log(train, test, y):\n",
    "    numeric_feats = train.dtypes[train.dtypes != \"object\"].index\n",
    "        \n",
    "    for i in (train, test):\n",
    "        #log transform skewed numeric features:\n",
    "        i[numeric_feats] = np.log1p(i[numeric_feats])\n",
    "\n",
    "    y = np.log1p(y)\n",
    "    return train, test, y"
   ]
  },
  {
   "cell_type": "code",
   "execution_count": 121,
   "metadata": {
    "collapsed": false
   },
   "outputs": [],
   "source": [
    "train, test, y = log(train, test, y)"
   ]
  },
  {
   "cell_type": "code",
   "execution_count": 122,
   "metadata": {
    "collapsed": false
   },
   "outputs": [
    {
     "name": "stdout",
     "output_type": "stream",
     "text": [
      "0.682137236068 seconds\n"
     ]
    }
   ],
   "source": [
    "train, test = fp.lotfrontage(train, test)\n",
    "train, test = fp.garageyrblt(train, test)\n",
    "train, test = fp.impute_mean(train, test)\n",
    "train, test = fp.dummies(train, test)"
   ]
  },
  {
   "cell_type": "code",
   "execution_count": 28,
   "metadata": {
    "collapsed": false
   },
   "outputs": [
    {
     "name": "stdout",
     "output_type": "stream",
     "text": [
      "('XGBoost score on training set: ', 0.0058807337725166504)\n"
     ]
    }
   ],
   "source": [
    "regr = xgb.XGBRegressor(\n",
    "                 colsample_bytree=0.2,\n",
    "                 gamma=0.0,\n",
    "                 learning_rate=0.01,\n",
    "                 max_depth=4,\n",
    "                 min_child_weight=1.5,\n",
    "                 n_estimators=7200,                                                                  \n",
    "                 reg_alpha=0.9,\n",
    "                 reg_lambda=0.6,\n",
    "                 subsample=0.2,\n",
    "                 seed=42,\n",
    "                 silent=1)\n",
    "\n",
    "regr.fit(train, y)\n",
    "\n",
    "# Run prediction on training set to get a rough idea of how well it does.\n",
    "y_pred = regr.predict(train)\n",
    "y_test = y\n",
    "print(\"XGBoost score on training set: \", mean_squared_error(y_test, y_pred))\n",
    "\n",
    "# Run prediction on the Kaggle test set.\n",
    "y_pred_xgb = regr.predict(test)"
   ]
  },
  {
   "cell_type": "code",
   "execution_count": 55,
   "metadata": {
    "collapsed": false
   },
   "outputs": [
    {
     "data": {
      "text/html": [
       "<div>\n",
       "<table border=\"1\" class=\"dataframe\">\n",
       "  <thead>\n",
       "    <tr style=\"text-align: right;\">\n",
       "      <th></th>\n",
       "      <th>test-rmse-mean</th>\n",
       "      <th>test-rmse-std</th>\n",
       "      <th>train-rmse-mean</th>\n",
       "      <th>train-rmse-std</th>\n",
       "    </tr>\n",
       "  </thead>\n",
       "  <tbody>\n",
       "    <tr>\n",
       "      <th>0</th>\n",
       "      <td>11.415508</td>\n",
       "      <td>0.007495</td>\n",
       "      <td>11.415509</td>\n",
       "      <td>0.003649</td>\n",
       "    </tr>\n",
       "    <tr>\n",
       "      <th>1</th>\n",
       "      <td>11.301637</td>\n",
       "      <td>0.007582</td>\n",
       "      <td>11.301639</td>\n",
       "      <td>0.003574</td>\n",
       "    </tr>\n",
       "    <tr>\n",
       "      <th>2</th>\n",
       "      <td>11.188913</td>\n",
       "      <td>0.007588</td>\n",
       "      <td>11.188915</td>\n",
       "      <td>0.003579</td>\n",
       "    </tr>\n",
       "    <tr>\n",
       "      <th>3</th>\n",
       "      <td>11.077279</td>\n",
       "      <td>0.007614</td>\n",
       "      <td>11.077281</td>\n",
       "      <td>0.003563</td>\n",
       "    </tr>\n",
       "    <tr>\n",
       "      <th>4</th>\n",
       "      <td>10.966772</td>\n",
       "      <td>0.007664</td>\n",
       "      <td>10.966774</td>\n",
       "      <td>0.003524</td>\n",
       "    </tr>\n",
       "    <tr>\n",
       "      <th>5</th>\n",
       "      <td>10.857310</td>\n",
       "      <td>0.007770</td>\n",
       "      <td>10.857312</td>\n",
       "      <td>0.003432</td>\n",
       "    </tr>\n",
       "    <tr>\n",
       "      <th>6</th>\n",
       "      <td>10.749018</td>\n",
       "      <td>0.007795</td>\n",
       "      <td>10.749020</td>\n",
       "      <td>0.003423</td>\n",
       "    </tr>\n",
       "    <tr>\n",
       "      <th>7</th>\n",
       "      <td>10.641801</td>\n",
       "      <td>0.007841</td>\n",
       "      <td>10.641803</td>\n",
       "      <td>0.003387</td>\n",
       "    </tr>\n",
       "    <tr>\n",
       "      <th>8</th>\n",
       "      <td>10.535659</td>\n",
       "      <td>0.007831</td>\n",
       "      <td>10.535661</td>\n",
       "      <td>0.003412</td>\n",
       "    </tr>\n",
       "    <tr>\n",
       "      <th>9</th>\n",
       "      <td>10.430611</td>\n",
       "      <td>0.007865</td>\n",
       "      <td>10.430614</td>\n",
       "      <td>0.003393</td>\n",
       "    </tr>\n",
       "    <tr>\n",
       "      <th>10</th>\n",
       "      <td>10.326523</td>\n",
       "      <td>0.007952</td>\n",
       "      <td>10.326525</td>\n",
       "      <td>0.003315</td>\n",
       "    </tr>\n",
       "    <tr>\n",
       "      <th>11</th>\n",
       "      <td>10.223481</td>\n",
       "      <td>0.008013</td>\n",
       "      <td>10.223483</td>\n",
       "      <td>0.003265</td>\n",
       "    </tr>\n",
       "    <tr>\n",
       "      <th>12</th>\n",
       "      <td>10.121511</td>\n",
       "      <td>0.008021</td>\n",
       "      <td>10.121514</td>\n",
       "      <td>0.003270</td>\n",
       "    </tr>\n",
       "    <tr>\n",
       "      <th>13</th>\n",
       "      <td>10.020613</td>\n",
       "      <td>0.008108</td>\n",
       "      <td>10.020614</td>\n",
       "      <td>0.003195</td>\n",
       "    </tr>\n",
       "    <tr>\n",
       "      <th>14</th>\n",
       "      <td>9.920685</td>\n",
       "      <td>0.008128</td>\n",
       "      <td>9.920687</td>\n",
       "      <td>0.003181</td>\n",
       "    </tr>\n",
       "    <tr>\n",
       "      <th>15</th>\n",
       "      <td>9.821818</td>\n",
       "      <td>0.008143</td>\n",
       "      <td>9.821820</td>\n",
       "      <td>0.003181</td>\n",
       "    </tr>\n",
       "    <tr>\n",
       "      <th>16</th>\n",
       "      <td>9.723887</td>\n",
       "      <td>0.008210</td>\n",
       "      <td>9.723890</td>\n",
       "      <td>0.003131</td>\n",
       "    </tr>\n",
       "    <tr>\n",
       "      <th>17</th>\n",
       "      <td>9.627018</td>\n",
       "      <td>0.008227</td>\n",
       "      <td>9.627021</td>\n",
       "      <td>0.003123</td>\n",
       "    </tr>\n",
       "    <tr>\n",
       "      <th>18</th>\n",
       "      <td>9.531010</td>\n",
       "      <td>0.008270</td>\n",
       "      <td>9.531012</td>\n",
       "      <td>0.003090</td>\n",
       "    </tr>\n",
       "    <tr>\n",
       "      <th>19</th>\n",
       "      <td>9.435894</td>\n",
       "      <td>0.008277</td>\n",
       "      <td>9.435896</td>\n",
       "      <td>0.003093</td>\n",
       "    </tr>\n",
       "    <tr>\n",
       "      <th>20</th>\n",
       "      <td>9.341826</td>\n",
       "      <td>0.008318</td>\n",
       "      <td>9.341829</td>\n",
       "      <td>0.003071</td>\n",
       "    </tr>\n",
       "    <tr>\n",
       "      <th>21</th>\n",
       "      <td>9.248716</td>\n",
       "      <td>0.008347</td>\n",
       "      <td>9.248718</td>\n",
       "      <td>0.003049</td>\n",
       "    </tr>\n",
       "    <tr>\n",
       "      <th>22</th>\n",
       "      <td>9.156583</td>\n",
       "      <td>0.008353</td>\n",
       "      <td>9.156586</td>\n",
       "      <td>0.003060</td>\n",
       "    </tr>\n",
       "    <tr>\n",
       "      <th>23</th>\n",
       "      <td>9.065351</td>\n",
       "      <td>0.008427</td>\n",
       "      <td>9.065353</td>\n",
       "      <td>0.002993</td>\n",
       "    </tr>\n",
       "    <tr>\n",
       "      <th>24</th>\n",
       "      <td>8.974982</td>\n",
       "      <td>0.008479</td>\n",
       "      <td>8.974984</td>\n",
       "      <td>0.002953</td>\n",
       "    </tr>\n",
       "    <tr>\n",
       "      <th>25</th>\n",
       "      <td>8.885529</td>\n",
       "      <td>0.008533</td>\n",
       "      <td>8.885532</td>\n",
       "      <td>0.002914</td>\n",
       "    </tr>\n",
       "    <tr>\n",
       "      <th>26</th>\n",
       "      <td>8.796944</td>\n",
       "      <td>0.008556</td>\n",
       "      <td>8.796946</td>\n",
       "      <td>0.002899</td>\n",
       "    </tr>\n",
       "    <tr>\n",
       "      <th>27</th>\n",
       "      <td>8.709249</td>\n",
       "      <td>0.008586</td>\n",
       "      <td>8.709253</td>\n",
       "      <td>0.002884</td>\n",
       "    </tr>\n",
       "    <tr>\n",
       "      <th>28</th>\n",
       "      <td>8.622447</td>\n",
       "      <td>0.008601</td>\n",
       "      <td>8.622450</td>\n",
       "      <td>0.002885</td>\n",
       "    </tr>\n",
       "    <tr>\n",
       "      <th>29</th>\n",
       "      <td>8.536517</td>\n",
       "      <td>0.008740</td>\n",
       "      <td>8.536520</td>\n",
       "      <td>0.002754</td>\n",
       "    </tr>\n",
       "    <tr>\n",
       "      <th>...</th>\n",
       "      <td>...</td>\n",
       "      <td>...</td>\n",
       "      <td>...</td>\n",
       "      <td>...</td>\n",
       "    </tr>\n",
       "    <tr>\n",
       "      <th>1931</th>\n",
       "      <td>0.125860</td>\n",
       "      <td>0.015768</td>\n",
       "      <td>0.016158</td>\n",
       "      <td>0.000887</td>\n",
       "    </tr>\n",
       "    <tr>\n",
       "      <th>1932</th>\n",
       "      <td>0.125859</td>\n",
       "      <td>0.015767</td>\n",
       "      <td>0.016141</td>\n",
       "      <td>0.000893</td>\n",
       "    </tr>\n",
       "    <tr>\n",
       "      <th>1933</th>\n",
       "      <td>0.125860</td>\n",
       "      <td>0.015772</td>\n",
       "      <td>0.016123</td>\n",
       "      <td>0.000897</td>\n",
       "    </tr>\n",
       "    <tr>\n",
       "      <th>1934</th>\n",
       "      <td>0.125859</td>\n",
       "      <td>0.015771</td>\n",
       "      <td>0.016108</td>\n",
       "      <td>0.000899</td>\n",
       "    </tr>\n",
       "    <tr>\n",
       "      <th>1935</th>\n",
       "      <td>0.125856</td>\n",
       "      <td>0.015771</td>\n",
       "      <td>0.016088</td>\n",
       "      <td>0.000891</td>\n",
       "    </tr>\n",
       "    <tr>\n",
       "      <th>1936</th>\n",
       "      <td>0.125856</td>\n",
       "      <td>0.015770</td>\n",
       "      <td>0.016076</td>\n",
       "      <td>0.000889</td>\n",
       "    </tr>\n",
       "    <tr>\n",
       "      <th>1937</th>\n",
       "      <td>0.125856</td>\n",
       "      <td>0.015767</td>\n",
       "      <td>0.016062</td>\n",
       "      <td>0.000890</td>\n",
       "    </tr>\n",
       "    <tr>\n",
       "      <th>1938</th>\n",
       "      <td>0.125854</td>\n",
       "      <td>0.015768</td>\n",
       "      <td>0.016047</td>\n",
       "      <td>0.000882</td>\n",
       "    </tr>\n",
       "    <tr>\n",
       "      <th>1939</th>\n",
       "      <td>0.125854</td>\n",
       "      <td>0.015765</td>\n",
       "      <td>0.016038</td>\n",
       "      <td>0.000879</td>\n",
       "    </tr>\n",
       "    <tr>\n",
       "      <th>1940</th>\n",
       "      <td>0.125856</td>\n",
       "      <td>0.015766</td>\n",
       "      <td>0.016025</td>\n",
       "      <td>0.000877</td>\n",
       "    </tr>\n",
       "    <tr>\n",
       "      <th>1941</th>\n",
       "      <td>0.125856</td>\n",
       "      <td>0.015765</td>\n",
       "      <td>0.016001</td>\n",
       "      <td>0.000876</td>\n",
       "    </tr>\n",
       "    <tr>\n",
       "      <th>1942</th>\n",
       "      <td>0.125855</td>\n",
       "      <td>0.015769</td>\n",
       "      <td>0.015991</td>\n",
       "      <td>0.000876</td>\n",
       "    </tr>\n",
       "    <tr>\n",
       "      <th>1943</th>\n",
       "      <td>0.125855</td>\n",
       "      <td>0.015768</td>\n",
       "      <td>0.015975</td>\n",
       "      <td>0.000875</td>\n",
       "    </tr>\n",
       "    <tr>\n",
       "      <th>1944</th>\n",
       "      <td>0.125856</td>\n",
       "      <td>0.015767</td>\n",
       "      <td>0.015963</td>\n",
       "      <td>0.000874</td>\n",
       "    </tr>\n",
       "    <tr>\n",
       "      <th>1945</th>\n",
       "      <td>0.125857</td>\n",
       "      <td>0.015769</td>\n",
       "      <td>0.015944</td>\n",
       "      <td>0.000875</td>\n",
       "    </tr>\n",
       "    <tr>\n",
       "      <th>1946</th>\n",
       "      <td>0.125858</td>\n",
       "      <td>0.015770</td>\n",
       "      <td>0.015928</td>\n",
       "      <td>0.000873</td>\n",
       "    </tr>\n",
       "    <tr>\n",
       "      <th>1947</th>\n",
       "      <td>0.125859</td>\n",
       "      <td>0.015771</td>\n",
       "      <td>0.015918</td>\n",
       "      <td>0.000870</td>\n",
       "    </tr>\n",
       "    <tr>\n",
       "      <th>1948</th>\n",
       "      <td>0.125859</td>\n",
       "      <td>0.015770</td>\n",
       "      <td>0.015909</td>\n",
       "      <td>0.000869</td>\n",
       "    </tr>\n",
       "    <tr>\n",
       "      <th>1949</th>\n",
       "      <td>0.125858</td>\n",
       "      <td>0.015770</td>\n",
       "      <td>0.015893</td>\n",
       "      <td>0.000863</td>\n",
       "    </tr>\n",
       "    <tr>\n",
       "      <th>1950</th>\n",
       "      <td>0.125858</td>\n",
       "      <td>0.015769</td>\n",
       "      <td>0.015879</td>\n",
       "      <td>0.000859</td>\n",
       "    </tr>\n",
       "    <tr>\n",
       "      <th>1951</th>\n",
       "      <td>0.125857</td>\n",
       "      <td>0.015770</td>\n",
       "      <td>0.015866</td>\n",
       "      <td>0.000857</td>\n",
       "    </tr>\n",
       "    <tr>\n",
       "      <th>1952</th>\n",
       "      <td>0.125856</td>\n",
       "      <td>0.015771</td>\n",
       "      <td>0.015850</td>\n",
       "      <td>0.000864</td>\n",
       "    </tr>\n",
       "    <tr>\n",
       "      <th>1953</th>\n",
       "      <td>0.125856</td>\n",
       "      <td>0.015770</td>\n",
       "      <td>0.015837</td>\n",
       "      <td>0.000862</td>\n",
       "    </tr>\n",
       "    <tr>\n",
       "      <th>1954</th>\n",
       "      <td>0.125857</td>\n",
       "      <td>0.015771</td>\n",
       "      <td>0.015822</td>\n",
       "      <td>0.000865</td>\n",
       "    </tr>\n",
       "    <tr>\n",
       "      <th>1955</th>\n",
       "      <td>0.125856</td>\n",
       "      <td>0.015774</td>\n",
       "      <td>0.015812</td>\n",
       "      <td>0.000864</td>\n",
       "    </tr>\n",
       "    <tr>\n",
       "      <th>1956</th>\n",
       "      <td>0.125855</td>\n",
       "      <td>0.015776</td>\n",
       "      <td>0.015802</td>\n",
       "      <td>0.000864</td>\n",
       "    </tr>\n",
       "    <tr>\n",
       "      <th>1957</th>\n",
       "      <td>0.125854</td>\n",
       "      <td>0.015778</td>\n",
       "      <td>0.015784</td>\n",
       "      <td>0.000864</td>\n",
       "    </tr>\n",
       "    <tr>\n",
       "      <th>1958</th>\n",
       "      <td>0.125852</td>\n",
       "      <td>0.015777</td>\n",
       "      <td>0.015775</td>\n",
       "      <td>0.000862</td>\n",
       "    </tr>\n",
       "    <tr>\n",
       "      <th>1959</th>\n",
       "      <td>0.125849</td>\n",
       "      <td>0.015778</td>\n",
       "      <td>0.015758</td>\n",
       "      <td>0.000863</td>\n",
       "    </tr>\n",
       "    <tr>\n",
       "      <th>1960</th>\n",
       "      <td>0.125848</td>\n",
       "      <td>0.015779</td>\n",
       "      <td>0.015739</td>\n",
       "      <td>0.000857</td>\n",
       "    </tr>\n",
       "  </tbody>\n",
       "</table>\n",
       "<p>1961 rows × 4 columns</p>\n",
       "</div>"
      ],
      "text/plain": [
       "      test-rmse-mean  test-rmse-std  train-rmse-mean  train-rmse-std\n",
       "0          11.415508       0.007495        11.415509        0.003649\n",
       "1          11.301637       0.007582        11.301639        0.003574\n",
       "2          11.188913       0.007588        11.188915        0.003579\n",
       "3          11.077279       0.007614        11.077281        0.003563\n",
       "4          10.966772       0.007664        10.966774        0.003524\n",
       "5          10.857310       0.007770        10.857312        0.003432\n",
       "6          10.749018       0.007795        10.749020        0.003423\n",
       "7          10.641801       0.007841        10.641803        0.003387\n",
       "8          10.535659       0.007831        10.535661        0.003412\n",
       "9          10.430611       0.007865        10.430614        0.003393\n",
       "10         10.326523       0.007952        10.326525        0.003315\n",
       "11         10.223481       0.008013        10.223483        0.003265\n",
       "12         10.121511       0.008021        10.121514        0.003270\n",
       "13         10.020613       0.008108        10.020614        0.003195\n",
       "14          9.920685       0.008128         9.920687        0.003181\n",
       "15          9.821818       0.008143         9.821820        0.003181\n",
       "16          9.723887       0.008210         9.723890        0.003131\n",
       "17          9.627018       0.008227         9.627021        0.003123\n",
       "18          9.531010       0.008270         9.531012        0.003090\n",
       "19          9.435894       0.008277         9.435896        0.003093\n",
       "20          9.341826       0.008318         9.341829        0.003071\n",
       "21          9.248716       0.008347         9.248718        0.003049\n",
       "22          9.156583       0.008353         9.156586        0.003060\n",
       "23          9.065351       0.008427         9.065353        0.002993\n",
       "24          8.974982       0.008479         8.974984        0.002953\n",
       "25          8.885529       0.008533         8.885532        0.002914\n",
       "26          8.796944       0.008556         8.796946        0.002899\n",
       "27          8.709249       0.008586         8.709253        0.002884\n",
       "28          8.622447       0.008601         8.622450        0.002885\n",
       "29          8.536517       0.008740         8.536520        0.002754\n",
       "...              ...            ...              ...             ...\n",
       "1931        0.125860       0.015768         0.016158        0.000887\n",
       "1932        0.125859       0.015767         0.016141        0.000893\n",
       "1933        0.125860       0.015772         0.016123        0.000897\n",
       "1934        0.125859       0.015771         0.016108        0.000899\n",
       "1935        0.125856       0.015771         0.016088        0.000891\n",
       "1936        0.125856       0.015770         0.016076        0.000889\n",
       "1937        0.125856       0.015767         0.016062        0.000890\n",
       "1938        0.125854       0.015768         0.016047        0.000882\n",
       "1939        0.125854       0.015765         0.016038        0.000879\n",
       "1940        0.125856       0.015766         0.016025        0.000877\n",
       "1941        0.125856       0.015765         0.016001        0.000876\n",
       "1942        0.125855       0.015769         0.015991        0.000876\n",
       "1943        0.125855       0.015768         0.015975        0.000875\n",
       "1944        0.125856       0.015767         0.015963        0.000874\n",
       "1945        0.125857       0.015769         0.015944        0.000875\n",
       "1946        0.125858       0.015770         0.015928        0.000873\n",
       "1947        0.125859       0.015771         0.015918        0.000870\n",
       "1948        0.125859       0.015770         0.015909        0.000869\n",
       "1949        0.125858       0.015770         0.015893        0.000863\n",
       "1950        0.125858       0.015769         0.015879        0.000859\n",
       "1951        0.125857       0.015770         0.015866        0.000857\n",
       "1952        0.125856       0.015771         0.015850        0.000864\n",
       "1953        0.125856       0.015770         0.015837        0.000862\n",
       "1954        0.125857       0.015771         0.015822        0.000865\n",
       "1955        0.125856       0.015774         0.015812        0.000864\n",
       "1956        0.125855       0.015776         0.015802        0.000864\n",
       "1957        0.125854       0.015778         0.015784        0.000864\n",
       "1958        0.125852       0.015777         0.015775        0.000862\n",
       "1959        0.125849       0.015778         0.015758        0.000863\n",
       "1960        0.125848       0.015779         0.015739        0.000857\n",
       "\n",
       "[1961 rows x 4 columns]"
      ]
     },
     "execution_count": 55,
     "metadata": {},
     "output_type": "execute_result"
    }
   ],
   "source": [
    "xgdmat = xgb.DMatrix(train.values, y)\n",
    "\n",
    "#modelfit(regr, train,y.values.ravel())\n",
    "\n",
    "our_params = {'eta': 0.01, 'seed':0, 'subsample': 0.8, 'colsample_bytree': 0.8, \n",
    "             } \n",
    "\n",
    "cv_xgb = xgb.cv(params = our_params, dtrain = xgdmat, num_boost_round = 7000, nfold = 3,\n",
    "                early_stopping_rounds = 50) # Look for early stopping that minimizes error\n",
    "\n",
    "cv_xgb"
   ]
  },
  {
   "cell_type": "code",
   "execution_count": 56,
   "metadata": {
    "collapsed": false
   },
   "outputs": [
    {
     "name": "stderr",
     "output_type": "stream",
     "text": [
      "C:\\Users\\User\\Anaconda2\\lib\\site-packages\\sklearn\\model_selection\\_search.py:667: DeprecationWarning: The grid_scores_ attribute was deprecated in version 0.18 in favor of the more elaborate cv_results_ attribute. The grid_scores_ attribute will not be available from 0.20\n",
      "  DeprecationWarning)\n"
     ]
    },
    {
     "data": {
      "text/plain": [
       "([mean: -0.01933, std: 0.00220, params: {'max_depth': 1, 'min_child_weight': 3},\n",
       "  mean: -0.01932, std: 0.00239, params: {'max_depth': 1, 'min_child_weight': 5},\n",
       "  mean: -0.01938, std: 0.00278, params: {'max_depth': 1, 'min_child_weight': 7},\n",
       "  mean: -0.01551, std: 0.00284, params: {'max_depth': 3, 'min_child_weight': 3},\n",
       "  mean: -0.01590, std: 0.00272, params: {'max_depth': 3, 'min_child_weight': 5},\n",
       "  mean: -0.01619, std: 0.00288, params: {'max_depth': 3, 'min_child_weight': 7},\n",
       "  mean: -0.01533, std: 0.00284, params: {'max_depth': 5, 'min_child_weight': 3},\n",
       "  mean: -0.01563, std: 0.00284, params: {'max_depth': 5, 'min_child_weight': 5},\n",
       "  mean: -0.01607, std: 0.00296, params: {'max_depth': 5, 'min_child_weight': 7}],\n",
       " {'max_depth': 5, 'min_child_weight': 3},\n",
       " -0.015334125093136183)"
      ]
     },
     "execution_count": 56,
     "metadata": {},
     "output_type": "execute_result"
    }
   ],
   "source": [
    "# STEP 2: Tune max_depth and min_child_weight\n",
    "\n",
    "param_test1 = cv_params = {'max_depth': [1, 3, 5], 'min_child_weight': [3, 5, 7]}\n",
    "\n",
    "gsearch1 = GridSearchCV(estimator = xgb.XGBRegressor( learning_rate =0.01, n_estimators=1961,\n",
    "                                                  gamma=0, subsample=0.8, colsample_bytree=0.8,\n",
    "                                                  nthread=4, scale_pos_weight=1, seed=27),\n",
    "                                                  param_grid = param_test1, scoring='neg_mean_squared_error', iid=False, cv=3)\n",
    "\n",
    "gsearch1.fit(train,y.values.ravel())\n",
    "\n",
    "gsearch1.grid_scores_, gsearch1.best_params_, gsearch1.best_score_\n"
   ]
  },
  {
   "cell_type": "code",
   "execution_count": 57,
   "metadata": {
    "collapsed": false,
    "scrolled": true
   },
   "outputs": [
    {
     "name": "stderr",
     "output_type": "stream",
     "text": [
      "C:\\Users\\User\\Anaconda2\\lib\\site-packages\\sklearn\\model_selection\\_search.py:667: DeprecationWarning: The grid_scores_ attribute was deprecated in version 0.18 in favor of the more elaborate cv_results_ attribute. The grid_scores_ attribute will not be available from 0.20\n",
      "  DeprecationWarning)\n"
     ]
    },
    {
     "data": {
      "text/plain": [
       "([mean: -0.01533, std: 0.00284, params: {'gamma': 0.0},\n",
       "  mean: -0.01692, std: 0.00276, params: {'gamma': 0.1},\n",
       "  mean: -0.01845, std: 0.00292, params: {'gamma': 0.2},\n",
       "  mean: -0.01948, std: 0.00283, params: {'gamma': 0.3},\n",
       "  mean: -0.02043, std: 0.00291, params: {'gamma': 0.4}],\n",
       " {'gamma': 0.0},\n",
       " -0.015334125093136183)"
      ]
     },
     "execution_count": 57,
     "metadata": {},
     "output_type": "execute_result"
    }
   ],
   "source": [
    "# STEP 3: Tune gamma\n",
    "\n",
    "## apparently, we want to tune the n_estimators after each hyperparameter tuning round...\n",
    "\n",
    "param_test2 = {'gamma':[i/10.0 for i in range(0,5)]}\n",
    "\n",
    "gsearch2 = GridSearchCV(estimator = xgb.XGBRegressor( learning_rate =0.01, n_estimators=1961, max_depth=5, min_child_weight=3,\n",
    "                                                  gamma=0, subsample=0.8, colsample_bytree=0.8,\n",
    "                                                  nthread=4, scale_pos_weight=1, seed=27),\n",
    "                                                  param_grid = param_test2, scoring='neg_mean_squared_error', iid=False, cv=3)\n",
    "\n",
    "gsearch2.fit(train,y.values.ravel())\n",
    "\n",
    "gsearch2.grid_scores_, gsearch2.best_params_, gsearch2.best_score_"
   ]
  },
  {
   "cell_type": "code",
   "execution_count": 60,
   "metadata": {
    "collapsed": false,
    "scrolled": true
   },
   "outputs": [
    {
     "name": "stderr",
     "output_type": "stream",
     "text": [
      "C:\\Users\\User\\Anaconda2\\lib\\site-packages\\sklearn\\model_selection\\_search.py:667: DeprecationWarning: The grid_scores_ attribute was deprecated in version 0.18 in favor of the more elaborate cv_results_ attribute. The grid_scores_ attribute will not be available from 0.20\n",
      "  DeprecationWarning)\n"
     ]
    },
    {
     "data": {
      "text/plain": [
       "([mean: -0.01538, std: 0.00278, params: {'subsample': 0.6, 'colsample_bytree': 0.6},\n",
       "  mean: -0.01532, std: 0.00287, params: {'subsample': 0.7, 'colsample_bytree': 0.6},\n",
       "  mean: -0.01536, std: 0.00290, params: {'subsample': 0.8, 'colsample_bytree': 0.6},\n",
       "  mean: -0.01560, std: 0.00301, params: {'subsample': 0.9, 'colsample_bytree': 0.6},\n",
       "  mean: -0.01543, std: 0.00304, params: {'subsample': 0.6, 'colsample_bytree': 0.7},\n",
       "  mean: -0.01523, std: 0.00287, params: {'subsample': 0.7, 'colsample_bytree': 0.7},\n",
       "  mean: -0.01544, std: 0.00287, params: {'subsample': 0.8, 'colsample_bytree': 0.7},\n",
       "  mean: -0.01569, std: 0.00289, params: {'subsample': 0.9, 'colsample_bytree': 0.7},\n",
       "  mean: -0.01547, std: 0.00298, params: {'subsample': 0.6, 'colsample_bytree': 0.8},\n",
       "  mean: -0.01523, std: 0.00279, params: {'subsample': 0.7, 'colsample_bytree': 0.8},\n",
       "  mean: -0.01533, std: 0.00284, params: {'subsample': 0.8, 'colsample_bytree': 0.8},\n",
       "  mean: -0.01566, std: 0.00287, params: {'subsample': 0.9, 'colsample_bytree': 0.8},\n",
       "  mean: -0.01563, std: 0.00302, params: {'subsample': 0.6, 'colsample_bytree': 0.9},\n",
       "  mean: -0.01528, std: 0.00280, params: {'subsample': 0.7, 'colsample_bytree': 0.9},\n",
       "  mean: -0.01547, std: 0.00281, params: {'subsample': 0.8, 'colsample_bytree': 0.9},\n",
       "  mean: -0.01588, std: 0.00305, params: {'subsample': 0.9, 'colsample_bytree': 0.9}],\n",
       " {'colsample_bytree': 0.8, 'subsample': 0.7},\n",
       " -0.015229360604431174)"
      ]
     },
     "execution_count": 60,
     "metadata": {},
     "output_type": "execute_result"
    }
   ],
   "source": [
    "# STEP 4: Tune subsample and colsample_bytree\n",
    "\n",
    "param_test3 = cv_params = {'subsample':[i/10.0 for i in range(6,10)],\n",
    "                                        'colsample_bytree':[i/10.0 for i in range(6,10)]}\n",
    "\n",
    "gsearch3 = GridSearchCV(estimator = xgb.XGBRegressor(learning_rate =0.01, n_estimators=1961, max_depth=5, min_child_weight=3,\n",
    "                                                  gamma=0, subsample=0.8, colsample_bytree=0.8,\n",
    "                                                  nthread=4, scale_pos_weight=1, seed=27),\n",
    "                                                  param_grid = param_test3, scoring='neg_mean_squared_error', iid=False, cv=3)\n",
    "\n",
    "gsearch3.fit(train,y.values.ravel())\n",
    "\n",
    "gsearch3.grid_scores_, gsearch3.best_params_, gsearch3.best_score_"
   ]
  },
  {
   "cell_type": "code",
   "execution_count": 61,
   "metadata": {
    "collapsed": false
   },
   "outputs": [
    {
     "name": "stderr",
     "output_type": "stream",
     "text": [
      "C:\\Users\\User\\Anaconda2\\lib\\site-packages\\sklearn\\model_selection\\_search.py:667: DeprecationWarning: The grid_scores_ attribute was deprecated in version 0.18 in favor of the more elaborate cv_results_ attribute. The grid_scores_ attribute will not be available from 0.20\n",
      "  DeprecationWarning)\n"
     ]
    },
    {
     "data": {
      "text/plain": [
       "([mean: -0.01524, std: 0.00279, params: {'reg_alpha': 1e-05},\n",
       "  mean: -0.01538, std: 0.00283, params: {'reg_alpha': 0.01},\n",
       "  mean: -0.01554, std: 0.00288, params: {'reg_alpha': 0.1},\n",
       "  mean: -0.01609, std: 0.00268, params: {'reg_alpha': 1},\n",
       "  mean: -0.09248, std: 0.00840, params: {'reg_alpha': 100}],\n",
       " {'reg_alpha': 1e-05},\n",
       " -0.015240714991422375)"
      ]
     },
     "execution_count": 61,
     "metadata": {},
     "output_type": "execute_result"
    }
   ],
   "source": [
    "# STEP 5: Tuning Regularization Parameters\n",
    "\n",
    "param_test4 = cv_params = {'reg_alpha':[1e-5, 1e-2, 0.1, 1, 100]}\n",
    "\n",
    "gsearch4 = GridSearchCV(estimator = xgb.XGBRegressor(learning_rate =0.01, n_estimators=1961, max_depth=5, min_child_weight=3,\n",
    "                                                  gamma=0, subsample=0.7, colsample_bytree=0.8,\n",
    "                                                  nthread=4, scale_pos_weight=1, seed=27),\n",
    "                                                  param_grid = param_test4, scoring='neg_mean_squared_error', iid=False, cv=3)\n",
    "\n",
    "gsearch4.fit(train,y.values.ravel())\n",
    "\n",
    "gsearch4.grid_scores_, gsearch4.best_params_, gsearch4.best_score_\n"
   ]
  },
  {
   "cell_type": "code",
   "execution_count": 63,
   "metadata": {
    "collapsed": false
   },
   "outputs": [
    {
     "data": {
      "text/html": [
       "<div>\n",
       "<table border=\"1\" class=\"dataframe\">\n",
       "  <thead>\n",
       "    <tr style=\"text-align: right;\">\n",
       "      <th></th>\n",
       "      <th>test-rmse-mean</th>\n",
       "      <th>test-rmse-std</th>\n",
       "      <th>train-rmse-mean</th>\n",
       "      <th>train-rmse-std</th>\n",
       "    </tr>\n",
       "  </thead>\n",
       "  <tbody>\n",
       "    <tr>\n",
       "      <th>0</th>\n",
       "      <td>11.415503</td>\n",
       "      <td>0.007463</td>\n",
       "      <td>11.415505</td>\n",
       "      <td>0.003682</td>\n",
       "    </tr>\n",
       "    <tr>\n",
       "      <th>1</th>\n",
       "      <td>11.301597</td>\n",
       "      <td>0.007573</td>\n",
       "      <td>11.301599</td>\n",
       "      <td>0.003585</td>\n",
       "    </tr>\n",
       "    <tr>\n",
       "      <th>2</th>\n",
       "      <td>11.188912</td>\n",
       "      <td>0.007562</td>\n",
       "      <td>11.188914</td>\n",
       "      <td>0.003606</td>\n",
       "    </tr>\n",
       "    <tr>\n",
       "      <th>3</th>\n",
       "      <td>11.077345</td>\n",
       "      <td>0.007606</td>\n",
       "      <td>11.077346</td>\n",
       "      <td>0.003573</td>\n",
       "    </tr>\n",
       "    <tr>\n",
       "      <th>4</th>\n",
       "      <td>10.966907</td>\n",
       "      <td>0.007698</td>\n",
       "      <td>10.966909</td>\n",
       "      <td>0.003496</td>\n",
       "    </tr>\n",
       "    <tr>\n",
       "      <th>5</th>\n",
       "      <td>10.857432</td>\n",
       "      <td>0.007809</td>\n",
       "      <td>10.857434</td>\n",
       "      <td>0.003398</td>\n",
       "    </tr>\n",
       "    <tr>\n",
       "      <th>6</th>\n",
       "      <td>10.749133</td>\n",
       "      <td>0.007821</td>\n",
       "      <td>10.749135</td>\n",
       "      <td>0.003399</td>\n",
       "    </tr>\n",
       "    <tr>\n",
       "      <th>7</th>\n",
       "      <td>10.641932</td>\n",
       "      <td>0.007866</td>\n",
       "      <td>10.641935</td>\n",
       "      <td>0.003365</td>\n",
       "    </tr>\n",
       "    <tr>\n",
       "      <th>8</th>\n",
       "      <td>10.535815</td>\n",
       "      <td>0.007813</td>\n",
       "      <td>10.535817</td>\n",
       "      <td>0.003439</td>\n",
       "    </tr>\n",
       "    <tr>\n",
       "      <th>9</th>\n",
       "      <td>10.430843</td>\n",
       "      <td>0.007799</td>\n",
       "      <td>10.430845</td>\n",
       "      <td>0.003459</td>\n",
       "    </tr>\n",
       "    <tr>\n",
       "      <th>10</th>\n",
       "      <td>10.326737</td>\n",
       "      <td>0.007877</td>\n",
       "      <td>10.326740</td>\n",
       "      <td>0.003393</td>\n",
       "    </tr>\n",
       "    <tr>\n",
       "      <th>11</th>\n",
       "      <td>10.223763</td>\n",
       "      <td>0.007919</td>\n",
       "      <td>10.223765</td>\n",
       "      <td>0.003362</td>\n",
       "    </tr>\n",
       "    <tr>\n",
       "      <th>12</th>\n",
       "      <td>10.121829</td>\n",
       "      <td>0.007959</td>\n",
       "      <td>10.121831</td>\n",
       "      <td>0.003331</td>\n",
       "    </tr>\n",
       "    <tr>\n",
       "      <th>13</th>\n",
       "      <td>10.020966</td>\n",
       "      <td>0.007997</td>\n",
       "      <td>10.020968</td>\n",
       "      <td>0.003300</td>\n",
       "    </tr>\n",
       "    <tr>\n",
       "      <th>14</th>\n",
       "      <td>9.921087</td>\n",
       "      <td>0.007982</td>\n",
       "      <td>9.921089</td>\n",
       "      <td>0.003322</td>\n",
       "    </tr>\n",
       "    <tr>\n",
       "      <th>15</th>\n",
       "      <td>9.822214</td>\n",
       "      <td>0.008021</td>\n",
       "      <td>9.822217</td>\n",
       "      <td>0.003299</td>\n",
       "    </tr>\n",
       "    <tr>\n",
       "      <th>16</th>\n",
       "      <td>9.724243</td>\n",
       "      <td>0.008074</td>\n",
       "      <td>9.724245</td>\n",
       "      <td>0.003266</td>\n",
       "    </tr>\n",
       "    <tr>\n",
       "      <th>17</th>\n",
       "      <td>9.627381</td>\n",
       "      <td>0.008058</td>\n",
       "      <td>9.627383</td>\n",
       "      <td>0.003288</td>\n",
       "    </tr>\n",
       "    <tr>\n",
       "      <th>18</th>\n",
       "      <td>9.531400</td>\n",
       "      <td>0.008076</td>\n",
       "      <td>9.531401</td>\n",
       "      <td>0.003286</td>\n",
       "    </tr>\n",
       "    <tr>\n",
       "      <th>19</th>\n",
       "      <td>9.436315</td>\n",
       "      <td>0.008106</td>\n",
       "      <td>9.436317</td>\n",
       "      <td>0.003263</td>\n",
       "    </tr>\n",
       "    <tr>\n",
       "      <th>20</th>\n",
       "      <td>9.342252</td>\n",
       "      <td>0.008200</td>\n",
       "      <td>9.342255</td>\n",
       "      <td>0.003187</td>\n",
       "    </tr>\n",
       "    <tr>\n",
       "      <th>21</th>\n",
       "      <td>9.249108</td>\n",
       "      <td>0.008213</td>\n",
       "      <td>9.249110</td>\n",
       "      <td>0.003182</td>\n",
       "    </tr>\n",
       "    <tr>\n",
       "      <th>22</th>\n",
       "      <td>9.156991</td>\n",
       "      <td>0.008208</td>\n",
       "      <td>9.156994</td>\n",
       "      <td>0.003201</td>\n",
       "    </tr>\n",
       "    <tr>\n",
       "      <th>23</th>\n",
       "      <td>9.065766</td>\n",
       "      <td>0.008356</td>\n",
       "      <td>9.065768</td>\n",
       "      <td>0.003056</td>\n",
       "    </tr>\n",
       "    <tr>\n",
       "      <th>24</th>\n",
       "      <td>8.975431</td>\n",
       "      <td>0.008383</td>\n",
       "      <td>8.975433</td>\n",
       "      <td>0.003046</td>\n",
       "    </tr>\n",
       "    <tr>\n",
       "      <th>25</th>\n",
       "      <td>8.885980</td>\n",
       "      <td>0.008389</td>\n",
       "      <td>8.885983</td>\n",
       "      <td>0.003054</td>\n",
       "    </tr>\n",
       "    <tr>\n",
       "      <th>26</th>\n",
       "      <td>8.797408</td>\n",
       "      <td>0.008366</td>\n",
       "      <td>8.797410</td>\n",
       "      <td>0.003084</td>\n",
       "    </tr>\n",
       "    <tr>\n",
       "      <th>27</th>\n",
       "      <td>8.709718</td>\n",
       "      <td>0.008438</td>\n",
       "      <td>8.709721</td>\n",
       "      <td>0.003027</td>\n",
       "    </tr>\n",
       "    <tr>\n",
       "      <th>28</th>\n",
       "      <td>8.622938</td>\n",
       "      <td>0.008447</td>\n",
       "      <td>8.622940</td>\n",
       "      <td>0.003033</td>\n",
       "    </tr>\n",
       "    <tr>\n",
       "      <th>29</th>\n",
       "      <td>8.537031</td>\n",
       "      <td>0.008587</td>\n",
       "      <td>8.537034</td>\n",
       "      <td>0.002904</td>\n",
       "    </tr>\n",
       "    <tr>\n",
       "      <th>...</th>\n",
       "      <td>...</td>\n",
       "      <td>...</td>\n",
       "      <td>...</td>\n",
       "      <td>...</td>\n",
       "    </tr>\n",
       "    <tr>\n",
       "      <th>1908</th>\n",
       "      <td>0.123850</td>\n",
       "      <td>0.015004</td>\n",
       "      <td>0.032448</td>\n",
       "      <td>0.002052</td>\n",
       "    </tr>\n",
       "    <tr>\n",
       "      <th>1909</th>\n",
       "      <td>0.123851</td>\n",
       "      <td>0.015006</td>\n",
       "      <td>0.032429</td>\n",
       "      <td>0.002063</td>\n",
       "    </tr>\n",
       "    <tr>\n",
       "      <th>1910</th>\n",
       "      <td>0.123850</td>\n",
       "      <td>0.015005</td>\n",
       "      <td>0.032413</td>\n",
       "      <td>0.002063</td>\n",
       "    </tr>\n",
       "    <tr>\n",
       "      <th>1911</th>\n",
       "      <td>0.123858</td>\n",
       "      <td>0.015004</td>\n",
       "      <td>0.032388</td>\n",
       "      <td>0.002065</td>\n",
       "    </tr>\n",
       "    <tr>\n",
       "      <th>1912</th>\n",
       "      <td>0.123858</td>\n",
       "      <td>0.015004</td>\n",
       "      <td>0.032366</td>\n",
       "      <td>0.002067</td>\n",
       "    </tr>\n",
       "    <tr>\n",
       "      <th>1913</th>\n",
       "      <td>0.123857</td>\n",
       "      <td>0.015003</td>\n",
       "      <td>0.032347</td>\n",
       "      <td>0.002064</td>\n",
       "    </tr>\n",
       "    <tr>\n",
       "      <th>1914</th>\n",
       "      <td>0.123856</td>\n",
       "      <td>0.015002</td>\n",
       "      <td>0.032329</td>\n",
       "      <td>0.002061</td>\n",
       "    </tr>\n",
       "    <tr>\n",
       "      <th>1915</th>\n",
       "      <td>0.123852</td>\n",
       "      <td>0.015006</td>\n",
       "      <td>0.032302</td>\n",
       "      <td>0.002062</td>\n",
       "    </tr>\n",
       "    <tr>\n",
       "      <th>1916</th>\n",
       "      <td>0.123855</td>\n",
       "      <td>0.015005</td>\n",
       "      <td>0.032281</td>\n",
       "      <td>0.002056</td>\n",
       "    </tr>\n",
       "    <tr>\n",
       "      <th>1917</th>\n",
       "      <td>0.123858</td>\n",
       "      <td>0.015006</td>\n",
       "      <td>0.032250</td>\n",
       "      <td>0.002054</td>\n",
       "    </tr>\n",
       "    <tr>\n",
       "      <th>1918</th>\n",
       "      <td>0.123858</td>\n",
       "      <td>0.015008</td>\n",
       "      <td>0.032233</td>\n",
       "      <td>0.002053</td>\n",
       "    </tr>\n",
       "    <tr>\n",
       "      <th>1919</th>\n",
       "      <td>0.123855</td>\n",
       "      <td>0.015006</td>\n",
       "      <td>0.032211</td>\n",
       "      <td>0.002054</td>\n",
       "    </tr>\n",
       "    <tr>\n",
       "      <th>1920</th>\n",
       "      <td>0.123854</td>\n",
       "      <td>0.015004</td>\n",
       "      <td>0.032188</td>\n",
       "      <td>0.002060</td>\n",
       "    </tr>\n",
       "    <tr>\n",
       "      <th>1921</th>\n",
       "      <td>0.123849</td>\n",
       "      <td>0.014998</td>\n",
       "      <td>0.032167</td>\n",
       "      <td>0.002071</td>\n",
       "    </tr>\n",
       "    <tr>\n",
       "      <th>1922</th>\n",
       "      <td>0.123853</td>\n",
       "      <td>0.014999</td>\n",
       "      <td>0.032152</td>\n",
       "      <td>0.002076</td>\n",
       "    </tr>\n",
       "    <tr>\n",
       "      <th>1923</th>\n",
       "      <td>0.123857</td>\n",
       "      <td>0.015002</td>\n",
       "      <td>0.032133</td>\n",
       "      <td>0.002085</td>\n",
       "    </tr>\n",
       "    <tr>\n",
       "      <th>1924</th>\n",
       "      <td>0.123848</td>\n",
       "      <td>0.015004</td>\n",
       "      <td>0.032112</td>\n",
       "      <td>0.002086</td>\n",
       "    </tr>\n",
       "    <tr>\n",
       "      <th>1925</th>\n",
       "      <td>0.123845</td>\n",
       "      <td>0.015004</td>\n",
       "      <td>0.032098</td>\n",
       "      <td>0.002084</td>\n",
       "    </tr>\n",
       "    <tr>\n",
       "      <th>1926</th>\n",
       "      <td>0.123845</td>\n",
       "      <td>0.015008</td>\n",
       "      <td>0.032081</td>\n",
       "      <td>0.002087</td>\n",
       "    </tr>\n",
       "    <tr>\n",
       "      <th>1927</th>\n",
       "      <td>0.123842</td>\n",
       "      <td>0.015013</td>\n",
       "      <td>0.032066</td>\n",
       "      <td>0.002086</td>\n",
       "    </tr>\n",
       "    <tr>\n",
       "      <th>1928</th>\n",
       "      <td>0.123843</td>\n",
       "      <td>0.015011</td>\n",
       "      <td>0.032045</td>\n",
       "      <td>0.002083</td>\n",
       "    </tr>\n",
       "    <tr>\n",
       "      <th>1929</th>\n",
       "      <td>0.123841</td>\n",
       "      <td>0.015011</td>\n",
       "      <td>0.032029</td>\n",
       "      <td>0.002089</td>\n",
       "    </tr>\n",
       "    <tr>\n",
       "      <th>1930</th>\n",
       "      <td>0.123840</td>\n",
       "      <td>0.015009</td>\n",
       "      <td>0.032014</td>\n",
       "      <td>0.002091</td>\n",
       "    </tr>\n",
       "    <tr>\n",
       "      <th>1931</th>\n",
       "      <td>0.123839</td>\n",
       "      <td>0.015008</td>\n",
       "      <td>0.031998</td>\n",
       "      <td>0.002089</td>\n",
       "    </tr>\n",
       "    <tr>\n",
       "      <th>1932</th>\n",
       "      <td>0.123840</td>\n",
       "      <td>0.015009</td>\n",
       "      <td>0.031973</td>\n",
       "      <td>0.002094</td>\n",
       "    </tr>\n",
       "    <tr>\n",
       "      <th>1933</th>\n",
       "      <td>0.123836</td>\n",
       "      <td>0.015008</td>\n",
       "      <td>0.031959</td>\n",
       "      <td>0.002091</td>\n",
       "    </tr>\n",
       "    <tr>\n",
       "      <th>1934</th>\n",
       "      <td>0.123833</td>\n",
       "      <td>0.015014</td>\n",
       "      <td>0.031942</td>\n",
       "      <td>0.002094</td>\n",
       "    </tr>\n",
       "    <tr>\n",
       "      <th>1935</th>\n",
       "      <td>0.123834</td>\n",
       "      <td>0.015016</td>\n",
       "      <td>0.031932</td>\n",
       "      <td>0.002098</td>\n",
       "    </tr>\n",
       "    <tr>\n",
       "      <th>1936</th>\n",
       "      <td>0.123832</td>\n",
       "      <td>0.015019</td>\n",
       "      <td>0.031912</td>\n",
       "      <td>0.002095</td>\n",
       "    </tr>\n",
       "    <tr>\n",
       "      <th>1937</th>\n",
       "      <td>0.123830</td>\n",
       "      <td>0.015018</td>\n",
       "      <td>0.031892</td>\n",
       "      <td>0.002097</td>\n",
       "    </tr>\n",
       "  </tbody>\n",
       "</table>\n",
       "<p>1938 rows × 4 columns</p>\n",
       "</div>"
      ],
      "text/plain": [
       "      test-rmse-mean  test-rmse-std  train-rmse-mean  train-rmse-std\n",
       "0          11.415503       0.007463        11.415505        0.003682\n",
       "1          11.301597       0.007573        11.301599        0.003585\n",
       "2          11.188912       0.007562        11.188914        0.003606\n",
       "3          11.077345       0.007606        11.077346        0.003573\n",
       "4          10.966907       0.007698        10.966909        0.003496\n",
       "5          10.857432       0.007809        10.857434        0.003398\n",
       "6          10.749133       0.007821        10.749135        0.003399\n",
       "7          10.641932       0.007866        10.641935        0.003365\n",
       "8          10.535815       0.007813        10.535817        0.003439\n",
       "9          10.430843       0.007799        10.430845        0.003459\n",
       "10         10.326737       0.007877        10.326740        0.003393\n",
       "11         10.223763       0.007919        10.223765        0.003362\n",
       "12         10.121829       0.007959        10.121831        0.003331\n",
       "13         10.020966       0.007997        10.020968        0.003300\n",
       "14          9.921087       0.007982         9.921089        0.003322\n",
       "15          9.822214       0.008021         9.822217        0.003299\n",
       "16          9.724243       0.008074         9.724245        0.003266\n",
       "17          9.627381       0.008058         9.627383        0.003288\n",
       "18          9.531400       0.008076         9.531401        0.003286\n",
       "19          9.436315       0.008106         9.436317        0.003263\n",
       "20          9.342252       0.008200         9.342255        0.003187\n",
       "21          9.249108       0.008213         9.249110        0.003182\n",
       "22          9.156991       0.008208         9.156994        0.003201\n",
       "23          9.065766       0.008356         9.065768        0.003056\n",
       "24          8.975431       0.008383         8.975433        0.003046\n",
       "25          8.885980       0.008389         8.885983        0.003054\n",
       "26          8.797408       0.008366         8.797410        0.003084\n",
       "27          8.709718       0.008438         8.709721        0.003027\n",
       "28          8.622938       0.008447         8.622940        0.003033\n",
       "29          8.537031       0.008587         8.537034        0.002904\n",
       "...              ...            ...              ...             ...\n",
       "1908        0.123850       0.015004         0.032448        0.002052\n",
       "1909        0.123851       0.015006         0.032429        0.002063\n",
       "1910        0.123850       0.015005         0.032413        0.002063\n",
       "1911        0.123858       0.015004         0.032388        0.002065\n",
       "1912        0.123858       0.015004         0.032366        0.002067\n",
       "1913        0.123857       0.015003         0.032347        0.002064\n",
       "1914        0.123856       0.015002         0.032329        0.002061\n",
       "1915        0.123852       0.015006         0.032302        0.002062\n",
       "1916        0.123855       0.015005         0.032281        0.002056\n",
       "1917        0.123858       0.015006         0.032250        0.002054\n",
       "1918        0.123858       0.015008         0.032233        0.002053\n",
       "1919        0.123855       0.015006         0.032211        0.002054\n",
       "1920        0.123854       0.015004         0.032188        0.002060\n",
       "1921        0.123849       0.014998         0.032167        0.002071\n",
       "1922        0.123853       0.014999         0.032152        0.002076\n",
       "1923        0.123857       0.015002         0.032133        0.002085\n",
       "1924        0.123848       0.015004         0.032112        0.002086\n",
       "1925        0.123845       0.015004         0.032098        0.002084\n",
       "1926        0.123845       0.015008         0.032081        0.002087\n",
       "1927        0.123842       0.015013         0.032066        0.002086\n",
       "1928        0.123843       0.015011         0.032045        0.002083\n",
       "1929        0.123841       0.015011         0.032029        0.002089\n",
       "1930        0.123840       0.015009         0.032014        0.002091\n",
       "1931        0.123839       0.015008         0.031998        0.002089\n",
       "1932        0.123840       0.015009         0.031973        0.002094\n",
       "1933        0.123836       0.015008         0.031959        0.002091\n",
       "1934        0.123833       0.015014         0.031942        0.002094\n",
       "1935        0.123834       0.015016         0.031932        0.002098\n",
       "1936        0.123832       0.015019         0.031912        0.002095\n",
       "1937        0.123830       0.015018         0.031892        0.002097\n",
       "\n",
       "[1938 rows x 4 columns]"
      ]
     },
     "execution_count": 63,
     "metadata": {},
     "output_type": "execute_result"
    }
   ],
   "source": [
    "# find final # of rounds\n",
    "\n",
    "xgdmat = xgb.DMatrix(train.values, y)\n",
    "\n",
    "#modelfit(regr, train,y.values.ravel())\n",
    "\n",
    "our_params = {'eta': 0.01, 'seed':0, 'subsample': 0.7, 'colsample_bytree': 0.8, 'gamma': 0,\n",
    "              'reg_alpha': 0.00001, 'max_depth': 5, 'min_child_weight': 3\n",
    "             } \n",
    "\n",
    "cv_xgb = xgb.cv(params = our_params, dtrain = xgdmat, num_boost_round = 7000, nfold = 3,\n",
    "                early_stopping_rounds = 50) # Look for early stopping that minimizes error\n",
    "\n",
    "cv_xgb"
   ]
  },
  {
   "cell_type": "code",
   "execution_count": 102,
   "metadata": {
    "collapsed": false
   },
   "outputs": [
    {
     "name": "stdout",
     "output_type": "stream",
     "text": [
      "('XGBoost score on training set: ', 0.0014877786030197534)\n"
     ]
    }
   ],
   "source": [
    "# final model\n",
    "\n",
    "xgdmat = xgb.DMatrix(train.values, y)\n",
    "\n",
    "#modelfit(regr, train,y.values.ravel())\n",
    "\n",
    "our_params = {'eta': 0.01, 'seed':0, 'subsample': 0.7, 'colsample_bytree': 0.8, 'gamma': 0,\n",
    "              'reg_alpha': 0.00001, 'max_depth': 5, 'min_child_weight': 3\n",
    "             } \n",
    "\n",
    "regr = xgb.XGBRegressor(\n",
    "                 colsample_bytree=0.9,\n",
    "                 gamma=0.0,\n",
    "                 learning_rate=0.01,\n",
    "                 max_depth=5,\n",
    "                 min_child_weight=3,\n",
    "                 n_estimators=1938,                                                                  \n",
    "                 reg_alpha=0.0001,\n",
    "                 subsample=0.8,\n",
    "                 seed=42,\n",
    "                 silent=1)\n",
    "\n",
    "regr.fit(train, y)\n",
    "\n",
    "# Run prediction on training set to get a rough idea of how well it does.\n",
    "y_pred = regr.predict(train)\n",
    "y_test = y\n",
    "print(\"XGBoost score on training set: \", mean_squared_error(y_test, y_pred))\n",
    "\n",
    "# Run prediction on the Kaggle test set.\n",
    "y_pred_xgb = regr.predict(test)"
   ]
  },
  {
   "cell_type": "markdown",
   "metadata": {},
   "source": [
    "### predict test data and create submission file"
   ]
  },
  {
   "cell_type": "code",
   "execution_count": 103,
   "metadata": {
    "collapsed": false
   },
   "outputs": [
    {
     "data": {
      "text/plain": [
       "array([ 11.74005318,  11.99607944,  12.13691235, ...,  12.00590611,\n",
       "        11.67118835,  12.32487106], dtype=float32)"
      ]
     },
     "execution_count": 103,
     "metadata": {},
     "output_type": "execute_result"
    }
   ],
   "source": [
    "y_pred_xgb"
   ]
  },
  {
   "cell_type": "code",
   "execution_count": 76,
   "metadata": {
    "collapsed": false
   },
   "outputs": [],
   "source": [
    "predictions = np.expm1(y_pred_xgb)\n",
    "test = pd.read_csv(os.path.join('data', 'test.csv'))\n",
    "predictions = pd.DataFrame(predictions, columns=['SalePrice'])\n",
    "predictions = pd.concat((test.iloc[:, 0], predictions), axis = 1)\n",
    "predictions.to_csv(os.path.join('submission_files', 'xgb2.csv'), sep=\",\", index = False)"
   ]
  },
  {
   "cell_type": "markdown",
   "metadata": {},
   "source": [
    "## Blended 1\n",
    "\n",
    "lasso6 and xgb1"
   ]
  },
  {
   "cell_type": "code",
   "execution_count": 86,
   "metadata": {
    "collapsed": false
   },
   "outputs": [
    {
     "data": {
      "text/plain": [
       "array([ 11.75356579,  11.97429276,  12.10027695, ...,  12.04427624,\n",
       "        11.69212246,  12.2768383 ], dtype=float32)"
      ]
     },
     "execution_count": 86,
     "metadata": {},
     "output_type": "execute_result"
    }
   ],
   "source": [
    "y_pred_xgb"
   ]
  },
  {
   "cell_type": "code",
   "execution_count": 104,
   "metadata": {
    "collapsed": false
   },
   "outputs": [],
   "source": [
    "predictions = np.expm1((lasso.predict(test) + y_pred_xgb)/2)"
   ]
  },
  {
   "cell_type": "code",
   "execution_count": 95,
   "metadata": {
    "collapsed": true
   },
   "outputs": [],
   "source": [
    "test = pd.read_csv(os.path.join('data', 'test.csv'))\n",
    "predictions = pd.DataFrame(predictions, columns=['SalePrice'])\n",
    "predictions = pd.concat((test.iloc[:, 0], predictions), axis = 1)\n",
    "predictions.to_csv(os.path.join('submission_files', 'blended2.csv'), sep=\",\", index = False)"
   ]
  },
  {
   "cell_type": "markdown",
   "metadata": {},
   "source": [
    "score: .11768"
   ]
  },
  {
   "cell_type": "markdown",
   "metadata": {},
   "source": [
    "## Blended 2\n",
    "\n",
    "lasso6 and xgb2"
   ]
  },
  {
   "cell_type": "code",
   "execution_count": 86,
   "metadata": {
    "collapsed": false
   },
   "outputs": [
    {
     "data": {
      "text/plain": [
       "array([ 11.75356579,  11.97429276,  12.10027695, ...,  12.04427624,\n",
       "        11.69212246,  12.2768383 ], dtype=float32)"
      ]
     },
     "execution_count": 86,
     "metadata": {},
     "output_type": "execute_result"
    }
   ],
   "source": [
    "y_pred_xgb"
   ]
  },
  {
   "cell_type": "code",
   "execution_count": 105,
   "metadata": {
    "collapsed": false
   },
   "outputs": [],
   "source": [
    "predictions = np.expm1((lasso.predict(test) + y_pred_xgb)/2)"
   ]
  },
  {
   "cell_type": "code",
   "execution_count": 106,
   "metadata": {
    "collapsed": true
   },
   "outputs": [],
   "source": [
    "test = pd.read_csv(os.path.join('data', 'test.csv'))\n",
    "predictions = pd.DataFrame(predictions, columns=['SalePrice'])\n",
    "predictions = pd.concat((test.iloc[:, 0], predictions), axis = 1)\n",
    "predictions.to_csv(os.path.join('submission_files', 'blended2.csv'), sep=\",\", index = False)"
   ]
  },
  {
   "cell_type": "markdown",
   "metadata": {},
   "source": [
    "## Blended 3\n",
    "\n",
    "70% lasso6 and 30% xgb1"
   ]
  },
  {
   "cell_type": "code",
   "execution_count": 116,
   "metadata": {
    "collapsed": false
   },
   "outputs": [
    {
     "data": {
      "text/plain": [
       "array([ 11.75356579,  11.97429276,  12.10027695, ...,  12.04427624,\n",
       "        11.69212246,  12.2768383 ], dtype=float32)"
      ]
     },
     "execution_count": 116,
     "metadata": {},
     "output_type": "execute_result"
    }
   ],
   "source": [
    "y_pred_xgb"
   ]
  },
  {
   "cell_type": "code",
   "execution_count": 123,
   "metadata": {
    "collapsed": false
   },
   "outputs": [
    {
     "data": {
      "text/plain": [
       "array([ 11.68927581,  11.95111481,  12.11327219, ...,  12.01075463,\n",
       "        11.68626894,  12.29008417])"
      ]
     },
     "execution_count": 123,
     "metadata": {},
     "output_type": "execute_result"
    }
   ],
   "source": [
    "lasso.predict(test)"
   ]
  },
  {
   "cell_type": "code",
   "execution_count": 126,
   "metadata": {
    "collapsed": false
   },
   "outputs": [],
   "source": [
    "predictions = np.expm1((.7*lasso.predict(test) + .3*y_pred_xgb))"
   ]
  },
  {
   "cell_type": "code",
   "execution_count": 127,
   "metadata": {
    "collapsed": false
   },
   "outputs": [
    {
     "data": {
      "text/plain": [
       "array([ 121607.5970132 ,  156070.3239044 ,  181564.88273759, ...,\n",
       "        166176.39858767,  119135.48487473,  216664.61664824])"
      ]
     },
     "execution_count": 127,
     "metadata": {},
     "output_type": "execute_result"
    }
   ],
   "source": [
    "predictions"
   ]
  },
  {
   "cell_type": "code",
   "execution_count": 128,
   "metadata": {
    "collapsed": true
   },
   "outputs": [],
   "source": [
    "test = pd.read_csv(os.path.join('data', 'test.csv'))\n",
    "predictions = pd.DataFrame(predictions, columns=['SalePrice'])\n",
    "predictions = pd.concat((test.iloc[:, 0], predictions), axis = 1)\n",
    "predictions.to_csv(os.path.join('submission_files', 'blended3.csv'), sep=\",\", index = False)"
   ]
  },
  {
   "cell_type": "markdown",
   "metadata": {},
   "source": [
    "score: .11796"
   ]
  },
  {
   "cell_type": "markdown",
   "metadata": {},
   "source": [
    "## Blended 5\n",
    "\n",
    "60% lasso6 and 40% xgb1"
   ]
  },
  {
   "cell_type": "markdown",
   "metadata": {},
   "source": [
    "### load data"
   ]
  },
  {
   "cell_type": "code",
   "execution_count": 137,
   "metadata": {
    "collapsed": false
   },
   "outputs": [],
   "source": [
    "train = pd.read_csv(os.path.join('data', 'train.csv'))\n",
    "test = pd.read_csv(os.path.join('data', 'test.csv'))\n",
    "y = train.iloc[:, -1]\n",
    "train = train.iloc[:, 1:-1]\n",
    "test = test.iloc[:, 1:]\n",
    "submission = test.iloc[:, 0]"
   ]
  },
  {
   "cell_type": "markdown",
   "metadata": {},
   "source": [
    "### transform data"
   ]
  },
  {
   "cell_type": "code",
   "execution_count": 139,
   "metadata": {
    "collapsed": false
   },
   "outputs": [],
   "source": [
    "train, test = fp.mssubclass(train, test)"
   ]
  },
  {
   "cell_type": "code",
   "execution_count": 140,
   "metadata": {
    "collapsed": false
   },
   "outputs": [],
   "source": [
    "def log(train, test, y):\n",
    "    numeric_feats = train.dtypes[train.dtypes != \"object\"].index\n",
    "        \n",
    "    for i in (train, test):\n",
    "        #log transform skewed numeric features:\n",
    "        i[numeric_feats] = np.log1p(i[numeric_feats])\n",
    "\n",
    "    y = np.log1p(y)\n",
    "    return train, test, y"
   ]
  },
  {
   "cell_type": "code",
   "execution_count": 141,
   "metadata": {
    "collapsed": false
   },
   "outputs": [],
   "source": [
    "train, test, y = log(train, test, y)"
   ]
  },
  {
   "cell_type": "code",
   "execution_count": 142,
   "metadata": {
    "collapsed": false
   },
   "outputs": [
    {
     "name": "stdout",
     "output_type": "stream",
     "text": [
      "0.688420205772 seconds\n"
     ]
    }
   ],
   "source": [
    "train, test = fp.lotfrontage(train, test)\n",
    "train, test = fp.garageyrblt(train, test)\n",
    "train, test = fp.impute_mean(train, test)\n",
    "train, test = fp.dummies(train, test)"
   ]
  },
  {
   "cell_type": "code",
   "execution_count": 116,
   "metadata": {
    "collapsed": false
   },
   "outputs": [
    {
     "data": {
      "text/plain": [
       "array([ 11.75356579,  11.97429276,  12.10027695, ...,  12.04427624,\n",
       "        11.69212246,  12.2768383 ], dtype=float32)"
      ]
     },
     "execution_count": 116,
     "metadata": {},
     "output_type": "execute_result"
    }
   ],
   "source": [
    "y_pred_xgb"
   ]
  },
  {
   "cell_type": "code",
   "execution_count": 123,
   "metadata": {
    "collapsed": false
   },
   "outputs": [
    {
     "data": {
      "text/plain": [
       "array([ 11.68927581,  11.95111481,  12.11327219, ...,  12.01075463,\n",
       "        11.68626894,  12.29008417])"
      ]
     },
     "execution_count": 123,
     "metadata": {},
     "output_type": "execute_result"
    }
   ],
   "source": [
    "lasso.predict(test)"
   ]
  },
  {
   "cell_type": "code",
   "execution_count": 143,
   "metadata": {
    "collapsed": false
   },
   "outputs": [],
   "source": [
    "predictions = np.expm1((.6*lasso.predict(test) + .4*y_pred_xgb))"
   ]
  },
  {
   "cell_type": "code",
   "execution_count": 144,
   "metadata": {
    "collapsed": false
   },
   "outputs": [
    {
     "data": {
      "text/plain": [
       "array([ 122391.94283811,  156432.46974447,  181329.04343227, ...,\n",
       "        166734.36272817,  119205.22495658,  216377.85545024])"
      ]
     },
     "execution_count": 144,
     "metadata": {},
     "output_type": "execute_result"
    }
   ],
   "source": [
    "predictions"
   ]
  },
  {
   "cell_type": "code",
   "execution_count": 145,
   "metadata": {
    "collapsed": true
   },
   "outputs": [],
   "source": [
    "test = pd.read_csv(os.path.join('data', 'test.csv'))\n",
    "predictions = pd.DataFrame(predictions, columns=['SalePrice'])\n",
    "predictions = pd.concat((test.iloc[:, 0], predictions), axis = 1)\n",
    "predictions.to_csv(os.path.join('submission_files', 'blended5.csv'), sep=\",\", index = False)"
   ]
  },
  {
   "cell_type": "markdown",
   "metadata": {},
   "source": [
    "score: 0.11765"
   ]
  },
  {
   "cell_type": "markdown",
   "metadata": {},
   "source": [
    "## Random Forest Regression 1"
   ]
  },
  {
   "cell_type": "markdown",
   "metadata": {},
   "source": [
    "### load data"
   ]
  },
  {
   "cell_type": "code",
   "execution_count": 20,
   "metadata": {
    "collapsed": false
   },
   "outputs": [],
   "source": [
    "train = pd.read_csv(os.path.join('data', 'train.csv'))\n",
    "test = pd.read_csv(os.path.join('data', 'test.csv'))\n",
    "y = train.iloc[:, -1]\n",
    "train = train.iloc[:, 1:-1]\n",
    "test = test.iloc[:, 1:]\n",
    "submission = test.iloc[:, 0]"
   ]
  },
  {
   "cell_type": "markdown",
   "metadata": {},
   "source": [
    "### transform data"
   ]
  },
  {
   "cell_type": "code",
   "execution_count": 21,
   "metadata": {
    "collapsed": false
   },
   "outputs": [],
   "source": [
    "train, test = fp.mssubclass(train, test)"
   ]
  },
  {
   "cell_type": "code",
   "execution_count": 22,
   "metadata": {
    "collapsed": false
   },
   "outputs": [],
   "source": [
    "def log(train, test, y):\n",
    "    numeric_feats = train.dtypes[train.dtypes != \"object\"].index\n",
    "        \n",
    "    for i in (train, test):\n",
    "        #log transform skewed numeric features:\n",
    "        i[numeric_feats] = np.log1p(i[numeric_feats])\n",
    "\n",
    "    y = np.log1p(y)\n",
    "    return train, test, y"
   ]
  },
  {
   "cell_type": "code",
   "execution_count": 23,
   "metadata": {
    "collapsed": false
   },
   "outputs": [],
   "source": [
    "train, test, y = log(train, test, y)"
   ]
  },
  {
   "cell_type": "code",
   "execution_count": 24,
   "metadata": {
    "collapsed": false
   },
   "outputs": [
    {
     "name": "stdout",
     "output_type": "stream",
     "text": [
      "0.967214551415 seconds\n"
     ]
    }
   ],
   "source": [
    "train, test = fp.lotfrontage(train, test)\n",
    "train, test = fp.garageyrblt(train, test)\n",
    "train, test = fp.impute_mean(train, test)\n",
    "train, test = fp.dummies(train, test)"
   ]
  },
  {
   "cell_type": "code",
   "execution_count": 11,
   "metadata": {
    "collapsed": false
   },
   "outputs": [
    {
     "data": {
      "text/plain": [
       "RandomForestRegressor(bootstrap=True, criterion='mse', max_depth=None,\n",
       "           max_features='auto', max_leaf_nodes=None,\n",
       "           min_impurity_split=1e-07, min_samples_leaf=1,\n",
       "           min_samples_split=2, min_weight_fraction_leaf=0.0,\n",
       "           n_estimators=1000, n_jobs=-1, oob_score=True, random_state=1,\n",
       "           verbose=0, warm_start=False)"
      ]
     },
     "execution_count": 11,
     "metadata": {},
     "output_type": "execute_result"
    }
   ],
   "source": [
    "forest = RandomForestRegressor(n_estimators=1000, \n",
    "                               criterion='mse', \n",
    "                               random_state=1, \n",
    "                               oob_score=True, \n",
    "                               n_jobs=-1)\n",
    "\n",
    "forest.fit(train, y)"
   ]
  },
  {
   "cell_type": "markdown",
   "metadata": {},
   "source": [
    "Looking at the root mean squared error of our training set, we can see that there overfitting is likely happening. "
   ]
  },
  {
   "cell_type": "code",
   "execution_count": 15,
   "metadata": {
    "collapsed": false
   },
   "outputs": [
    {
     "data": {
      "text/plain": [
       "0.051996390866758724"
      ]
     },
     "execution_count": 15,
     "metadata": {},
     "output_type": "execute_result"
    }
   ],
   "source": [
    "y_train_pred = forest.predict(train)\n",
    "np.sqrt(mean_squared_error(y, y_train_pred))"
   ]
  },
  {
   "cell_type": "code",
   "execution_count": 25,
   "metadata": {
    "collapsed": false
   },
   "outputs": [],
   "source": [
    "predictions = forest.predict(test)\n",
    "predictions = np.expm1(predictions)"
   ]
  },
  {
   "cell_type": "code",
   "execution_count": 26,
   "metadata": {
    "collapsed": true
   },
   "outputs": [],
   "source": [
    "test = pd.read_csv(os.path.join('data', 'test.csv'))\n",
    "predictions = pd.DataFrame(predictions, columns=['SalePrice'])\n",
    "predictions = pd.concat((test.iloc[:, 0], predictions), axis = 1)\n",
    "predictions.to_csv(os.path.join('submission_files', 'RFR1.csv'), sep=\",\", index = False)"
   ]
  },
  {
   "cell_type": "markdown",
   "metadata": {},
   "source": [
    "## Random Forest Regression 1"
   ]
  },
  {
   "cell_type": "markdown",
   "metadata": {},
   "source": [
    "### load data"
   ]
  },
  {
   "cell_type": "code",
   "execution_count": 27,
   "metadata": {
    "collapsed": false
   },
   "outputs": [],
   "source": [
    "train = pd.read_csv(os.path.join('data', 'train.csv'))\n",
    "test = pd.read_csv(os.path.join('data', 'test.csv'))\n",
    "y = train.iloc[:, -1]\n",
    "train = train.iloc[:, 1:-1]\n",
    "test = test.iloc[:, 1:]\n",
    "submission = test.iloc[:, 0]"
   ]
  },
  {
   "cell_type": "markdown",
   "metadata": {},
   "source": [
    "### transform data"
   ]
  },
  {
   "cell_type": "code",
   "execution_count": 28,
   "metadata": {
    "collapsed": false
   },
   "outputs": [],
   "source": [
    "train, test = fp.mssubclass(train, test)"
   ]
  },
  {
   "cell_type": "code",
   "execution_count": 29,
   "metadata": {
    "collapsed": false
   },
   "outputs": [],
   "source": [
    "def log(train, test, y):\n",
    "    numeric_feats = train.dtypes[train.dtypes != \"object\"].index\n",
    "        \n",
    "    for i in (train, test):\n",
    "        #log transform skewed numeric features:\n",
    "        i[numeric_feats] = np.log1p(i[numeric_feats])\n",
    "\n",
    "    y = np.log1p(y)\n",
    "    return train, test, y"
   ]
  },
  {
   "cell_type": "code",
   "execution_count": 30,
   "metadata": {
    "collapsed": false
   },
   "outputs": [],
   "source": [
    "train, test, y = log(train, test, y)"
   ]
  },
  {
   "cell_type": "code",
   "execution_count": 31,
   "metadata": {
    "collapsed": false
   },
   "outputs": [
    {
     "name": "stdout",
     "output_type": "stream",
     "text": [
      "0.713381549086 seconds\n"
     ]
    }
   ],
   "source": [
    "train, test = fp.lotfrontage(train, test)\n",
    "train, test = fp.garageyrblt(train, test)\n",
    "train, test = fp.impute_mean(train, test)\n",
    "train, test = fp.dummies(train, test)"
   ]
  },
  {
   "cell_type": "code",
   "execution_count": null,
   "metadata": {
    "collapsed": false
   },
   "outputs": [],
   "source": [
    "forest = RandomForestRegressor(max_features='auto', \n",
    "                               criterion='mse',\n",
    "                               oob_score=True,\n",
    "                               random_state=1,\n",
    "                               n_jobs=-1)\n",
    "\n",
    "param_grid = {\"min_samples_leaf\" : [1,5,10],\n",
    "              \"min_samples_split\" : [2, 4, 10, 12, 16],\n",
    "              \"n_estimators\": [50, 100, 400, 700, 1000]}\n",
    "\n",
    "gs = GridSearchCV(estimator=forest,\n",
    "                  param_grid=param_grid,\n",
    "                  scoring='neg_mean_squared_error',\n",
    "                  cv=3,\n",
    "                  n_jobs=-1)\n",
    "\n",
    "gs = gs.fit(train, y)"
   ]
  },
  {
   "cell_type": "markdown",
   "metadata": {},
   "source": [
    "Looking at the root mean squared error of our training set, we can see that there overfitting is likely happening. "
   ]
  },
  {
   "cell_type": "code",
   "execution_count": 15,
   "metadata": {
    "collapsed": false
   },
   "outputs": [
    {
     "data": {
      "text/plain": [
       "0.051996390866758724"
      ]
     },
     "execution_count": 15,
     "metadata": {},
     "output_type": "execute_result"
    }
   ],
   "source": [
    "y_train_pred = forest.predict(train)\n",
    "np.sqrt(mean_squared_error(y, y_train_pred))"
   ]
  },
  {
   "cell_type": "code",
   "execution_count": 25,
   "metadata": {
    "collapsed": false
   },
   "outputs": [],
   "source": [
    "predictions = forest.predict(test)\n",
    "predictions = np.expm1(predictions)"
   ]
  },
  {
   "cell_type": "code",
   "execution_count": 26,
   "metadata": {
    "collapsed": true
   },
   "outputs": [],
   "source": [
    "test = pd.read_csv(os.path.join('data', 'test.csv'))\n",
    "predictions = pd.DataFrame(predictions, columns=['SalePrice'])\n",
    "predictions = pd.concat((test.iloc[:, 0], predictions), axis = 1)\n",
    "predictions.to_csv(os.path.join('submission_files', 'RFR1.csv'), sep=\",\", index = False)"
   ]
  }
 ],
 "metadata": {
  "anaconda-cloud": {},
  "kernelspec": {
   "display_name": "Python [default]",
   "language": "python",
   "name": "python2"
  },
  "language_info": {
   "codemirror_mode": {
    "name": "ipython",
    "version": 2
   },
   "file_extension": ".py",
   "mimetype": "text/x-python",
   "name": "python",
   "nbconvert_exporter": "python",
   "pygments_lexer": "ipython2",
   "version": "2.7.12"
  }
 },
 "nbformat": 4,
 "nbformat_minor": 1
}
