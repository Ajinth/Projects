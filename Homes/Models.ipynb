{
 "cells": [
  {
   "cell_type": "code",
   "execution_count": 90,
   "metadata": {
    "collapsed": false
   },
   "outputs": [],
   "source": [
    "import os\n",
    "import pandas as pd\n",
    "import numpy as np\n",
    "from scipy.stats import skew\n",
    "import feature_process_helper as fp\n",
    "from sklearn.model_selection import GridSearchCV\n",
    "from sklearn.linear_model import Lasso\n",
    "from sklearn.feature_selection import SelectKBest\n",
    "from sklearn import linear_model\n",
    "from sklearn.pipeline import Pipeline\n",
    "import matplotlib.pyplot as plt\n",
    "%matplotlib inline"
   ]
  },
  {
   "cell_type": "markdown",
   "metadata": {},
   "source": [
    "## Lasso 1"
   ]
  },
  {
   "cell_type": "markdown",
   "metadata": {},
   "source": [
    "### load data"
   ]
  },
  {
   "cell_type": "code",
   "execution_count": 91,
   "metadata": {
    "collapsed": false
   },
   "outputs": [],
   "source": [
    "train = pd.read_csv(os.path.join('data', 'train.csv'))\n",
    "test = pd.read_csv(os.path.join('data', 'test.csv'))\n",
    "y = train.iloc[:, -1]\n",
    "train = train.iloc[:, 1:-1]\n",
    "test = test.iloc[:, 1:]\n",
    "submission = test.iloc[:, 0]"
   ]
  },
  {
   "cell_type": "markdown",
   "metadata": {},
   "source": [
    "### transform data"
   ]
  },
  {
   "cell_type": "code",
   "execution_count": 92,
   "metadata": {
    "collapsed": false
   },
   "outputs": [
    {
     "name": "stdout",
     "output_type": "stream",
     "text": [
      "0.775806224312 seconds\n"
     ]
    }
   ],
   "source": [
    "train, test = fp.mssubclass(train, test)\n",
    "train, test = fp.lotfrontage(train, test)\n",
    "train, test = fp.garageyrblt(train, test)\n",
    "train, test = fp.impute(train, test)\n",
    "train, test = fp.scale(train, test)\n",
    "train, test = fp.dummies(train, test)"
   ]
  },
  {
   "cell_type": "markdown",
   "metadata": {},
   "source": [
    "### find optimal value of the Lasso alpha parameter"
   ]
  },
  {
   "cell_type": "code",
   "execution_count": 93,
   "metadata": {
    "collapsed": false
   },
   "outputs": [
    {
     "name": "stdout",
     "output_type": "stream",
     "text": [
      "Lasso(alpha=40, copy_X=True, fit_intercept=True, max_iter=1000,\n",
      "   normalize=True, positive=False, precompute=False, random_state=None,\n",
      "   selection='cyclic', tol=0.0001, warm_start=False)\n",
      "0.884810357837\n"
     ]
    }
   ],
   "source": [
    "from sklearn.grid_search import GridSearchCV\n",
    "from sklearn.linear_model import Lasso\n",
    "\n",
    "alpha_ridge = [10, 20, 30, 40, 50]\n",
    "\n",
    "coeffs = {}\n",
    "z = 1.01\n",
    "for alpha in alpha_ridge:\n",
    "    r = Lasso(alpha=alpha, normalize=True, max_iter=1e5)\n",
    "    r = r.fit(train, y)\n",
    "    coeffs[str(z)+':'+str(alpha)] = np.append(r.score(train, y), np.append(r.intercept_, r.coef_))\n",
    "    z += .01\n",
    "    \n",
    "grid_search = GridSearchCV(Lasso(alpha=alpha, normalize=True), param_grid={'alpha': alpha_ridge}, cv=10, n_jobs=-1)\n",
    "grid_search.fit(train, y)\n",
    "\n",
    "print grid_search.best_estimator_\n",
    "print grid_search.score(train, y)"
   ]
  },
  {
   "cell_type": "markdown",
   "metadata": {},
   "source": [
    "### inspect results"
   ]
  },
  {
   "cell_type": "code",
   "execution_count": 94,
   "metadata": {
    "collapsed": false
   },
   "outputs": [
    {
     "data": {
      "text/html": [
       "<div>\n",
       "<table border=\"1\" class=\"dataframe\">\n",
       "  <thead>\n",
       "    <tr style=\"text-align: right;\">\n",
       "      <th></th>\n",
       "      <th>SCORE</th>\n",
       "      <th>INTERCEPT</th>\n",
       "      <th>LotFrontage</th>\n",
       "      <th>LotArea</th>\n",
       "      <th>OverallQual</th>\n",
       "      <th>OverallCond</th>\n",
       "      <th>YearBuilt</th>\n",
       "      <th>YearRemodAdd</th>\n",
       "      <th>MasVnrArea</th>\n",
       "      <th>BsmtFinSF1</th>\n",
       "      <th>...</th>\n",
       "      <th>SaleType_ConLI</th>\n",
       "      <th>SaleType_CWD</th>\n",
       "      <th>SaleType_ConLw</th>\n",
       "      <th>SaleType_Con</th>\n",
       "      <th>SaleType_Oth</th>\n",
       "      <th>SaleCondition_Abnorml</th>\n",
       "      <th>SaleCondition_Partial</th>\n",
       "      <th>SaleCondition_AdjLand</th>\n",
       "      <th>SaleCondition_Alloca</th>\n",
       "      <th>SaleCondition_Family</th>\n",
       "    </tr>\n",
       "  </thead>\n",
       "  <tbody>\n",
       "    <tr>\n",
       "      <th>1.01:10</th>\n",
       "      <td>0.906304</td>\n",
       "      <td>-359993.222673</td>\n",
       "      <td>-1122.756308</td>\n",
       "      <td>3654.279782</td>\n",
       "      <td>8470.834862</td>\n",
       "      <td>4629.287437</td>\n",
       "      <td>169.625163</td>\n",
       "      <td>53.201734</td>\n",
       "      <td>3273.654289</td>\n",
       "      <td>1926.747567</td>\n",
       "      <td>...</td>\n",
       "      <td>0.0</td>\n",
       "      <td>7957.921244</td>\n",
       "      <td>0.0</td>\n",
       "      <td>26102.174410</td>\n",
       "      <td>4985.049002</td>\n",
       "      <td>-6359.145133</td>\n",
       "      <td>0.0</td>\n",
       "      <td>0.0</td>\n",
       "      <td>7476.195193</td>\n",
       "      <td>-3038.878548</td>\n",
       "    </tr>\n",
       "    <tr>\n",
       "      <th>1.02:20</th>\n",
       "      <td>0.898402</td>\n",
       "      <td>-506952.906273</td>\n",
       "      <td>-0.000000</td>\n",
       "      <td>3000.613166</td>\n",
       "      <td>9254.420112</td>\n",
       "      <td>4285.713011</td>\n",
       "      <td>194.874230</td>\n",
       "      <td>70.794516</td>\n",
       "      <td>2615.415683</td>\n",
       "      <td>2296.354317</td>\n",
       "      <td>...</td>\n",
       "      <td>0.0</td>\n",
       "      <td>0.000000</td>\n",
       "      <td>0.0</td>\n",
       "      <td>20777.545869</td>\n",
       "      <td>0.000000</td>\n",
       "      <td>-5294.360250</td>\n",
       "      <td>0.0</td>\n",
       "      <td>-0.0</td>\n",
       "      <td>2153.758763</td>\n",
       "      <td>-1443.378045</td>\n",
       "    </tr>\n",
       "    <tr>\n",
       "      <th>1.03:30</th>\n",
       "      <td>0.891721</td>\n",
       "      <td>-521054.936396</td>\n",
       "      <td>-0.000000</td>\n",
       "      <td>2848.362989</td>\n",
       "      <td>10239.964851</td>\n",
       "      <td>3863.648048</td>\n",
       "      <td>197.905237</td>\n",
       "      <td>83.006815</td>\n",
       "      <td>2202.593985</td>\n",
       "      <td>2451.743806</td>\n",
       "      <td>...</td>\n",
       "      <td>0.0</td>\n",
       "      <td>0.000000</td>\n",
       "      <td>0.0</td>\n",
       "      <td>12578.858589</td>\n",
       "      <td>0.000000</td>\n",
       "      <td>-4493.565826</td>\n",
       "      <td>0.0</td>\n",
       "      <td>-0.0</td>\n",
       "      <td>0.000000</td>\n",
       "      <td>-0.000000</td>\n",
       "    </tr>\n",
       "    <tr>\n",
       "      <th>1.04:40</th>\n",
       "      <td>0.884810</td>\n",
       "      <td>-521680.564655</td>\n",
       "      <td>-0.000000</td>\n",
       "      <td>2744.919852</td>\n",
       "      <td>11119.319966</td>\n",
       "      <td>3363.147814</td>\n",
       "      <td>198.331603</td>\n",
       "      <td>99.756336</td>\n",
       "      <td>1902.662206</td>\n",
       "      <td>2645.859346</td>\n",
       "      <td>...</td>\n",
       "      <td>0.0</td>\n",
       "      <td>0.000000</td>\n",
       "      <td>0.0</td>\n",
       "      <td>3219.990762</td>\n",
       "      <td>0.000000</td>\n",
       "      <td>-3659.204473</td>\n",
       "      <td>0.0</td>\n",
       "      <td>-0.0</td>\n",
       "      <td>0.000000</td>\n",
       "      <td>-0.000000</td>\n",
       "    </tr>\n",
       "    <tr>\n",
       "      <th>1.05:50</th>\n",
       "      <td>0.878126</td>\n",
       "      <td>-524298.146483</td>\n",
       "      <td>0.000000</td>\n",
       "      <td>2678.808468</td>\n",
       "      <td>11885.404231</td>\n",
       "      <td>2917.920732</td>\n",
       "      <td>189.388979</td>\n",
       "      <td>109.267016</td>\n",
       "      <td>1723.804829</td>\n",
       "      <td>2788.017583</td>\n",
       "      <td>...</td>\n",
       "      <td>0.0</td>\n",
       "      <td>0.000000</td>\n",
       "      <td>-0.0</td>\n",
       "      <td>0.000000</td>\n",
       "      <td>0.000000</td>\n",
       "      <td>-2706.007992</td>\n",
       "      <td>0.0</td>\n",
       "      <td>-0.0</td>\n",
       "      <td>0.000000</td>\n",
       "      <td>-0.000000</td>\n",
       "    </tr>\n",
       "  </tbody>\n",
       "</table>\n",
       "<p>5 rows × 247 columns</p>\n",
       "</div>"
      ],
      "text/plain": [
       "            SCORE      INTERCEPT  LotFrontage      LotArea   OverallQual  \\\n",
       "1.01:10  0.906304 -359993.222673 -1122.756308  3654.279782   8470.834862   \n",
       "1.02:20  0.898402 -506952.906273    -0.000000  3000.613166   9254.420112   \n",
       "1.03:30  0.891721 -521054.936396    -0.000000  2848.362989  10239.964851   \n",
       "1.04:40  0.884810 -521680.564655    -0.000000  2744.919852  11119.319966   \n",
       "1.05:50  0.878126 -524298.146483     0.000000  2678.808468  11885.404231   \n",
       "\n",
       "         OverallCond   YearBuilt  YearRemodAdd   MasVnrArea   BsmtFinSF1  \\\n",
       "1.01:10  4629.287437  169.625163     53.201734  3273.654289  1926.747567   \n",
       "1.02:20  4285.713011  194.874230     70.794516  2615.415683  2296.354317   \n",
       "1.03:30  3863.648048  197.905237     83.006815  2202.593985  2451.743806   \n",
       "1.04:40  3363.147814  198.331603     99.756336  1902.662206  2645.859346   \n",
       "1.05:50  2917.920732  189.388979    109.267016  1723.804829  2788.017583   \n",
       "\n",
       "                 ...           SaleType_ConLI  SaleType_CWD  SaleType_ConLw  \\\n",
       "1.01:10          ...                      0.0   7957.921244             0.0   \n",
       "1.02:20          ...                      0.0      0.000000             0.0   \n",
       "1.03:30          ...                      0.0      0.000000             0.0   \n",
       "1.04:40          ...                      0.0      0.000000             0.0   \n",
       "1.05:50          ...                      0.0      0.000000            -0.0   \n",
       "\n",
       "         SaleType_Con  SaleType_Oth  SaleCondition_Abnorml  \\\n",
       "1.01:10  26102.174410   4985.049002           -6359.145133   \n",
       "1.02:20  20777.545869      0.000000           -5294.360250   \n",
       "1.03:30  12578.858589      0.000000           -4493.565826   \n",
       "1.04:40   3219.990762      0.000000           -3659.204473   \n",
       "1.05:50      0.000000      0.000000           -2706.007992   \n",
       "\n",
       "         SaleCondition_Partial  SaleCondition_AdjLand  SaleCondition_Alloca  \\\n",
       "1.01:10                    0.0                    0.0           7476.195193   \n",
       "1.02:20                    0.0                   -0.0           2153.758763   \n",
       "1.03:30                    0.0                   -0.0              0.000000   \n",
       "1.04:40                    0.0                   -0.0              0.000000   \n",
       "1.05:50                    0.0                   -0.0              0.000000   \n",
       "\n",
       "         SaleCondition_Family  \n",
       "1.01:10          -3038.878548  \n",
       "1.02:20          -1443.378045  \n",
       "1.03:30             -0.000000  \n",
       "1.04:40             -0.000000  \n",
       "1.05:50             -0.000000  \n",
       "\n",
       "[5 rows x 247 columns]"
      ]
     },
     "execution_count": 94,
     "metadata": {},
     "output_type": "execute_result"
    }
   ],
   "source": [
    "a = pd.DataFrame(coeffs).transpose()\n",
    "columns = ['SCORE', 'INTERCEPT']+list(train.columns)\n",
    "dict = {}\n",
    "i = 0 \n",
    "for c in columns:\n",
    "    dict[i] = c\n",
    "    i += 1\n",
    "a.rename(columns = dict, inplace=True)\n",
    "a"
   ]
  },
  {
   "cell_type": "markdown",
   "metadata": {},
   "source": [
    "### fit lasso model with optimal alpha"
   ]
  },
  {
   "cell_type": "code",
   "execution_count": null,
   "metadata": {
    "collapsed": true
   },
   "outputs": [],
   "source": [
    "lasso = Lasso(alpha=40, normalize=True, max_iter=1e5)\n",
    "lasso = lasso.fit(train, y)"
   ]
  },
  {
   "cell_type": "markdown",
   "metadata": {},
   "source": [
    "### last-second check that our test dataset doesn't contain empty columns"
   ]
  },
  {
   "cell_type": "code",
   "execution_count": null,
   "metadata": {
    "collapsed": true
   },
   "outputs": [],
   "source": [
    "for i in test.columns:\n",
    "    if sum(pd.isnull(test[i])) > 0:\n",
    "        print i, sum(pd.isnull(test[i]))"
   ]
  },
  {
   "cell_type": "markdown",
   "metadata": {},
   "source": [
    "### predict test data and create submission file"
   ]
  },
  {
   "cell_type": "code",
   "execution_count": null,
   "metadata": {
    "collapsed": true
   },
   "outputs": [],
   "source": [
    "lasso.predict(test)"
   ]
  },
  {
   "cell_type": "code",
   "execution_count": null,
   "metadata": {
    "collapsed": true
   },
   "outputs": [],
   "source": [
    "predictions = lasso.predict(test)\n",
    "test = pd.read_csv(os.path.join('data', 'test.csv'))\n",
    "predictions = pd.DataFrame(predictions, columns=['SalePrice'])\n",
    "predictions = pd.concat((test.iloc[:, 0], predictions), axis = 1)\n",
    "predictions.to_csv(os.path.join('submission_files', 'lasso1.csv'), sep=\",\", index = False)"
   ]
  },
  {
   "cell_type": "markdown",
   "metadata": {},
   "source": [
    "score: .013624"
   ]
  },
  {
   "cell_type": "markdown",
   "metadata": {},
   "source": [
    "## Linear Regression 1"
   ]
  },
  {
   "cell_type": "markdown",
   "metadata": {},
   "source": [
    "### load data"
   ]
  },
  {
   "cell_type": "code",
   "execution_count": 43,
   "metadata": {
    "collapsed": false
   },
   "outputs": [],
   "source": [
    "train = pd.read_csv(os.path.join('data', 'train.csv'))\n",
    "test = pd.read_csv(os.path.join('data', 'test.csv'))\n",
    "y = train.iloc[:, -1]\n",
    "train = train.iloc[:, 1:-1]\n",
    "test = test.iloc[:, 1:]\n",
    "submission = test.iloc[:, 0]"
   ]
  },
  {
   "cell_type": "markdown",
   "metadata": {},
   "source": [
    "### transform data"
   ]
  },
  {
   "cell_type": "code",
   "execution_count": 44,
   "metadata": {
    "collapsed": false
   },
   "outputs": [
    {
     "name": "stdout",
     "output_type": "stream",
     "text": [
      "1.25477410561 seconds\n"
     ]
    }
   ],
   "source": [
    "train, test = fp.mssubclass(train, test)\n",
    "train, test = fp.lotfrontage(train, test)\n",
    "train, test = fp.garageyrblt(train, test)\n",
    "train, test = fp.impute(train, test)\n",
    "train, test = fp.scale(train, test)\n",
    "train, test = fp.dummies(train, test)"
   ]
  },
  {
   "cell_type": "markdown",
   "metadata": {},
   "source": [
    "### find optimal value of the Lasso alpha parameter"
   ]
  },
  {
   "cell_type": "code",
   "execution_count": null,
   "metadata": {
    "collapsed": true
   },
   "outputs": [],
   "source": [
    "from sklearn.grid_search import GridSearchCV\n",
    "from sklearn.linear_model import Lasso\n",
    "\n",
    "alpha_ridge = [10, 20, 30, 40, 50]\n",
    "\n",
    "coeffs = {}\n",
    "z = 1.01\n",
    "for alpha in alpha_ridge:\n",
    "    r = Lasso(alpha=alpha, normalize=True, max_iter=1e5)\n",
    "    r = r.fit(train, y)\n",
    "    coeffs[str(z)+':'+str(alpha)] = np.append(r.score(train, y), np.append(r.intercept_, r.coef_))\n",
    "    z += .01\n",
    "    \n",
    "grid_search = GridSearchCV(Lasso(alpha=alpha, normalize=True), param_grid={'alpha': alpha_ridge}, cv=10, n_jobs=-1)\n",
    "grid_search.fit(train, y)\n",
    "\n",
    "print grid_search.best_estimator_\n",
    "print grid_search.score(train, y)"
   ]
  },
  {
   "cell_type": "code",
   "execution_count": 45,
   "metadata": {
    "collapsed": false
   },
   "outputs": [],
   "source": [
    "coeffs = {}\n",
    "z = 1.01\n",
    "alpha = 40\n",
    "r = Lasso(alpha, normalize=True, max_iter=1e5)\n",
    "r = r.fit(train, y)\n",
    "coeffs[str(z)+':'+str(alpha)] = np.append(r.score(train, y), np.append(r.intercept_, r.coef_))\n",
    "z += .01"
   ]
  },
  {
   "cell_type": "code",
   "execution_count": 46,
   "metadata": {
    "collapsed": false
   },
   "outputs": [],
   "source": [
    "lasso = pd.DataFrame([np.array(train.columns), coeffs['1.01:40'][2:]]).transpose()"
   ]
  },
  {
   "cell_type": "code",
   "execution_count": 47,
   "metadata": {
    "collapsed": false
   },
   "outputs": [],
   "source": [
    "lasso_clean = lasso[lasso[1] != 0][0]"
   ]
  },
  {
   "cell_type": "code",
   "execution_count": 48,
   "metadata": {
    "collapsed": false
   },
   "outputs": [
    {
     "data": {
      "text/plain": [
       "62"
      ]
     },
     "execution_count": 48,
     "metadata": {},
     "output_type": "execute_result"
    }
   ],
   "source": [
    "len(lasso_clean)"
   ]
  },
  {
   "cell_type": "code",
   "execution_count": 49,
   "metadata": {
    "collapsed": false
   },
   "outputs": [],
   "source": [
    "train = train[lasso_clean]\n",
    "test = test[lasso_clean]"
   ]
  },
  {
   "cell_type": "markdown",
   "metadata": {},
   "source": [
    "### use select K best to further narrow down number or columns"
   ]
  },
  {
   "cell_type": "code",
   "execution_count": 64,
   "metadata": {
    "collapsed": false
   },
   "outputs": [],
   "source": [
    "# Create SelectKBest() Object\n",
    "kbest = SelectKBest()\n",
    "lm = linear_model.LinearRegression()\n",
    "\n",
    "# Create the Pipeline() obejct, and then fit it against the data set. \n",
    "pipeline = Pipeline([('kbest', kbest),\n",
    "                     ('lm', lm)])"
   ]
  },
  {
   "cell_type": "code",
   "execution_count": 65,
   "metadata": {
    "collapsed": false
   },
   "outputs": [
    {
     "data": {
      "text/plain": [
       "GridSearchCV(cv=3, error_score='raise',\n",
       "       estimator=Pipeline(steps=[('kbest', SelectKBest(k=10, score_func=<function f_classif at 0x000000000AA61588>)), ('lm', LinearRegression(copy_X=True, fit_intercept=True, n_jobs=1, normalize=False))]),\n",
       "       fit_params={}, iid=True, n_jobs=-1,\n",
       "       param_grid={'kbest__k': [1, 2, 3, 4, 5, 6, 7, 8, 9, 10, 11, 12, 13, 14, 15, 16, 17, 18, 19, 20, 21, 22, 23, 24, 25, 26, 27, 28, 29, 30, 31, 32, 33, 34, 35, 36, 37, 38, 39, 40, 41, 42, 43, 44, 45, 46, 47, 48, 49, 50, 51, 52, 53, 54, 55, 56, 57, 58, 59, 60, 61, 62]},\n",
       "       pre_dispatch='2*n_jobs', refit=True, return_train_score=True,\n",
       "       scoring=None, verbose=0)"
      ]
     },
     "execution_count": 65,
     "metadata": {},
     "output_type": "execute_result"
    }
   ],
   "source": [
    "# Create a grid_search_dict. Using these with a pipeline can be a little tricky - note that\n",
    "#    you have to specify which pipeline component you want to grid search by using the alias\n",
    "#    you provided when you created the Pipeline object + '__' + [argument name]. \n",
    "grid_search_dict = {'kbest__k': range(1, len(train.columns)+1)}     \n",
    "\n",
    "grid_search = GridSearchCV(pipeline, param_grid=grid_search_dict, cv=3, n_jobs=-1)\n",
    "grid_search.fit(train, y)\n",
    "\n",
    "# Let's see how our SelectKBest/GridSearch classifier performed\n",
    "#print 'SelectKBest/GridSearch - Accuracy: ', grid_search.score(y, grid_search.predict(train))"
   ]
  },
  {
   "cell_type": "code",
   "execution_count": 66,
   "metadata": {
    "collapsed": false
   },
   "outputs": [
    {
     "name": "stdout",
     "output_type": "stream",
     "text": [
      "{'kbest__k': 59}\n",
      "0.842104691208\n"
     ]
    }
   ],
   "source": [
    "print grid_search.best_params_\n",
    "print grid_search.best_score_"
   ]
  },
  {
   "cell_type": "code",
   "execution_count": 67,
   "metadata": {
    "collapsed": false
   },
   "outputs": [
    {
     "data": {
      "text/plain": [
       "Pipeline(steps=[('kbest', SelectKBest(k=59, score_func=<function f_classif at 0x000000000AA61588>)), ('lm', LinearRegression(copy_X=True, fit_intercept=True, n_jobs=1, normalize=False))])"
      ]
     },
     "execution_count": 67,
     "metadata": {},
     "output_type": "execute_result"
    }
   ],
   "source": [
    "grid_search.best_estimator_"
   ]
  },
  {
   "cell_type": "markdown",
   "metadata": {},
   "source": [
    "### inspect results"
   ]
  },
  {
   "cell_type": "code",
   "execution_count": 68,
   "metadata": {
    "collapsed": false
   },
   "outputs": [
    {
     "name": "stdout",
     "output_type": "stream",
     "text": [
      "SelectKBest/GridSearch - Accuracy:  0.896459555554\n"
     ]
    }
   ],
   "source": [
    "grid_search = grid_search.best_estimator_\n",
    "grid_search.fit(train, y)\n",
    "\n",
    "# Let's see how our SelectKBest/GridSearch classifier performed\n",
    "print 'SelectKBest/GridSearch - Accuracy: ', grid_search.score(train, y)"
   ]
  },
  {
   "cell_type": "markdown",
   "metadata": {},
   "source": [
    "### predict test data and create submission file"
   ]
  },
  {
   "cell_type": "code",
   "execution_count": 69,
   "metadata": {
    "collapsed": true
   },
   "outputs": [],
   "source": [
    "predictions = grid_search.predict(test)\n",
    "test = pd.read_csv(os.path.join('data', 'test.csv'))\n",
    "predictions = pd.DataFrame(predictions, columns=['SalePrice'])\n",
    "predictions = pd.concat((test.iloc[:, 0], predictions), axis = 1)\n",
    "predictions.to_csv(os.path.join('submission_files', 'lm1.csv'), sep=\",\", index = False)"
   ]
  },
  {
   "cell_type": "markdown",
   "metadata": {},
   "source": [
    "score: 0.15001"
   ]
  },
  {
   "cell_type": "markdown",
   "metadata": {},
   "source": [
    "## Linear Regression 2"
   ]
  },
  {
   "cell_type": "markdown",
   "metadata": {},
   "source": [
    "### load data"
   ]
  },
  {
   "cell_type": "code",
   "execution_count": 80,
   "metadata": {
    "collapsed": false
   },
   "outputs": [],
   "source": [
    "train = pd.read_csv(os.path.join('data', 'train.csv'))\n",
    "test = pd.read_csv(os.path.join('data', 'test.csv'))\n",
    "y = train.iloc[:, -1]\n",
    "train = train.iloc[:, 1:-1]\n",
    "test = test.iloc[:, 1:]\n",
    "submission = test.iloc[:, 0]"
   ]
  },
  {
   "cell_type": "markdown",
   "metadata": {},
   "source": [
    "### transform data"
   ]
  },
  {
   "cell_type": "code",
   "execution_count": 81,
   "metadata": {
    "collapsed": false
   },
   "outputs": [
    {
     "name": "stdout",
     "output_type": "stream",
     "text": [
      "0.712638614368 seconds\n"
     ]
    }
   ],
   "source": [
    "train, test = fp.mssubclass(train, test)\n",
    "train, test = fp.lotfrontage(train, test)\n",
    "train, test = fp.garageyrblt(train, test)\n",
    "train, test = fp.impute(train, test)\n",
    "train, test = fp.dummies(train, test)"
   ]
  },
  {
   "cell_type": "markdown",
   "metadata": {},
   "source": [
    "### use select K best to further narrow down number or columns"
   ]
  },
  {
   "cell_type": "code",
   "execution_count": 82,
   "metadata": {
    "collapsed": false
   },
   "outputs": [],
   "source": [
    "# Create SelectKBest() Object\n",
    "kbest = SelectKBest()\n",
    "lm = linear_model.LinearRegression()\n",
    "\n",
    "# Create the Pipeline() obejct, and then fit it against the data set. \n",
    "pipeline = Pipeline([('kbest', kbest),\n",
    "                     ('lm', lm)])"
   ]
  },
  {
   "cell_type": "code",
   "execution_count": 83,
   "metadata": {
    "collapsed": false
   },
   "outputs": [
    {
     "data": {
      "text/plain": [
       "GridSearchCV(cv=3, error_score='raise',\n",
       "       estimator=Pipeline(steps=[('kbest', SelectKBest(k=10, score_func=<function f_classif at 0x000000000AA61588>)), ('lm', LinearRegression(copy_X=True, fit_intercept=True, n_jobs=1, normalize=False))]),\n",
       "       fit_params={}, iid=True, n_jobs=-1,\n",
       "       param_grid={'kbest__k': [1, 2, 3, 4, 5, 6, 7, 8, 9, 10, 11, 12, 13, 14, 15, 16, 17, 18, 19, 20, 21, 22, 23, 24, 25, 26, 27, 28, 29, 30, 31, 32, 33, 34, 35, 36, 37, 38, 39, 40, 41, 42, 43, 44, 45, 46, 47, 48, 49, 50, 51, 52, 53, 54, 55, 56, 57, 58, 59, 60, 61, 62, 63, 64, 65, 66, 67, 68, 69, 70, 71, ...226, 227, 228, 229, 230, 231, 232, 233, 234, 235, 236, 237, 238, 239, 240, 241, 242, 243, 244, 245]},\n",
       "       pre_dispatch='2*n_jobs', refit=True, return_train_score=True,\n",
       "       scoring=None, verbose=0)"
      ]
     },
     "execution_count": 83,
     "metadata": {},
     "output_type": "execute_result"
    }
   ],
   "source": [
    "# Create a grid_search_dict. Using these with a pipeline can be a little tricky - note that\n",
    "#    you have to specify which pipeline component you want to grid search by using the alias\n",
    "#    you provided when you created the Pipeline object + '__' + [argument name]. \n",
    "grid_search_dict = {'kbest__k': range(1, len(train.columns)+1)}     \n",
    "\n",
    "grid_search = GridSearchCV(pipeline, param_grid=grid_search_dict, cv=3, n_jobs=-1)\n",
    "grid_search.fit(train, y)\n",
    "\n",
    "# Let's see how our SelectKBest/GridSearch classifier performed\n",
    "#print 'SelectKBest/GridSearch - Accuracy: ', grid_search.score(y, grid_search.predict(train))"
   ]
  },
  {
   "cell_type": "code",
   "execution_count": 84,
   "metadata": {
    "collapsed": false
   },
   "outputs": [
    {
     "name": "stdout",
     "output_type": "stream",
     "text": [
      "{'kbest__k': 198}\n",
      "0.819652594611\n"
     ]
    }
   ],
   "source": [
    "print grid_search.best_params_\n",
    "print grid_search.best_score_"
   ]
  },
  {
   "cell_type": "code",
   "execution_count": 85,
   "metadata": {
    "collapsed": false
   },
   "outputs": [
    {
     "data": {
      "text/plain": [
       "Pipeline(steps=[('kbest', SelectKBest(k=198, score_func=<function f_classif at 0x000000000AA61588>)), ('lm', LinearRegression(copy_X=True, fit_intercept=True, n_jobs=1, normalize=False))])"
      ]
     },
     "execution_count": 85,
     "metadata": {},
     "output_type": "execute_result"
    }
   ],
   "source": [
    "grid_search.best_estimator_"
   ]
  },
  {
   "cell_type": "markdown",
   "metadata": {},
   "source": [
    "### inspect results"
   ]
  },
  {
   "cell_type": "code",
   "execution_count": 86,
   "metadata": {
    "collapsed": false
   },
   "outputs": [
    {
     "name": "stdout",
     "output_type": "stream",
     "text": [
      "SelectKBest/GridSearch - Accuracy:  0.909055724318\n"
     ]
    }
   ],
   "source": [
    "grid_search = grid_search.best_estimator_\n",
    "grid_search.fit(train, y)\n",
    "\n",
    "# Let's see how our SelectKBest/GridSearch classifier performed\n",
    "print 'SelectKBest/GridSearch - Accuracy: ', grid_search.score(train, y)"
   ]
  },
  {
   "cell_type": "markdown",
   "metadata": {},
   "source": [
    "### predict test data and create submission file"
   ]
  },
  {
   "cell_type": "code",
   "execution_count": 87,
   "metadata": {
    "collapsed": true
   },
   "outputs": [],
   "source": [
    "predictions = grid_search.predict(test)\n",
    "test = pd.read_csv(os.path.join('data', 'test.csv'))\n",
    "predictions = pd.DataFrame(predictions, columns=['SalePrice'])\n",
    "predictions = pd.concat((test.iloc[:, 0], predictions), axis = 1)\n",
    "predictions.to_csv(os.path.join('submission_files', 'lm2.csv'), sep=\",\", index = False)"
   ]
  },
  {
   "cell_type": "markdown",
   "metadata": {},
   "source": [
    "score: ERROR - one of the predictions was negative"
   ]
  },
  {
   "cell_type": "markdown",
   "metadata": {},
   "source": [
    "## Lasso 2"
   ]
  },
  {
   "cell_type": "markdown",
   "metadata": {},
   "source": [
    "### load data"
   ]
  },
  {
   "cell_type": "code",
   "execution_count": 97,
   "metadata": {
    "collapsed": false
   },
   "outputs": [],
   "source": [
    "train = pd.read_csv(os.path.join('data', 'train.csv'))\n",
    "test = pd.read_csv(os.path.join('data', 'test.csv'))\n",
    "y = train.iloc[:, -1]\n",
    "train = train.iloc[:, 1:-1]\n",
    "test = test.iloc[:, 1:]\n",
    "submission = test.iloc[:, 0]"
   ]
  },
  {
   "cell_type": "markdown",
   "metadata": {},
   "source": [
    "### transform data"
   ]
  },
  {
   "cell_type": "code",
   "execution_count": 98,
   "metadata": {
    "collapsed": false
   },
   "outputs": [],
   "source": [
    "train, test = fp.mssubclass(train, test)"
   ]
  },
  {
   "cell_type": "code",
   "execution_count": 99,
   "metadata": {
    "collapsed": true
   },
   "outputs": [],
   "source": [
    "def log(train, test, y):\n",
    "    for i in (train, test):\n",
    "\t\t#log transform skewed numeric features:\n",
    "\t\tnumeric_feats = train.dtypes[train.dtypes != \"object\"].index\n",
    "\n",
    "\t\tskewed_feats = train[numeric_feats].apply(lambda x: skew(x.dropna())) #compute skewness\n",
    "\t\tskewed_feats = skewed_feats[skewed_feats > 0.75]\n",
    "\t\tskewed_feats = skewed_feats.index\n",
    "\n",
    "\t\ti[skewed_feats] = np.log1p(i[skewed_feats])\n",
    "\n",
    "    y = np.log1p(y)\n",
    "    return train, test, y"
   ]
  },
  {
   "cell_type": "code",
   "execution_count": 100,
   "metadata": {
    "collapsed": false
   },
   "outputs": [],
   "source": [
    "train, test, y = log(train, test, y)"
   ]
  },
  {
   "cell_type": "code",
   "execution_count": 101,
   "metadata": {
    "collapsed": false
   },
   "outputs": [
    {
     "name": "stdout",
     "output_type": "stream",
     "text": [
      "0.765453693493 seconds\n"
     ]
    }
   ],
   "source": [
    "train, test = fp.lotfrontage(train, test)\n",
    "train, test = fp.garageyrblt(train, test)\n",
    "train, test = fp.impute(train, test)\n",
    "#train, test = fp.scale(train, test)\n",
    "train, test = fp.dummies(train, test)"
   ]
  },
  {
   "cell_type": "markdown",
   "metadata": {},
   "source": [
    "### find optimal value of the Lasso alpha parameter"
   ]
  },
  {
   "cell_type": "code",
   "execution_count": 69,
   "metadata": {
    "collapsed": true
   },
   "outputs": [],
   "source": [
    "from sklearn.linear_model import Ridge, RidgeCV, ElasticNet, LassoCV, LassoLarsCV\n",
    "from sklearn.model_selection import cross_val_score\n",
    "\n",
    "def rmse_cv(model):\n",
    "    rmse= np.sqrt(-cross_val_score(model, train, y, scoring=\"neg_mean_squared_error\", cv = 5))\n",
    "    return(rmse)"
   ]
  },
  {
   "cell_type": "code",
   "execution_count": 71,
   "metadata": {
    "collapsed": false
   },
   "outputs": [],
   "source": [
    "alphas = [1e-15, 1e-10, 1e-8, 1e-4, 1e-3,1e-2, 1, 5, 10, 20]\n",
    "cv_lasso = [rmse_cv(Lasso(alpha = alpha)).mean() \n",
    "            for alpha in alphas]"
   ]
  },
  {
   "cell_type": "code",
   "execution_count": 73,
   "metadata": {
    "collapsed": false
   },
   "outputs": [
    {
     "data": {
      "text/plain": [
       "<matplotlib.text.Text at 0xbd0bcc0>"
      ]
     },
     "execution_count": 73,
     "metadata": {},
     "output_type": "execute_result"
    },
    {
     "data": {
      "image/png": "[encoded data removed]",
      "text/plain": [
       "<matplotlib.figure.Figure at 0xa691358>"
      ]
     },
     "metadata": {},
     "output_type": "display_data"
    }
   ],
   "source": [
    "cv_lasso = pd.Series(cv_lasso, index = alphas)\n",
    "cv_lasso.plot(title = \"Validation - Just Do It\", logx=True)\n",
    "plt.xlabel(\"alpha\")\n",
    "plt.ylabel(\"rmse\")"
   ]
  },
  {
   "cell_type": "code",
   "execution_count": 102,
   "metadata": {
    "collapsed": false
   },
   "outputs": [
    {
     "name": "stdout",
     "output_type": "stream",
     "text": [
      "Lasso(alpha=0.0001, copy_X=True, fit_intercept=True, max_iter=1000,\n",
      "   normalize=True, positive=False, precompute=False, random_state=None,\n",
      "   selection='cyclic', tol=0.0001, warm_start=False)\n",
      "-0.0115547775381\n"
     ]
    }
   ],
   "source": [
    "from sklearn.grid_search import GridSearchCV\n",
    "from sklearn.linear_model import Lasso\n",
    "\n",
    "alpha_ridge = [1e-15, 1e-10, 1e-8, 1e-4, 1e-3,1e-2, 1, 5, 10, 20]\n",
    "\n",
    "coeffs = {}\n",
    "for alpha in alpha_ridge:\n",
    "    r = Lasso(alpha=alpha, normalize=True, max_iter=1000000)\n",
    "    r = r.fit(train, y)\n",
    "    \n",
    "grid_search = GridSearchCV(Lasso(alpha=alpha, normalize=True), scoring='neg_mean_squared_error',\n",
    "                           param_grid={'alpha': alpha_ridge}, cv=10, n_jobs=-1)\n",
    "grid_search.fit(train, y)\n",
    "\n",
    "print grid_search.best_estimator_\n",
    "print grid_search.score(train, y)"
   ]
  },
  {
   "cell_type": "markdown",
   "metadata": {},
   "source": [
    "### inspect results"
   ]
  },
  {
   "cell_type": "markdown",
   "metadata": {},
   "source": [
    "#### how do different values of alpha compare to the rmse?"
   ]
  },
  {
   "cell_type": "code",
   "execution_count": 103,
   "metadata": {
    "collapsed": false
   },
   "outputs": [
    {
     "name": "stdout",
     "output_type": "stream",
     "text": [
      "1e-15 0.143321163445\n",
      "1e-10 0.143321052469\n",
      "1e-08 0.143310114387\n",
      "0.0001 0.129865496454\n",
      "0.001 0.161189627638\n",
      "0.01 0.399568415785\n",
      "1 0.399568415785\n",
      "5 0.399568415785\n",
      "10 0.399568415785\n",
      "20 0.399568415785\n"
     ]
    }
   ],
   "source": [
    "for i in range(0, len(grid_search.grid_scores_)):\n",
    "    print grid_search.grid_scores_[i][0]['alpha'], np.sqrt(-grid_search.grid_scores_[i][1])"
   ]
  },
  {
   "cell_type": "code",
   "execution_count": 68,
   "metadata": {
    "collapsed": false
   },
   "outputs": [
    {
     "data": {
      "text/plain": [
       "<matplotlib.text.Text at 0xcf97b00>"
      ]
     },
     "execution_count": 68,
     "metadata": {},
     "output_type": "execute_result"
    },
    {
     "data": {
      "image/png": "[encoded data removed]",
      "text/plain": [
       "<matplotlib.figure.Figure at 0xcf890b8>"
      ]
     },
     "metadata": {},
     "output_type": "display_data"
    }
   ],
   "source": [
    "lasso_cv = pd.Series(lasso_cv, index = alphas)\n",
    "lasso_cv.plot(title = \"Validation - Just Do It\")\n",
    "plt.xlabel(\"alpha\")\n",
    "plt.ylabel(\"rmse\")"
   ]
  },
  {
   "cell_type": "code",
   "execution_count": null,
   "metadata": {
    "collapsed": true
   },
   "outputs": [],
   "source": [
    "a = pd.DataFrame(coeffs).transpose()\n",
    "columns = ['SCORE', 'INTERCEPT']+list(train.columns)\n",
    "dict = {}\n",
    "i = 0 \n",
    "for c in columns:\n",
    "    dict[i] = c\n",
    "    i += 1\n",
    "a.rename(columns = dict, inplace=True)\n",
    "a"
   ]
  },
  {
   "cell_type": "markdown",
   "metadata": {},
   "source": [
    "### fit lasso model with optimal alpha"
   ]
  },
  {
   "cell_type": "code",
   "execution_count": null,
   "metadata": {
    "collapsed": true
   },
   "outputs": [],
   "source": [
    "lasso = Lasso(alpha=40, normalize=True, max_iter=1e5)\n",
    "lasso = lasso.fit(train, y)"
   ]
  },
  {
   "cell_type": "markdown",
   "metadata": {},
   "source": [
    "### last-second check that our test dataset doesn't contain empty columns"
   ]
  },
  {
   "cell_type": "code",
   "execution_count": null,
   "metadata": {
    "collapsed": true
   },
   "outputs": [],
   "source": [
    "for i in test.columns:\n",
    "    if sum(pd.isnull(test[i])) > 0:\n",
    "        print i, sum(pd.isnull(test[i]))"
   ]
  },
  {
   "cell_type": "markdown",
   "metadata": {},
   "source": [
    "### predict test data and create submission file"
   ]
  },
  {
   "cell_type": "code",
   "execution_count": null,
   "metadata": {
    "collapsed": true
   },
   "outputs": [],
   "source": [
    "lasso.predict(test)"
   ]
  },
  {
   "cell_type": "code",
   "execution_count": null,
   "metadata": {
    "collapsed": true
   },
   "outputs": [],
   "source": [
    "predictions = lasso.predict(test)\n",
    "test = pd.read_csv(os.path.join('data', 'test.csv'))\n",
    "predictions = pd.DataFrame(predictions, columns=['SalePrice'])\n",
    "predictions = pd.concat((test.iloc[:, 0], predictions), axis = 1)\n",
    "predictions.to_csv(os.path.join('submission_files', 'lasso1.csv'), sep=\",\", index = False)"
   ]
  },
  {
   "cell_type": "markdown",
   "metadata": {},
   "source": [
    "score: .013624"
   ]
  }
 ],
 "metadata": {
  "anaconda-cloud": {},
  "kernelspec": {
   "display_name": "Python [default]",
   "language": "python",
   "name": "python2"
  },
  "language_info": {
   "codemirror_mode": {
    "name": "ipython",
    "version": 2
   },
   "file_extension": ".py",
   "mimetype": "text/x-python",
   "name": "python",
   "nbconvert_exporter": "python",
   "pygments_lexer": "ipython2",
   "version": "2.7.12"
  }
 },
 "nbformat": 4,
 "nbformat_minor": 1
}
