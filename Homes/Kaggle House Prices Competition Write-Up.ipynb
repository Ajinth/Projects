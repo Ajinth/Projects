{
 "cells": [
  {
   "cell_type": "markdown",
   "metadata": {},
   "source": [
    "## The Problem\n",
    "\n",
    "The Kaggle House Prices competition challenges us to predict the sale price of homes sold in Ames, Iowa between 2006 and 2010. The dataset contains 79 explanatory variables that include a vast array of house attributes. You can read more about the problem on the competition website, [here](https://www.kaggle.com/c/house-prices-advanced-regression-techniques).\n",
    "\n",
    "## Our Approach\n",
    "\n",
    "Because our target variable is continuous (sale price), this is a classic example of a regression problem, reminiscent of the Boston Housing dataset. We will be judged by how close our predictions are to the actual sale prices, as measured by the root mean squared error between the logarithm of the predicted value and the logarithm of the observed sales price. \n",
    "\n",
    "Our dataset has a large number of explanatory variables, many of which are categorical, and thus feature selection will be a crucial component of this problem. Two common approaches for this problem are using the straightforward SelectKBest method from the scikit-learn library and LASSO regression. Although I tried both approached in my analysis, LASSO yielded better results. \n",
    "\n",
    "Additionally, we will use XGBoost and blend the results with our LASSO output in order to improve the accuracy of our model. Our final results are good enough for a top 10% score on the leaderboard as of the time of this writing. "
   ]
  },
  {
   "cell_type": "markdown",
   "metadata": {},
   "source": [
    "## Exploratory Data Analysis\n",
    "\n",
    "For the purporses of this write-up, I will not go into a detailed demonstration of all exploratory data analysis, primarily because the quantity of variables would make this document unwieldy for the reader. Instead, I'll simply recount my primary observations that will inform our feature engineering. Those observations are:  \n",
    "\n",
    " - we have a large number of categorical attributes which we will have to convert into dummy variables\n",
    " - a few of the numerical columns have nulls that we will have to fill in\n",
    " - many of the numerical columns have skewed distributions, which we will want to address\n",
    "\n",
    "Below, we load our essential libraries and the data for our analysis."
   ]
  },
  {
   "cell_type": "code",
   "execution_count": 3,
   "metadata": {
    "collapsed": true
   },
   "outputs": [],
   "source": [
    "import os\n",
    "import pandas as pd\n",
    "import numpy as np\n",
    "from scipy.stats import skew\n",
    "from sklearn.model_selection import GridSearchCV\n",
    "from sklearn.linear_model import Lasso\n",
    "from sklearn.metrics import mean_squared_error\n",
    "from xgboost.sklearn import XGBClassifier\n",
    "import xgboost as xgb\n",
    "import matplotlib.pyplot as plt\n",
    "%matplotlib inline"
   ]
  },
  {
   "cell_type": "code",
   "execution_count": 18,
   "metadata": {
    "collapsed": false
   },
   "outputs": [],
   "source": [
    "train = pd.read_csv(os.path.join('data', 'train.csv'))\n",
    "test = pd.read_csv(os.path.join('data', 'test.csv'))\n",
    "y = train.iloc[:, -1]\n",
    "train = train.iloc[:, 1:-1]\n",
    "test = test.iloc[:, 1:]\n",
    "submission = test.iloc[:, 0]"
   ]
  },
  {
   "cell_type": "markdown",
   "metadata": {},
   "source": [
    "## Feature Engineering"
   ]
  },
  {
   "cell_type": "markdown",
   "metadata": {},
   "source": [
    "First, we convert the MSSubClass variable (which represents the building class code) from numerical to string, since the codes are merely categories and have no ordinal significance. "
   ]
  },
  {
   "cell_type": "code",
   "execution_count": 19,
   "metadata": {
    "collapsed": true
   },
   "outputs": [],
   "source": [
    "def mssubclass(train, test, cols=['MSSubClass']):\n",
    "    for i in (train, test):\n",
    "        for z in cols:\n",
    "            i[z] = i[z].apply(lambda x: str(x))\n",
    "    return train, test"
   ]
  },
  {
   "cell_type": "markdown",
   "metadata": {},
   "source": [
    "Next, we will take the log of all the numerical features, including our dependent variable. We use 'log1p' because our numerical features have a lot of zeros, and this will add one to each value before taking the log."
   ]
  },
  {
   "cell_type": "code",
   "execution_count": 20,
   "metadata": {
    "collapsed": true
   },
   "outputs": [],
   "source": [
    "def log(train, test, y):\n",
    "    numeric_feats = train.dtypes[train.dtypes != \"object\"].index\n",
    "    for i in (train, test):\n",
    "        i[numeric_feats] = np.log1p(i[numeric_feats])\n",
    "    y = np.log1p(y)\n",
    "    return train, test, y"
   ]
  },
  {
   "cell_type": "markdown",
   "metadata": {},
   "source": [
    "We will impute the null the values by taking each column's mean. "
   ]
  },
  {
   "cell_type": "code",
   "execution_count": 23,
   "metadata": {
    "collapsed": true
   },
   "outputs": [],
   "source": [
    "def impute_mean(train, test):\n",
    "    for i in (train, test):\n",
    "        for s in [k for k in i.dtypes[i.dtypes != \"object\"].index if sum(pd.isnull(i[k])>0)]:\n",
    "            i[s] = i[s].fillna(i[s].mean())\n",
    "    return train, test"
   ]
  },
  {
   "cell_type": "markdown",
   "metadata": {},
   "source": [
    "When creating our dummy variables, we will also make sure that the null values are recognized as such, since there might be some significance to them. "
   ]
  },
  {
   "cell_type": "code",
   "execution_count": 24,
   "metadata": {
    "collapsed": true
   },
   "outputs": [],
   "source": [
    "def dummies(train, test):\n",
    "    columns = [i for i in train.columns if type(train[i].iloc[1]) == str or type(train[i].iloc[1]) == float]\n",
    "    for column in columns:\n",
    "        train[column].fillna('NULL', inplace = True)\n",
    "        good_cols = [column+'_'+i for i in train[column].unique()[1:] if i in test[column].unique()]\n",
    "        train = pd.concat((train, pd.get_dummies(train[column], prefix = column)[good_cols]), axis = 1)\n",
    "        test = pd.concat((test, pd.get_dummies(test[column], prefix = column)[good_cols]), axis = 1)\n",
    "        del train[column]\n",
    "        del test[column]\n",
    "    return train, test"
   ]
  },
  {
   "cell_type": "code",
   "execution_count": 25,
   "metadata": {
    "collapsed": false
   },
   "outputs": [],
   "source": [
    "train, test = mssubclass(train, test)\n",
    "train, test, y = log(train, test, y)\n",
    "train, test = lotfrontage(train, test)\n",
    "train, test = garageyrblt(train, test)\n",
    "train, test = impute_mean(train, test)\n",
    "train, test = dummies(train, test)"
   ]
  },
  {
   "cell_type": "markdown",
   "metadata": {},
   "source": [
    "## LASSO Regression \n",
    "\n",
    "Lasso regression performs both regularization and feature selection in order to improve the prediction of our model. In our case, this is the perfect algorithm because it will help us reduce the number of feature and mitigate overfitting. \n",
    "\n",
    "The main hyperparameter we need to tune in a LASSO regression is the regularization factor alpha. In order to find the optimal alpha, we will use GridSearchCV. "
   ]
  },
  {
   "cell_type": "code",
   "execution_count": 26,
   "metadata": {
    "collapsed": false
   },
   "outputs": [
    {
     "name": "stdout",
     "output_type": "stream",
     "text": [
      "Lasso(alpha=0.0001, copy_X=True, fit_intercept=True, max_iter=1000,\n",
      "   normalize=True, positive=False, precompute=False, random_state=None,\n",
      "   selection='cyclic', tol=0.0001, warm_start=False)\n",
      "-0.01176265768\n"
     ]
    }
   ],
   "source": [
    "from sklearn.model_selection import GridSearchCV\n",
    "from sklearn.linear_model import Lasso\n",
    "\n",
    "alpha_ridge = [1e-5, 1e-4, 1e-3, 1e-2, 1, 5, 10, 20]\n",
    "\n",
    "coeffs = {}\n",
    "for alpha in alpha_ridge:\n",
    "    r = Lasso(alpha=alpha, normalize=True, max_iter=1000000)\n",
    "    r = r.fit(train, y)\n",
    "    \n",
    "grid_search = GridSearchCV(Lasso(alpha=alpha, normalize=True), scoring='neg_mean_squared_error',\n",
    "                           param_grid={'alpha': alpha_ridge}, cv=10, n_jobs=-1)\n",
    "grid_search.fit(train, y)\n",
    "\n",
    "print grid_search.best_estimator_\n",
    "print grid_search.score(train, y)"
   ]
  },
  {
   "cell_type": "markdown",
   "metadata": {},
   "source": [
    "Having identified our optimal alpha of 0.0001, we can also visualize the root mean squared error of all the other alphas. "
   ]
  },
  {
   "cell_type": "code",
   "execution_count": 28,
   "metadata": {
    "collapsed": false
   },
   "outputs": [
    {
     "data": {
      "text/plain": [
       "<matplotlib.text.Text at 0xc01fc88>"
      ]
     },
     "execution_count": 28,
     "metadata": {},
     "output_type": "execute_result"
    },
    {
     "data": {
      "image/png": "[encoded data removed]",
      "text/plain": [
       "<matplotlib.figure.Figure at 0xb873320>"
      ]
     },
     "metadata": {},
     "output_type": "display_data"
    }
   ],
   "source": [
    "alpha = alpha_ridge\n",
    "rmse = list(np.sqrt(-grid_search.cv_results_['mean_test_score']))\n",
    "\n",
    "plt.figure(figsize=(6,5))\n",
    "lasso_cv = pd.Series(rmse, index = alpha)\n",
    "lasso_cv.plot(title = \"Validation - LASSO\", logx=True)\n",
    "plt.xlabel(\"alpha\")\n",
    "plt.ylabel(\"rmse\")"
   ]
  },
  {
   "cell_type": "markdown",
   "metadata": {},
   "source": [
    "We now fit the model to our training data. "
   ]
  },
  {
   "cell_type": "code",
   "execution_count": 29,
   "metadata": {
    "collapsed": true
   },
   "outputs": [],
   "source": [
    "lasso = Lasso(alpha=.0001, normalize=True, max_iter=1e6)\n",
    "lasso = lasso.fit(train, y)"
   ]
  },
  {
   "cell_type": "markdown",
   "metadata": {},
   "source": [
    "How many columns has our model chosen?"
   ]
  },
  {
   "cell_type": "code",
   "execution_count": 31,
   "metadata": {
    "collapsed": false
   },
   "outputs": [
    {
     "name": "stdout",
     "output_type": "stream",
     "text": [
      "Lasso picked 103 variables and eliminated the other 142 variables\n"
     ]
    }
   ],
   "source": [
    "coef = pd.Series(lasso.coef_, index = train.columns)\n",
    "print(\"Lasso picked \" + str(sum(coef != 0)) + \" variables and eliminated the other \" +  str(sum(coef == 0)) + \" variables\")"
   ]
  },
  {
   "cell_type": "markdown",
   "metadata": {},
   "source": [
    "Additionally, below we can see that the age, size, and overall condition of the house are the most important variables according to our model. This matches our intuition, which is always a good sanity check when building models. "
   ]
  },
  {
   "cell_type": "code",
   "execution_count": 32,
   "metadata": {
    "collapsed": true
   },
   "outputs": [],
   "source": [
    "imp_coef = pd.concat([coef.sort_values().head(10),\n",
    "                     coef.sort_values().tail(10)])"
   ]
  },
  {
   "cell_type": "code",
   "execution_count": 33,
   "metadata": {
    "collapsed": false
   },
   "outputs": [
    {
     "data": {
      "text/plain": [
       "<matplotlib.text.Text at 0xce59e10>"
      ]
     },
     "execution_count": 33,
     "metadata": {},
     "output_type": "execute_result"
    },
    {
     "data": {
      "image/png": "[encoded data removed]",
      "text/plain": [
       "<matplotlib.figure.Figure at 0xc923f98>"
      ]
     },
     "metadata": {},
     "output_type": "display_data"
    }
   ],
   "source": [
    "plt.rcParams['figure.figsize'] = (5.0, 5.0)\n",
    "imp_coef.plot(kind = \"barh\")\n",
    "plt.title(\"Coefficients in the Lasso Model\")"
   ]
  },
  {
   "cell_type": "markdown",
   "metadata": {},
   "source": [
    "When we predict the test data using the Lasso model, we get a root mean squared error of 0.1209, which is good enough for the top 25 on the leaderboard. "
   ]
  },
  {
   "cell_type": "code",
   "execution_count": 34,
   "metadata": {
    "collapsed": true
   },
   "outputs": [],
   "source": [
    "lasso_pred = lasso.predict(test)"
   ]
  },
  {
   "cell_type": "markdown",
   "metadata": {},
   "source": [
    "score: .12090"
   ]
  },
  {
   "cell_type": "markdown",
   "metadata": {},
   "source": [
    "## XGBoost Model\n",
    "\n",
    "XGBoost models have become a household name in past year due to their strong performance in data science competitions. One of the challenges with this algorithm is the potential length of time it takes to tune the hyperparameters when dealing with large datasets. However, because our dataset has less than 1,500 observations, this was a great opportunity for me to test out the algorithm. In the spirit of parsimony, I will not display the details of my hyperparameter tuning. However, the main technique I used was by cross-validating one or two parameters at a time in order to not overburden my machine, while recalculating the optimal number of estimators between each tuning session.\n",
    "\n",
    "Below is the final model that I implemented. It scored a 0.12278, which in fact is worse than the LASSO model. "
   ]
  },
  {
   "cell_type": "code",
   "execution_count": 35,
   "metadata": {
    "collapsed": false
   },
   "outputs": [
    {
     "name": "stdout",
     "output_type": "stream",
     "text": [
      "('XGBoost score on training set: ', 0.0058807337725166504)\n"
     ]
    }
   ],
   "source": [
    "regr = xgb.XGBRegressor(\n",
    "                 colsample_bytree=0.3,\n",
    "                 gamma=0.0,\n",
    "                 learning_rate=0.01,\n",
    "                 max_depth=4,\n",
    "                 min_child_weight=1.5,\n",
    "                 n_estimators=1668,                                                                  \n",
    "                 reg_alpha=1,\n",
    "                 reg_lambda=0.6,\n",
    "                 subsample=0.2,\n",
    "                 seed=42,\n",
    "                 silent=1)\n",
    "\n",
    "regr.fit(train, y)\n",
    "\n",
    "# Run prediction on training set to get a rough idea of how well it does.\n",
    "y_pred = regr.predict(train)\n",
    "y_test = y\n",
    "print(\"XGBoost score on training set: \", mean_squared_error(y_test, y_pred))\n",
    "\n",
    "# Run prediction on the Kaggle test set.\n",
    "y_pred_xgb = regr.predict(test)"
   ]
  },
  {
   "cell_type": "markdown",
   "metadata": {},
   "source": [
    "score 0.12278"
   ]
  },
  {
   "cell_type": "markdown",
   "metadata": {},
   "source": [
    "## Blending Model Results\n",
    "\n",
    "Our last step is to combine the results from our two models and submit these results. I took a simple average of the predictions from our two models. The final score has a root mean squared error of 0.11765, which is markedly better than either of the two models individually. This confirms the primary principle used in ensemble methods, whereby the error rates of ensembles is lower than those of the individual models, assuming the error rates are not correlated. "
   ]
  },
  {
   "cell_type": "code",
   "execution_count": 37,
   "metadata": {
    "collapsed": false
   },
   "outputs": [],
   "source": [
    "predictions = np.expm1(.6*lasso_pred + .4*y_pred_xgb)"
   ]
  },
  {
   "cell_type": "markdown",
   "metadata": {},
   "source": [
    "score: 0.11765"
   ]
  },
  {
   "cell_type": "markdown",
   "metadata": {},
   "source": [
    "## Conclusion\n",
    "\n",
    "This competition was a great exercise in some standard regression techniques. I was able to achieve a top 10% score even though I performed minimal feature engineering, which I will leave as a later exercise for myself.  \n",
    "\n",
    "In addition to the models above, I also tried SelectKBest (with Pipeline and Grid Search), which narrowed down the number of columns to 138 and yielded a score of 0.13215. However, this model didn't play nicely with the others when it came to blending. Lastly, I tried using a random forest regressor, but that returned a score of 0.14377, which isn't bad, but certainly not good enough to include in our ensemble. \n",
    "\n",
    "The complete code for this analysis can be found on my GitHub page: https://github.com/zlatankr/Projects/tree/master/Homes\n",
    "\n",
    "I welcome any questions and comments."
   ]
  }
 ],
 "metadata": {
  "kernelspec": {
   "display_name": "Python [default]",
   "language": "python",
   "name": "python2"
  },
  "language_info": {
   "codemirror_mode": {
    "name": "ipython",
    "version": 2
   },
   "file_extension": ".py",
   "mimetype": "text/x-python",
   "name": "python",
   "nbconvert_exporter": "python",
   "pygments_lexer": "ipython2",
   "version": "2.7.12"
  }
 },
 "nbformat": 4,
 "nbformat_minor": 1
}
