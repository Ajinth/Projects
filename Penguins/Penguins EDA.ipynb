{
 "cells": [
  {
   "cell_type": "code",
   "execution_count": 1,
   "metadata": {
    "collapsed": true
   },
   "outputs": [],
   "source": [
    "import pandas as pd\n",
    "from tqdm import tqdm_notebook\n",
    "\n",
    "import numpy as np\n",
    "import matplotlib.pyplot as plt\n",
    "import os\n",
    "%matplotlib inline"
   ]
  },
  {
   "cell_type": "code",
   "execution_count": 2,
   "metadata": {
    "collapsed": false
   },
   "outputs": [],
   "source": [
    "data = pd.read_csv(os.path.join('data/training_set_observations.csv'), index_col=0)"
   ]
  },
  {
   "cell_type": "code",
   "execution_count": 3,
   "metadata": {
    "collapsed": false
   },
   "outputs": [
    {
     "data": {
      "text/html": [
       "<div>\n",
       "<table border=\"1\" class=\"dataframe\">\n",
       "  <thead>\n",
       "    <tr style=\"text-align: right;\">\n",
       "      <th></th>\n",
       "      <th>site_name</th>\n",
       "      <th>site_id</th>\n",
       "      <th>ccamlr_region</th>\n",
       "      <th>longitude_epsg_4326</th>\n",
       "      <th>latitude_epsg_4326</th>\n",
       "      <th>common_name</th>\n",
       "      <th>day</th>\n",
       "      <th>month</th>\n",
       "      <th>year</th>\n",
       "      <th>season_starting</th>\n",
       "      <th>penguin_count</th>\n",
       "      <th>accuracy</th>\n",
       "      <th>count_type</th>\n",
       "      <th>vantage</th>\n",
       "      <th>e_n</th>\n",
       "    </tr>\n",
       "  </thead>\n",
       "  <tbody>\n",
       "    <tr>\n",
       "      <th>0</th>\n",
       "      <td>Acuna Island</td>\n",
       "      <td>ACUN</td>\n",
       "      <td>48.2</td>\n",
       "      <td>-44.637</td>\n",
       "      <td>-60.7612</td>\n",
       "      <td>chinstrap penguin</td>\n",
       "      <td>28.0</td>\n",
       "      <td>12.0</td>\n",
       "      <td>1983</td>\n",
       "      <td>1983</td>\n",
       "      <td>4000.0</td>\n",
       "      <td>4.0</td>\n",
       "      <td>nests</td>\n",
       "      <td>ground</td>\n",
       "      <td>0.50</td>\n",
       "    </tr>\n",
       "    <tr>\n",
       "      <th>1</th>\n",
       "      <td>Acuna Island</td>\n",
       "      <td>ACUN</td>\n",
       "      <td>48.2</td>\n",
       "      <td>-44.637</td>\n",
       "      <td>-60.7612</td>\n",
       "      <td>adelie penguin</td>\n",
       "      <td>NaN</td>\n",
       "      <td>NaN</td>\n",
       "      <td>1993</td>\n",
       "      <td>1993</td>\n",
       "      <td>2008.0</td>\n",
       "      <td>1.0</td>\n",
       "      <td>nests</td>\n",
       "      <td>ground</td>\n",
       "      <td>0.05</td>\n",
       "    </tr>\n",
       "    <tr>\n",
       "      <th>2</th>\n",
       "      <td>Acuna Island</td>\n",
       "      <td>ACUN</td>\n",
       "      <td>48.2</td>\n",
       "      <td>-44.637</td>\n",
       "      <td>-60.7612</td>\n",
       "      <td>adelie penguin</td>\n",
       "      <td>NaN</td>\n",
       "      <td>NaN</td>\n",
       "      <td>1994</td>\n",
       "      <td>1994</td>\n",
       "      <td>1920.0</td>\n",
       "      <td>1.0</td>\n",
       "      <td>nests</td>\n",
       "      <td>NaN</td>\n",
       "      <td>0.05</td>\n",
       "    </tr>\n",
       "    <tr>\n",
       "      <th>3</th>\n",
       "      <td>Acuna Island</td>\n",
       "      <td>ACUN</td>\n",
       "      <td>48.2</td>\n",
       "      <td>-44.637</td>\n",
       "      <td>-60.7612</td>\n",
       "      <td>adelie penguin</td>\n",
       "      <td>NaN</td>\n",
       "      <td>NaN</td>\n",
       "      <td>2004</td>\n",
       "      <td>2004</td>\n",
       "      <td>1880.0</td>\n",
       "      <td>1.0</td>\n",
       "      <td>nests</td>\n",
       "      <td>ground</td>\n",
       "      <td>0.05</td>\n",
       "    </tr>\n",
       "    <tr>\n",
       "      <th>4</th>\n",
       "      <td>Acuna Island</td>\n",
       "      <td>ACUN</td>\n",
       "      <td>48.2</td>\n",
       "      <td>-44.637</td>\n",
       "      <td>-60.7612</td>\n",
       "      <td>adelie penguin</td>\n",
       "      <td>25.0</td>\n",
       "      <td>2.0</td>\n",
       "      <td>2011</td>\n",
       "      <td>2010</td>\n",
       "      <td>3079.0</td>\n",
       "      <td>5.0</td>\n",
       "      <td>nests</td>\n",
       "      <td>vhr</td>\n",
       "      <td>0.90</td>\n",
       "    </tr>\n",
       "  </tbody>\n",
       "</table>\n",
       "</div>"
      ],
      "text/plain": [
       "      site_name site_id ccamlr_region  longitude_epsg_4326  \\\n",
       "0  Acuna Island    ACUN          48.2              -44.637   \n",
       "1  Acuna Island    ACUN          48.2              -44.637   \n",
       "2  Acuna Island    ACUN          48.2              -44.637   \n",
       "3  Acuna Island    ACUN          48.2              -44.637   \n",
       "4  Acuna Island    ACUN          48.2              -44.637   \n",
       "\n",
       "   latitude_epsg_4326        common_name   day  month  year  season_starting  \\\n",
       "0            -60.7612  chinstrap penguin  28.0   12.0  1983             1983   \n",
       "1            -60.7612     adelie penguin   NaN    NaN  1993             1993   \n",
       "2            -60.7612     adelie penguin   NaN    NaN  1994             1994   \n",
       "3            -60.7612     adelie penguin   NaN    NaN  2004             2004   \n",
       "4            -60.7612     adelie penguin  25.0    2.0  2011             2010   \n",
       "\n",
       "   penguin_count  accuracy count_type vantage   e_n  \n",
       "0         4000.0       4.0      nests  ground  0.50  \n",
       "1         2008.0       1.0      nests  ground  0.05  \n",
       "2         1920.0       1.0      nests     NaN  0.05  \n",
       "3         1880.0       1.0      nests  ground  0.05  \n",
       "4         3079.0       5.0      nests     vhr  0.90  "
      ]
     },
     "execution_count": 3,
     "metadata": {},
     "output_type": "execute_result"
    }
   ],
   "source": [
    "data.head()"
   ]
  },
  {
   "cell_type": "markdown",
   "metadata": {},
   "source": [
    "Create dataset that shows count by year at the appropriate level."
   ]
  },
  {
   "cell_type": "code",
   "execution_count": 183,
   "metadata": {
    "collapsed": false
   },
   "outputs": [],
   "source": [
    "data2 = data.pivot_table(index = ['site_id', 'common_name'], columns='season_starting', values='penguin_count')"
   ]
  },
  {
   "cell_type": "markdown",
   "metadata": {},
   "source": [
    "Create dataset that shows error by year at the appropriate level."
   ]
  },
  {
   "cell_type": "code",
   "execution_count": 184,
   "metadata": {
    "collapsed": true
   },
   "outputs": [],
   "source": [
    "errs = data.pivot_table(index = ['site_id', 'common_name'], columns='season_starting', values='e_n')"
   ]
  },
  {
   "cell_type": "markdown",
   "metadata": {},
   "source": [
    "Create our mean absolute percentage error calculation."
   ]
  },
  {
   "cell_type": "code",
   "execution_count": 185,
   "metadata": {
    "collapsed": true
   },
   "outputs": [],
   "source": [
    "def amape(y, yhat, e):\n",
    "    percent_error = np.abs(y-yhat)/np.maximum(1, y)\n",
    "    return np.mean(percent_error/e)"
   ]
  },
  {
   "cell_type": "code",
   "execution_count": 186,
   "metadata": {
    "collapsed": false
   },
   "outputs": [],
   "source": [
    "data2 = data2[np.linspace(1980, 2013, 34).astype(int)]"
   ]
  },
  {
   "cell_type": "code",
   "execution_count": 187,
   "metadata": {
    "collapsed": true
   },
   "outputs": [],
   "source": [
    "errs = errs[np.linspace(1980, 2013, 34).astype(int)]"
   ]
  },
  {
   "cell_type": "code",
   "execution_count": null,
   "metadata": {
    "collapsed": true
   },
   "outputs": [],
   "source": []
  },
  {
   "cell_type": "code",
   "execution_count": 189,
   "metadata": {
    "collapsed": false
   },
   "outputs": [
    {
     "name": "stdout",
     "output_type": "stream",
     "text": [
      "('ACUN', 'adelie penguin')\n",
      "('ACUN', 'chinstrap penguin')\n",
      "('ADAM', 'adelie penguin')\n",
      "('ADAR', 'adelie penguin')\n",
      "('AILS', 'chinstrap penguin')\n",
      "('AITC', 'chinstrap penguin')\n",
      "('AITC', 'gentoo penguin')\n",
      "('AITK', 'chinstrap penguin')\n",
      "('AKAR', 'adelie penguin')\n",
      "('ALAS', 'adelie penguin')\n",
      "('ALCO', 'chinstrap penguin')\n",
      "('ALMI', 'gentoo penguin')\n",
      "('AMBU', 'adelie penguin')\n",
      "('AMPH', 'adelie penguin')\n",
      "('AMPH', 'chinstrap penguin')\n",
      "('ANCH', 'adelie penguin')\n",
      "('ANDE', 'chinstrap penguin')\n",
      "('ANDI', 'adelie penguin')\n",
      "('ANDR', 'adelie penguin')\n",
      "('ANDS', 'adelie penguin')\n",
      "('ANNE', 'adelie penguin')\n",
      "('ANVS', 'chinstrap penguin')\n",
      "('ARDL', 'adelie penguin')\n",
      "('ARDL', 'chinstrap penguin')\n",
      "('ARDL', 'gentoo penguin')\n",
      "('ARMS', 'adelie penguin')\n",
      "('ARMS', 'chinstrap penguin')\n",
      "('ARTH', 'adelie penguin')\n",
      "('ASPL', 'chinstrap penguin')\n"
     ]
    },
    {
     "ename": "ValueError",
     "evalue": "min() arg is an empty sequence",
     "output_type": "error",
     "traceback": [
      "\u001b[1;31m---------------------------------------------------------------------------\u001b[0m",
      "\u001b[1;31mValueError\u001b[0m                                Traceback (most recent call last)",
      "\u001b[1;32m<ipython-input-189-da7aa5bb20ea>\u001b[0m in \u001b[0;36m<module>\u001b[1;34m()\u001b[0m\n\u001b[0;32m      4\u001b[0m     \u001b[1;32mfor\u001b[0m \u001b[0mi\u001b[0m \u001b[1;32min\u001b[0m \u001b[0mdata2\u001b[0m\u001b[1;33m.\u001b[0m\u001b[0mloc\u001b[0m\u001b[1;33m[\u001b[0m\u001b[0mz\u001b[0m\u001b[1;33m]\u001b[0m\u001b[1;33m.\u001b[0m\u001b[0mindex\u001b[0m\u001b[1;33m:\u001b[0m\u001b[1;33m\u001b[0m\u001b[0m\n\u001b[0;32m      5\u001b[0m         \u001b[1;32mif\u001b[0m \u001b[0mi\u001b[0m \u001b[1;33m==\u001b[0m \u001b[1;36m1980\u001b[0m \u001b[1;32mand\u001b[0m \u001b[0mpd\u001b[0m\u001b[1;33m.\u001b[0m\u001b[0misnull\u001b[0m\u001b[1;33m(\u001b[0m\u001b[0mdata2\u001b[0m\u001b[1;33m.\u001b[0m\u001b[0mloc\u001b[0m\u001b[1;33m[\u001b[0m\u001b[0mz\u001b[0m\u001b[1;33m]\u001b[0m\u001b[1;33m[\u001b[0m\u001b[0mi\u001b[0m\u001b[1;33m]\u001b[0m\u001b[1;33m)\u001b[0m\u001b[1;33m:\u001b[0m\u001b[1;33m\u001b[0m\u001b[0m\n\u001b[1;32m----> 6\u001b[1;33m             \u001b[0mdata2\u001b[0m\u001b[1;33m.\u001b[0m\u001b[0mloc\u001b[0m\u001b[1;33m[\u001b[0m\u001b[0mz\u001b[0m\u001b[1;33m]\u001b[0m\u001b[1;33m.\u001b[0m\u001b[0mloc\u001b[0m\u001b[1;33m[\u001b[0m\u001b[1;33m:\u001b[0m\u001b[0mmin\u001b[0m\u001b[1;33m(\u001b[0m\u001b[0mnulls_ix\u001b[0m\u001b[1;33m)\u001b[0m\u001b[1;33m]\u001b[0m \u001b[1;33m=\u001b[0m \u001b[0mdata2\u001b[0m\u001b[1;33m.\u001b[0m\u001b[0mloc\u001b[0m\u001b[1;33m[\u001b[0m\u001b[0mz\u001b[0m\u001b[1;33m]\u001b[0m\u001b[1;33m.\u001b[0m\u001b[0mloc\u001b[0m\u001b[1;33m[\u001b[0m\u001b[1;33m:\u001b[0m\u001b[0mmin\u001b[0m\u001b[1;33m(\u001b[0m\u001b[0mnulls_ix\u001b[0m\u001b[1;33m)\u001b[0m\u001b[1;33m]\u001b[0m\u001b[1;33m.\u001b[0m\u001b[0mfillna\u001b[0m\u001b[1;33m(\u001b[0m\u001b[0mmethod\u001b[0m\u001b[1;33m=\u001b[0m\u001b[1;34m'backfill'\u001b[0m\u001b[1;33m)\u001b[0m\u001b[1;33m\u001b[0m\u001b[0m\n\u001b[0m\u001b[0;32m      7\u001b[0m         \u001b[1;32mif\u001b[0m \u001b[0mi\u001b[0m \u001b[1;33m>\u001b[0m \u001b[0mmin\u001b[0m\u001b[1;33m(\u001b[0m\u001b[0mnulls_ix\u001b[0m\u001b[1;33m)\u001b[0m \u001b[1;32mand\u001b[0m \u001b[0mi\u001b[0m \u001b[1;33m<\u001b[0m \u001b[0mmax\u001b[0m\u001b[1;33m(\u001b[0m\u001b[0mnulls_ix\u001b[0m\u001b[1;33m)\u001b[0m \u001b[1;32mand\u001b[0m \u001b[0mpd\u001b[0m\u001b[1;33m.\u001b[0m\u001b[0misnull\u001b[0m\u001b[1;33m(\u001b[0m\u001b[0mdata2\u001b[0m\u001b[1;33m.\u001b[0m\u001b[0mloc\u001b[0m\u001b[1;33m[\u001b[0m\u001b[0mz\u001b[0m\u001b[1;33m]\u001b[0m\u001b[1;33m[\u001b[0m\u001b[0mi\u001b[0m\u001b[1;33m]\u001b[0m\u001b[1;33m)\u001b[0m\u001b[1;33m:\u001b[0m\u001b[1;33m\u001b[0m\u001b[0m\n\u001b[0;32m      8\u001b[0m             data2.loc[z].loc[nulls_ix[nulls_ix < i].max() + 1:nulls_ix[nulls_ix > i].min() - 1] = np.linspace(data2.loc[z][nulls_ix[nulls_ix<i].max()], data2.loc[z][nulls_ix[nulls_ix>i].min()],\n",
      "\u001b[1;31mValueError\u001b[0m: min() arg is an empty sequence"
     ]
    }
   ],
   "source": [
    "for z in data2.index:\n",
    "    nulls_ix = data2.loc[z][data2.loc[z].isnull()==False].index\n",
    "    print z\n",
    "    for i in data2.loc[z].index:\n",
    "        if i == 1980 and pd.isnull(data2.loc[z][i]):\n",
    "            data2.loc[z].loc[:min(nulls_ix)] = data2.loc[z].loc[:min(nulls_ix)].fillna(method='backfill')\n",
    "        if i > min(nulls_ix) and i < max(nulls_ix) and pd.isnull(data2.loc[z][i]):\n",
    "            data2.loc[z].loc[nulls_ix[nulls_ix < i].max() + 1:nulls_ix[nulls_ix > i].min() - 1] = np.linspace(data2.loc[z][nulls_ix[nulls_ix<i].max()], data2.loc[z][nulls_ix[nulls_ix>i].min()],\n",
    "                nulls_ix[nulls_ix>i].min()-nulls_ix[nulls_ix<i].max()+1)[1:-1]"
   ]
  },
  {
   "cell_type": "code",
   "execution_count": 190,
   "metadata": {
    "collapsed": false
   },
   "outputs": [
    {
     "data": {
      "text/plain": [
       "season_starting\n",
       "1980   NaN\n",
       "1981   NaN\n",
       "1982   NaN\n",
       "1983   NaN\n",
       "1984   NaN\n",
       "1985   NaN\n",
       "1986   NaN\n",
       "1987   NaN\n",
       "1988   NaN\n",
       "1989   NaN\n",
       "1990   NaN\n",
       "1991   NaN\n",
       "1992   NaN\n",
       "1993   NaN\n",
       "1994   NaN\n",
       "1995   NaN\n",
       "1996   NaN\n",
       "1997   NaN\n",
       "1998   NaN\n",
       "1999   NaN\n",
       "2000   NaN\n",
       "2001   NaN\n",
       "2002   NaN\n",
       "2003   NaN\n",
       "2004   NaN\n",
       "2005   NaN\n",
       "2006   NaN\n",
       "2007   NaN\n",
       "2008   NaN\n",
       "2009   NaN\n",
       "2010   NaN\n",
       "2011   NaN\n",
       "2012   NaN\n",
       "2013   NaN\n",
       "Name: (ASPL, chinstrap penguin), dtype: float64"
      ]
     },
     "execution_count": 190,
     "metadata": {},
     "output_type": "execute_result"
    }
   ],
   "source": [
    "data2.loc['ASPL', 'chinstrap penguin']"
   ]
  }
 ],
 "metadata": {
  "kernelspec": {
   "display_name": "Python [conda root]",
   "language": "python",
   "name": "conda-root-py"
  },
  "language_info": {
   "codemirror_mode": {
    "name": "ipython",
    "version": 2
   },
   "file_extension": ".py",
   "mimetype": "text/x-python",
   "name": "python",
   "nbconvert_exporter": "python",
   "pygments_lexer": "ipython2",
   "version": "2.7.12"
  }
 },
 "nbformat": 4,
 "nbformat_minor": 2
}
