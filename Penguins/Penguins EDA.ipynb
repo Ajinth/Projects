{
 "cells": [
  {
   "cell_type": "code",
   "execution_count": 2,
   "metadata": {
    "collapsed": true
   },
   "outputs": [],
   "source": [
    "import pandas as pd\n",
    "import numpy as np\n",
    "import matplotlib.pyplot as plt\n",
    "import os\n",
    "%matplotlib inline"
   ]
  },
  {
   "cell_type": "code",
   "execution_count": 7,
   "metadata": {
    "collapsed": false
   },
   "outputs": [],
   "source": [
    "data = pd.read_csv(os.path.join('data/training_set_observations.csv'), index_col=0)"
   ]
  },
  {
   "cell_type": "code",
   "execution_count": 10,
   "metadata": {
    "collapsed": false
   },
   "outputs": [
    {
     "data": {
      "text/html": [
       "<div>\n",
       "<table border=\"1\" class=\"dataframe\">\n",
       "  <thead>\n",
       "    <tr style=\"text-align: right;\">\n",
       "      <th></th>\n",
       "      <th>site_name</th>\n",
       "      <th>site_id</th>\n",
       "      <th>ccamlr_region</th>\n",
       "      <th>longitude_epsg_4326</th>\n",
       "      <th>latitude_epsg_4326</th>\n",
       "      <th>common_name</th>\n",
       "      <th>day</th>\n",
       "      <th>month</th>\n",
       "      <th>year</th>\n",
       "      <th>season_starting</th>\n",
       "      <th>penguin_count</th>\n",
       "      <th>accuracy</th>\n",
       "      <th>count_type</th>\n",
       "      <th>vantage</th>\n",
       "      <th>e_n</th>\n",
       "    </tr>\n",
       "  </thead>\n",
       "  <tbody>\n",
       "    <tr>\n",
       "      <th>0</th>\n",
       "      <td>Acuna Island</td>\n",
       "      <td>ACUN</td>\n",
       "      <td>48.2</td>\n",
       "      <td>-44.637</td>\n",
       "      <td>-60.7612</td>\n",
       "      <td>chinstrap penguin</td>\n",
       "      <td>28.0</td>\n",
       "      <td>12.0</td>\n",
       "      <td>1983</td>\n",
       "      <td>1983</td>\n",
       "      <td>4000.0</td>\n",
       "      <td>4.0</td>\n",
       "      <td>nests</td>\n",
       "      <td>ground</td>\n",
       "      <td>0.50</td>\n",
       "    </tr>\n",
       "    <tr>\n",
       "      <th>1</th>\n",
       "      <td>Acuna Island</td>\n",
       "      <td>ACUN</td>\n",
       "      <td>48.2</td>\n",
       "      <td>-44.637</td>\n",
       "      <td>-60.7612</td>\n",
       "      <td>adelie penguin</td>\n",
       "      <td>NaN</td>\n",
       "      <td>NaN</td>\n",
       "      <td>1993</td>\n",
       "      <td>1993</td>\n",
       "      <td>2008.0</td>\n",
       "      <td>1.0</td>\n",
       "      <td>nests</td>\n",
       "      <td>ground</td>\n",
       "      <td>0.05</td>\n",
       "    </tr>\n",
       "    <tr>\n",
       "      <th>2</th>\n",
       "      <td>Acuna Island</td>\n",
       "      <td>ACUN</td>\n",
       "      <td>48.2</td>\n",
       "      <td>-44.637</td>\n",
       "      <td>-60.7612</td>\n",
       "      <td>adelie penguin</td>\n",
       "      <td>NaN</td>\n",
       "      <td>NaN</td>\n",
       "      <td>1994</td>\n",
       "      <td>1994</td>\n",
       "      <td>1920.0</td>\n",
       "      <td>1.0</td>\n",
       "      <td>nests</td>\n",
       "      <td>NaN</td>\n",
       "      <td>0.05</td>\n",
       "    </tr>\n",
       "    <tr>\n",
       "      <th>3</th>\n",
       "      <td>Acuna Island</td>\n",
       "      <td>ACUN</td>\n",
       "      <td>48.2</td>\n",
       "      <td>-44.637</td>\n",
       "      <td>-60.7612</td>\n",
       "      <td>adelie penguin</td>\n",
       "      <td>NaN</td>\n",
       "      <td>NaN</td>\n",
       "      <td>2004</td>\n",
       "      <td>2004</td>\n",
       "      <td>1880.0</td>\n",
       "      <td>1.0</td>\n",
       "      <td>nests</td>\n",
       "      <td>ground</td>\n",
       "      <td>0.05</td>\n",
       "    </tr>\n",
       "    <tr>\n",
       "      <th>4</th>\n",
       "      <td>Acuna Island</td>\n",
       "      <td>ACUN</td>\n",
       "      <td>48.2</td>\n",
       "      <td>-44.637</td>\n",
       "      <td>-60.7612</td>\n",
       "      <td>adelie penguin</td>\n",
       "      <td>25.0</td>\n",
       "      <td>2.0</td>\n",
       "      <td>2011</td>\n",
       "      <td>2010</td>\n",
       "      <td>3079.0</td>\n",
       "      <td>5.0</td>\n",
       "      <td>nests</td>\n",
       "      <td>vhr</td>\n",
       "      <td>0.90</td>\n",
       "    </tr>\n",
       "  </tbody>\n",
       "</table>\n",
       "</div>"
      ],
      "text/plain": [
       "      site_name site_id ccamlr_region  longitude_epsg_4326  \\\n",
       "0  Acuna Island    ACUN          48.2              -44.637   \n",
       "1  Acuna Island    ACUN          48.2              -44.637   \n",
       "2  Acuna Island    ACUN          48.2              -44.637   \n",
       "3  Acuna Island    ACUN          48.2              -44.637   \n",
       "4  Acuna Island    ACUN          48.2              -44.637   \n",
       "\n",
       "   latitude_epsg_4326        common_name   day  month  year  season_starting  \\\n",
       "0            -60.7612  chinstrap penguin  28.0   12.0  1983             1983   \n",
       "1            -60.7612     adelie penguin   NaN    NaN  1993             1993   \n",
       "2            -60.7612     adelie penguin   NaN    NaN  1994             1994   \n",
       "3            -60.7612     adelie penguin   NaN    NaN  2004             2004   \n",
       "4            -60.7612     adelie penguin  25.0    2.0  2011             2010   \n",
       "\n",
       "   penguin_count  accuracy count_type vantage   e_n  \n",
       "0         4000.0       4.0      nests  ground  0.50  \n",
       "1         2008.0       1.0      nests  ground  0.05  \n",
       "2         1920.0       1.0      nests     NaN  0.05  \n",
       "3         1880.0       1.0      nests  ground  0.05  \n",
       "4         3079.0       5.0      nests     vhr  0.90  "
      ]
     },
     "execution_count": 10,
     "metadata": {},
     "output_type": "execute_result"
    }
   ],
   "source": [
    "data.head()"
   ]
  },
  {
   "cell_type": "code",
   "execution_count": 13,
   "metadata": {
    "collapsed": true
   },
   "outputs": [],
   "source": [
    "test = data.head()"
   ]
  },
  {
   "cell_type": "code",
   "execution_count": 15,
   "metadata": {
    "collapsed": true
   },
   "outputs": [],
   "source": [
    "from tqdm import tqdm_notebook"
   ]
  },
  {
   "cell_type": "code",
   "execution_count": 24,
   "metadata": {
    "collapsed": true
   },
   "outputs": [],
   "source": [
    "import tqdm"
   ]
  },
  {
   "cell_type": "code",
   "execution_count": 34,
   "metadata": {
    "collapsed": false
   },
   "outputs": [
    {
     "name": "stdout",
     "output_type": "stream",
     "text": [
      "0\n",
      "site_name                   Acuna Island\n",
      "site_id                             ACUN\n",
      "ccamlr_region                       48.2\n",
      "longitude_epsg_4326              -44.637\n",
      "latitude_epsg_4326              -60.7612\n",
      "common_name            chinstrap penguin\n",
      "day                                   28\n",
      "month                                 12\n",
      "year                                1983\n",
      "season_starting                     1983\n",
      "penguin_count                       4000\n",
      "accuracy                               4\n",
      "count_type                         nests\n",
      "vantage                           ground\n",
      "e_n                                  0.5\n",
      "Name: 0, dtype: object\n",
      "1\n",
      "site_name                Acuna Island\n",
      "site_id                          ACUN\n",
      "ccamlr_region                    48.2\n",
      "longitude_epsg_4326           -44.637\n",
      "latitude_epsg_4326           -60.7612\n",
      "common_name            adelie penguin\n",
      "day                               NaN\n",
      "month                             NaN\n",
      "year                             1993\n",
      "season_starting                  1993\n",
      "penguin_count                    2008\n",
      "accuracy                            1\n",
      "count_type                      nests\n",
      "vantage                        ground\n",
      "e_n                              0.05\n",
      "Name: 1, dtype: object\n",
      "2\n",
      "site_name                Acuna Island\n",
      "site_id                          ACUN\n",
      "ccamlr_region                    48.2\n",
      "longitude_epsg_4326           -44.637\n",
      "latitude_epsg_4326           -60.7612\n",
      "common_name            adelie penguin\n",
      "day                               NaN\n",
      "month                             NaN\n",
      "year                             1994\n",
      "season_starting                  1994\n",
      "penguin_count                    1920\n",
      "accuracy                            1\n",
      "count_type                      nests\n",
      "vantage                           NaN\n",
      "e_n                              0.05\n",
      "Name: 2, dtype: object\n",
      "3\n",
      "site_name                Acuna Island\n",
      "site_id                          ACUN\n",
      "ccamlr_region                    48.2\n",
      "longitude_epsg_4326           -44.637\n",
      "latitude_epsg_4326           -60.7612\n",
      "common_name            adelie penguin\n",
      "day                               NaN\n",
      "month                             NaN\n",
      "year                             2004\n",
      "season_starting                  2004\n",
      "penguin_count                    1880\n",
      "accuracy                            1\n",
      "count_type                      nests\n",
      "vantage                        ground\n",
      "e_n                              0.05\n",
      "Name: 3, dtype: object\n",
      "4\n",
      "site_name                Acuna Island\n",
      "site_id                          ACUN\n",
      "ccamlr_region                    48.2\n",
      "longitude_epsg_4326           -44.637\n",
      "latitude_epsg_4326           -60.7612\n",
      "common_name            adelie penguin\n",
      "day                                25\n",
      "month                               2\n",
      "year                             2011\n",
      "season_starting                  2010\n",
      "penguin_count                    3079\n",
      "accuracy                            5\n",
      "count_type                      nests\n",
      "vantage                           vhr\n",
      "e_n                               0.9\n",
      "Name: 4, dtype: object\n",
      "\n"
     ]
    }
   ],
   "source": [
    "for i, row in tqdm_notebook(test.iterrows(), total = test.shape[0]):\n",
    "    print i\n",
    "    print row"
   ]
  },
  {
   "cell_type": "code",
   "execution_count": null,
   "metadata": {
    "collapsed": true
   },
   "outputs": [],
   "source": []
  },
  {
   "cell_type": "code",
   "execution_count": 12,
   "metadata": {
    "collapsed": false
   },
   "outputs": [
    {
     "data": {
      "text/plain": [
       "year\n",
       "1895      1\n",
       "1903      1\n",
       "1908      0\n",
       "1922      0\n",
       "1947      1\n",
       "1956      1\n",
       "1958      1\n",
       "1960      8\n",
       "1965      4\n",
       "1966      4\n",
       "1967      1\n",
       "1970      8\n",
       "1971     41\n",
       "1973      1\n",
       "1975      2\n",
       "1976      7\n",
       "1977      8\n",
       "1978     21\n",
       "1979     30\n",
       "1980     71\n",
       "1981     52\n",
       "1982     32\n",
       "1983    120\n",
       "1984    105\n",
       "1985     51\n",
       "1986     70\n",
       "1987    163\n",
       "1988     56\n",
       "1989     50\n",
       "1990     57\n",
       "1991     37\n",
       "1992     47\n",
       "1993     50\n",
       "1994     58\n",
       "1995     59\n",
       "1996     73\n",
       "1997     57\n",
       "1998     71\n",
       "1999     51\n",
       "2000     58\n",
       "2001     66\n",
       "2002     54\n",
       "2003     60\n",
       "2004     69\n",
       "2005     74\n",
       "2006     90\n",
       "2007     66\n",
       "2008    113\n",
       "2009    134\n",
       "2010    142\n",
       "2011    224\n",
       "2012     92\n",
       "2013    177\n",
       "2014     46\n",
       "Name: penguin_count, dtype: int64"
      ]
     },
     "execution_count": 12,
     "metadata": {},
     "output_type": "execute_result"
    }
   ],
   "source": [
    "data.groupby('year').penguin_count.count()"
   ]
  }
 ],
 "metadata": {
  "kernelspec": {
   "display_name": "Python [conda root]",
   "language": "python",
   "name": "conda-root-py"
  },
  "language_info": {
   "codemirror_mode": {
    "name": "ipython",
    "version": 2
   },
   "file_extension": ".py",
   "mimetype": "text/x-python",
   "name": "python",
   "nbconvert_exporter": "python",
   "pygments_lexer": "ipython2",
   "version": "2.7.12"
  },
  "widgets": {
   "state": {
    "9c833ce0872a4fefb5cb8370e556ab5d": {
     "views": [
      {
       "cell_index": 6
      }
     ]
    }
   },
   "version": "1.2.0"
  }
 },
 "nbformat": 4,
 "nbformat_minor": 2
}
