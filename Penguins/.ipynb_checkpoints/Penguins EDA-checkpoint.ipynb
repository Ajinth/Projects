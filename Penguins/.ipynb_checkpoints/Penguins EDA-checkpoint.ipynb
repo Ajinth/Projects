{
 "cells": [
  {
   "cell_type": "code",
   "execution_count": 1,
   "metadata": {
    "collapsed": true
   },
   "outputs": [],
   "source": [
    "import pandas as pd\n",
    "from tqdm import tqdm_notebook\n",
    "\n",
    "import numpy as np\n",
    "import matplotlib.pyplot as plt\n",
    "import os\n",
    "%matplotlib inline"
   ]
  },
  {
   "cell_type": "code",
   "execution_count": 347,
   "metadata": {
    "collapsed": false
   },
   "outputs": [],
   "source": [
    "data = pd.read_csv(os.path.join('data/training_set_observations.csv'), index_col=0)"
   ]
  },
  {
   "cell_type": "markdown",
   "metadata": {},
   "source": [
    "Create dataset that shows count by year at the appropriate level."
   ]
  },
  {
   "cell_type": "code",
   "execution_count": 348,
   "metadata": {
    "collapsed": false
   },
   "outputs": [],
   "source": [
    "data2 = data.pivot_table(index = ['site_id', 'common_name'], columns='season_starting', values='penguin_count')"
   ]
  },
  {
   "cell_type": "markdown",
   "metadata": {},
   "source": [
    "Create dataset that shows error by year at the appropriate level."
   ]
  },
  {
   "cell_type": "code",
   "execution_count": 349,
   "metadata": {
    "collapsed": true
   },
   "outputs": [],
   "source": [
    "errs = data.pivot_table(index = ['site_id', 'common_name'], columns='season_starting', values='e_n')"
   ]
  },
  {
   "cell_type": "code",
   "execution_count": 350,
   "metadata": {
    "collapsed": false
   },
   "outputs": [],
   "source": [
    "for i in data2.index:\n",
    "    if sum(data2[np.linspace(1974, 2013, 40).astype(int)].loc[i].isnull()) == 40:\n",
    "        data2.loc[i] = data2.loc[i].fillna(method='ffill')\n",
    "        errs.loc[i] = errs.loc[i].fillna(method='ffill')\n",
    "    if data2.loc[i].notnull().sum() == 0:\n",
    "        data2.loc[i] = data2.loc[i].fillna(0)\n",
    "        errs.loc[i] = errs.loc[i].fillna(0)"
   ]
  },
  {
   "cell_type": "code",
   "execution_count": 351,
   "metadata": {
    "collapsed": false
   },
   "outputs": [],
   "source": [
    "data2 = data2[np.linspace(1974, 2013, 40).astype(int)]"
   ]
  },
  {
   "cell_type": "code",
   "execution_count": 352,
   "metadata": {
    "collapsed": true
   },
   "outputs": [],
   "source": [
    "errs = errs[np.linspace(1974, 2013, 40).astype(int)]"
   ]
  },
  {
   "cell_type": "markdown",
   "metadata": {},
   "source": [
    "Fill the means with by either backfilling, forward-filling, or filling in the gap with a straight line."
   ]
  },
  {
   "cell_type": "code",
   "execution_count": 353,
   "metadata": {
    "collapsed": false
   },
   "outputs": [],
   "source": [
    "for z in data2.index:\n",
    "    nulls_ix = data2.loc[z][data2.loc[z].isnull()==False].index\n",
    "    for i in data2.loc[z].index:\n",
    "        if i == 1974 and pd.isnull(data2.loc[z][i]):\n",
    "            for j in [data2, errs]:\n",
    "                j.loc[z].loc[:min(nulls_ix)] = j.loc[z].loc[:min(nulls_ix)].fillna(method='backfill')\n",
    "        elif i > min(nulls_ix) and i < max(nulls_ix) and pd.isnull(data2.loc[z][i]):\n",
    "            for j in [data2, errs]:\n",
    "                j.loc[z].loc[nulls_ix[nulls_ix < i].max() + 1:nulls_ix[nulls_ix > i].min() - 1] = np.linspace(j.loc[z][nulls_ix[nulls_ix<i].max()], j.loc[z][nulls_ix[nulls_ix>i].min()],\n",
    "                    nulls_ix[nulls_ix>i].min()-nulls_ix[nulls_ix<i].max()+1)[1:-1]\n",
    "        else:\n",
    "            for j in [data2, errs]:\n",
    "                j.loc[z].loc[max(nulls_ix):] = j.loc[z].loc[max(nulls_ix):].fillna(method='ffill')"
   ]
  },
  {
   "cell_type": "markdown",
   "metadata": {},
   "source": [
    "Save data to CSV:"
   ]
  },
  {
   "cell_type": "code",
   "execution_count": 355,
   "metadata": {
    "collapsed": true
   },
   "outputs": [],
   "source": [
    "data2.to_csv(os.path.join('data', 'yearly_clean.csv'))\n",
    "errs.to_csv(os.path.join('data','errs_clean.csv'))"
   ]
  },
  {
   "cell_type": "markdown",
   "metadata": {},
   "source": [
    "Create our mean absolute percentage error calculation."
   ]
  },
  {
   "cell_type": "code",
   "execution_count": 303,
   "metadata": {
    "collapsed": true
   },
   "outputs": [],
   "source": [
    "def amape(y, yhat, e):\n",
    "    percent_error = np.abs(y-yhat)/np.maximum(1, y)\n",
    "    return np.mean(percent_error/e)"
   ]
  },
  {
   "cell_type": "markdown",
   "metadata": {},
   "source": [
    "Benchmark model: simple linear regression, not testing:"
   ]
  },
  {
   "cell_type": "code",
   "execution_count": 498,
   "metadata": {
    "collapsed": false
   },
   "outputs": [],
   "source": [
    "submission_file = pd.read_csv(os.path.join('data', 'submission_format.csv'), index_col=[0,1])"
   ]
  },
  {
   "cell_type": "code",
   "execution_count": 499,
   "metadata": {
    "collapsed": false
   },
   "outputs": [],
   "source": [
    "from sklearn.linear_model import LinearRegression\n",
    "\n",
    "X_test = np.array([2014, 2015, 2016, 2017]).reshape(4, 1)\n",
    "for i in submission_file.index:\n",
    "    if i not in data2.index:\n",
    "        submission_file.loc[i] = [0.0, 0.0, 0.0, 0.0]\n",
    "    else:\n",
    "        lm = LinearRegression()\n",
    "        X = data2.loc[i].index.values.reshape(len(data2.loc[i].index),1)\n",
    "        y = data2.loc[i].values\n",
    "        lm.fit(X, y)\n",
    "        y_test = lm.predict(X_test).astype('float').round(1)\n",
    "        \n",
    "        # eliminate negative predictions:\n",
    "        for j in range(4):\n",
    "            if y_test[j] < 0:\n",
    "                y_test[j:] = y[-1]\n",
    "                break\n",
    "                \n",
    "        submission_file.loc[i] = y_test"
   ]
  },
  {
   "cell_type": "code",
   "execution_count": 501,
   "metadata": {
    "collapsed": false
   },
   "outputs": [],
   "source": [
    "submission_file.to_csv('./submission_files/submission1.csv')"
   ]
  },
  {
   "cell_type": "code",
   "execution_count": 447,
   "metadata": {
    "collapsed": true
   },
   "outputs": [],
   "source": [
    "read = pd.read_csv('./submission_files/submission1.csv', index_col=[0,1])"
   ]
  },
  {
   "cell_type": "code",
   "execution_count": 451,
   "metadata": {
    "collapsed": false
   },
   "outputs": [
    {
     "data": {
      "text/plain": [
       "<matplotlib.axes._subplots.AxesSubplot at 0xd702c18>"
      ]
     },
     "execution_count": 451,
     "metadata": {},
     "output_type": "execute_result"
    },
    {
     "data": {
      "image/png": "[encoded data removed]",
      "text/plain": [
       "<matplotlib.figure.Figure at 0xd702518>"
      ]
     },
     "metadata": {},
     "output_type": "display_data"
    }
   ],
   "source": [
    "data2.loc['LOVI', 'adelie penguin'].plot()"
   ]
  },
  {
   "cell_type": "code",
   "execution_count": 491,
   "metadata": {
    "collapsed": false
   },
   "outputs": [],
   "source": [
    "y = data2.loc['DUPT', 'chinstrap penguin'].values"
   ]
  },
  {
   "cell_type": "code",
   "execution_count": 492,
   "metadata": {
    "collapsed": false
   },
   "outputs": [
    {
     "data": {
      "text/plain": [
       "22.0"
      ]
     },
     "execution_count": 492,
     "metadata": {},
     "output_type": "execute_result"
    }
   ],
   "source": [
    "y[-1]"
   ]
  },
  {
   "cell_type": "code",
   "execution_count": 496,
   "metadata": {
    "collapsed": false
   },
   "outputs": [],
   "source": [
    "y_test[2:] = y[-1]"
   ]
  },
  {
   "cell_type": "code",
   "execution_count": 497,
   "metadata": {
    "collapsed": false
   },
   "outputs": [
    {
     "data": {
      "text/plain": [
       "array([ 16334.,  16334.,     22.,     22.])"
      ]
     },
     "execution_count": 497,
     "metadata": {},
     "output_type": "execute_result"
    }
   ],
   "source": [
    "y_test"
   ]
  }
 ],
 "metadata": {
  "kernelspec": {
   "display_name": "Python [conda root]",
   "language": "python",
   "name": "conda-root-py"
  },
  "language_info": {
   "codemirror_mode": {
    "name": "ipython",
    "version": 2
   },
   "file_extension": ".py",
   "mimetype": "text/x-python",
   "name": "python",
   "nbconvert_exporter": "python",
   "pygments_lexer": "ipython2",
   "version": "2.7.12"
  }
 },
 "nbformat": 4,
 "nbformat_minor": 2
}
