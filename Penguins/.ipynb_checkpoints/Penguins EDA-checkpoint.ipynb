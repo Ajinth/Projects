{
 "cells": [
  {
   "cell_type": "code",
   "execution_count": 2,
   "metadata": {
    "collapsed": true
   },
   "outputs": [],
   "source": [
    "import pandas as pd\n",
    "from tqdm import tqdm_notebook\n",
    "\n",
    "import numpy as np\n",
    "import matplotlib.pyplot as plt\n",
    "import os\n",
    "%matplotlib inline"
   ]
  },
  {
   "cell_type": "code",
   "execution_count": 3,
   "metadata": {
    "collapsed": false
   },
   "outputs": [],
   "source": [
    "data = pd.read_csv(os.path.join('data/training_set_observations.csv'), index_col=0)"
   ]
  },
  {
   "cell_type": "code",
   "execution_count": 4,
   "metadata": {
    "collapsed": false
   },
   "outputs": [
    {
     "data": {
      "text/html": [
       "<div>\n",
       "<table border=\"1\" class=\"dataframe\">\n",
       "  <thead>\n",
       "    <tr style=\"text-align: right;\">\n",
       "      <th></th>\n",
       "      <th>site_name</th>\n",
       "      <th>site_id</th>\n",
       "      <th>ccamlr_region</th>\n",
       "      <th>longitude_epsg_4326</th>\n",
       "      <th>latitude_epsg_4326</th>\n",
       "      <th>common_name</th>\n",
       "      <th>day</th>\n",
       "      <th>month</th>\n",
       "      <th>year</th>\n",
       "      <th>season_starting</th>\n",
       "      <th>penguin_count</th>\n",
       "      <th>accuracy</th>\n",
       "      <th>count_type</th>\n",
       "      <th>vantage</th>\n",
       "      <th>e_n</th>\n",
       "    </tr>\n",
       "  </thead>\n",
       "  <tbody>\n",
       "    <tr>\n",
       "      <th>0</th>\n",
       "      <td>Acuna Island</td>\n",
       "      <td>ACUN</td>\n",
       "      <td>48.2</td>\n",
       "      <td>-44.637</td>\n",
       "      <td>-60.7612</td>\n",
       "      <td>chinstrap penguin</td>\n",
       "      <td>28.0</td>\n",
       "      <td>12.0</td>\n",
       "      <td>1983</td>\n",
       "      <td>1983</td>\n",
       "      <td>4000.0</td>\n",
       "      <td>4.0</td>\n",
       "      <td>nests</td>\n",
       "      <td>ground</td>\n",
       "      <td>0.50</td>\n",
       "    </tr>\n",
       "    <tr>\n",
       "      <th>1</th>\n",
       "      <td>Acuna Island</td>\n",
       "      <td>ACUN</td>\n",
       "      <td>48.2</td>\n",
       "      <td>-44.637</td>\n",
       "      <td>-60.7612</td>\n",
       "      <td>adelie penguin</td>\n",
       "      <td>NaN</td>\n",
       "      <td>NaN</td>\n",
       "      <td>1993</td>\n",
       "      <td>1993</td>\n",
       "      <td>2008.0</td>\n",
       "      <td>1.0</td>\n",
       "      <td>nests</td>\n",
       "      <td>ground</td>\n",
       "      <td>0.05</td>\n",
       "    </tr>\n",
       "    <tr>\n",
       "      <th>2</th>\n",
       "      <td>Acuna Island</td>\n",
       "      <td>ACUN</td>\n",
       "      <td>48.2</td>\n",
       "      <td>-44.637</td>\n",
       "      <td>-60.7612</td>\n",
       "      <td>adelie penguin</td>\n",
       "      <td>NaN</td>\n",
       "      <td>NaN</td>\n",
       "      <td>1994</td>\n",
       "      <td>1994</td>\n",
       "      <td>1920.0</td>\n",
       "      <td>1.0</td>\n",
       "      <td>nests</td>\n",
       "      <td>NaN</td>\n",
       "      <td>0.05</td>\n",
       "    </tr>\n",
       "    <tr>\n",
       "      <th>3</th>\n",
       "      <td>Acuna Island</td>\n",
       "      <td>ACUN</td>\n",
       "      <td>48.2</td>\n",
       "      <td>-44.637</td>\n",
       "      <td>-60.7612</td>\n",
       "      <td>adelie penguin</td>\n",
       "      <td>NaN</td>\n",
       "      <td>NaN</td>\n",
       "      <td>2004</td>\n",
       "      <td>2004</td>\n",
       "      <td>1880.0</td>\n",
       "      <td>1.0</td>\n",
       "      <td>nests</td>\n",
       "      <td>ground</td>\n",
       "      <td>0.05</td>\n",
       "    </tr>\n",
       "    <tr>\n",
       "      <th>4</th>\n",
       "      <td>Acuna Island</td>\n",
       "      <td>ACUN</td>\n",
       "      <td>48.2</td>\n",
       "      <td>-44.637</td>\n",
       "      <td>-60.7612</td>\n",
       "      <td>adelie penguin</td>\n",
       "      <td>25.0</td>\n",
       "      <td>2.0</td>\n",
       "      <td>2011</td>\n",
       "      <td>2010</td>\n",
       "      <td>3079.0</td>\n",
       "      <td>5.0</td>\n",
       "      <td>nests</td>\n",
       "      <td>vhr</td>\n",
       "      <td>0.90</td>\n",
       "    </tr>\n",
       "  </tbody>\n",
       "</table>\n",
       "</div>"
      ],
      "text/plain": [
       "      site_name site_id ccamlr_region  longitude_epsg_4326  \\\n",
       "0  Acuna Island    ACUN          48.2              -44.637   \n",
       "1  Acuna Island    ACUN          48.2              -44.637   \n",
       "2  Acuna Island    ACUN          48.2              -44.637   \n",
       "3  Acuna Island    ACUN          48.2              -44.637   \n",
       "4  Acuna Island    ACUN          48.2              -44.637   \n",
       "\n",
       "   latitude_epsg_4326        common_name   day  month  year  season_starting  \\\n",
       "0            -60.7612  chinstrap penguin  28.0   12.0  1983             1983   \n",
       "1            -60.7612     adelie penguin   NaN    NaN  1993             1993   \n",
       "2            -60.7612     adelie penguin   NaN    NaN  1994             1994   \n",
       "3            -60.7612     adelie penguin   NaN    NaN  2004             2004   \n",
       "4            -60.7612     adelie penguin  25.0    2.0  2011             2010   \n",
       "\n",
       "   penguin_count  accuracy count_type vantage   e_n  \n",
       "0         4000.0       4.0      nests  ground  0.50  \n",
       "1         2008.0       1.0      nests  ground  0.05  \n",
       "2         1920.0       1.0      nests     NaN  0.05  \n",
       "3         1880.0       1.0      nests  ground  0.05  \n",
       "4         3079.0       5.0      nests     vhr  0.90  "
      ]
     },
     "execution_count": 4,
     "metadata": {},
     "output_type": "execute_result"
    }
   ],
   "source": [
    "data.head()"
   ]
  },
  {
   "cell_type": "code",
   "execution_count": 20,
   "metadata": {
    "collapsed": false
   },
   "outputs": [],
   "source": [
    "data2 = data.pivot_table(index = ['site_name', 'site_id'], columns='year', values='penguin_count')"
   ]
  },
  {
   "cell_type": "code",
   "execution_count": 21,
   "metadata": {
    "collapsed": true
   },
   "outputs": [],
   "source": [
    "errs = data.pivot_table(index = ['site_name', 'site_id'], columns='year', values='e_n')"
   ]
  },
  {
   "cell_type": "code",
   "execution_count": 32,
   "metadata": {
    "collapsed": false
   },
   "outputs": [],
   "source": [
    "z = np.array([3, 4, np.NaN])"
   ]
  },
  {
   "cell_type": "code",
   "execution_count": 35,
   "metadata": {
    "collapsed": true
   },
   "outputs": [],
   "source": [
    "not_nan_mask = ~np.isnan(z)"
   ]
  },
  {
   "cell_type": "code",
   "execution_count": 36,
   "metadata": {
    "collapsed": false
   },
   "outputs": [
    {
     "data": {
      "text/plain": [
       "array([ True,  True, False], dtype=bool)"
      ]
     },
     "execution_count": 36,
     "metadata": {},
     "output_type": "execute_result"
    }
   ],
   "source": [
    "not_nan_mask"
   ]
  },
  {
   "cell_type": "code",
   "execution_count": 59,
   "metadata": {
    "collapsed": true
   },
   "outputs": [],
   "source": [
    "def amape(y, yhat, e):\n",
    "    percent_error = np.abs(y-yhat)/np.maximum(1, y)\n",
    "    return np.mean(percent_error/e)"
   ]
  },
  {
   "cell_type": "code",
   "execution_count": 63,
   "metadata": {
    "collapsed": false
   },
   "outputs": [],
   "source": [
    "data3 = data2.fillna(1)"
   ]
  },
  {
   "cell_type": "code",
   "execution_count": 66,
   "metadata": {
    "collapsed": false
   },
   "outputs": [],
   "source": [
    "errs1 = errs.fillna(.05)"
   ]
  },
  {
   "cell_type": "code",
   "execution_count": 68,
   "metadata": {
    "collapsed": false
   },
   "outputs": [
    {
     "data": {
      "text/plain": [
       "0.0"
      ]
     },
     "execution_count": 68,
     "metadata": {},
     "output_type": "execute_result"
    }
   ],
   "source": [
    "amape(data3.values, data3.values, errs1.values)"
   ]
  }
 ],
 "metadata": {
  "kernelspec": {
   "display_name": "Python [conda root]",
   "language": "python",
   "name": "conda-root-py"
  },
  "language_info": {
   "codemirror_mode": {
    "name": "ipython",
    "version": 2
   },
   "file_extension": ".py",
   "mimetype": "text/x-python",
   "name": "python",
   "nbconvert_exporter": "python",
   "pygments_lexer": "ipython2",
   "version": "2.7.12"
  }
 },
 "nbformat": 4,
 "nbformat_minor": 2
}
