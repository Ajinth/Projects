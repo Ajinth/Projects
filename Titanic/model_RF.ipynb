{
 "cells": [
  {
   "cell_type": "code",
   "execution_count": 1,
   "metadata": {
    "collapsed": false
   },
   "outputs": [],
   "source": [
    "import os\n",
    "import pandas as pd\n",
    "import numpy as np\n",
    "from sklearn.ensemble import RandomForestClassifier\n",
    "from sklearn.model_selection import cross_val_score\n",
    "import feature_process_helper\n",
    "from sklearn.externals import joblib\n",
    "from sklearn.model_selection import GridSearchCV\n",
    "import matplotlib.pyplot as plt\n",
    "from sklearn.model_selection import StratifiedKFold\n",
    "%matplotlib inline"
   ]
  },
  {
   "cell_type": "markdown",
   "metadata": {},
   "source": [
    "# RF Model 1"
   ]
  },
  {
   "cell_type": "markdown",
   "metadata": {},
   "source": [
    "#### Load data"
   ]
  },
  {
   "cell_type": "code",
   "execution_count": 2,
   "metadata": {
    "collapsed": true
   },
   "outputs": [],
   "source": [
    "train = pd.read_csv(os.path.join('data', 'train.csv'))\n",
    "test = pd.read_csv(os.path.join('data', 'test.csv'))"
   ]
  },
  {
   "cell_type": "markdown",
   "metadata": {},
   "source": [
    "#### Transform variables"
   ]
  },
  {
   "cell_type": "code",
   "execution_count": 3,
   "metadata": {
    "collapsed": false
   },
   "outputs": [],
   "source": [
    "train, test = feature_process_helper.names(train, test)\n",
    "train, test = feature_process_helper.age_impute(train, test)\n",
    "train, test = feature_process_helper.cabin(train, test)\n",
    "train, test = feature_process_helper.embarked_impute(train, test)\n",
    "train, test = feature_process_helper.dummies(train, test)\n",
    "train, test = feature_process_helper.drop(train, test)"
   ]
  },
  {
   "cell_type": "markdown",
   "metadata": {},
   "source": [
    "#### Tune hyper-parameters"
   ]
  },
  {
   "cell_type": "code",
   "execution_count": 4,
   "metadata": {
    "collapsed": true
   },
   "outputs": [],
   "source": [
    "rf1 = RandomForestClassifier(max_features='auto',\n",
    "                                oob_score=True,\n",
    "                                random_state=1,\n",
    "                                n_jobs=-1)"
   ]
  },
  {
   "cell_type": "code",
   "execution_count": 6,
   "metadata": {
    "collapsed": false
   },
   "outputs": [],
   "source": [
    "param_grid = { \"criterion\"   : [\"gini\", \"entropy\"],\n",
    "             \"min_samples_leaf\" : [1,5,10],\n",
    "             \"min_samples_split\" : [2, 4, 10, 12, 16],\n",
    "             \"n_estimators\": [50, 100, 400, 700]}\n",
    "\n",
    "gs = GridSearchCV(estimator=rf1,\n",
    "                  param_grid=param_grid,\n",
    "                  scoring='accuracy',\n",
    "                  cv=3,\n",
    "                  n_jobs=-1)\n",
    "\n",
    "gs = gs.fit(train.iloc[:, 2:], train.iloc[:, 1])"
   ]
  },
  {
   "cell_type": "code",
   "execution_count": 7,
   "metadata": {
    "collapsed": false
   },
   "outputs": [
    {
     "name": "stdout",
     "output_type": "stream",
     "text": [
      "0.826038159371\n",
      "{'min_samples_split': 10, 'n_estimators': 100, 'criterion': 'gini', 'min_samples_leaf': 1}\n"
     ]
    }
   ],
   "source": [
    "print(gs.best_score_)\n",
    "print(gs.best_params_)\n",
    "#print(gs.cv_results_)"
   ]
  },
  {
   "cell_type": "markdown",
   "metadata": {},
   "source": [
    "#### Fit model"
   ]
  },
  {
   "cell_type": "code",
   "execution_count": 9,
   "metadata": {
    "collapsed": false
   },
   "outputs": [
    {
     "name": "stdout",
     "output_type": "stream",
     "text": [
      "0.8238\n"
     ]
    }
   ],
   "source": [
    "rf1 = RandomForestClassifier(criterion='gini', \n",
    "                             n_estimators=100,\n",
    "                             min_samples_split=10,\n",
    "                             min_samples_leaf=1,\n",
    "                             max_features='auto',\n",
    "                             oob_score=True,\n",
    "                             random_state=1,\n",
    "                             n_jobs=-1)\n",
    "rf1.fit(train.iloc[:, 2:], train.iloc[:, 1])\n",
    "print \"%.4f\" % rf1.oob_score_ "
   ]
  },
  {
   "cell_type": "markdown",
   "metadata": {},
   "source": [
    "#### Obtain cross-validation score with optimal hyperparameters"
   ]
  },
  {
   "cell_type": "code",
   "execution_count": 16,
   "metadata": {
    "collapsed": false
   },
   "outputs": [
    {
     "data": {
      "text/plain": [
       "0.82603815937149283"
      ]
     },
     "execution_count": 16,
     "metadata": {},
     "output_type": "execute_result"
    }
   ],
   "source": [
    "scores1 = cross_val_score(rf1, train.iloc[:, 2:], train.iloc[:, 1], n_jobs=-1)\n",
    "scores1.mean()"
   ]
  },
  {
   "cell_type": "markdown",
   "metadata": {},
   "source": [
    "#### Inspect feature ranking"
   ]
  },
  {
   "cell_type": "code",
   "execution_count": 21,
   "metadata": {
    "collapsed": false,
    "scrolled": true
   },
   "outputs": [
    {
     "data": {
      "text/html": [
       "<div>\n",
       "<table border=\"1\" class=\"dataframe\">\n",
       "  <thead>\n",
       "    <tr style=\"text-align: right;\">\n",
       "      <th></th>\n",
       "      <th>variable</th>\n",
       "      <th>importance</th>\n",
       "    </tr>\n",
       "  </thead>\n",
       "  <tbody>\n",
       "    <tr>\n",
       "      <th>1</th>\n",
       "      <td>Fare</td>\n",
       "      <td>0.142931</td>\n",
       "    </tr>\n",
       "    <tr>\n",
       "      <th>20</th>\n",
       "      <td>Name_Title_Mr.</td>\n",
       "      <td>0.131256</td>\n",
       "    </tr>\n",
       "    <tr>\n",
       "      <th>7</th>\n",
       "      <td>Sex_male</td>\n",
       "      <td>0.111903</td>\n",
       "    </tr>\n",
       "    <tr>\n",
       "      <th>2</th>\n",
       "      <td>Name_Len</td>\n",
       "      <td>0.107163</td>\n",
       "    </tr>\n",
       "    <tr>\n",
       "      <th>0</th>\n",
       "      <td>Age</td>\n",
       "      <td>0.098652</td>\n",
       "    </tr>\n",
       "    <tr>\n",
       "      <th>8</th>\n",
       "      <td>Sex_female</td>\n",
       "      <td>0.090083</td>\n",
       "    </tr>\n",
       "    <tr>\n",
       "      <th>4</th>\n",
       "      <td>Pclass_3</td>\n",
       "      <td>0.063281</td>\n",
       "    </tr>\n",
       "    <tr>\n",
       "      <th>21</th>\n",
       "      <td>Name_Title_Mrs.</td>\n",
       "      <td>0.037778</td>\n",
       "    </tr>\n",
       "    <tr>\n",
       "      <th>22</th>\n",
       "      <td>Name_Title_Miss.</td>\n",
       "      <td>0.035874</td>\n",
       "    </tr>\n",
       "    <tr>\n",
       "      <th>12</th>\n",
       "      <td>Cabin_Letter_n</td>\n",
       "      <td>0.034054</td>\n",
       "    </tr>\n",
       "    <tr>\n",
       "      <th>5</th>\n",
       "      <td>Pclass_1</td>\n",
       "      <td>0.023819</td>\n",
       "    </tr>\n",
       "    <tr>\n",
       "      <th>6</th>\n",
       "      <td>Pclass_2</td>\n",
       "      <td>0.022122</td>\n",
       "    </tr>\n",
       "    <tr>\n",
       "      <th>9</th>\n",
       "      <td>Embarked_S</td>\n",
       "      <td>0.017631</td>\n",
       "    </tr>\n",
       "    <tr>\n",
       "      <th>23</th>\n",
       "      <td>Name_Title_Master.</td>\n",
       "      <td>0.013617</td>\n",
       "    </tr>\n",
       "    <tr>\n",
       "      <th>10</th>\n",
       "      <td>Embarked_C</td>\n",
       "      <td>0.011758</td>\n",
       "    </tr>\n",
       "    <tr>\n",
       "      <th>3</th>\n",
       "      <td>Age_Null_Flag</td>\n",
       "      <td>0.011680</td>\n",
       "    </tr>\n",
       "    <tr>\n",
       "      <th>11</th>\n",
       "      <td>Embarked_Q</td>\n",
       "      <td>0.009113</td>\n",
       "    </tr>\n",
       "    <tr>\n",
       "      <th>14</th>\n",
       "      <td>Cabin_Letter_E</td>\n",
       "      <td>0.008164</td>\n",
       "    </tr>\n",
       "    <tr>\n",
       "      <th>18</th>\n",
       "      <td>Cabin_Letter_B</td>\n",
       "      <td>0.006776</td>\n",
       "    </tr>\n",
       "    <tr>\n",
       "      <th>16</th>\n",
       "      <td>Cabin_Letter_D</td>\n",
       "      <td>0.006237</td>\n",
       "    </tr>\n",
       "  </tbody>\n",
       "</table>\n",
       "</div>"
      ],
      "text/plain": [
       "              variable  importance\n",
       "1                 Fare    0.142931\n",
       "20      Name_Title_Mr.    0.131256\n",
       "7             Sex_male    0.111903\n",
       "2             Name_Len    0.107163\n",
       "0                  Age    0.098652\n",
       "8           Sex_female    0.090083\n",
       "4             Pclass_3    0.063281\n",
       "21     Name_Title_Mrs.    0.037778\n",
       "22    Name_Title_Miss.    0.035874\n",
       "12      Cabin_Letter_n    0.034054\n",
       "5             Pclass_1    0.023819\n",
       "6             Pclass_2    0.022122\n",
       "9           Embarked_S    0.017631\n",
       "23  Name_Title_Master.    0.013617\n",
       "10          Embarked_C    0.011758\n",
       "3        Age_Null_Flag    0.011680\n",
       "11          Embarked_Q    0.009113\n",
       "14      Cabin_Letter_E    0.008164\n",
       "18      Cabin_Letter_B    0.006776\n",
       "16      Cabin_Letter_D    0.006237"
      ]
     },
     "execution_count": 21,
     "metadata": {},
     "output_type": "execute_result"
    }
   ],
   "source": [
    "pd.concat((pd.DataFrame(train.iloc[:, 2:].columns, columns = ['variable']), \n",
    "           pd.DataFrame(rf1.feature_importances_, columns = ['importance'])), \n",
    "          axis = 1).sort_values(by='importance', ascending = False)[:20]"
   ]
  },
  {
   "cell_type": "markdown",
   "metadata": {},
   "source": [
    "#### Generate submission file"
   ]
  },
  {
   "cell_type": "code",
   "execution_count": null,
   "metadata": {
    "collapsed": true
   },
   "outputs": [],
   "source": [
    "test['Fare'].fillna(train['Fare'].mean(), inplace = True)\n",
    "predictions = rf1.predict(test.iloc[:, 1:])\n",
    "predictions = pd.DataFrame(predictions, columns=['Survived'])\n",
    "predictions = pd.concat((test.iloc[:, 0], predictions), axis = 1)\n",
    "predictions.to_csv(os.path.join('submission_files', 'y_test1.csv'), sep=\",\", index = False)"
   ]
  },
  {
   "cell_type": "markdown",
   "metadata": {},
   "source": [
    "# RF Model 2"
   ]
  },
  {
   "cell_type": "markdown",
   "metadata": {},
   "source": [
    "#### Load data"
   ]
  },
  {
   "cell_type": "code",
   "execution_count": 4,
   "metadata": {
    "collapsed": true
   },
   "outputs": [],
   "source": [
    "train = pd.read_csv(os.path.join('data', 'train.csv'))\n",
    "test = pd.read_csv(os.path.join('data', 'test.csv'))"
   ]
  },
  {
   "cell_type": "markdown",
   "metadata": {},
   "source": [
    "#### Transform variables"
   ]
  },
  {
   "cell_type": "code",
   "execution_count": 5,
   "metadata": {
    "collapsed": true
   },
   "outputs": [],
   "source": [
    "train, test = feature_process_helper.names(train, test)\n",
    "train, test = feature_process_helper.age_impute(train, test)\n",
    "train, test = feature_process_helper.cabin(train, test)\n",
    "train, test = feature_process_helper.embarked_impute(train, test)\n",
    "train, test = feature_process_helper.dummies(train, test, columns = ['Pclass', 'Sex', 'Embarked', 'Cabin_Letter', 'Name_Title',\n",
    "                                                                    'SibSp', 'Parch'])\n",
    "train, test = feature_process_helper.drop(train, test, bye = ['Ticket'])"
   ]
  },
  {
   "cell_type": "markdown",
   "metadata": {},
   "source": [
    "#### Tune hyperparameters"
   ]
  },
  {
   "cell_type": "code",
   "execution_count": 6,
   "metadata": {
    "collapsed": true
   },
   "outputs": [],
   "source": [
    "rf1 = RandomForestClassifier(max_features='auto',\n",
    "                                oob_score=True,\n",
    "                                random_state=1,\n",
    "                                n_jobs=-1)"
   ]
  },
  {
   "cell_type": "code",
   "execution_count": 7,
   "metadata": {
    "collapsed": true
   },
   "outputs": [],
   "source": [
    "param_grid = { \"criterion\"   : [\"gini\", \"entropy\"],\n",
    "             \"min_samples_leaf\" : [1,5,10],\n",
    "             \"min_samples_split\" : [2, 4, 10, 12, 16],\n",
    "             \"n_estimators\": [50, 100, 400, 700]}\n",
    "\n",
    "gs = GridSearchCV(estimator=rf1,\n",
    "                  param_grid=param_grid,\n",
    "                  scoring='accuracy',\n",
    "                  cv=3,\n",
    "                  n_jobs=-1)\n",
    "\n",
    "gs = gs.fit(train.iloc[:, 2:], train.iloc[:, 1])"
   ]
  },
  {
   "cell_type": "code",
   "execution_count": 8,
   "metadata": {
    "collapsed": false
   },
   "outputs": [
    {
     "name": "stdout",
     "output_type": "stream",
     "text": [
      "0.824915824916\n",
      "{'min_samples_split': 12, 'n_estimators': 50, 'criterion': 'gini', 'min_samples_leaf': 1}\n"
     ]
    }
   ],
   "source": [
    "print(gs.best_score_)\n",
    "print(gs.best_params_)\n",
    "#print(gs.cv_results_)"
   ]
  },
  {
   "cell_type": "markdown",
   "metadata": {},
   "source": [
    "#### Fit model"
   ]
  },
  {
   "cell_type": "code",
   "execution_count": 9,
   "metadata": {
    "collapsed": false
   },
   "outputs": [
    {
     "name": "stdout",
     "output_type": "stream",
     "text": [
      "0.8238\n"
     ]
    }
   ],
   "source": [
    "rf2 = RandomForestClassifier(criterion='gini', \n",
    "                             n_estimators=50,\n",
    "                             min_samples_split=12,\n",
    "                             min_samples_leaf=1,\n",
    "                             max_features='auto',\n",
    "                             oob_score=True,\n",
    "                             random_state=1,\n",
    "                             n_jobs=-1)\n",
    "rf2.fit(train.iloc[:, 2:], train.iloc[:, 1])\n",
    "print \"%.4f\" % rf2.oob_score_ "
   ]
  },
  {
   "cell_type": "markdown",
   "metadata": {},
   "source": [
    "#### Obtain cross-validation score with optimal hyperparameters"
   ]
  },
  {
   "cell_type": "code",
   "execution_count": 10,
   "metadata": {
    "collapsed": false
   },
   "outputs": [
    {
     "data": {
      "text/plain": [
       "0.80359147025813693"
      ]
     },
     "execution_count": 10,
     "metadata": {},
     "output_type": "execute_result"
    }
   ],
   "source": [
    "scores2 = cross_val_score(rf1, train.iloc[:, 2:], train.iloc[:, 1], n_jobs=-1)\n",
    "scores2.mean()"
   ]
  },
  {
   "cell_type": "markdown",
   "metadata": {},
   "source": [
    "#### Inspect feature ranking"
   ]
  },
  {
   "cell_type": "code",
   "execution_count": 12,
   "metadata": {
    "collapsed": false,
    "scrolled": true
   },
   "outputs": [
    {
     "data": {
      "text/html": [
       "<div>\n",
       "<table border=\"1\" class=\"dataframe\">\n",
       "  <thead>\n",
       "    <tr style=\"text-align: right;\">\n",
       "      <th></th>\n",
       "      <th>variable</th>\n",
       "      <th>importance</th>\n",
       "    </tr>\n",
       "  </thead>\n",
       "  <tbody>\n",
       "    <tr>\n",
       "      <th>20</th>\n",
       "      <td>Name_Title_Mr.</td>\n",
       "      <td>0.116731</td>\n",
       "    </tr>\n",
       "    <tr>\n",
       "      <th>7</th>\n",
       "      <td>Sex_male</td>\n",
       "      <td>0.115737</td>\n",
       "    </tr>\n",
       "    <tr>\n",
       "      <th>8</th>\n",
       "      <td>Sex_female</td>\n",
       "      <td>0.112738</td>\n",
       "    </tr>\n",
       "    <tr>\n",
       "      <th>2</th>\n",
       "      <td>Name_Len</td>\n",
       "      <td>0.105312</td>\n",
       "    </tr>\n",
       "    <tr>\n",
       "      <th>1</th>\n",
       "      <td>Fare</td>\n",
       "      <td>0.103418</td>\n",
       "    </tr>\n",
       "    <tr>\n",
       "      <th>0</th>\n",
       "      <td>Age</td>\n",
       "      <td>0.084431</td>\n",
       "    </tr>\n",
       "    <tr>\n",
       "      <th>4</th>\n",
       "      <td>Pclass_3</td>\n",
       "      <td>0.062422</td>\n",
       "    </tr>\n",
       "    <tr>\n",
       "      <th>22</th>\n",
       "      <td>Name_Title_Miss.</td>\n",
       "      <td>0.035632</td>\n",
       "    </tr>\n",
       "    <tr>\n",
       "      <th>21</th>\n",
       "      <td>Name_Title_Mrs.</td>\n",
       "      <td>0.032156</td>\n",
       "    </tr>\n",
       "    <tr>\n",
       "      <th>5</th>\n",
       "      <td>Pclass_1</td>\n",
       "      <td>0.024577</td>\n",
       "    </tr>\n",
       "    <tr>\n",
       "      <th>12</th>\n",
       "      <td>Cabin_Letter_n</td>\n",
       "      <td>0.022817</td>\n",
       "    </tr>\n",
       "    <tr>\n",
       "      <th>6</th>\n",
       "      <td>Pclass_2</td>\n",
       "      <td>0.021992</td>\n",
       "    </tr>\n",
       "    <tr>\n",
       "      <th>10</th>\n",
       "      <td>Embarked_C</td>\n",
       "      <td>0.013963</td>\n",
       "    </tr>\n",
       "    <tr>\n",
       "      <th>28</th>\n",
       "      <td>SibSp_1</td>\n",
       "      <td>0.012762</td>\n",
       "    </tr>\n",
       "    <tr>\n",
       "      <th>9</th>\n",
       "      <td>Embarked_S</td>\n",
       "      <td>0.011804</td>\n",
       "    </tr>\n",
       "    <tr>\n",
       "      <th>29</th>\n",
       "      <td>SibSp_0</td>\n",
       "      <td>0.011327</td>\n",
       "    </tr>\n",
       "    <tr>\n",
       "      <th>35</th>\n",
       "      <td>Parch_0</td>\n",
       "      <td>0.011118</td>\n",
       "    </tr>\n",
       "    <tr>\n",
       "      <th>37</th>\n",
       "      <td>Parch_2</td>\n",
       "      <td>0.009834</td>\n",
       "    </tr>\n",
       "    <tr>\n",
       "      <th>3</th>\n",
       "      <td>Age_Null_Flag</td>\n",
       "      <td>0.009783</td>\n",
       "    </tr>\n",
       "    <tr>\n",
       "      <th>16</th>\n",
       "      <td>Cabin_Letter_D</td>\n",
       "      <td>0.009605</td>\n",
       "    </tr>\n",
       "  </tbody>\n",
       "</table>\n",
       "</div>"
      ],
      "text/plain": [
       "            variable  importance\n",
       "20    Name_Title_Mr.    0.116731\n",
       "7           Sex_male    0.115737\n",
       "8         Sex_female    0.112738\n",
       "2           Name_Len    0.105312\n",
       "1               Fare    0.103418\n",
       "0                Age    0.084431\n",
       "4           Pclass_3    0.062422\n",
       "22  Name_Title_Miss.    0.035632\n",
       "21   Name_Title_Mrs.    0.032156\n",
       "5           Pclass_1    0.024577\n",
       "12    Cabin_Letter_n    0.022817\n",
       "6           Pclass_2    0.021992\n",
       "10        Embarked_C    0.013963\n",
       "28           SibSp_1    0.012762\n",
       "9         Embarked_S    0.011804\n",
       "29           SibSp_0    0.011327\n",
       "35           Parch_0    0.011118\n",
       "37           Parch_2    0.009834\n",
       "3      Age_Null_Flag    0.009783\n",
       "16    Cabin_Letter_D    0.009605"
      ]
     },
     "execution_count": 12,
     "metadata": {},
     "output_type": "execute_result"
    }
   ],
   "source": [
    "pd.concat((pd.DataFrame(train.iloc[:, 2:].columns, columns = ['variable']), \n",
    "           pd.DataFrame(rf2.feature_importances_, columns = ['importance'])), \n",
    "          axis = 1).sort_values(by='importance', ascending = False)[:20]"
   ]
  },
  {
   "cell_type": "markdown",
   "metadata": {},
   "source": [
    "#### Generate submission file"
   ]
  },
  {
   "cell_type": "code",
   "execution_count": 13,
   "metadata": {
    "collapsed": true
   },
   "outputs": [],
   "source": [
    "test['Fare'].fillna(train['Fare'].mean(), inplace = True)\n",
    "predictions = rf2.predict(test.iloc[:, 1:])\n",
    "predictions = pd.DataFrame(predictions, columns=['Survived'])\n",
    "predictions = pd.concat((test.iloc[:, 0], predictions), axis = 1)\n",
    "predictions.to_csv(os.path.join('submission_files', 'y_test1.csv'), sep=\",\", index = False)"
   ]
  },
  {
   "cell_type": "code",
   "execution_count": 15,
   "metadata": {
    "collapsed": false,
    "scrolled": true
   },
   "outputs": [
    {
     "data": {
      "text/plain": [
       "Index([u'PassengerId', u'Survived', u'Age', u'Fare', u'Name_Len',\n",
       "       u'Age_Null_Flag', u'Pclass_3', u'Pclass_1', u'Pclass_2', u'Sex_male',\n",
       "       u'Sex_female', u'Embarked_S', u'Embarked_C', u'Embarked_Q',\n",
       "       u'Cabin_Letter_n', u'Cabin_Letter_C', u'Cabin_Letter_E',\n",
       "       u'Cabin_Letter_G', u'Cabin_Letter_D', u'Cabin_Letter_A',\n",
       "       u'Cabin_Letter_B', u'Cabin_Letter_F', u'Name_Title_Mr.',\n",
       "       u'Name_Title_Mrs.', u'Name_Title_Miss.', u'Name_Title_Master.',\n",
       "       u'Name_Title_Rev.', u'Name_Title_Dr.', u'Name_Title_Ms.',\n",
       "       u'Name_Title_Col.', u'SibSp_1', u'SibSp_0', u'SibSp_3', u'SibSp_4',\n",
       "       u'SibSp_2', u'SibSp_5', u'SibSp_8', u'Parch_0', u'Parch_1', u'Parch_2',\n",
       "       u'Parch_5', u'Parch_3', u'Parch_4', u'Parch_6'],\n",
       "      dtype='object')"
      ]
     },
     "execution_count": 15,
     "metadata": {},
     "output_type": "execute_result"
    }
   ],
   "source": [
    "train.columns"
   ]
  },
  {
   "cell_type": "markdown",
   "metadata": {},
   "source": [
    "# Model 3"
   ]
  },
  {
   "cell_type": "code",
   "execution_count": 10,
   "metadata": {
    "collapsed": true
   },
   "outputs": [],
   "source": [
    "train = pd.read_csv(os.path.join('data', 'train.csv'))\n",
    "test = pd.read_csv(os.path.join('data', 'test.csv'))"
   ]
  },
  {
   "cell_type": "code",
   "execution_count": 11,
   "metadata": {
    "collapsed": true
   },
   "outputs": [],
   "source": [
    "train, test = feature_process_helper.names(train, test)\n",
    "train, test = feature_process_helper.age_impute(train, test)\n",
    "train, test = feature_process_helper.cabin(train, test)\n",
    "train, test = feature_process_helper.embarked_impute(train, test)\n",
    "train, test = feature_process_helper.dummies(train, test)\n",
    "train, test = feature_process_helper.drop(train, test)"
   ]
  },
  {
   "cell_type": "code",
   "execution_count": 12,
   "metadata": {
    "collapsed": true
   },
   "outputs": [],
   "source": [
    "y_train = train.iloc[:, 1]"
   ]
  },
  {
   "cell_type": "code",
   "execution_count": 13,
   "metadata": {
    "collapsed": true
   },
   "outputs": [],
   "source": [
    "del train['Survived']"
   ]
  },
  {
   "cell_type": "code",
   "execution_count": 15,
   "metadata": {
    "collapsed": true
   },
   "outputs": [],
   "source": [
    "rf3 = RandomForestClassifier(max_features='auto',\n",
    "                                oob_score=True,\n",
    "                                random_state=1,\n",
    "                                n_jobs=-1)"
   ]
  },
  {
   "cell_type": "code",
   "execution_count": 16,
   "metadata": {
    "collapsed": true
   },
   "outputs": [],
   "source": [
    "param_grid = { \"criterion\"   : [\"gini\", \"entropy\"],\n",
    "             \"min_samples_leaf\" : [1,5,10],\n",
    "             \"min_samples_split\" : [2, 4, 10, 12, 16],\n",
    "             \"n_estimators\": [50, 100, 400, 700]}\n",
    "\n",
    "gs = GridSearchCV(estimator=rf3,\n",
    "                  param_grid=param_grid,\n",
    "                  scoring='accuracy',\n",
    "                  cv=3,\n",
    "                  n_jobs=-1)\n",
    "\n",
    "gs = gs.fit(train, y_train)"
   ]
  },
  {
   "cell_type": "code",
   "execution_count": 17,
   "metadata": {
    "collapsed": false
   },
   "outputs": [
    {
     "name": "stdout",
     "output_type": "stream",
     "text": [
      "0.83164983165\n",
      "{'min_samples_split': 10, 'n_estimators': 400, 'criterion': 'entropy', 'min_samples_leaf': 1}\n"
     ]
    }
   ],
   "source": [
    "print(gs.best_score_)\n",
    "print(gs.best_params_)\n",
    "#print(gs.cv_results_)"
   ]
  },
  {
   "cell_type": "code",
   "execution_count": 20,
   "metadata": {
    "collapsed": false
   },
   "outputs": [
    {
     "name": "stdout",
     "output_type": "stream",
     "text": [
      "0.8249\n"
     ]
    }
   ],
   "source": [
    "rf3 = RandomForestClassifier(min_samples_split=10, \n",
    "                             n_estimators=400, \n",
    "                             criterion='entropy', \n",
    "                             min_samples_leaf=1,\n",
    "                             max_features='auto',\n",
    "                             oob_score=True,\n",
    "                             random_state=1,\n",
    "                             n_jobs=-1)\n",
    "rf3.fit(train, y_train)\n",
    "print \"%.4f\" % rf3.oob_score_ "
   ]
  },
  {
   "cell_type": "code",
   "execution_count": 21,
   "metadata": {
    "collapsed": false
   },
   "outputs": [
    {
     "data": {
      "text/plain": [
       "0.83164983164983164"
      ]
     },
     "execution_count": 21,
     "metadata": {},
     "output_type": "execute_result"
    }
   ],
   "source": [
    "scores3 = cross_val_score(rf3, train, y_train, n_jobs=-1)\n",
    "scores3.mean()"
   ]
  },
  {
   "cell_type": "code",
   "execution_count": 22,
   "metadata": {
    "collapsed": false,
    "scrolled": true
   },
   "outputs": [
    {
     "data": {
      "text/html": [
       "<div>\n",
       "<table border=\"1\" class=\"dataframe\">\n",
       "  <thead>\n",
       "    <tr style=\"text-align: right;\">\n",
       "      <th></th>\n",
       "      <th>variable</th>\n",
       "      <th>importance</th>\n",
       "    </tr>\n",
       "  </thead>\n",
       "  <tbody>\n",
       "    <tr>\n",
       "      <th>2</th>\n",
       "      <td>Age_Null_Flag</td>\n",
       "      <td>0.133448</td>\n",
       "    </tr>\n",
       "    <tr>\n",
       "      <th>3</th>\n",
       "      <td>Pclass_3</td>\n",
       "      <td>0.107066</td>\n",
       "    </tr>\n",
       "    <tr>\n",
       "      <th>0</th>\n",
       "      <td>Fare</td>\n",
       "      <td>0.103650</td>\n",
       "    </tr>\n",
       "    <tr>\n",
       "      <th>1</th>\n",
       "      <td>Name_Len</td>\n",
       "      <td>0.103143</td>\n",
       "    </tr>\n",
       "    <tr>\n",
       "      <th>21</th>\n",
       "      <td>Name_Title_Miss.</td>\n",
       "      <td>0.099552</td>\n",
       "    </tr>\n",
       "    <tr>\n",
       "      <th>9</th>\n",
       "      <td>Embarked_C</td>\n",
       "      <td>0.092503</td>\n",
       "    </tr>\n",
       "    <tr>\n",
       "      <th>8</th>\n",
       "      <td>Embarked_S</td>\n",
       "      <td>0.087784</td>\n",
       "    </tr>\n",
       "    <tr>\n",
       "      <th>5</th>\n",
       "      <td>Pclass_2</td>\n",
       "      <td>0.052513</td>\n",
       "    </tr>\n",
       "    <tr>\n",
       "      <th>13</th>\n",
       "      <td>Cabin_Letter_E</td>\n",
       "      <td>0.033119</td>\n",
       "    </tr>\n",
       "    <tr>\n",
       "      <th>6</th>\n",
       "      <td>Sex_male</td>\n",
       "      <td>0.026176</td>\n",
       "    </tr>\n",
       "    <tr>\n",
       "      <th>23</th>\n",
       "      <td>Name_Title_Rev.</td>\n",
       "      <td>0.025992</td>\n",
       "    </tr>\n",
       "    <tr>\n",
       "      <th>7</th>\n",
       "      <td>Sex_female</td>\n",
       "      <td>0.021418</td>\n",
       "    </tr>\n",
       "    <tr>\n",
       "      <th>22</th>\n",
       "      <td>Name_Title_Master.</td>\n",
       "      <td>0.020970</td>\n",
       "    </tr>\n",
       "    <tr>\n",
       "      <th>10</th>\n",
       "      <td>Embarked_Q</td>\n",
       "      <td>0.016335</td>\n",
       "    </tr>\n",
       "    <tr>\n",
       "      <th>4</th>\n",
       "      <td>Pclass_1</td>\n",
       "      <td>0.012140</td>\n",
       "    </tr>\n",
       "    <tr>\n",
       "      <th>11</th>\n",
       "      <td>Cabin_Letter_n</td>\n",
       "      <td>0.011433</td>\n",
       "    </tr>\n",
       "    <tr>\n",
       "      <th>24</th>\n",
       "      <td>Name_Title_Dr.</td>\n",
       "      <td>0.011252</td>\n",
       "    </tr>\n",
       "    <tr>\n",
       "      <th>12</th>\n",
       "      <td>Cabin_Letter_C</td>\n",
       "      <td>0.008559</td>\n",
       "    </tr>\n",
       "    <tr>\n",
       "      <th>15</th>\n",
       "      <td>Cabin_Letter_D</td>\n",
       "      <td>0.008033</td>\n",
       "    </tr>\n",
       "    <tr>\n",
       "      <th>19</th>\n",
       "      <td>Name_Title_Mr.</td>\n",
       "      <td>0.005116</td>\n",
       "    </tr>\n",
       "  </tbody>\n",
       "</table>\n",
       "</div>"
      ],
      "text/plain": [
       "              variable  importance\n",
       "2        Age_Null_Flag    0.133448\n",
       "3             Pclass_3    0.107066\n",
       "0                 Fare    0.103650\n",
       "1             Name_Len    0.103143\n",
       "21    Name_Title_Miss.    0.099552\n",
       "9           Embarked_C    0.092503\n",
       "8           Embarked_S    0.087784\n",
       "5             Pclass_2    0.052513\n",
       "13      Cabin_Letter_E    0.033119\n",
       "6             Sex_male    0.026176\n",
       "23     Name_Title_Rev.    0.025992\n",
       "7           Sex_female    0.021418\n",
       "22  Name_Title_Master.    0.020970\n",
       "10          Embarked_Q    0.016335\n",
       "4             Pclass_1    0.012140\n",
       "11      Cabin_Letter_n    0.011433\n",
       "24      Name_Title_Dr.    0.011252\n",
       "12      Cabin_Letter_C    0.008559\n",
       "15      Cabin_Letter_D    0.008033\n",
       "19      Name_Title_Mr.    0.005116"
      ]
     },
     "execution_count": 22,
     "metadata": {},
     "output_type": "execute_result"
    }
   ],
   "source": [
    "pd.concat((pd.DataFrame(train.iloc[:, 2:].columns, columns = ['variable']), \n",
    "           pd.DataFrame(rf3.feature_importances_, columns = ['importance'])), \n",
    "          axis = 1).sort_values(by='importance', ascending = False)[:20]"
   ]
  },
  {
   "cell_type": "code",
   "execution_count": 32,
   "metadata": {
    "collapsed": true
   },
   "outputs": [],
   "source": [
    "test['Fare'].fillna(train['Fare'].mean(), inplace = True)\n",
    "predictions = rf3.predict(test)\n",
    "predictions = pd.DataFrame(predictions, columns=['Survived'])\n",
    "predictions = pd.concat((test.iloc[:, 0], predictions), axis = 1)\n",
    "predictions.to_csv(os.path.join('submission_files', 'y_test3.csv'), sep=\",\", index = False)"
   ]
  }
 ],
 "metadata": {
  "anaconda-cloud": {},
  "kernelspec": {
   "display_name": "Python [default]",
   "language": "python",
   "name": "python2"
  },
  "language_info": {
   "codemirror_mode": {
    "name": "ipython",
    "version": 2
   },
   "file_extension": ".py",
   "mimetype": "text/x-python",
   "name": "python",
   "nbconvert_exporter": "python",
   "pygments_lexer": "ipython2",
   "version": "2.7.12"
  }
 },
 "nbformat": 4,
 "nbformat_minor": 1
}
